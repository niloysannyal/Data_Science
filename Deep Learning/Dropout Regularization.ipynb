{
 "cells": [
  {
   "cell_type": "markdown",
   "id": "35d1c439-15ad-45df-a534-047ff2dd4920",
   "metadata": {},
   "source": [
    "<h1 span style=\"text-align:center; color:mediumvioletred\">Dropout Regularization</h1>"
   ]
  },
  {
   "cell_type": "code",
   "execution_count": 1,
   "id": "f5ee6028-f73e-4426-a9cb-d39ff39fc77f",
   "metadata": {},
   "outputs": [],
   "source": [
    "import numpy as np\n",
    "import pandas as pd\n",
    "import seaborn as sns\n",
    "import matplotlib.pyplot as plt"
   ]
  },
  {
   "cell_type": "code",
   "execution_count": 2,
   "id": "48a0b3af-9abf-4e3f-a288-79f893f72840",
   "metadata": {},
   "outputs": [],
   "source": [
    "import warnings\n",
    "warnings.filterwarnings('ignore')"
   ]
  },
  {
   "cell_type": "code",
   "execution_count": 3,
   "id": "2e095085-0f7d-43d0-acde-3473f9a5af34",
   "metadata": {},
   "outputs": [
    {
     "data": {
      "text/html": [
       "<div>\n",
       "<style scoped>\n",
       "    .dataframe tbody tr th:only-of-type {\n",
       "        vertical-align: middle;\n",
       "    }\n",
       "\n",
       "    .dataframe tbody tr th {\n",
       "        vertical-align: top;\n",
       "    }\n",
       "\n",
       "    .dataframe thead th {\n",
       "        text-align: right;\n",
       "    }\n",
       "</style>\n",
       "<table border=\"1\" class=\"dataframe\">\n",
       "  <thead>\n",
       "    <tr style=\"text-align: right;\">\n",
       "      <th></th>\n",
       "      <th>0</th>\n",
       "      <th>1</th>\n",
       "      <th>2</th>\n",
       "      <th>3</th>\n",
       "      <th>4</th>\n",
       "      <th>5</th>\n",
       "      <th>6</th>\n",
       "      <th>7</th>\n",
       "      <th>8</th>\n",
       "      <th>9</th>\n",
       "      <th>...</th>\n",
       "      <th>51</th>\n",
       "      <th>52</th>\n",
       "      <th>53</th>\n",
       "      <th>54</th>\n",
       "      <th>55</th>\n",
       "      <th>56</th>\n",
       "      <th>57</th>\n",
       "      <th>58</th>\n",
       "      <th>59</th>\n",
       "      <th>60</th>\n",
       "    </tr>\n",
       "  </thead>\n",
       "  <tbody>\n",
       "    <tr>\n",
       "      <th>58</th>\n",
       "      <td>0.0225</td>\n",
       "      <td>0.0019</td>\n",
       "      <td>0.0075</td>\n",
       "      <td>0.0097</td>\n",
       "      <td>0.0445</td>\n",
       "      <td>0.0906</td>\n",
       "      <td>0.0889</td>\n",
       "      <td>0.0655</td>\n",
       "      <td>0.1624</td>\n",
       "      <td>0.1452</td>\n",
       "      <td>...</td>\n",
       "      <td>0.0034</td>\n",
       "      <td>0.0129</td>\n",
       "      <td>0.0100</td>\n",
       "      <td>0.0044</td>\n",
       "      <td>0.0057</td>\n",
       "      <td>0.0030</td>\n",
       "      <td>0.0035</td>\n",
       "      <td>0.0021</td>\n",
       "      <td>0.0027</td>\n",
       "      <td>R</td>\n",
       "    </tr>\n",
       "    <tr>\n",
       "      <th>40</th>\n",
       "      <td>0.0068</td>\n",
       "      <td>0.0232</td>\n",
       "      <td>0.0513</td>\n",
       "      <td>0.0444</td>\n",
       "      <td>0.0249</td>\n",
       "      <td>0.0637</td>\n",
       "      <td>0.0422</td>\n",
       "      <td>0.1130</td>\n",
       "      <td>0.1911</td>\n",
       "      <td>0.2475</td>\n",
       "      <td>...</td>\n",
       "      <td>0.0173</td>\n",
       "      <td>0.0163</td>\n",
       "      <td>0.0055</td>\n",
       "      <td>0.0045</td>\n",
       "      <td>0.0068</td>\n",
       "      <td>0.0041</td>\n",
       "      <td>0.0052</td>\n",
       "      <td>0.0194</td>\n",
       "      <td>0.0105</td>\n",
       "      <td>R</td>\n",
       "    </tr>\n",
       "    <tr>\n",
       "      <th>42</th>\n",
       "      <td>0.0211</td>\n",
       "      <td>0.0319</td>\n",
       "      <td>0.0415</td>\n",
       "      <td>0.0286</td>\n",
       "      <td>0.0121</td>\n",
       "      <td>0.0438</td>\n",
       "      <td>0.1299</td>\n",
       "      <td>0.1390</td>\n",
       "      <td>0.0695</td>\n",
       "      <td>0.0568</td>\n",
       "      <td>...</td>\n",
       "      <td>0.0090</td>\n",
       "      <td>0.0042</td>\n",
       "      <td>0.0153</td>\n",
       "      <td>0.0106</td>\n",
       "      <td>0.0020</td>\n",
       "      <td>0.0105</td>\n",
       "      <td>0.0049</td>\n",
       "      <td>0.0070</td>\n",
       "      <td>0.0080</td>\n",
       "      <td>R</td>\n",
       "    </tr>\n",
       "    <tr>\n",
       "      <th>174</th>\n",
       "      <td>0.0191</td>\n",
       "      <td>0.0173</td>\n",
       "      <td>0.0291</td>\n",
       "      <td>0.0301</td>\n",
       "      <td>0.0463</td>\n",
       "      <td>0.0690</td>\n",
       "      <td>0.0576</td>\n",
       "      <td>0.1103</td>\n",
       "      <td>0.2423</td>\n",
       "      <td>0.3134</td>\n",
       "      <td>...</td>\n",
       "      <td>0.0040</td>\n",
       "      <td>0.0136</td>\n",
       "      <td>0.0137</td>\n",
       "      <td>0.0172</td>\n",
       "      <td>0.0132</td>\n",
       "      <td>0.0110</td>\n",
       "      <td>0.0122</td>\n",
       "      <td>0.0114</td>\n",
       "      <td>0.0068</td>\n",
       "      <td>M</td>\n",
       "    </tr>\n",
       "    <tr>\n",
       "      <th>86</th>\n",
       "      <td>0.0188</td>\n",
       "      <td>0.0370</td>\n",
       "      <td>0.0953</td>\n",
       "      <td>0.0824</td>\n",
       "      <td>0.0249</td>\n",
       "      <td>0.0488</td>\n",
       "      <td>0.1424</td>\n",
       "      <td>0.1972</td>\n",
       "      <td>0.1873</td>\n",
       "      <td>0.1806</td>\n",
       "      <td>...</td>\n",
       "      <td>0.0093</td>\n",
       "      <td>0.0033</td>\n",
       "      <td>0.0113</td>\n",
       "      <td>0.0030</td>\n",
       "      <td>0.0057</td>\n",
       "      <td>0.0090</td>\n",
       "      <td>0.0057</td>\n",
       "      <td>0.0068</td>\n",
       "      <td>0.0024</td>\n",
       "      <td>R</td>\n",
       "    </tr>\n",
       "  </tbody>\n",
       "</table>\n",
       "<p>5 rows × 61 columns</p>\n",
       "</div>"
      ],
      "text/plain": [
       "         0       1       2       3       4       5       6       7       8   \\\n",
       "58   0.0225  0.0019  0.0075  0.0097  0.0445  0.0906  0.0889  0.0655  0.1624   \n",
       "40   0.0068  0.0232  0.0513  0.0444  0.0249  0.0637  0.0422  0.1130  0.1911   \n",
       "42   0.0211  0.0319  0.0415  0.0286  0.0121  0.0438  0.1299  0.1390  0.0695   \n",
       "174  0.0191  0.0173  0.0291  0.0301  0.0463  0.0690  0.0576  0.1103  0.2423   \n",
       "86   0.0188  0.0370  0.0953  0.0824  0.0249  0.0488  0.1424  0.1972  0.1873   \n",
       "\n",
       "         9   ...      51      52      53      54      55      56      57  \\\n",
       "58   0.1452  ...  0.0034  0.0129  0.0100  0.0044  0.0057  0.0030  0.0035   \n",
       "40   0.2475  ...  0.0173  0.0163  0.0055  0.0045  0.0068  0.0041  0.0052   \n",
       "42   0.0568  ...  0.0090  0.0042  0.0153  0.0106  0.0020  0.0105  0.0049   \n",
       "174  0.3134  ...  0.0040  0.0136  0.0137  0.0172  0.0132  0.0110  0.0122   \n",
       "86   0.1806  ...  0.0093  0.0033  0.0113  0.0030  0.0057  0.0090  0.0057   \n",
       "\n",
       "         58      59  60  \n",
       "58   0.0021  0.0027   R  \n",
       "40   0.0194  0.0105   R  \n",
       "42   0.0070  0.0080   R  \n",
       "174  0.0114  0.0068   M  \n",
       "86   0.0068  0.0024   R  \n",
       "\n",
       "[5 rows x 61 columns]"
      ]
     },
     "execution_count": 3,
     "metadata": {},
     "output_type": "execute_result"
    }
   ],
   "source": [
    "df = pd.read_csv(\"datasets/sonar_dataset.csv\", header=None)\n",
    "df.sample(5)"
   ]
  },
  {
   "cell_type": "code",
   "execution_count": 4,
   "id": "7f2a9f9b-f7b6-4ce3-87f8-48e378b5cd54",
   "metadata": {},
   "outputs": [
    {
     "data": {
      "text/plain": [
       "(208, 61)"
      ]
     },
     "execution_count": 4,
     "metadata": {},
     "output_type": "execute_result"
    }
   ],
   "source": [
    "df.shape"
   ]
  },
  {
   "cell_type": "code",
   "execution_count": 5,
   "id": "c605e4a2-1285-42a9-aad4-acfbd363cb23",
   "metadata": {},
   "outputs": [
    {
     "data": {
      "text/plain": [
       "0     0\n",
       "1     0\n",
       "2     0\n",
       "3     0\n",
       "4     0\n",
       "     ..\n",
       "56    0\n",
       "57    0\n",
       "58    0\n",
       "59    0\n",
       "60    0\n",
       "Length: 61, dtype: int64"
      ]
     },
     "execution_count": 5,
     "metadata": {},
     "output_type": "execute_result"
    }
   ],
   "source": [
    "df.isna().sum()"
   ]
  },
  {
   "cell_type": "code",
   "execution_count": 6,
   "id": "3d9a6e34-16fb-4807-a2b4-ffccc4d6adc0",
   "metadata": {},
   "outputs": [
    {
     "data": {
      "text/plain": [
       "Index([ 0,  1,  2,  3,  4,  5,  6,  7,  8,  9, 10, 11, 12, 13, 14, 15, 16, 17,\n",
       "       18, 19, 20, 21, 22, 23, 24, 25, 26, 27, 28, 29, 30, 31, 32, 33, 34, 35,\n",
       "       36, 37, 38, 39, 40, 41, 42, 43, 44, 45, 46, 47, 48, 49, 50, 51, 52, 53,\n",
       "       54, 55, 56, 57, 58, 59, 60],\n",
       "      dtype='int64')"
      ]
     },
     "execution_count": 6,
     "metadata": {},
     "output_type": "execute_result"
    }
   ],
   "source": [
    "df.columns"
   ]
  },
  {
   "cell_type": "code",
   "execution_count": 7,
   "id": "b3eb9bbf-d0d6-4e87-a968-5644f8126c39",
   "metadata": {},
   "outputs": [
    {
     "data": {
      "text/plain": [
       "60\n",
       "M    111\n",
       "R     97\n",
       "Name: count, dtype: int64"
      ]
     },
     "execution_count": 7,
     "metadata": {},
     "output_type": "execute_result"
    }
   ],
   "source": [
    "df[60].value_counts()"
   ]
  },
  {
   "cell_type": "markdown",
   "id": "f00bc57c-8e55-46bd-aa49-06c06d9ef934",
   "metadata": {},
   "source": [
    "## Input & Output"
   ]
  },
  {
   "cell_type": "code",
   "execution_count": 13,
   "id": "5d731ffc-380c-48b4-a35d-4f653ef092b6",
   "metadata": {},
   "outputs": [],
   "source": [
    "X = df.drop(60, axis=1)\n",
    "y = df[60]"
   ]
  },
  {
   "cell_type": "code",
   "execution_count": 14,
   "id": "8c8c42f9-6bab-4e1f-aa7c-f81561236ca6",
   "metadata": {},
   "outputs": [
    {
     "data": {
      "text/html": [
       "<div>\n",
       "<style scoped>\n",
       "    .dataframe tbody tr th:only-of-type {\n",
       "        vertical-align: middle;\n",
       "    }\n",
       "\n",
       "    .dataframe tbody tr th {\n",
       "        vertical-align: top;\n",
       "    }\n",
       "\n",
       "    .dataframe thead th {\n",
       "        text-align: right;\n",
       "    }\n",
       "</style>\n",
       "<table border=\"1\" class=\"dataframe\">\n",
       "  <thead>\n",
       "    <tr style=\"text-align: right;\">\n",
       "      <th></th>\n",
       "      <th>0</th>\n",
       "      <th>1</th>\n",
       "      <th>2</th>\n",
       "      <th>3</th>\n",
       "      <th>4</th>\n",
       "      <th>5</th>\n",
       "      <th>6</th>\n",
       "      <th>7</th>\n",
       "      <th>8</th>\n",
       "      <th>9</th>\n",
       "      <th>...</th>\n",
       "      <th>50</th>\n",
       "      <th>51</th>\n",
       "      <th>52</th>\n",
       "      <th>53</th>\n",
       "      <th>54</th>\n",
       "      <th>55</th>\n",
       "      <th>56</th>\n",
       "      <th>57</th>\n",
       "      <th>58</th>\n",
       "      <th>59</th>\n",
       "    </tr>\n",
       "  </thead>\n",
       "  <tbody>\n",
       "    <tr>\n",
       "      <th>149</th>\n",
       "      <td>0.0207</td>\n",
       "      <td>0.0535</td>\n",
       "      <td>0.0334</td>\n",
       "      <td>0.0818</td>\n",
       "      <td>0.0740</td>\n",
       "      <td>0.0324</td>\n",
       "      <td>0.0918</td>\n",
       "      <td>0.1070</td>\n",
       "      <td>0.1553</td>\n",
       "      <td>0.1234</td>\n",
       "      <td>...</td>\n",
       "      <td>0.0171</td>\n",
       "      <td>0.0033</td>\n",
       "      <td>0.0050</td>\n",
       "      <td>0.0190</td>\n",
       "      <td>0.0103</td>\n",
       "      <td>0.0121</td>\n",
       "      <td>0.0042</td>\n",
       "      <td>0.0090</td>\n",
       "      <td>0.0070</td>\n",
       "      <td>0.0099</td>\n",
       "    </tr>\n",
       "    <tr>\n",
       "      <th>199</th>\n",
       "      <td>0.0116</td>\n",
       "      <td>0.0744</td>\n",
       "      <td>0.0367</td>\n",
       "      <td>0.0225</td>\n",
       "      <td>0.0076</td>\n",
       "      <td>0.0545</td>\n",
       "      <td>0.1110</td>\n",
       "      <td>0.1069</td>\n",
       "      <td>0.1708</td>\n",
       "      <td>0.2271</td>\n",
       "      <td>...</td>\n",
       "      <td>0.0202</td>\n",
       "      <td>0.0141</td>\n",
       "      <td>0.0103</td>\n",
       "      <td>0.0100</td>\n",
       "      <td>0.0034</td>\n",
       "      <td>0.0026</td>\n",
       "      <td>0.0037</td>\n",
       "      <td>0.0044</td>\n",
       "      <td>0.0057</td>\n",
       "      <td>0.0035</td>\n",
       "    </tr>\n",
       "    <tr>\n",
       "      <th>77</th>\n",
       "      <td>0.0336</td>\n",
       "      <td>0.0294</td>\n",
       "      <td>0.0476</td>\n",
       "      <td>0.0539</td>\n",
       "      <td>0.0794</td>\n",
       "      <td>0.0804</td>\n",
       "      <td>0.1136</td>\n",
       "      <td>0.1228</td>\n",
       "      <td>0.1235</td>\n",
       "      <td>0.0842</td>\n",
       "      <td>...</td>\n",
       "      <td>0.0033</td>\n",
       "      <td>0.0150</td>\n",
       "      <td>0.0111</td>\n",
       "      <td>0.0032</td>\n",
       "      <td>0.0035</td>\n",
       "      <td>0.0169</td>\n",
       "      <td>0.0137</td>\n",
       "      <td>0.0015</td>\n",
       "      <td>0.0069</td>\n",
       "      <td>0.0051</td>\n",
       "    </tr>\n",
       "    <tr>\n",
       "      <th>155</th>\n",
       "      <td>0.0211</td>\n",
       "      <td>0.0128</td>\n",
       "      <td>0.0015</td>\n",
       "      <td>0.0450</td>\n",
       "      <td>0.0711</td>\n",
       "      <td>0.1563</td>\n",
       "      <td>0.1518</td>\n",
       "      <td>0.1206</td>\n",
       "      <td>0.1666</td>\n",
       "      <td>0.1345</td>\n",
       "      <td>...</td>\n",
       "      <td>0.0174</td>\n",
       "      <td>0.0117</td>\n",
       "      <td>0.0023</td>\n",
       "      <td>0.0047</td>\n",
       "      <td>0.0049</td>\n",
       "      <td>0.0031</td>\n",
       "      <td>0.0024</td>\n",
       "      <td>0.0039</td>\n",
       "      <td>0.0051</td>\n",
       "      <td>0.0015</td>\n",
       "    </tr>\n",
       "    <tr>\n",
       "      <th>13</th>\n",
       "      <td>0.0090</td>\n",
       "      <td>0.0062</td>\n",
       "      <td>0.0253</td>\n",
       "      <td>0.0489</td>\n",
       "      <td>0.1197</td>\n",
       "      <td>0.1589</td>\n",
       "      <td>0.1392</td>\n",
       "      <td>0.0987</td>\n",
       "      <td>0.0955</td>\n",
       "      <td>0.1895</td>\n",
       "      <td>...</td>\n",
       "      <td>0.0187</td>\n",
       "      <td>0.0059</td>\n",
       "      <td>0.0095</td>\n",
       "      <td>0.0194</td>\n",
       "      <td>0.0080</td>\n",
       "      <td>0.0152</td>\n",
       "      <td>0.0158</td>\n",
       "      <td>0.0053</td>\n",
       "      <td>0.0189</td>\n",
       "      <td>0.0102</td>\n",
       "    </tr>\n",
       "  </tbody>\n",
       "</table>\n",
       "<p>5 rows × 60 columns</p>\n",
       "</div>"
      ],
      "text/plain": [
       "         0       1       2       3       4       5       6       7       8   \\\n",
       "149  0.0207  0.0535  0.0334  0.0818  0.0740  0.0324  0.0918  0.1070  0.1553   \n",
       "199  0.0116  0.0744  0.0367  0.0225  0.0076  0.0545  0.1110  0.1069  0.1708   \n",
       "77   0.0336  0.0294  0.0476  0.0539  0.0794  0.0804  0.1136  0.1228  0.1235   \n",
       "155  0.0211  0.0128  0.0015  0.0450  0.0711  0.1563  0.1518  0.1206  0.1666   \n",
       "13   0.0090  0.0062  0.0253  0.0489  0.1197  0.1589  0.1392  0.0987  0.0955   \n",
       "\n",
       "         9   ...      50      51      52      53      54      55      56  \\\n",
       "149  0.1234  ...  0.0171  0.0033  0.0050  0.0190  0.0103  0.0121  0.0042   \n",
       "199  0.2271  ...  0.0202  0.0141  0.0103  0.0100  0.0034  0.0026  0.0037   \n",
       "77   0.0842  ...  0.0033  0.0150  0.0111  0.0032  0.0035  0.0169  0.0137   \n",
       "155  0.1345  ...  0.0174  0.0117  0.0023  0.0047  0.0049  0.0031  0.0024   \n",
       "13   0.1895  ...  0.0187  0.0059  0.0095  0.0194  0.0080  0.0152  0.0158   \n",
       "\n",
       "         57      58      59  \n",
       "149  0.0090  0.0070  0.0099  \n",
       "199  0.0044  0.0057  0.0035  \n",
       "77   0.0015  0.0069  0.0051  \n",
       "155  0.0039  0.0051  0.0015  \n",
       "13   0.0053  0.0189  0.0102  \n",
       "\n",
       "[5 rows x 60 columns]"
      ]
     },
     "execution_count": 14,
     "metadata": {},
     "output_type": "execute_result"
    }
   ],
   "source": [
    "X.sample(5)"
   ]
  },
  {
   "cell_type": "code",
   "execution_count": 15,
   "id": "ba150ed1-9746-4dbe-996f-016df8846625",
   "metadata": {},
   "outputs": [
    {
     "data": {
      "text/plain": [
       "75     R\n",
       "42     R\n",
       "151    M\n",
       "156    M\n",
       "137    M\n",
       "Name: 60, dtype: object"
      ]
     },
     "execution_count": 15,
     "metadata": {},
     "output_type": "execute_result"
    }
   ],
   "source": [
    "y.sample(5)"
   ]
  },
  {
   "cell_type": "code",
   "execution_count": 16,
   "id": "3a61b5e2-0601-4989-bb9d-bc53c1d0e260",
   "metadata": {},
   "outputs": [
    {
     "data": {
      "text/plain": [
       "array(['R', 'M'], dtype=object)"
      ]
     },
     "execution_count": 16,
     "metadata": {},
     "output_type": "execute_result"
    }
   ],
   "source": [
    "y.unique()"
   ]
  },
  {
   "cell_type": "code",
   "execution_count": 18,
   "id": "99046507-1a81-42f8-af36-df2aa8fc345e",
   "metadata": {},
   "outputs": [
    {
     "data": {
      "text/html": [
       "<div>\n",
       "<style scoped>\n",
       "    .dataframe tbody tr th:only-of-type {\n",
       "        vertical-align: middle;\n",
       "    }\n",
       "\n",
       "    .dataframe tbody tr th {\n",
       "        vertical-align: top;\n",
       "    }\n",
       "\n",
       "    .dataframe thead th {\n",
       "        text-align: right;\n",
       "    }\n",
       "</style>\n",
       "<table border=\"1\" class=\"dataframe\">\n",
       "  <thead>\n",
       "    <tr style=\"text-align: right;\">\n",
       "      <th></th>\n",
       "      <th>R</th>\n",
       "    </tr>\n",
       "  </thead>\n",
       "  <tbody>\n",
       "    <tr>\n",
       "      <th>196</th>\n",
       "      <td>False</td>\n",
       "    </tr>\n",
       "    <tr>\n",
       "      <th>43</th>\n",
       "      <td>True</td>\n",
       "    </tr>\n",
       "    <tr>\n",
       "      <th>186</th>\n",
       "      <td>False</td>\n",
       "    </tr>\n",
       "    <tr>\n",
       "      <th>37</th>\n",
       "      <td>True</td>\n",
       "    </tr>\n",
       "    <tr>\n",
       "      <th>51</th>\n",
       "      <td>True</td>\n",
       "    </tr>\n",
       "  </tbody>\n",
       "</table>\n",
       "</div>"
      ],
      "text/plain": [
       "         R\n",
       "196  False\n",
       "43    True\n",
       "186  False\n",
       "37    True\n",
       "51    True"
      ]
     },
     "execution_count": 18,
     "metadata": {},
     "output_type": "execute_result"
    }
   ],
   "source": [
    "y = pd.get_dummies(y, drop_first=True)\n",
    "y.sample(5)"
   ]
  },
  {
   "cell_type": "code",
   "execution_count": 19,
   "id": "44360986-02d8-45ce-9758-a1d88932d66c",
   "metadata": {},
   "outputs": [
    {
     "data": {
      "text/plain": [
       "R    \n",
       "False    111\n",
       "True      97\n",
       "Name: count, dtype: int64"
      ]
     },
     "execution_count": 19,
     "metadata": {},
     "output_type": "execute_result"
    }
   ],
   "source": [
    "y.value_counts()"
   ]
  },
  {
   "cell_type": "markdown",
   "id": "cfb6f951-6b60-4008-9cf5-5403afde0688",
   "metadata": {},
   "source": [
    "## train_test_split"
   ]
  },
  {
   "cell_type": "code",
   "execution_count": 20,
   "id": "35bb95e5-873d-449a-b06a-4e8abc154a0d",
   "metadata": {},
   "outputs": [],
   "source": [
    "from sklearn.model_selection import train_test_split\n",
    "X_train, X_test, y_train, y_test = train_test_split(X, y, test_size=0.25, random_state=1)"
   ]
  },
  {
   "cell_type": "code",
   "execution_count": 21,
   "id": "69d9145a-a9bf-4a94-9b9c-58bc90e8860a",
   "metadata": {},
   "outputs": [
    {
     "data": {
      "text/plain": [
       "((156, 60), (52, 60))"
      ]
     },
     "execution_count": 21,
     "metadata": {},
     "output_type": "execute_result"
    }
   ],
   "source": [
    "X_train.shape, X_test.shape"
   ]
  },
  {
   "cell_type": "code",
   "execution_count": 22,
   "id": "e98da53c-9360-4075-9be2-166a178ca1bc",
   "metadata": {},
   "outputs": [],
   "source": [
    "import tensorflow as tf\n",
    "from tensorflow import keras"
   ]
  },
  {
   "cell_type": "code",
   "execution_count": 64,
   "id": "4d655ba4-e9ab-4944-a087-188584435982",
   "metadata": {
    "scrolled": true
   },
   "outputs": [
    {
     "name": "stdout",
     "output_type": "stream",
     "text": [
      "Epoch 1/100\n",
      "20/20 [==============================] - 0s 766us/step - loss: 0.6943 - accuracy: 0.5192\n",
      "Epoch 2/100\n",
      "20/20 [==============================] - 0s 719us/step - loss: 0.6687 - accuracy: 0.5385\n",
      "Epoch 3/100\n",
      "20/20 [==============================] - 0s 720us/step - loss: 0.6556 - accuracy: 0.5385\n",
      "Epoch 4/100\n",
      "20/20 [==============================] - 0s 663us/step - loss: 0.6405 - accuracy: 0.6346\n",
      "Epoch 5/100\n",
      "20/20 [==============================] - 0s 695us/step - loss: 0.6081 - accuracy: 0.7179\n",
      "Epoch 6/100\n",
      "20/20 [==============================] - 0s 715us/step - loss: 0.5698 - accuracy: 0.7628\n",
      "Epoch 7/100\n",
      "20/20 [==============================] - 0s 732us/step - loss: 0.5403 - accuracy: 0.7372\n",
      "Epoch 8/100\n",
      "20/20 [==============================] - 0s 700us/step - loss: 0.5007 - accuracy: 0.8077\n",
      "Epoch 9/100\n",
      "20/20 [==============================] - 0s 715us/step - loss: 0.4787 - accuracy: 0.8269\n",
      "Epoch 10/100\n",
      "20/20 [==============================] - 0s 692us/step - loss: 0.4402 - accuracy: 0.8462\n",
      "Epoch 11/100\n",
      "20/20 [==============================] - 0s 720us/step - loss: 0.4196 - accuracy: 0.8269\n",
      "Epoch 12/100\n",
      "20/20 [==============================] - 0s 713us/step - loss: 0.4179 - accuracy: 0.8077\n",
      "Epoch 13/100\n",
      "20/20 [==============================] - 0s 669us/step - loss: 0.3730 - accuracy: 0.8654\n",
      "Epoch 14/100\n",
      "20/20 [==============================] - 0s 763us/step - loss: 0.3536 - accuracy: 0.8718\n",
      "Epoch 15/100\n",
      "20/20 [==============================] - 0s 715us/step - loss: 0.3584 - accuracy: 0.8397\n",
      "Epoch 16/100\n",
      "20/20 [==============================] - 0s 729us/step - loss: 0.3480 - accuracy: 0.8526\n",
      "Epoch 17/100\n",
      "20/20 [==============================] - 0s 687us/step - loss: 0.3148 - accuracy: 0.8974\n",
      "Epoch 18/100\n",
      "20/20 [==============================] - 0s 666us/step - loss: 0.2943 - accuracy: 0.9167\n",
      "Epoch 19/100\n",
      "20/20 [==============================] - 0s 736us/step - loss: 0.2922 - accuracy: 0.8974\n",
      "Epoch 20/100\n",
      "20/20 [==============================] - 0s 707us/step - loss: 0.2913 - accuracy: 0.8910\n",
      "Epoch 21/100\n",
      "20/20 [==============================] - 0s 739us/step - loss: 0.2794 - accuracy: 0.9038\n",
      "Epoch 22/100\n",
      "20/20 [==============================] - 0s 702us/step - loss: 0.2656 - accuracy: 0.8846\n",
      "Epoch 23/100\n",
      "20/20 [==============================] - 0s 727us/step - loss: 0.2493 - accuracy: 0.9103\n",
      "Epoch 24/100\n",
      "20/20 [==============================] - 0s 730us/step - loss: 0.2272 - accuracy: 0.9359\n",
      "Epoch 25/100\n",
      "20/20 [==============================] - 0s 712us/step - loss: 0.2176 - accuracy: 0.9359\n",
      "Epoch 26/100\n",
      "20/20 [==============================] - 0s 722us/step - loss: 0.2285 - accuracy: 0.9423\n",
      "Epoch 27/100\n",
      "20/20 [==============================] - 0s 755us/step - loss: 0.2029 - accuracy: 0.9295\n",
      "Epoch 28/100\n",
      "20/20 [==============================] - 0s 737us/step - loss: 0.1973 - accuracy: 0.9167\n",
      "Epoch 29/100\n",
      "20/20 [==============================] - 0s 741us/step - loss: 0.1803 - accuracy: 0.9487\n",
      "Epoch 30/100\n",
      "20/20 [==============================] - 0s 718us/step - loss: 0.1758 - accuracy: 0.9551\n",
      "Epoch 31/100\n",
      "20/20 [==============================] - 0s 665us/step - loss: 0.1604 - accuracy: 0.9679\n",
      "Epoch 32/100\n",
      "20/20 [==============================] - 0s 691us/step - loss: 0.1492 - accuracy: 0.9551\n",
      "Epoch 33/100\n",
      "20/20 [==============================] - 0s 730us/step - loss: 0.1396 - accuracy: 0.9744\n",
      "Epoch 34/100\n",
      "20/20 [==============================] - 0s 774us/step - loss: 0.1393 - accuracy: 0.9679\n",
      "Epoch 35/100\n",
      "20/20 [==============================] - 0s 723us/step - loss: 0.1403 - accuracy: 0.9679\n",
      "Epoch 36/100\n",
      "20/20 [==============================] - 0s 734us/step - loss: 0.1351 - accuracy: 0.9423\n",
      "Epoch 37/100\n",
      "20/20 [==============================] - 0s 706us/step - loss: 0.1190 - accuracy: 0.9744\n",
      "Epoch 38/100\n",
      "20/20 [==============================] - 0s 749us/step - loss: 0.1059 - accuracy: 0.9744\n",
      "Epoch 39/100\n",
      "20/20 [==============================] - 0s 697us/step - loss: 0.1075 - accuracy: 0.9679\n",
      "Epoch 40/100\n",
      "20/20 [==============================] - 0s 700us/step - loss: 0.1163 - accuracy: 0.9679\n",
      "Epoch 41/100\n",
      "20/20 [==============================] - 0s 731us/step - loss: 0.0922 - accuracy: 0.9936\n",
      "Epoch 42/100\n",
      "20/20 [==============================] - 0s 719us/step - loss: 0.0796 - accuracy: 0.9744\n",
      "Epoch 43/100\n",
      "20/20 [==============================] - 0s 705us/step - loss: 0.0845 - accuracy: 0.9808\n",
      "Epoch 44/100\n",
      "20/20 [==============================] - 0s 691us/step - loss: 0.0971 - accuracy: 0.9744\n",
      "Epoch 45/100\n",
      "20/20 [==============================] - 0s 701us/step - loss: 0.0625 - accuracy: 0.9936\n",
      "Epoch 46/100\n",
      "20/20 [==============================] - 0s 693us/step - loss: 0.0630 - accuracy: 0.9872\n",
      "Epoch 47/100\n",
      "20/20 [==============================] - 0s 722us/step - loss: 0.0812 - accuracy: 0.9744\n",
      "Epoch 48/100\n",
      "20/20 [==============================] - 0s 711us/step - loss: 0.0669 - accuracy: 0.9872\n",
      "Epoch 49/100\n",
      "20/20 [==============================] - 0s 697us/step - loss: 0.0508 - accuracy: 0.9936\n",
      "Epoch 50/100\n",
      "20/20 [==============================] - 0s 725us/step - loss: 0.0504 - accuracy: 0.9872\n",
      "Epoch 51/100\n",
      "20/20 [==============================] - 0s 772us/step - loss: 0.0484 - accuracy: 1.0000\n",
      "Epoch 52/100\n",
      "20/20 [==============================] - 0s 701us/step - loss: 0.0460 - accuracy: 0.9936\n",
      "Epoch 53/100\n",
      "20/20 [==============================] - 0s 749us/step - loss: 0.0470 - accuracy: 0.9936\n",
      "Epoch 54/100\n",
      "20/20 [==============================] - 0s 654us/step - loss: 0.0364 - accuracy: 1.0000\n",
      "Epoch 55/100\n",
      "20/20 [==============================] - 0s 756us/step - loss: 0.0521 - accuracy: 0.9936\n",
      "Epoch 56/100\n",
      "20/20 [==============================] - 0s 743us/step - loss: 0.0563 - accuracy: 0.9936\n",
      "Epoch 57/100\n",
      "20/20 [==============================] - 0s 689us/step - loss: 0.0514 - accuracy: 0.9936\n",
      "Epoch 58/100\n",
      "20/20 [==============================] - 0s 691us/step - loss: 0.0391 - accuracy: 0.9936\n",
      "Epoch 59/100\n",
      "20/20 [==============================] - 0s 712us/step - loss: 0.0356 - accuracy: 1.0000\n",
      "Epoch 60/100\n",
      "20/20 [==============================] - 0s 726us/step - loss: 0.0236 - accuracy: 1.0000\n",
      "Epoch 61/100\n",
      "20/20 [==============================] - 0s 731us/step - loss: 0.0246 - accuracy: 1.0000\n",
      "Epoch 62/100\n",
      "20/20 [==============================] - 0s 682us/step - loss: 0.0179 - accuracy: 1.0000\n",
      "Epoch 63/100\n",
      "20/20 [==============================] - 0s 710us/step - loss: 0.0176 - accuracy: 1.0000\n",
      "Epoch 64/100\n",
      "20/20 [==============================] - 0s 731us/step - loss: 0.0194 - accuracy: 1.0000\n",
      "Epoch 65/100\n",
      "20/20 [==============================] - 0s 700us/step - loss: 0.0160 - accuracy: 1.0000\n",
      "Epoch 66/100\n",
      "20/20 [==============================] - 0s 724us/step - loss: 0.0174 - accuracy: 1.0000\n",
      "Epoch 67/100\n",
      "20/20 [==============================] - 0s 701us/step - loss: 0.0165 - accuracy: 1.0000\n",
      "Epoch 68/100\n",
      "20/20 [==============================] - 0s 699us/step - loss: 0.0155 - accuracy: 1.0000\n",
      "Epoch 69/100\n",
      "20/20 [==============================] - 0s 760us/step - loss: 0.0158 - accuracy: 1.0000\n",
      "Epoch 70/100\n",
      "20/20 [==============================] - 0s 757us/step - loss: 0.0202 - accuracy: 1.0000\n",
      "Epoch 71/100\n",
      "20/20 [==============================] - 0s 654us/step - loss: 0.0191 - accuracy: 1.0000\n",
      "Epoch 72/100\n",
      "20/20 [==============================] - 0s 709us/step - loss: 0.0150 - accuracy: 1.0000\n",
      "Epoch 73/100\n",
      "20/20 [==============================] - 0s 714us/step - loss: 0.0109 - accuracy: 1.0000\n",
      "Epoch 74/100\n",
      "20/20 [==============================] - 0s 747us/step - loss: 0.0115 - accuracy: 1.0000\n",
      "Epoch 75/100\n",
      "20/20 [==============================] - 0s 761us/step - loss: 0.0091 - accuracy: 1.0000\n",
      "Epoch 76/100\n",
      "20/20 [==============================] - 0s 774us/step - loss: 0.0085 - accuracy: 1.0000\n",
      "Epoch 77/100\n",
      "20/20 [==============================] - 0s 754us/step - loss: 0.0095 - accuracy: 1.0000\n",
      "Epoch 78/100\n",
      "20/20 [==============================] - 0s 777us/step - loss: 0.0093 - accuracy: 1.0000\n",
      "Epoch 79/100\n",
      "20/20 [==============================] - 0s 720us/step - loss: 0.0072 - accuracy: 1.0000\n",
      "Epoch 80/100\n",
      "20/20 [==============================] - 0s 697us/step - loss: 0.0068 - accuracy: 1.0000\n",
      "Epoch 81/100\n",
      "20/20 [==============================] - 0s 700us/step - loss: 0.0080 - accuracy: 1.0000\n",
      "Epoch 82/100\n",
      "20/20 [==============================] - 0s 696us/step - loss: 0.0067 - accuracy: 1.0000\n",
      "Epoch 83/100\n",
      "20/20 [==============================] - 0s 708us/step - loss: 0.0062 - accuracy: 1.0000\n",
      "Epoch 84/100\n",
      "20/20 [==============================] - 0s 760us/step - loss: 0.0061 - accuracy: 1.0000\n",
      "Epoch 85/100\n",
      "20/20 [==============================] - 0s 757us/step - loss: 0.0061 - accuracy: 1.0000\n",
      "Epoch 86/100\n",
      "20/20 [==============================] - 0s 759us/step - loss: 0.0077 - accuracy: 1.0000\n",
      "Epoch 87/100\n",
      "20/20 [==============================] - 0s 764us/step - loss: 0.0076 - accuracy: 1.0000\n",
      "Epoch 88/100\n",
      "20/20 [==============================] - 0s 753us/step - loss: 0.0064 - accuracy: 1.0000\n",
      "Epoch 89/100\n",
      "20/20 [==============================] - 0s 765us/step - loss: 0.0070 - accuracy: 1.0000\n",
      "Epoch 90/100\n",
      "20/20 [==============================] - 0s 737us/step - loss: 0.0074 - accuracy: 1.0000\n",
      "Epoch 91/100\n",
      "20/20 [==============================] - 0s 752us/step - loss: 0.0061 - accuracy: 1.0000\n",
      "Epoch 92/100\n",
      "20/20 [==============================] - 0s 752us/step - loss: 0.0046 - accuracy: 1.0000\n",
      "Epoch 93/100\n",
      "20/20 [==============================] - 0s 814us/step - loss: 0.0041 - accuracy: 1.0000\n",
      "Epoch 94/100\n",
      "20/20 [==============================] - 0s 772us/step - loss: 0.0035 - accuracy: 1.0000\n",
      "Epoch 95/100\n",
      "20/20 [==============================] - 0s 755us/step - loss: 0.0035 - accuracy: 1.0000\n",
      "Epoch 96/100\n",
      "20/20 [==============================] - 0s 768us/step - loss: 0.0035 - accuracy: 1.0000\n",
      "Epoch 97/100\n",
      "20/20 [==============================] - 0s 826us/step - loss: 0.0037 - accuracy: 1.0000\n",
      "Epoch 98/100\n",
      "20/20 [==============================] - 0s 775us/step - loss: 0.0037 - accuracy: 1.0000\n",
      "Epoch 99/100\n",
      "20/20 [==============================] - 0s 747us/step - loss: 0.0031 - accuracy: 1.0000\n",
      "Epoch 100/100\n",
      "20/20 [==============================] - 0s 695us/step - loss: 0.0032 - accuracy: 1.0000\n"
     ]
    },
    {
     "data": {
      "text/plain": [
       "<keras.callbacks.History at 0x212257ebbb0>"
      ]
     },
     "execution_count": 64,
     "metadata": {},
     "output_type": "execute_result"
    }
   ],
   "source": [
    "model = keras.Sequential([\n",
    "    keras.layers.Dense(60, input_dim=60, activation='relu'),\n",
    "    keras.layers.Dense(30, activation='relu'),\n",
    "    keras.layers.Dense(15, activation='relu'),\n",
    "    keras.layers.Dense(1, activation='sigmoid')\n",
    "])\n",
    "\n",
    "model.compile(optimizer='adam', loss='binary_crossentropy', metrics=['accuracy'])\n",
    "\n",
    "model.fit(X_train, y_train, epochs=100, batch_size=8)"
   ]
  },
  {
   "cell_type": "code",
   "execution_count": 65,
   "id": "818a71a9-c209-4f45-b25e-6c501eaed19e",
   "metadata": {},
   "outputs": [
    {
     "name": "stdout",
     "output_type": "stream",
     "text": [
      "2/2 [==============================] - 0s 2ms/step - loss: 1.0347 - accuracy: 0.7308\n"
     ]
    },
    {
     "data": {
      "text/plain": [
       "[1.0347349643707275, 0.7307692170143127]"
      ]
     },
     "execution_count": 65,
     "metadata": {},
     "output_type": "execute_result"
    }
   ],
   "source": [
    "model.evaluate(X_test, y_test)"
   ]
  },
  {
   "cell_type": "code",
   "execution_count": 66,
   "id": "918456ef-eab7-48bb-82d0-f5f84d8780a4",
   "metadata": {},
   "outputs": [
    {
     "name": "stdout",
     "output_type": "stream",
     "text": [
      "2/2 [==============================] - 0s 1ms/step\n"
     ]
    },
    {
     "data": {
      "text/plain": [
       "[False, True, True, False, True, True, True, True, False, True]"
      ]
     },
     "execution_count": 66,
     "metadata": {},
     "output_type": "execute_result"
    }
   ],
   "source": [
    "y_pred = model.predict(X_test)\n",
    "\n",
    "y_pred = [True if pred>0.5 else False for pred in y_pred]\n",
    "y_pred[:10]"
   ]
  },
  {
   "cell_type": "code",
   "execution_count": 67,
   "id": "0b9e2847-9ad2-4cd5-9594-6e9a41d69bed",
   "metadata": {},
   "outputs": [
    {
     "data": {
      "text/html": [
       "<div>\n",
       "<style scoped>\n",
       "    .dataframe tbody tr th:only-of-type {\n",
       "        vertical-align: middle;\n",
       "    }\n",
       "\n",
       "    .dataframe tbody tr th {\n",
       "        vertical-align: top;\n",
       "    }\n",
       "\n",
       "    .dataframe thead th {\n",
       "        text-align: right;\n",
       "    }\n",
       "</style>\n",
       "<table border=\"1\" class=\"dataframe\">\n",
       "  <thead>\n",
       "    <tr style=\"text-align: right;\">\n",
       "      <th></th>\n",
       "      <th>R</th>\n",
       "    </tr>\n",
       "  </thead>\n",
       "  <tbody>\n",
       "    <tr>\n",
       "      <th>186</th>\n",
       "      <td>False</td>\n",
       "    </tr>\n",
       "    <tr>\n",
       "      <th>155</th>\n",
       "      <td>False</td>\n",
       "    </tr>\n",
       "    <tr>\n",
       "      <th>165</th>\n",
       "      <td>False</td>\n",
       "    </tr>\n",
       "    <tr>\n",
       "      <th>200</th>\n",
       "      <td>False</td>\n",
       "    </tr>\n",
       "    <tr>\n",
       "      <th>58</th>\n",
       "      <td>True</td>\n",
       "    </tr>\n",
       "    <tr>\n",
       "      <th>34</th>\n",
       "      <td>True</td>\n",
       "    </tr>\n",
       "    <tr>\n",
       "      <th>151</th>\n",
       "      <td>False</td>\n",
       "    </tr>\n",
       "    <tr>\n",
       "      <th>18</th>\n",
       "      <td>True</td>\n",
       "    </tr>\n",
       "    <tr>\n",
       "      <th>202</th>\n",
       "      <td>False</td>\n",
       "    </tr>\n",
       "    <tr>\n",
       "      <th>62</th>\n",
       "      <td>True</td>\n",
       "    </tr>\n",
       "  </tbody>\n",
       "</table>\n",
       "</div>"
      ],
      "text/plain": [
       "         R\n",
       "186  False\n",
       "155  False\n",
       "165  False\n",
       "200  False\n",
       "58    True\n",
       "34    True\n",
       "151  False\n",
       "18    True\n",
       "202  False\n",
       "62    True"
      ]
     },
     "execution_count": 67,
     "metadata": {},
     "output_type": "execute_result"
    }
   ],
   "source": [
    "y_test[:10]"
   ]
  },
  {
   "cell_type": "code",
   "execution_count": 68,
   "id": "d926beac-5ae4-42e1-979c-f5f3002d9af9",
   "metadata": {},
   "outputs": [
    {
     "name": "stdout",
     "output_type": "stream",
     "text": [
      "              precision    recall  f1-score   support\n",
      "\n",
      "       False       0.71      0.81      0.76        27\n",
      "        True       0.76      0.64      0.70        25\n",
      "\n",
      "    accuracy                           0.73        52\n",
      "   macro avg       0.74      0.73      0.73        52\n",
      "weighted avg       0.73      0.73      0.73        52\n",
      "\n"
     ]
    }
   ],
   "source": [
    "from sklearn.metrics import confusion_matrix, classification_report\n",
    "print(classification_report(y_test, y_pred))"
   ]
  },
  {
   "cell_type": "code",
   "execution_count": 90,
   "id": "0bb77dc1-d0d0-4d6d-b7d7-d6a2236c7438",
   "metadata": {
    "scrolled": true
   },
   "outputs": [
    {
     "name": "stdout",
     "output_type": "stream",
     "text": [
      "Epoch 1/100\n",
      "20/20 [==============================] - 0s 813us/step - loss: 0.7062 - accuracy: 0.5000\n",
      "Epoch 2/100\n",
      "20/20 [==============================] - 0s 757us/step - loss: 0.6844 - accuracy: 0.5513\n",
      "Epoch 3/100\n",
      "20/20 [==============================] - 0s 763us/step - loss: 0.6843 - accuracy: 0.5128\n",
      "Epoch 4/100\n",
      "20/20 [==============================] - 0s 757us/step - loss: 0.6712 - accuracy: 0.5769\n",
      "Epoch 5/100\n",
      "20/20 [==============================] - 0s 750us/step - loss: 0.6710 - accuracy: 0.6346\n",
      "Epoch 6/100\n",
      "20/20 [==============================] - 0s 753us/step - loss: 0.6758 - accuracy: 0.5321\n",
      "Epoch 7/100\n",
      "20/20 [==============================] - 0s 766us/step - loss: 0.6627 - accuracy: 0.5769\n",
      "Epoch 8/100\n",
      "20/20 [==============================] - 0s 748us/step - loss: 0.6653 - accuracy: 0.6218\n",
      "Epoch 9/100\n",
      "20/20 [==============================] - 0s 758us/step - loss: 0.6421 - accuracy: 0.6346\n",
      "Epoch 10/100\n",
      "20/20 [==============================] - 0s 737us/step - loss: 0.6611 - accuracy: 0.6282\n",
      "Epoch 11/100\n",
      "20/20 [==============================] - 0s 750us/step - loss: 0.6285 - accuracy: 0.6218\n",
      "Epoch 12/100\n",
      "20/20 [==============================] - 0s 753us/step - loss: 0.6314 - accuracy: 0.6474\n",
      "Epoch 13/100\n",
      "20/20 [==============================] - 0s 753us/step - loss: 0.6196 - accuracy: 0.7115\n",
      "Epoch 14/100\n",
      "20/20 [==============================] - 0s 753us/step - loss: 0.6022 - accuracy: 0.6282\n",
      "Epoch 15/100\n",
      "20/20 [==============================] - 0s 810us/step - loss: 0.5734 - accuracy: 0.7372\n",
      "Epoch 16/100\n",
      "20/20 [==============================] - 0s 770us/step - loss: 0.5850 - accuracy: 0.7244\n",
      "Epoch 17/100\n",
      "20/20 [==============================] - 0s 757us/step - loss: 0.5466 - accuracy: 0.7308\n",
      "Epoch 18/100\n",
      "20/20 [==============================] - 0s 766us/step - loss: 0.5248 - accuracy: 0.7115\n",
      "Epoch 19/100\n",
      "20/20 [==============================] - 0s 749us/step - loss: 0.5573 - accuracy: 0.7179\n",
      "Epoch 20/100\n",
      "20/20 [==============================] - 0s 724us/step - loss: 0.5253 - accuracy: 0.7756\n",
      "Epoch 21/100\n",
      "20/20 [==============================] - 0s 752us/step - loss: 0.5434 - accuracy: 0.7115\n",
      "Epoch 22/100\n",
      "20/20 [==============================] - 0s 731us/step - loss: 0.4992 - accuracy: 0.7885\n",
      "Epoch 23/100\n",
      "20/20 [==============================] - 0s 756us/step - loss: 0.4939 - accuracy: 0.7821\n",
      "Epoch 24/100\n",
      "20/20 [==============================] - 0s 761us/step - loss: 0.4700 - accuracy: 0.7949\n",
      "Epoch 25/100\n",
      "20/20 [==============================] - 0s 763us/step - loss: 0.4922 - accuracy: 0.7628\n",
      "Epoch 26/100\n",
      "20/20 [==============================] - 0s 763us/step - loss: 0.4513 - accuracy: 0.8269\n",
      "Epoch 27/100\n",
      "20/20 [==============================] - 0s 763us/step - loss: 0.4342 - accuracy: 0.7756\n",
      "Epoch 28/100\n",
      "20/20 [==============================] - 0s 755us/step - loss: 0.4409 - accuracy: 0.8269\n",
      "Epoch 29/100\n",
      "20/20 [==============================] - 0s 751us/step - loss: 0.4405 - accuracy: 0.8141\n",
      "Epoch 30/100\n",
      "20/20 [==============================] - 0s 774us/step - loss: 0.4571 - accuracy: 0.8269\n",
      "Epoch 31/100\n",
      "20/20 [==============================] - 0s 762us/step - loss: 0.4119 - accuracy: 0.8526\n",
      "Epoch 32/100\n",
      "20/20 [==============================] - 0s 808us/step - loss: 0.3779 - accuracy: 0.8590\n",
      "Epoch 33/100\n",
      "20/20 [==============================] - 0s 764us/step - loss: 0.4163 - accuracy: 0.8397\n",
      "Epoch 34/100\n",
      "20/20 [==============================] - 0s 712us/step - loss: 0.4133 - accuracy: 0.8013\n",
      "Epoch 35/100\n",
      "20/20 [==============================] - 0s 752us/step - loss: 0.4074 - accuracy: 0.7949\n",
      "Epoch 36/100\n",
      "20/20 [==============================] - 0s 767us/step - loss: 0.4068 - accuracy: 0.8141\n",
      "Epoch 37/100\n",
      "20/20 [==============================] - 0s 1ms/step - loss: 0.3796 - accuracy: 0.8462\n",
      "Epoch 38/100\n",
      "20/20 [==============================] - 0s 879us/step - loss: 0.3403 - accuracy: 0.8462\n",
      "Epoch 39/100\n",
      "20/20 [==============================] - 0s 759us/step - loss: 0.3832 - accuracy: 0.8333\n",
      "Epoch 40/100\n",
      "20/20 [==============================] - 0s 760us/step - loss: 0.3452 - accuracy: 0.8590\n",
      "Epoch 41/100\n",
      "20/20 [==============================] - 0s 762us/step - loss: 0.3043 - accuracy: 0.8782\n",
      "Epoch 42/100\n",
      "20/20 [==============================] - 0s 721us/step - loss: 0.3238 - accuracy: 0.8526\n",
      "Epoch 43/100\n",
      "20/20 [==============================] - 0s 765us/step - loss: 0.3263 - accuracy: 0.8462\n",
      "Epoch 44/100\n",
      "20/20 [==============================] - 0s 755us/step - loss: 0.3360 - accuracy: 0.8654\n",
      "Epoch 45/100\n",
      "20/20 [==============================] - 0s 753us/step - loss: 0.3631 - accuracy: 0.8269\n",
      "Epoch 46/100\n",
      "20/20 [==============================] - 0s 760us/step - loss: 0.3054 - accuracy: 0.8590\n",
      "Epoch 47/100\n",
      "20/20 [==============================] - 0s 815us/step - loss: 0.3549 - accuracy: 0.8590\n",
      "Epoch 48/100\n",
      "20/20 [==============================] - 0s 763us/step - loss: 0.3230 - accuracy: 0.8782\n",
      "Epoch 49/100\n",
      "20/20 [==============================] - 0s 758us/step - loss: 0.3051 - accuracy: 0.9103\n",
      "Epoch 50/100\n",
      "20/20 [==============================] - 0s 755us/step - loss: 0.3895 - accuracy: 0.8333\n",
      "Epoch 51/100\n",
      "20/20 [==============================] - 0s 785us/step - loss: 0.2990 - accuracy: 0.8974\n",
      "Epoch 52/100\n",
      "20/20 [==============================] - 0s 753us/step - loss: 0.2981 - accuracy: 0.8718\n",
      "Epoch 53/100\n",
      "20/20 [==============================] - 0s 756us/step - loss: 0.2283 - accuracy: 0.9295\n",
      "Epoch 54/100\n",
      "20/20 [==============================] - 0s 758us/step - loss: 0.2618 - accuracy: 0.9167\n",
      "Epoch 55/100\n",
      "20/20 [==============================] - 0s 757us/step - loss: 0.2614 - accuracy: 0.9103\n",
      "Epoch 56/100\n",
      "20/20 [==============================] - 0s 778us/step - loss: 0.2170 - accuracy: 0.9423\n",
      "Epoch 57/100\n",
      "20/20 [==============================] - 0s 748us/step - loss: 0.2353 - accuracy: 0.9103\n",
      "Epoch 58/100\n",
      "20/20 [==============================] - 0s 763us/step - loss: 0.2360 - accuracy: 0.9167\n",
      "Epoch 59/100\n",
      "20/20 [==============================] - 0s 757us/step - loss: 0.2595 - accuracy: 0.9038\n",
      "Epoch 60/100\n",
      "20/20 [==============================] - 0s 811us/step - loss: 0.2678 - accuracy: 0.9103\n",
      "Epoch 61/100\n",
      "20/20 [==============================] - 0s 811us/step - loss: 0.2515 - accuracy: 0.8846\n",
      "Epoch 62/100\n",
      "20/20 [==============================] - 0s 774us/step - loss: 0.2115 - accuracy: 0.9359\n",
      "Epoch 63/100\n",
      "20/20 [==============================] - 0s 756us/step - loss: 0.2461 - accuracy: 0.9167\n",
      "Epoch 64/100\n",
      "20/20 [==============================] - 0s 752us/step - loss: 0.2357 - accuracy: 0.8782\n",
      "Epoch 65/100\n",
      "20/20 [==============================] - 0s 768us/step - loss: 0.2735 - accuracy: 0.8974\n",
      "Epoch 66/100\n",
      "20/20 [==============================] - 0s 764us/step - loss: 0.2086 - accuracy: 0.9167\n",
      "Epoch 67/100\n",
      "20/20 [==============================] - 0s 747us/step - loss: 0.2026 - accuracy: 0.9231\n",
      "Epoch 68/100\n",
      "20/20 [==============================] - 0s 776us/step - loss: 0.2226 - accuracy: 0.9103\n",
      "Epoch 69/100\n",
      "20/20 [==============================] - 0s 772us/step - loss: 0.2091 - accuracy: 0.9487\n",
      "Epoch 70/100\n",
      "20/20 [==============================] - 0s 720us/step - loss: 0.2095 - accuracy: 0.9423\n",
      "Epoch 71/100\n",
      "20/20 [==============================] - 0s 826us/step - loss: 0.2359 - accuracy: 0.8846\n",
      "Epoch 72/100\n",
      "20/20 [==============================] - 0s 755us/step - loss: 0.2488 - accuracy: 0.8974\n",
      "Epoch 73/100\n",
      "20/20 [==============================] - 0s 757us/step - loss: 0.2243 - accuracy: 0.9167\n",
      "Epoch 74/100\n",
      "20/20 [==============================] - 0s 712us/step - loss: 0.1592 - accuracy: 0.9423\n",
      "Epoch 75/100\n",
      "20/20 [==============================] - 0s 751us/step - loss: 0.2210 - accuracy: 0.9167\n",
      "Epoch 76/100\n",
      "20/20 [==============================] - 0s 785us/step - loss: 0.1664 - accuracy: 0.9487\n",
      "Epoch 77/100\n",
      "20/20 [==============================] - 0s 771us/step - loss: 0.1941 - accuracy: 0.9295\n",
      "Epoch 78/100\n",
      "20/20 [==============================] - 0s 772us/step - loss: 0.1743 - accuracy: 0.9295\n",
      "Epoch 79/100\n",
      "20/20 [==============================] - 0s 743us/step - loss: 0.1809 - accuracy: 0.9167\n",
      "Epoch 80/100\n",
      "20/20 [==============================] - 0s 765us/step - loss: 0.1696 - accuracy: 0.9231\n",
      "Epoch 81/100\n",
      "20/20 [==============================] - 0s 757us/step - loss: 0.1492 - accuracy: 0.9487\n",
      "Epoch 82/100\n",
      "20/20 [==============================] - 0s 755us/step - loss: 0.2086 - accuracy: 0.9231\n",
      "Epoch 83/100\n",
      "20/20 [==============================] - 0s 806us/step - loss: 0.2010 - accuracy: 0.9423\n",
      "Epoch 84/100\n",
      "20/20 [==============================] - 0s 770us/step - loss: 0.1366 - accuracy: 0.9551\n",
      "Epoch 85/100\n",
      "20/20 [==============================] - 0s 807us/step - loss: 0.1739 - accuracy: 0.9167\n",
      "Epoch 86/100\n",
      "20/20 [==============================] - 0s 816us/step - loss: 0.2150 - accuracy: 0.9359\n",
      "Epoch 87/100\n",
      "20/20 [==============================] - 0s 754us/step - loss: 0.1829 - accuracy: 0.9167\n",
      "Epoch 88/100\n",
      "20/20 [==============================] - 0s 777us/step - loss: 0.1242 - accuracy: 0.9679\n",
      "Epoch 89/100\n",
      "20/20 [==============================] - 0s 804us/step - loss: 0.1364 - accuracy: 0.9679\n",
      "Epoch 90/100\n",
      "20/20 [==============================] - 0s 755us/step - loss: 0.0982 - accuracy: 0.9679\n",
      "Epoch 91/100\n",
      "20/20 [==============================] - 0s 779us/step - loss: 0.1534 - accuracy: 0.9487\n",
      "Epoch 92/100\n",
      "20/20 [==============================] - 0s 763us/step - loss: 0.1899 - accuracy: 0.9167\n",
      "Epoch 93/100\n",
      "20/20 [==============================] - 0s 756us/step - loss: 0.1401 - accuracy: 0.9423\n",
      "Epoch 94/100\n",
      "20/20 [==============================] - 0s 752us/step - loss: 0.1677 - accuracy: 0.9359\n",
      "Epoch 95/100\n",
      "20/20 [==============================] - 0s 778us/step - loss: 0.1111 - accuracy: 0.9615\n",
      "Epoch 96/100\n",
      "20/20 [==============================] - 0s 822us/step - loss: 0.1155 - accuracy: 0.9679\n",
      "Epoch 97/100\n",
      "20/20 [==============================] - 0s 774us/step - loss: 0.0993 - accuracy: 0.9744\n",
      "Epoch 98/100\n",
      "20/20 [==============================] - 0s 700us/step - loss: 0.1562 - accuracy: 0.9295\n",
      "Epoch 99/100\n",
      "20/20 [==============================] - 0s 753us/step - loss: 0.1528 - accuracy: 0.9295\n",
      "Epoch 100/100\n",
      "20/20 [==============================] - 0s 737us/step - loss: 0.1709 - accuracy: 0.9295\n"
     ]
    },
    {
     "data": {
      "text/plain": [
       "<keras.callbacks.History at 0x21222399720>"
      ]
     },
     "execution_count": 90,
     "metadata": {},
     "output_type": "execute_result"
    }
   ],
   "source": [
    "dropout_model = keras.Sequential([\n",
    "    keras.layers.Dense(60, input_dim=60, activation='relu'),\n",
    "    keras.layers.Dropout(0.3),\n",
    "    keras.layers.Dense(30, activation='relu'),\n",
    "    keras.layers.Dropout(0.3),\n",
    "    keras.layers.Dense(15, activation='relu'),\n",
    "    keras.layers.Dropout(0.3),\n",
    "    keras.layers.Dense(1, activation='sigmoid')\n",
    "])\n",
    "\n",
    "dropout_model.compile(optimizer='adam', loss='binary_crossentropy', metrics=['accuracy'])\n",
    "\n",
    "dropout_model.fit(X_train, y_train, epochs=100, batch_size=8)"
   ]
  },
  {
   "cell_type": "code",
   "execution_count": 91,
   "id": "b85725a0-45d0-41c8-bf8c-1eb4f589ca40",
   "metadata": {},
   "outputs": [
    {
     "name": "stdout",
     "output_type": "stream",
     "text": [
      "2/2 [==============================] - 0s 2ms/step - loss: 0.5648 - accuracy: 0.8077\n"
     ]
    },
    {
     "data": {
      "text/plain": [
       "[0.5648102760314941, 0.807692289352417]"
      ]
     },
     "execution_count": 91,
     "metadata": {},
     "output_type": "execute_result"
    }
   ],
   "source": [
    "dropout_model.evaluate(X_test, y_test)"
   ]
  },
  {
   "cell_type": "code",
   "execution_count": 99,
   "id": "c2af6bfb-9f72-43a3-b338-cb4a3ef8eeda",
   "metadata": {},
   "outputs": [
    {
     "name": "stdout",
     "output_type": "stream",
     "text": [
      "2/2 [==============================] - 0s 1ms/step\n"
     ]
    }
   ],
   "source": [
    "y_pred = dropout_model.predict(X_test)\n",
    "y_pred = [True if pred>0.5 else False for pred in y_pred]"
   ]
  },
  {
   "cell_type": "code",
   "execution_count": 100,
   "id": "60b1ac1f-c16a-4e22-9af4-e6352d2adcb6",
   "metadata": {},
   "outputs": [
    {
     "name": "stdout",
     "output_type": "stream",
     "text": [
      "              precision    recall  f1-score   support\n",
      "\n",
      "       False       0.79      0.85      0.82        27\n",
      "        True       0.83      0.76      0.79        25\n",
      "\n",
      "    accuracy                           0.81        52\n",
      "   macro avg       0.81      0.81      0.81        52\n",
      "weighted avg       0.81      0.81      0.81        52\n",
      "\n"
     ]
    }
   ],
   "source": [
    "print(classification_report(y_test, y_pred))"
   ]
  },
  {
   "cell_type": "code",
   "execution_count": null,
   "id": "6025f86a-20b8-48bf-8146-065fa64327c2",
   "metadata": {},
   "outputs": [],
   "source": []
  }
 ],
 "metadata": {
  "kernelspec": {
   "display_name": "Python 3 (ipykernel)",
   "language": "python",
   "name": "python3"
  },
  "language_info": {
   "codemirror_mode": {
    "name": "ipython",
    "version": 3
   },
   "file_extension": ".py",
   "mimetype": "text/x-python",
   "name": "python",
   "nbconvert_exporter": "python",
   "pygments_lexer": "ipython3",
   "version": "3.10.17"
  }
 },
 "nbformat": 4,
 "nbformat_minor": 5
}
