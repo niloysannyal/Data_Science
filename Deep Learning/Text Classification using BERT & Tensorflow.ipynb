{
 "cells": [
  {
   "cell_type": "code",
   "execution_count": 1,
   "id": "b296869d-31ad-4f2a-b8cd-6cb486c2d175",
   "metadata": {},
   "outputs": [],
   "source": [
    "import pandas as pd\n",
    "import tensorflow as tf\n",
    "import tensorflow_hub as hub\n",
    "import tensorflow_text as text"
   ]
  },
  {
   "cell_type": "code",
   "execution_count": 2,
   "id": "97e8872e-84d1-4ccf-b9b5-ca3820ba4638",
   "metadata": {},
   "outputs": [
    {
     "data": {
      "text/html": [
       "<div>\n",
       "<style scoped>\n",
       "    .dataframe tbody tr th:only-of-type {\n",
       "        vertical-align: middle;\n",
       "    }\n",
       "\n",
       "    .dataframe tbody tr th {\n",
       "        vertical-align: top;\n",
       "    }\n",
       "\n",
       "    .dataframe thead th {\n",
       "        text-align: right;\n",
       "    }\n",
       "</style>\n",
       "<table border=\"1\" class=\"dataframe\">\n",
       "  <thead>\n",
       "    <tr style=\"text-align: right;\">\n",
       "      <th></th>\n",
       "      <th>Category</th>\n",
       "      <th>Message</th>\n",
       "    </tr>\n",
       "  </thead>\n",
       "  <tbody>\n",
       "    <tr>\n",
       "      <th>0</th>\n",
       "      <td>ham</td>\n",
       "      <td>Go until jurong point, crazy.. Available only ...</td>\n",
       "    </tr>\n",
       "    <tr>\n",
       "      <th>1</th>\n",
       "      <td>ham</td>\n",
       "      <td>Ok lar... Joking wif u oni...</td>\n",
       "    </tr>\n",
       "    <tr>\n",
       "      <th>2</th>\n",
       "      <td>spam</td>\n",
       "      <td>Free entry in 2 a wkly comp to win FA Cup fina...</td>\n",
       "    </tr>\n",
       "    <tr>\n",
       "      <th>3</th>\n",
       "      <td>ham</td>\n",
       "      <td>U dun say so early hor... U c already then say...</td>\n",
       "    </tr>\n",
       "    <tr>\n",
       "      <th>4</th>\n",
       "      <td>ham</td>\n",
       "      <td>Nah I don't think he goes to usf, he lives aro...</td>\n",
       "    </tr>\n",
       "  </tbody>\n",
       "</table>\n",
       "</div>"
      ],
      "text/plain": [
       "  Category                                            Message\n",
       "0      ham  Go until jurong point, crazy.. Available only ...\n",
       "1      ham                      Ok lar... Joking wif u oni...\n",
       "2     spam  Free entry in 2 a wkly comp to win FA Cup fina...\n",
       "3      ham  U dun say so early hor... U c already then say...\n",
       "4      ham  Nah I don't think he goes to usf, he lives aro..."
      ]
     },
     "execution_count": 2,
     "metadata": {},
     "output_type": "execute_result"
    }
   ],
   "source": [
    "df = pd.read_csv(\"BERT/spam.csv\")\n",
    "df.head()"
   ]
  },
  {
   "cell_type": "code",
   "execution_count": 3,
   "id": "de046e14-eaa5-4d50-9d52-16b7aeee25dd",
   "metadata": {},
   "outputs": [
    {
     "data": {
      "text/html": [
       "<div>\n",
       "<style scoped>\n",
       "    .dataframe tbody tr th:only-of-type {\n",
       "        vertical-align: middle;\n",
       "    }\n",
       "\n",
       "    .dataframe tbody tr th {\n",
       "        vertical-align: top;\n",
       "    }\n",
       "\n",
       "    .dataframe thead tr th {\n",
       "        text-align: left;\n",
       "    }\n",
       "\n",
       "    .dataframe thead tr:last-of-type th {\n",
       "        text-align: right;\n",
       "    }\n",
       "</style>\n",
       "<table border=\"1\" class=\"dataframe\">\n",
       "  <thead>\n",
       "    <tr>\n",
       "      <th></th>\n",
       "      <th colspan=\"4\" halign=\"left\">Message</th>\n",
       "    </tr>\n",
       "    <tr>\n",
       "      <th></th>\n",
       "      <th>count</th>\n",
       "      <th>unique</th>\n",
       "      <th>top</th>\n",
       "      <th>freq</th>\n",
       "    </tr>\n",
       "    <tr>\n",
       "      <th>Category</th>\n",
       "      <th></th>\n",
       "      <th></th>\n",
       "      <th></th>\n",
       "      <th></th>\n",
       "    </tr>\n",
       "  </thead>\n",
       "  <tbody>\n",
       "    <tr>\n",
       "      <th>ham</th>\n",
       "      <td>4825</td>\n",
       "      <td>4516</td>\n",
       "      <td>Sorry, I'll call later</td>\n",
       "      <td>30</td>\n",
       "    </tr>\n",
       "    <tr>\n",
       "      <th>spam</th>\n",
       "      <td>747</td>\n",
       "      <td>641</td>\n",
       "      <td>Please call our customer service representativ...</td>\n",
       "      <td>4</td>\n",
       "    </tr>\n",
       "  </tbody>\n",
       "</table>\n",
       "</div>"
      ],
      "text/plain": [
       "         Message                                                            \\\n",
       "           count unique                                                top   \n",
       "Category                                                                     \n",
       "ham         4825   4516                             Sorry, I'll call later   \n",
       "spam         747    641  Please call our customer service representativ...   \n",
       "\n",
       "               \n",
       "         freq  \n",
       "Category       \n",
       "ham        30  \n",
       "spam        4  "
      ]
     },
     "execution_count": 3,
     "metadata": {},
     "output_type": "execute_result"
    }
   ],
   "source": [
    "df.groupby(\"Category\").describe()"
   ]
  },
  {
   "cell_type": "code",
   "execution_count": 4,
   "id": "ab7f97ef-d095-4e97-a53b-1eb9f7c506d4",
   "metadata": {},
   "outputs": [
    {
     "data": {
      "text/plain": [
       "Category\n",
       "ham     4825\n",
       "spam     747\n",
       "Name: count, dtype: int64"
      ]
     },
     "execution_count": 4,
     "metadata": {},
     "output_type": "execute_result"
    }
   ],
   "source": [
    "df[\"Category\"].value_counts()"
   ]
  },
  {
   "cell_type": "code",
   "execution_count": 5,
   "id": "c709d89c-564a-4bc6-a0b0-89eeb233b87a",
   "metadata": {},
   "outputs": [
    {
     "data": {
      "text/plain": [
       "0.1548"
      ]
     },
     "execution_count": 5,
     "metadata": {},
     "output_type": "execute_result"
    }
   ],
   "source": [
    "round(747/4825,4)"
   ]
  },
  {
   "cell_type": "code",
   "execution_count": 6,
   "id": "11d06a94-36f4-4e33-abf6-8802c33284e5",
   "metadata": {},
   "outputs": [
    {
     "data": {
      "text/plain": [
       "(747, 2)"
      ]
     },
     "execution_count": 6,
     "metadata": {},
     "output_type": "execute_result"
    }
   ],
   "source": [
    "df_spam = df[df[\"Category\"]==\"spam\"]\n",
    "df_spam.shape"
   ]
  },
  {
   "cell_type": "code",
   "execution_count": 7,
   "id": "d189f51f-5e63-4b48-8197-9116d1d38358",
   "metadata": {},
   "outputs": [
    {
     "data": {
      "text/plain": [
       "(4825, 2)"
      ]
     },
     "execution_count": 7,
     "metadata": {},
     "output_type": "execute_result"
    }
   ],
   "source": [
    "df_ham = df[df[\"Category\"]==\"ham\"]\n",
    "df_ham.shape"
   ]
  },
  {
   "cell_type": "code",
   "execution_count": 8,
   "id": "226860c7-5e95-40b9-9f8a-9cfa6bf5c3ae",
   "metadata": {},
   "outputs": [
    {
     "data": {
      "text/plain": [
       "(747, 2)"
      ]
     },
     "execution_count": 8,
     "metadata": {},
     "output_type": "execute_result"
    }
   ],
   "source": [
    "df_ham_downsampled = df_ham.sample(df_spam.shape[0])\n",
    "df_ham_downsampled.shape"
   ]
  },
  {
   "cell_type": "code",
   "execution_count": 9,
   "id": "889dba9f-728f-4a0b-b4a9-20efc9b1f356",
   "metadata": {},
   "outputs": [
    {
     "data": {
      "text/plain": [
       "(1494, 2)"
      ]
     },
     "execution_count": 9,
     "metadata": {},
     "output_type": "execute_result"
    }
   ],
   "source": [
    "df_balanced = pd.concat([df_spam, df_ham_downsampled])\n",
    "df_balanced.shape"
   ]
  },
  {
   "cell_type": "code",
   "execution_count": 10,
   "id": "3d93ba8c-3126-402f-850d-81a54f52d963",
   "metadata": {},
   "outputs": [
    {
     "data": {
      "text/plain": [
       "Category\n",
       "spam    747\n",
       "ham     747\n",
       "Name: count, dtype: int64"
      ]
     },
     "execution_count": 10,
     "metadata": {},
     "output_type": "execute_result"
    }
   ],
   "source": [
    "df_balanced[\"Category\"].value_counts()"
   ]
  },
  {
   "cell_type": "code",
   "execution_count": 11,
   "id": "4573dc43-67ec-4e98-93f0-6cf364f5a4a6",
   "metadata": {},
   "outputs": [
    {
     "data": {
      "text/html": [
       "<div>\n",
       "<style scoped>\n",
       "    .dataframe tbody tr th:only-of-type {\n",
       "        vertical-align: middle;\n",
       "    }\n",
       "\n",
       "    .dataframe tbody tr th {\n",
       "        vertical-align: top;\n",
       "    }\n",
       "\n",
       "    .dataframe thead th {\n",
       "        text-align: right;\n",
       "    }\n",
       "</style>\n",
       "<table border=\"1\" class=\"dataframe\">\n",
       "  <thead>\n",
       "    <tr style=\"text-align: right;\">\n",
       "      <th></th>\n",
       "      <th>Category</th>\n",
       "      <th>Message</th>\n",
       "    </tr>\n",
       "  </thead>\n",
       "  <tbody>\n",
       "    <tr>\n",
       "      <th>3393</th>\n",
       "      <td>ham</td>\n",
       "      <td>What r u cooking me for dinner?</td>\n",
       "    </tr>\n",
       "    <tr>\n",
       "      <th>251</th>\n",
       "      <td>ham</td>\n",
       "      <td>Ranjith cal drpd Deeraj and deepak 5min hold</td>\n",
       "    </tr>\n",
       "    <tr>\n",
       "      <th>5447</th>\n",
       "      <td>ham</td>\n",
       "      <td>So that takes away some money worries</td>\n",
       "    </tr>\n",
       "    <tr>\n",
       "      <th>1499</th>\n",
       "      <td>ham</td>\n",
       "      <td>Time n Smile r the two crucial things in our l...</td>\n",
       "    </tr>\n",
       "    <tr>\n",
       "      <th>900</th>\n",
       "      <td>spam</td>\n",
       "      <td>Your free ringtone is waiting to be collected....</td>\n",
       "    </tr>\n",
       "  </tbody>\n",
       "</table>\n",
       "</div>"
      ],
      "text/plain": [
       "     Category                                            Message\n",
       "3393      ham                    What r u cooking me for dinner?\n",
       "251       ham       Ranjith cal drpd Deeraj and deepak 5min hold\n",
       "5447      ham              So that takes away some money worries\n",
       "1499      ham  Time n Smile r the two crucial things in our l...\n",
       "900      spam  Your free ringtone is waiting to be collected...."
      ]
     },
     "execution_count": 11,
     "metadata": {},
     "output_type": "execute_result"
    }
   ],
   "source": [
    "df_balanced.sample(5)"
   ]
  },
  {
   "cell_type": "code",
   "execution_count": 12,
   "id": "934f5309-1bd8-46e8-9506-ee0d10f8822d",
   "metadata": {},
   "outputs": [
    {
     "data": {
      "text/html": [
       "<div>\n",
       "<style scoped>\n",
       "    .dataframe tbody tr th:only-of-type {\n",
       "        vertical-align: middle;\n",
       "    }\n",
       "\n",
       "    .dataframe tbody tr th {\n",
       "        vertical-align: top;\n",
       "    }\n",
       "\n",
       "    .dataframe thead th {\n",
       "        text-align: right;\n",
       "    }\n",
       "</style>\n",
       "<table border=\"1\" class=\"dataframe\">\n",
       "  <thead>\n",
       "    <tr style=\"text-align: right;\">\n",
       "      <th></th>\n",
       "      <th>Category</th>\n",
       "      <th>Message</th>\n",
       "      <th>Spam</th>\n",
       "    </tr>\n",
       "  </thead>\n",
       "  <tbody>\n",
       "    <tr>\n",
       "      <th>4860</th>\n",
       "      <td>ham</td>\n",
       "      <td>Hey, a guy I know is breathing down my neck to...</td>\n",
       "      <td>0</td>\n",
       "    </tr>\n",
       "    <tr>\n",
       "      <th>4042</th>\n",
       "      <td>spam</td>\n",
       "      <td>Please call our customer service representativ...</td>\n",
       "      <td>1</td>\n",
       "    </tr>\n",
       "    <tr>\n",
       "      <th>2992</th>\n",
       "      <td>spam</td>\n",
       "      <td>HOT LIVE FANTASIES call now 08707509020 Just 2...</td>\n",
       "      <td>1</td>\n",
       "    </tr>\n",
       "    <tr>\n",
       "      <th>2163</th>\n",
       "      <td>ham</td>\n",
       "      <td>1) Go to write msg 2) Put on Dictionary mode 3...</td>\n",
       "      <td>0</td>\n",
       "    </tr>\n",
       "    <tr>\n",
       "      <th>3463</th>\n",
       "      <td>spam</td>\n",
       "      <td>Bloomberg -Message center +447797706009 Why wa...</td>\n",
       "      <td>1</td>\n",
       "    </tr>\n",
       "    <tr>\n",
       "      <th>4235</th>\n",
       "      <td>ham</td>\n",
       "      <td>Now only i reached home. . . I am very tired n...</td>\n",
       "      <td>0</td>\n",
       "    </tr>\n",
       "    <tr>\n",
       "      <th>1386</th>\n",
       "      <td>ham</td>\n",
       "      <td>That's ok. I popped in to ask bout something a...</td>\n",
       "      <td>0</td>\n",
       "    </tr>\n",
       "    <tr>\n",
       "      <th>4903</th>\n",
       "      <td>spam</td>\n",
       "      <td>* FREE* POLYPHONIC RINGTONE Text SUPER to 8713...</td>\n",
       "      <td>1</td>\n",
       "    </tr>\n",
       "    <tr>\n",
       "      <th>2160</th>\n",
       "      <td>spam</td>\n",
       "      <td>FREE for 1st week! No1 Nokia tone 4 ur mob eve...</td>\n",
       "      <td>1</td>\n",
       "    </tr>\n",
       "    <tr>\n",
       "      <th>4053</th>\n",
       "      <td>ham</td>\n",
       "      <td>Ya ok, then had dinner?</td>\n",
       "      <td>0</td>\n",
       "    </tr>\n",
       "  </tbody>\n",
       "</table>\n",
       "</div>"
      ],
      "text/plain": [
       "     Category                                            Message  Spam\n",
       "4860      ham  Hey, a guy I know is breathing down my neck to...     0\n",
       "4042     spam  Please call our customer service representativ...     1\n",
       "2992     spam  HOT LIVE FANTASIES call now 08707509020 Just 2...     1\n",
       "2163      ham  1) Go to write msg 2) Put on Dictionary mode 3...     0\n",
       "3463     spam  Bloomberg -Message center +447797706009 Why wa...     1\n",
       "4235      ham  Now only i reached home. . . I am very tired n...     0\n",
       "1386      ham  That's ok. I popped in to ask bout something a...     0\n",
       "4903     spam  * FREE* POLYPHONIC RINGTONE Text SUPER to 8713...     1\n",
       "2160     spam  FREE for 1st week! No1 Nokia tone 4 ur mob eve...     1\n",
       "4053      ham                            Ya ok, then had dinner?     0"
      ]
     },
     "execution_count": 12,
     "metadata": {},
     "output_type": "execute_result"
    }
   ],
   "source": [
    "df_balanced[\"Spam\"] = df_balanced[\"Category\"].apply(lambda x: 1 if x=='spam' else 0)\n",
    "df_balanced.sample(10)"
   ]
  },
  {
   "cell_type": "code",
   "execution_count": 13,
   "id": "5c452647-fa58-4055-b446-1e5b99c3c671",
   "metadata": {},
   "outputs": [],
   "source": [
    "X = df_balanced[\"Message\"]\n",
    "y = df_balanced[\"Spam\"]"
   ]
  },
  {
   "cell_type": "code",
   "execution_count": 14,
   "id": "0ddf65e2-1636-4383-a7cb-cc5a38dc7038",
   "metadata": {},
   "outputs": [],
   "source": [
    "from sklearn.model_selection import train_test_split\n",
    "X_train, X_test, y_train, y_test = train_test_split(X, y, stratify=df_balanced[\"Spam\"])"
   ]
  },
  {
   "cell_type": "code",
   "execution_count": 15,
   "id": "094b4a09-d3df-4ee6-88a9-ac379bc601e0",
   "metadata": {},
   "outputs": [
    {
     "data": {
      "text/plain": [
       "1663    Hi if ur lookin 4 saucy daytime fun wiv busty ...\n",
       "3927                           I havent add ü yet right..\n",
       "2924                              Fine am simply sitting.\n",
       "2209    URGENT!! Your 4* Costa Del Sol Holiday or £500...\n",
       "2536    Can you pls pls send me a mail on all you know...\n",
       "Name: Message, dtype: object"
      ]
     },
     "execution_count": 15,
     "metadata": {},
     "output_type": "execute_result"
    }
   ],
   "source": [
    "X_train.head()"
   ]
  },
  {
   "cell_type": "code",
   "execution_count": 22,
   "id": "6dfde599-0cbf-4ed4-a89b-fdfebfafe210",
   "metadata": {},
   "outputs": [
    {
     "data": {
      "text/plain": [
       "(1120,)"
      ]
     },
     "execution_count": 22,
     "metadata": {},
     "output_type": "execute_result"
    }
   ],
   "source": [
    "X_train.shape"
   ]
  },
  {
   "cell_type": "markdown",
   "id": "d946a98c-13b5-4fde-875f-abcd873f5dc0",
   "metadata": {},
   "source": [
    "## BERT"
   ]
  },
  {
   "cell_type": "code",
   "execution_count": 16,
   "id": "0628a704-609f-4801-8f3f-ea021fe405f8",
   "metadata": {},
   "outputs": [],
   "source": [
    "preprocess_url = \"https://kaggle.com/models/tensorflow/bert/TensorFlow2/en-uncased-preprocess/3\"\n",
    "encoder_url = \"https://www.kaggle.com/models/tensorflow/bert/TensorFlow2/en-uncased-l-12-h-768-a-12/4\""
   ]
  },
  {
   "cell_type": "code",
   "execution_count": 17,
   "id": "3f238664-4354-4ae3-a4ff-64d86fe55d53",
   "metadata": {},
   "outputs": [],
   "source": [
    "bert_preprocess = hub.KerasLayer(preprocess_url)\n",
    "bert_encoder = hub.KerasLayer(encoder_url)"
   ]
  },
  {
   "cell_type": "markdown",
   "id": "f18074c8-a34e-4d35-8d57-c2af1f265c8c",
   "metadata": {},
   "source": [
    "### Sentence Embedding Function"
   ]
  },
  {
   "cell_type": "code",
   "execution_count": 24,
   "id": "386ee8f4-f528-42c7-b68c-810e4782feaa",
   "metadata": {},
   "outputs": [],
   "source": [
    " def get_sentence_embedding(input_text):\n",
    "     proprocessed_output = bert_preprocess(input_text)\n",
    "     encoded_text = bert_encoder(proprocessed_output)\n",
    "     return encoded_text['pooled_output']"
   ]
  },
  {
   "cell_type": "code",
   "execution_count": 25,
   "id": "8b38e508-8f18-4a2d-b2a5-1beb8c99928b",
   "metadata": {},
   "outputs": [],
   "source": [
    "sample = [\n",
    "    \"banana\",\n",
    "    \"grape\",\n",
    "    \"mango\",\n",
    "    \"jeff bezos\",\n",
    "    \"elon musk\",\n",
    "    \"bill gates\"\n",
    "]"
   ]
  },
  {
   "cell_type": "code",
   "execution_count": 29,
   "id": "582b258e-38d8-4bb4-8ec4-f9dbde01d6ad",
   "metadata": {},
   "outputs": [
    {
     "data": {
      "text/plain": [
       "<tf.Tensor: shape=(6, 768), dtype=float32, numpy=\n",
       "array([[-0.7606918 , -0.1421939 ,  0.49604574, ...,  0.42165288,\n",
       "        -0.5322141 ,  0.8031218 ],\n",
       "       [-0.854085  , -0.17408381,  0.23000923, ...,  0.22893827,\n",
       "        -0.55810875,  0.8516548 ],\n",
       "       [-0.7128861 , -0.154639  ,  0.38401738, ...,  0.35278767,\n",
       "        -0.50991327,  0.734741  ],\n",
       "       [-0.82533467, -0.35550553, -0.5906963 , ..., -0.01613665,\n",
       "        -0.61417556,  0.872303  ],\n",
       "       [-0.7504136 , -0.2681262 , -0.26689762, ...,  0.0283935 ,\n",
       "        -0.59380996,  0.7974989 ],\n",
       "       [-0.78544384, -0.29949707,  0.4102738 , ...,  0.5222538 ,\n",
       "        -0.49573562,  0.81507534]], dtype=float32)>"
      ]
     },
     "execution_count": 29,
     "metadata": {},
     "output_type": "execute_result"
    }
   ],
   "source": [
    "sample_output = get_sentence_embedding(sample)\n",
    "sample_output"
   ]
  },
  {
   "cell_type": "code",
   "execution_count": 30,
   "id": "dd194fe0-0958-405e-8fb7-5fe4d148154a",
   "metadata": {},
   "outputs": [
    {
     "data": {
      "text/plain": [
       "array([[0.9718795]], dtype=float32)"
      ]
     },
     "execution_count": 30,
     "metadata": {},
     "output_type": "execute_result"
    }
   ],
   "source": [
    "from sklearn.metrics.pairwise import cosine_similarity\n",
    "\n",
    "cosine_similarity([sample_output[0]],[sample_output[1]])"
   ]
  },
  {
   "cell_type": "markdown",
   "id": "5f588837-8917-4875-a0c2-e8fdc488903f",
   "metadata": {},
   "source": [
    "#### Here \n",
    "- sample_output[0] = banana\n",
    "- sample_output[1] = grape\n",
    "#### *Similarity between them is 97.19%*"
   ]
  },
  {
   "cell_type": "code",
   "execution_count": 36,
   "id": "82690bf7-9625-47e0-8989-c4ba816fda3b",
   "metadata": {},
   "outputs": [
    {
     "data": {
      "text/plain": [
       "array([[0.8470387]], dtype=float32)"
      ]
     },
     "execution_count": 36,
     "metadata": {},
     "output_type": "execute_result"
    }
   ],
   "source": [
    "cosine_similarity([sample_output[0]],[sample_output[3]])"
   ]
  },
  {
   "cell_type": "code",
   "execution_count": 40,
   "id": "a422280e-45c0-4cd2-80c5-20b846cf7226",
   "metadata": {},
   "outputs": [
    {
     "data": {
      "text/plain": [
       "array([[0.98720354]], dtype=float32)"
      ]
     },
     "execution_count": 40,
     "metadata": {},
     "output_type": "execute_result"
    }
   ],
   "source": [
    "cosine_similarity([sample_output[3]],[sample_output[4]])"
   ]
  },
  {
   "cell_type": "markdown",
   "id": "c8decff3-2912-42ef-ad85-0e5588ae89ac",
   "metadata": {},
   "source": [
    " ### Let's get into Spam message classification"
   ]
  },
  {
   "cell_type": "code",
   "execution_count": 45,
   "id": "274004aa-a951-4f8a-b8c7-eb21b1c6b6a7",
   "metadata": {},
   "outputs": [],
   "source": [
    "# Bert layers\n",
    "text_input = tf.keras.layers.Input(shape=(), dtype=tf.string, name=\"text\")\n",
    "preprocessed_text = bert_preprocess(text_input)\n",
    "outputs = bert_encoder(preprocessed_text)\n",
    "\n",
    "# Neural Network Layers\n",
    "output = tf.keras.layers.Dropout(0.1, name=\"dropout\")(outputs[\"pooled_output\"])\n",
    "output = tf.keras.layers.Dense(1, activation='sigmoid', name='output')(output)\n",
    "\n",
    "# construct final model\n",
    "model = tf.keras.Model(inputs=[text_input], outputs=[output])"
   ]
  },
  {
   "cell_type": "code",
   "execution_count": 48,
   "id": "2036a4e9-bc1a-453f-8c7b-d8915c7814e4",
   "metadata": {
    "scrolled": true
   },
   "outputs": [
    {
     "name": "stdout",
     "output_type": "stream",
     "text": [
      "Model: \"model_1\"\n",
      "__________________________________________________________________________________________________\n",
      " Layer (type)                   Output Shape         Param #     Connected to                     \n",
      "==================================================================================================\n",
      " text (InputLayer)              [(None,)]            0           []                               \n",
      "                                                                                                  \n",
      " keras_layer (KerasLayer)       {'input_mask': (Non  0           ['text[0][0]']                   \n",
      "                                e, 128),                                                          \n",
      "                                 'input_type_ids':                                                \n",
      "                                (None, 128),                                                      \n",
      "                                 'input_word_ids':                                                \n",
      "                                (None, 128)}                                                      \n",
      "                                                                                                  \n",
      " keras_layer_1 (KerasLayer)     {'sequence_output':  109482241   ['keras_layer[2][0]',            \n",
      "                                 (None, 128, 768),                'keras_layer[2][1]',            \n",
      "                                 'encoder_outputs':               'keras_layer[2][2]']            \n",
      "                                 [(None, 128, 768),                                               \n",
      "                                 (None, 128, 768),                                                \n",
      "                                 (None, 128, 768),                                                \n",
      "                                 (None, 128, 768),                                                \n",
      "                                 (None, 128, 768),                                                \n",
      "                                 (None, 128, 768),                                                \n",
      "                                 (None, 128, 768),                                                \n",
      "                                 (None, 128, 768),                                                \n",
      "                                 (None, 128, 768),                                                \n",
      "                                 (None, 128, 768),                                                \n",
      "                                 (None, 128, 768),                                                \n",
      "                                 (None, 128, 768)],                                               \n",
      "                                 'default': (None,                                                \n",
      "                                768),                                                             \n",
      "                                 'pooled_output': (                                               \n",
      "                                None, 768)}                                                       \n",
      "                                                                                                  \n",
      " dropout (Dropout)              (None, 768)          0           ['keras_layer_1[2][13]']         \n",
      "                                                                                                  \n",
      " output (Dense)                 (None, 1)            769         ['dropout[0][0]']                \n",
      "                                                                                                  \n",
      "==================================================================================================\n",
      "Total params: 109,483,010\n",
      "Trainable params: 769\n",
      "Non-trainable params: 109,482,241\n",
      "__________________________________________________________________________________________________\n"
     ]
    }
   ],
   "source": [
    "model.summary()"
   ]
  },
  {
   "cell_type": "code",
   "execution_count": 49,
   "id": "2a1ca23a-c420-42c1-9310-c6eb658f5bab",
   "metadata": {},
   "outputs": [],
   "source": [
    "METRICS = [\n",
    "    tf.keras.metrics.BinaryAccuracy(name='accuracy'),\n",
    "    tf.keras.metrics.Precision(name='precision'),\n",
    "    tf.keras.metrics.Recall(name='recall')\n",
    "]\n",
    "\n",
    "model.compile(optimizer = 'adam',\n",
    "              loss = 'binary_crossentropy',\n",
    "              metrics=METRICS)"
   ]
  },
  {
   "cell_type": "code",
   "execution_count": 50,
   "id": "0c0091c7-dd20-4ef6-98c5-3d38a28205fc",
   "metadata": {},
   "outputs": [
    {
     "name": "stdout",
     "output_type": "stream",
     "text": [
      "Epoch 1/10\n",
      "35/35 [==============================] - 109s 3s/step - loss: 0.6486 - accuracy: 0.6205 - precision: 0.6208 - recall: 0.6196\n",
      "Epoch 2/10\n",
      "35/35 [==============================] - 103s 3s/step - loss: 0.5171 - accuracy: 0.8018 - precision: 0.7934 - recall: 0.8161\n",
      "Epoch 3/10\n",
      "35/35 [==============================] - 102s 3s/step - loss: 0.4401 - accuracy: 0.8625 - precision: 0.8537 - recall: 0.8750\n",
      "Epoch 4/10\n",
      "35/35 [==============================] - 103s 3s/step - loss: 0.3971 - accuracy: 0.8795 - precision: 0.8722 - recall: 0.8893\n",
      "Epoch 5/10\n",
      "35/35 [==============================] - 102s 3s/step - loss: 0.3647 - accuracy: 0.8884 - precision: 0.8796 - recall: 0.9000\n",
      "Epoch 6/10\n",
      "35/35 [==============================] - 99s 3s/step - loss: 0.3386 - accuracy: 0.9018 - precision: 0.8947 - recall: 0.9107\n",
      "Epoch 7/10\n",
      "35/35 [==============================] - 100s 3s/step - loss: 0.3247 - accuracy: 0.9036 - precision: 0.8951 - recall: 0.9143\n",
      "Epoch 8/10\n",
      "35/35 [==============================] - 98s 3s/step - loss: 0.3094 - accuracy: 0.9000 - precision: 0.8836 - recall: 0.9214\n",
      "Epoch 9/10\n",
      "35/35 [==============================] - 98s 3s/step - loss: 0.3091 - accuracy: 0.8946 - precision: 0.9033 - recall: 0.8839\n",
      "Epoch 10/10\n",
      "35/35 [==============================] - 99s 3s/step - loss: 0.2865 - accuracy: 0.9009 - precision: 0.8864 - recall: 0.9196\n"
     ]
    },
    {
     "data": {
      "text/plain": [
       "<keras.callbacks.History at 0x1f98b2bd720>"
      ]
     },
     "execution_count": 50,
     "metadata": {},
     "output_type": "execute_result"
    }
   ],
   "source": [
    "model.fit(X_train, y_train, epochs=10)"
   ]
  },
  {
   "cell_type": "code",
   "execution_count": 51,
   "id": "b664982c-515b-47a1-908f-d429930eedcd",
   "metadata": {},
   "outputs": [
    {
     "name": "stdout",
     "output_type": "stream",
     "text": [
      "12/12 [==============================] - 34s 3s/step - loss: 0.2735 - accuracy: 0.9037 - precision: 0.8995 - recall: 0.9091\n"
     ]
    },
    {
     "data": {
      "text/plain": [
       "[0.27353930473327637,\n",
       " 0.903743326663971,\n",
       " 0.8994709253311157,\n",
       " 0.9090909361839294]"
      ]
     },
     "execution_count": 51,
     "metadata": {},
     "output_type": "execute_result"
    }
   ],
   "source": [
    "model.evaluate(X_test, y_test)"
   ]
  },
  {
   "cell_type": "code",
   "execution_count": 52,
   "id": "3ce45298-97d8-479d-8517-50058f9fc63c",
   "metadata": {},
   "outputs": [
    {
     "name": "stdout",
     "output_type": "stream",
     "text": [
      "12/12 [==============================] - 34s 3s/step\n"
     ]
    }
   ],
   "source": [
    "y_predicted = model.predict(X_test)\n",
    "y_predicted = y_predicted.flatten()"
   ]
  },
  {
   "cell_type": "code",
   "execution_count": 54,
   "id": "5d758e11-8d58-4097-8e79-d57bc0c9fc79",
   "metadata": {},
   "outputs": [
    {
     "data": {
      "text/plain": [
       "array([0, 0, 0, 0, 0, 1, 0, 1, 0, 0, 0, 0, 1, 1, 1, 1, 0, 0, 0, 1, 0, 0,\n",
       "       0, 0, 1, 0, 0, 0, 1, 1, 0, 1, 1, 1, 1, 1, 0, 0, 1, 0, 1, 1, 0, 1,\n",
       "       1, 1, 1, 0, 1, 1, 0, 0, 0, 0, 0, 1, 0, 1, 1, 0, 0, 1, 1, 0, 1, 0,\n",
       "       0, 0, 0, 1, 1, 0, 1, 1, 0, 1, 1, 1, 0, 1, 0, 0, 1, 0, 1, 0, 1, 0,\n",
       "       1, 0, 1, 0, 0, 0, 0, 1, 0, 1, 0, 0, 0, 1, 0, 0, 0, 1, 1, 0, 0, 1,\n",
       "       1, 1, 1, 1, 0, 0, 1, 1, 0, 0, 1, 1, 0, 1, 1, 1, 0, 0, 1, 1, 1, 1,\n",
       "       0, 1, 1, 1, 0, 0, 0, 0, 0, 0, 0, 1, 0, 0, 1, 1, 0, 1, 1, 0, 1, 1,\n",
       "       1, 0, 1, 0, 0, 0, 0, 1, 1, 1, 1, 0, 0, 1, 0, 1, 1, 0, 0, 1, 0, 0,\n",
       "       1, 1, 1, 0, 1, 1, 1, 0, 1, 1, 0, 1, 0, 0, 1, 0, 1, 1, 1, 0, 0, 1,\n",
       "       1, 0, 1, 0, 0, 0, 1, 0, 1, 0, 1, 1, 0, 1, 1, 1, 1, 0, 0, 0, 0, 1,\n",
       "       0, 1, 0, 0, 1, 0, 0, 1, 0, 1, 1, 1, 1, 0, 0, 1, 1, 1, 1, 0, 1, 1,\n",
       "       1, 0, 1, 0, 0, 1, 1, 0, 1, 1, 0, 0, 1, 1, 0, 0, 1, 0, 1, 1, 0, 1,\n",
       "       0, 0, 0, 1, 1, 1, 0, 1, 0, 0, 1, 1, 1, 0, 0, 1, 1, 1, 1, 0, 1, 1,\n",
       "       1, 1, 1, 0, 1, 1, 0, 0, 1, 1, 0, 1, 0, 0, 0, 1, 1, 0, 0, 0, 1, 1,\n",
       "       0, 1, 0, 1, 1, 1, 1, 1, 0, 1, 1, 0, 1, 0, 0, 1, 0, 1, 0, 0, 0, 1,\n",
       "       0, 1, 1, 0, 1, 0, 1, 1, 1, 0, 0, 1, 1, 0, 0, 0, 0, 0, 1, 0, 0, 0,\n",
       "       1, 0, 0, 1, 0, 0, 0, 0, 1, 1, 0, 1, 0, 0, 0, 0, 1, 1, 0, 0, 1, 1])"
      ]
     },
     "execution_count": 54,
     "metadata": {},
     "output_type": "execute_result"
    }
   ],
   "source": [
    "import numpy as np\n",
    "\n",
    "y_predicted = np.where(y_predicted > 0.5, 1, 0)\n",
    "y_predicted"
   ]
  },
  {
   "cell_type": "code",
   "execution_count": 55,
   "id": "d389b029-580d-4ea1-a577-b20d602f5ff3",
   "metadata": {},
   "outputs": [
    {
     "data": {
      "text/plain": [
       "array([[168,  19],\n",
       "       [ 17, 170]], dtype=int64)"
      ]
     },
     "execution_count": 55,
     "metadata": {},
     "output_type": "execute_result"
    }
   ],
   "source": [
    "from sklearn.metrics import confusion_matrix, classification_report\n",
    "\n",
    "cm = confusion_matrix(y_test, y_predicted)\n",
    "cm"
   ]
  },
  {
   "cell_type": "code",
   "execution_count": 56,
   "id": "2d4ce798-5f48-43eb-a268-185bf2902e86",
   "metadata": {},
   "outputs": [
    {
     "data": {
      "text/plain": [
       "Text(50.722222222222214, 0.5, 'True')"
      ]
     },
     "execution_count": 56,
     "metadata": {},
     "output_type": "execute_result"
    },
    {
     "data": {
      "image/png": "[encoded data removed]",
      "text/plain": [
       "<Figure size 640x480 with 2 Axes>"
      ]
     },
     "metadata": {},
     "output_type": "display_data"
    }
   ],
   "source": [
    "import matplotlib.pyplot as plt\n",
    "import seaborn as sn\n",
    "sn.heatmap(cm, annot=True, fmt='d')\n",
    "plt.xlabel('Predicted')\n",
    "plt.ylabel('True')"
   ]
  },
  {
   "cell_type": "code",
   "execution_count": 57,
   "id": "2a7edc5f-82d1-4bf0-a6db-2bfb220174e2",
   "metadata": {},
   "outputs": [
    {
     "name": "stdout",
     "output_type": "stream",
     "text": [
      "              precision    recall  f1-score   support\n",
      "\n",
      "           0       0.91      0.90      0.90       187\n",
      "           1       0.90      0.91      0.90       187\n",
      "\n",
      "    accuracy                           0.90       374\n",
      "   macro avg       0.90      0.90      0.90       374\n",
      "weighted avg       0.90      0.90      0.90       374\n",
      "\n"
     ]
    }
   ],
   "source": [
    "print(classification_report(y_test, y_predicted))"
   ]
  },
  {
   "cell_type": "markdown",
   "id": "75c8c792-bc7d-4527-bfc4-360a152b801a",
   "metadata": {},
   "source": [
    "### Inference"
   ]
  },
  {
   "cell_type": "code",
   "execution_count": 68,
   "id": "3e7fe3c4-043d-4842-aba1-a9e7b9977c1f",
   "metadata": {},
   "outputs": [],
   "source": [
    "reviews = [\n",
    "    'Enter a chance to win $5000, hurry up, offer valid until March 31, 2025',\n",
    "    'Hey Niloy, are coming for the interview tomorrow',\n",
    "    'Congratulations Niloy Sannyal, You are selected for the job post AI Engineer. You can join from Tomorrow. Address: House 17, Road 5, Gulshan 2, Dhaka',\n",
    "    'You are awarded a Sony Digital Camera! call 09061221061 from landline. Delivery within 28days. T Cs Box177. M221BP. 2yr warranty. 150ppm. 16 . p pÂ£3.99',\n",
    "    \"Why don't you wait 'til at least wednesday to see if you get your.\",\n",
    "]"
   ]
  },
  {
   "cell_type": "code",
   "execution_count": 69,
   "id": "57a551b2-bf0a-42a7-b812-2f1129ad76f1",
   "metadata": {},
   "outputs": [
    {
     "name": "stdout",
     "output_type": "stream",
     "text": [
      "1/1 [==============================] - 0s 439ms/step\n"
     ]
    },
    {
     "data": {
      "text/plain": [
       "array([[0.7792678 ],\n",
       "       [0.18783836],\n",
       "       [0.8207181 ],\n",
       "       [0.85163784],\n",
       "       [0.11205456]], dtype=float32)"
      ]
     },
     "execution_count": 69,
     "metadata": {},
     "output_type": "execute_result"
    }
   ],
   "source": [
    "model.predict(reviews)"
   ]
  },
  {
   "cell_type": "code",
   "execution_count": null,
   "id": "6d9230d2-427a-4955-b057-6fb6c523b99f",
   "metadata": {},
   "outputs": [],
   "source": []
  }
 ],
 "metadata": {
  "kernelspec": {
   "display_name": "Python 3 (ipykernel)",
   "language": "python",
   "name": "python3"
  },
  "language_info": {
   "codemirror_mode": {
    "name": "ipython",
    "version": 3
   },
   "file_extension": ".py",
   "mimetype": "text/x-python",
   "name": "python",
   "nbconvert_exporter": "python",
   "pygments_lexer": "ipython3",
   "version": "3.10.17"
  }
 },
 "nbformat": 4,
 "nbformat_minor": 5
}
