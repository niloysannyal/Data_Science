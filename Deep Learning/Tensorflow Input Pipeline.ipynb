{
 "cells": [
  {
   "cell_type": "markdown",
   "id": "f07d3ff9-0d8e-4dcf-87b3-dc637e5acd2c",
   "metadata": {},
   "source": [
    "<h1 span style=\"text-align:center;color:mediumvioletred\">Tensorflow Input Pipeline</h1>"
   ]
  },
  {
   "cell_type": "code",
   "execution_count": 1,
   "id": "6d9cc8a4-fbe8-455f-865c-b364609a74f4",
   "metadata": {},
   "outputs": [],
   "source": [
    "import tensorflow as tf"
   ]
  },
  {
   "cell_type": "code",
   "execution_count": 2,
   "id": "adf843ab-211f-4365-b188-e6ef886e0365",
   "metadata": {},
   "outputs": [],
   "source": [
    "daily_sales_numbers = [22,26,32,44,-33,36,28,21,-56,28]"
   ]
  },
  {
   "cell_type": "markdown",
   "id": "716028bc-ebb6-4dc4-a35a-efa9354110ea",
   "metadata": {},
   "source": [
    "## Make tf_dataset"
   ]
  },
  {
   "cell_type": "code",
   "execution_count": 3,
   "id": "8a92c2de-6687-4ecb-afb5-534d3f4883c7",
   "metadata": {},
   "outputs": [
    {
     "data": {
      "text/plain": [
       "<_TensorSliceDataset element_spec=TensorSpec(shape=(), dtype=tf.int32, name=None)>"
      ]
     },
     "execution_count": 3,
     "metadata": {},
     "output_type": "execute_result"
    }
   ],
   "source": [
    "tf_dataset = tf.data.Dataset.from_tensor_slices(daily_sales_numbers)\n",
    "tf_dataset"
   ]
  },
  {
   "cell_type": "code",
   "execution_count": 4,
   "id": "2a2c2132-cc6e-422d-a648-62028a4df18a",
   "metadata": {},
   "outputs": [
    {
     "name": "stdout",
     "output_type": "stream",
     "text": [
      "22\n",
      "26\n",
      "32\n",
      "44\n",
      "-33\n",
      "36\n",
      "28\n",
      "21\n",
      "-56\n",
      "28\n"
     ]
    }
   ],
   "source": [
    "for sales in tf_dataset.as_numpy_iterator():\n",
    "    print(sales)"
   ]
  },
  {
   "cell_type": "code",
   "execution_count": 5,
   "id": "1a85f8bb-8e36-4af3-9936-1524ba7632bc",
   "metadata": {},
   "outputs": [
    {
     "name": "stdout",
     "output_type": "stream",
     "text": [
      "22\n",
      "26\n",
      "32\n"
     ]
    }
   ],
   "source": [
    "for sales in tf_dataset.take(3):\n",
    "    print(sales.numpy())"
   ]
  },
  {
   "cell_type": "markdown",
   "id": "06374edb-932c-49fa-b987-4e1dd5aed9a2",
   "metadata": {},
   "source": [
    "## Filter "
   ]
  },
  {
   "cell_type": "code",
   "execution_count": 6,
   "id": "590ce12e-bba9-4f69-89c6-f638fc4cbab6",
   "metadata": {},
   "outputs": [],
   "source": [
    "tf_dataset = tf_dataset.filter(lambda x: x>0)"
   ]
  },
  {
   "cell_type": "code",
   "execution_count": 7,
   "id": "9fee8a11-e6f1-4310-a541-af0bc21c31b6",
   "metadata": {},
   "outputs": [
    {
     "name": "stdout",
     "output_type": "stream",
     "text": [
      "22\n",
      "26\n",
      "32\n",
      "44\n",
      "36\n",
      "28\n",
      "21\n",
      "28\n"
     ]
    }
   ],
   "source": [
    "for sales in tf_dataset.as_numpy_iterator():\n",
    "    print(sales)"
   ]
  },
  {
   "cell_type": "markdown",
   "id": "b379e3d2-770e-4247-99a2-9b54a847dae4",
   "metadata": {},
   "source": [
    "## Transformation"
   ]
  },
  {
   "cell_type": "markdown",
   "id": "3ff3f668-f268-405b-a6bc-393fc9f4e867",
   "metadata": {},
   "source": [
    "### 1. Currency Conversion from USD to BDT\n",
    "    where 1 USD = 121 BDT"
   ]
  },
  {
   "cell_type": "code",
   "execution_count": 8,
   "id": "6221d9d9-2e83-433d-b302-eaa52d079313",
   "metadata": {},
   "outputs": [],
   "source": [
    "tf_dataset = tf_dataset.map(lambda x: x*121)"
   ]
  },
  {
   "cell_type": "code",
   "execution_count": 9,
   "id": "3e237aae-e1e2-47f1-8ad4-6b8c6ed5a3d5",
   "metadata": {},
   "outputs": [
    {
     "name": "stdout",
     "output_type": "stream",
     "text": [
      "2662\n",
      "3146\n",
      "3872\n",
      "5324\n",
      "4356\n",
      "3388\n",
      "2541\n",
      "3388\n"
     ]
    }
   ],
   "source": [
    "for sales in tf_dataset.as_numpy_iterator():\n",
    "    print(sales)"
   ]
  },
  {
   "cell_type": "markdown",
   "id": "952ccca6-bdcb-4479-ab0b-11947e8a61b3",
   "metadata": {},
   "source": [
    "### 2. Random shuffle"
   ]
  },
  {
   "cell_type": "code",
   "execution_count": 10,
   "id": "2b4ee0c8-8e1d-488a-a210-364b0d94a30a",
   "metadata": {},
   "outputs": [
    {
     "name": "stdout",
     "output_type": "stream",
     "text": [
      "3146\n",
      "3872\n",
      "2662\n",
      "5324\n",
      "3388\n",
      "2541\n",
      "3388\n",
      "4356\n"
     ]
    }
   ],
   "source": [
    "tf_dataset = tf_dataset.shuffle(2)\n",
    "for sales in tf_dataset.as_numpy_iterator():\n",
    "    print(sales)"
   ]
  },
  {
   "cell_type": "markdown",
   "id": "4ad3e483-c7e0-4ded-9ebb-69ef0379864e",
   "metadata": {},
   "source": [
    "### 3. Batching"
   ]
  },
  {
   "cell_type": "code",
   "execution_count": 11,
   "id": "d85ca312-0c43-46bf-8ecb-74740ae0b342",
   "metadata": {},
   "outputs": [
    {
     "name": "stdout",
     "output_type": "stream",
     "text": [
      "[2662 3146]\n",
      "[3872 5324]\n",
      "[4356 2541]\n",
      "[3388 3388]\n"
     ]
    }
   ],
   "source": [
    "for sales_batch in tf_dataset.batch(2):\n",
    "    print(sales_batch.numpy())"
   ]
  },
  {
   "cell_type": "markdown",
   "id": "eedec3e1-d72b-4779-a5bf-5608cf303848",
   "metadata": {},
   "source": [
    "# Input Pipeline"
   ]
  },
  {
   "cell_type": "code",
   "execution_count": 12,
   "id": "941e3ede-099f-4a8a-bb51-a3f953c99edb",
   "metadata": {
    "scrolled": true
   },
   "outputs": [
    {
     "name": "stdout",
     "output_type": "stream",
     "text": [
      "[2662 3872]\n",
      "[5324 3146]\n",
      "[4356 2541]\n",
      "[3388 3388]\n"
     ]
    }
   ],
   "source": [
    "tf_dataset = tf.data.Dataset.from_tensor_slices(daily_sales_numbers)\n",
    "tf_dataset = tf_dataset.filter(lambda x: x>0).map(lambda y: y*121).shuffle(2).batch(2)\n",
    "for sales in tf_dataset.as_numpy_iterator():\n",
    "    print(sales)"
   ]
  },
  {
   "cell_type": "markdown",
   "id": "0fbbde6d-806d-4f73-873b-13a31f28fc70",
   "metadata": {},
   "source": [
    "## Images"
   ]
  },
  {
   "cell_type": "code",
   "execution_count": 13,
   "id": "5032ea1e-c9f7-4b8d-acb7-683d1ecb29db",
   "metadata": {},
   "outputs": [
    {
     "name": "stdout",
     "output_type": "stream",
     "text": [
      "b'input_pipeline\\\\cat\\\\gettyimages-1127317526-612x612.jpg'\n",
      "b'input_pipeline\\\\cat\\\\gettyimages-1184147421-612x612.jpg'\n",
      "b'input_pipeline\\\\cat\\\\gettyimages-1194409229-612x612.jpg'\n",
      "b'input_pipeline\\\\cat\\\\gettyimages-1248313892-612x612.jpg'\n",
      "b'input_pipeline\\\\cat\\\\gettyimages-1290233518-612x612.jpg'\n"
     ]
    }
   ],
   "source": [
    "images_ds = tf.data.Dataset.list_files('input_pipeline/*/*', shuffle=False)\n",
    "for file in images_ds.take(5):\n",
    "    print(file.numpy())"
   ]
  },
  {
   "cell_type": "code",
   "execution_count": 14,
   "id": "e6526adc-c852-48d9-8767-6953d04cd130",
   "metadata": {},
   "outputs": [
    {
     "name": "stdout",
     "output_type": "stream",
     "text": [
      "b'input_pipeline\\\\dog\\\\gettyimages-175498455-612x612.jpg'\n",
      "b'input_pipeline\\\\cat\\\\gettyimages-1402118614-612x612.jpg'\n",
      "b'input_pipeline\\\\cat\\\\gettyimages-1290233518-612x612.jpg'\n",
      "b'input_pipeline\\\\cat\\\\gettyimages-1387641909-612x612.jpg'\n",
      "b'input_pipeline\\\\cat\\\\gettyimages-1194409229-612x612.jpg'\n"
     ]
    }
   ],
   "source": [
    "images_ds = images_ds.shuffle(200)\n",
    "for file in images_ds.take(5):\n",
    "    print(file.numpy())"
   ]
  },
  {
   "cell_type": "code",
   "execution_count": 15,
   "id": "016dec7e-0fec-4e25-8737-761d09744385",
   "metadata": {},
   "outputs": [],
   "source": [
    "class_names = [\"cat\", \"dog\"]"
   ]
  },
  {
   "cell_type": "code",
   "execution_count": 16,
   "id": "32108e0f-bac2-4868-81df-333fccdc55ad",
   "metadata": {},
   "outputs": [
    {
     "data": {
      "text/plain": [
       "100"
      ]
     },
     "execution_count": 16,
     "metadata": {},
     "output_type": "execute_result"
    }
   ],
   "source": [
    "image_count = len(images_ds)\n",
    "image_count"
   ]
  },
  {
   "cell_type": "code",
   "execution_count": 17,
   "id": "06a569af-89cd-43c4-8e64-21019c50e5a2",
   "metadata": {},
   "outputs": [],
   "source": [
    "train_size = int(image_count*0.8)\n",
    "\n",
    "train_ds = images_ds.take(train_size)\n",
    "test_ds = images_ds.skip(train_size)"
   ]
  },
  {
   "cell_type": "code",
   "execution_count": 18,
   "id": "84114e43-7ddd-440f-8f2c-a096547d8d67",
   "metadata": {},
   "outputs": [
    {
     "data": {
      "text/plain": [
       "80"
      ]
     },
     "execution_count": 18,
     "metadata": {},
     "output_type": "execute_result"
    }
   ],
   "source": [
    "len(train_ds)"
   ]
  },
  {
   "cell_type": "code",
   "execution_count": 19,
   "id": "c7719aaa-45fc-4dbd-b894-61a6e7e87481",
   "metadata": {},
   "outputs": [
    {
     "data": {
      "text/plain": [
       "20"
      ]
     },
     "execution_count": 19,
     "metadata": {},
     "output_type": "execute_result"
    }
   ],
   "source": [
    "len(test_ds)"
   ]
  },
  {
   "cell_type": "code",
   "execution_count": 20,
   "id": "035718e0-7fd9-468d-8e02-6d82727f42f8",
   "metadata": {},
   "outputs": [
    {
     "data": {
      "text/plain": [
       "'cat'"
      ]
     },
     "execution_count": 20,
     "metadata": {},
     "output_type": "execute_result"
    }
   ],
   "source": [
    "path = 'input_pipeline\\\\cat\\\\gettyimages-1127317526-612x612.jpg'\n",
    "path.split(\"\\\\\")[-2]"
   ]
  },
  {
   "cell_type": "code",
   "execution_count": 21,
   "id": "da2aef19-a271-4372-b84b-1c582d653742",
   "metadata": {},
   "outputs": [],
   "source": [
    "def get_label(path):\n",
    "    import os\n",
    "    return tf.strings.split(path, os.path.sep)[-2]"
   ]
  },
  {
   "cell_type": "code",
   "execution_count": 22,
   "id": "9b96f684-42d0-4332-b78d-0da7e472efec",
   "metadata": {},
   "outputs": [],
   "source": [
    "def process_image(file_path):\n",
    "    label = get_label(file_path)\n",
    "    img = tf.io.read_file(file_path)\n",
    "    img = tf.image.decode_jpeg(img)\n",
    "    img = tf.image.resize(img, [128,128])\n",
    "    return img, label"
   ]
  },
  {
   "cell_type": "code",
   "execution_count": 23,
   "id": "061a6b6a-c617-4682-be98-10166b96eca6",
   "metadata": {
    "scrolled": true
   },
   "outputs": [
    {
     "name": "stdout",
     "output_type": "stream",
     "text": [
      "b'cat'\n",
      "b'dog'\n",
      "b'dog'\n",
      "b'cat'\n",
      "b'dog'\n",
      "b'dog'\n",
      "b'cat'\n",
      "b'dog'\n",
      "b'dog'\n",
      "b'dog'\n",
      "b'cat'\n",
      "b'cat'\n",
      "b'cat'\n",
      "b'dog'\n",
      "b'dog'\n",
      "b'cat'\n",
      "b'dog'\n",
      "b'cat'\n",
      "b'dog'\n",
      "b'dog'\n",
      "b'dog'\n",
      "b'dog'\n",
      "b'cat'\n",
      "b'dog'\n",
      "b'dog'\n",
      "b'cat'\n",
      "b'dog'\n",
      "b'dog'\n",
      "b'cat'\n",
      "b'cat'\n",
      "b'dog'\n",
      "b'dog'\n",
      "b'cat'\n",
      "b'dog'\n",
      "b'dog'\n",
      "b'cat'\n",
      "b'dog'\n",
      "b'dog'\n",
      "b'cat'\n",
      "b'cat'\n",
      "b'dog'\n",
      "b'cat'\n",
      "b'cat'\n",
      "b'dog'\n",
      "b'dog'\n",
      "b'dog'\n",
      "b'cat'\n",
      "b'cat'\n",
      "b'cat'\n",
      "b'cat'\n",
      "b'cat'\n",
      "b'cat'\n",
      "b'cat'\n",
      "b'dog'\n",
      "b'dog'\n",
      "b'cat'\n",
      "b'dog'\n",
      "b'cat'\n",
      "b'dog'\n",
      "b'dog'\n",
      "b'dog'\n",
      "b'cat'\n",
      "b'dog'\n",
      "b'cat'\n",
      "b'cat'\n",
      "b'cat'\n",
      "b'cat'\n",
      "b'dog'\n",
      "b'cat'\n",
      "b'dog'\n",
      "b'cat'\n",
      "b'dog'\n",
      "b'cat'\n",
      "b'cat'\n",
      "b'cat'\n",
      "b'dog'\n",
      "b'cat'\n",
      "b'cat'\n",
      "b'dog'\n",
      "b'dog'\n"
     ]
    }
   ],
   "source": [
    "for label in train_ds.map(get_label):\n",
    "    print(label.numpy())"
   ]
  },
  {
   "cell_type": "code",
   "execution_count": 24,
   "id": "4629db32-0174-465b-8f44-84566abcea7c",
   "metadata": {},
   "outputs": [
    {
     "name": "stdout",
     "output_type": "stream",
     "text": [
      "b'input_pipeline\\\\cat\\\\gettyimages-1392773192-612x612.jpg'\n",
      "b'input_pipeline\\\\dog\\\\gettyimages-171155760-612x612.jpg'\n",
      "b'input_pipeline\\\\cat\\\\gettyimages-2151625435-612x612.jpg'\n",
      "b'input_pipeline\\\\cat\\\\gettyimages-937809006-612x612.jpg'\n",
      "b'input_pipeline\\\\cat\\\\gettyimages-1498838344-612x612.jpg'\n"
     ]
    }
   ],
   "source": [
    "for t in train_ds.take(5):\n",
    "    print(t.numpy())"
   ]
  },
  {
   "cell_type": "code",
   "execution_count": 25,
   "id": "9b540d51-ce09-4006-9c16-6610ed60bcab",
   "metadata": {
    "scrolled": true
   },
   "outputs": [
    {
     "name": "stdout",
     "output_type": "stream",
     "text": [
      "tf.Tensor(\n",
      "[[[137.30078   173.7539     13.020874 ]\n",
      "  [ 59.751648   88.969055    5.8658447]\n",
      "  [ 51.036804   78.97839     3.6340942]\n",
      "  ...\n",
      "  [143.75763   157.77307    60.94641  ]\n",
      "  [116.79175   127.74945    60.247437 ]\n",
      "  [105.97113   115.522766   48.582703 ]]\n",
      "\n",
      " [[ 96.15491   131.17767     9.800903 ]\n",
      "  [ 90.565735  128.1518     25.753113 ]\n",
      "  [ 59.05243    89.51782     1.6193848]\n",
      "  ...\n",
      "  [165.54749   184.80139    67.15405  ]\n",
      "  [134.1579    146.44305    70.48804  ]\n",
      "  [102.429016  109.47131    57.12567  ]]\n",
      "\n",
      " [[ 60.13153    80.470825   11.8932495]\n",
      "  [101.47766   123.45477    54.89624  ]\n",
      "  [ 79.5246    106.83252    10.570251 ]\n",
      "  ...\n",
      "  [129.94507   138.66174    71.18451  ]\n",
      "  [131.93976   136.36163    92.96765  ]\n",
      "  [121.54425   128.6925     75.64172  ]]\n",
      "\n",
      " ...\n",
      "\n",
      " [[110.54584   134.97998    73.40912  ]\n",
      "  [ 87.411865   73.19702    51.10553  ]\n",
      "  [134.96533   175.68225    54.132385 ]\n",
      "  ...\n",
      "  [ 89.88934    82.5672     66.72827  ]\n",
      "  [104.53784    97.53784    81.53784  ]\n",
      "  [ 95.12775    83.12775    69.12775  ]]\n",
      "\n",
      " [[100.210266  112.00836    60.07733  ]\n",
      "  [ 43.41626    61.693604   16.948792 ]\n",
      "  [102.6084    116.892456   38.210022 ]\n",
      "  ...\n",
      "  [139.0636    125.4989    110.59265  ]\n",
      "  [136.34772   124.34772   110.34772  ]\n",
      "  [109.78192    97.78192    83.78192  ]]\n",
      "\n",
      " [[ 93.59906   114.61774    31.056458 ]\n",
      "  [ 67.734314   87.690674   32.003723 ]\n",
      "  [ 88.16589   118.673706   28.572693 ]\n",
      "  ...\n",
      "  [210.72339   191.66833   177.25055  ]\n",
      "  [138.71765   122.71765   109.71765  ]\n",
      "  [115.49597   103.49597    89.49597  ]]], shape=(128, 128, 3), dtype=float32)\n",
      "b'dog'\n",
      "tf.Tensor(\n",
      "[[[162.89062 157.89062 151.89062]\n",
      "  [168.96924 163.96924 157.96924]\n",
      "  [172.45312 168.45312 159.45312]\n",
      "  ...\n",
      "  [203.      204.      199.     ]\n",
      "  [203.      204.      199.     ]\n",
      "  [201.09375 202.09375 197.09375]]\n",
      "\n",
      " [[163.92139 158.92139 152.92139]\n",
      "  [167.      162.      156.     ]\n",
      "  [171.17188 167.17188 158.17188]\n",
      "  ...\n",
      "  [203.45312 204.45312 199.45312]\n",
      "  [203.      204.      199.     ]\n",
      "  [203.      204.      199.     ]]\n",
      "\n",
      " [[165.9375  161.875   155.40625]\n",
      "  [166.46875 162.40625 155.9375 ]\n",
      "  [171.85938 165.98438 156.04688]\n",
      "  ...\n",
      "  [204.375   205.375   200.375  ]\n",
      "  [203.46875 204.46875 199.46875]\n",
      "  [202.59375 203.59375 198.59375]]\n",
      "\n",
      " ...\n",
      "\n",
      " [[210.98877 225.45752 224.05127]\n",
      "  [210.46875 224.9375  223.53125]\n",
      "  [211.98438 226.45312 225.04688]\n",
      "  ...\n",
      "  [161.25586 172.01855 176.01514]\n",
      "  [159.47705 172.23193 175.88818]\n",
      "  [163.12305 178.12305 183.12305]]\n",
      "\n",
      " [[212.71875 226.71875 226.71875]\n",
      "  [212.71875 226.71875 226.71875]\n",
      "  [213.      227.      227.     ]\n",
      "  ...\n",
      "  [184.3584  192.71777 196.57959]\n",
      "  [168.68604 180.67041 184.34229]\n",
      "  [158.03125 173.03125 176.03125]]\n",
      "\n",
      " [[211.09375 225.09375 225.09375]\n",
      "  [211.09375 225.09375 225.09375]\n",
      "  [208.73438 222.73438 222.73438]\n",
      "  ...\n",
      "  [195.55566 204.87256 204.28125]\n",
      "  [186.70361 199.35986 199.35986]\n",
      "  [176.48975 192.48975 191.48975]]], shape=(128, 128, 3), dtype=float32)\n",
      "b'cat'\n",
      "tf.Tensor(\n",
      "[[[32.890625 37.890625 40.890625]\n",
      "  [35.       40.       43.      ]\n",
      "  [35.98932  40.98932  44.98932 ]\n",
      "  ...\n",
      "  [32.90625  37.90625  40.90625 ]\n",
      "  [32.       37.       40.      ]\n",
      "  [32.       37.       41.      ]]\n",
      "\n",
      " [[32.890625 37.890625 40.890625]\n",
      "  [35.       40.       43.      ]\n",
      "  [34.426575 39.426575 43.426575]\n",
      "  ...\n",
      "  [32.90625  37.90625  40.90625 ]\n",
      "  [32.       37.       40.      ]\n",
      "  [32.       37.       41.      ]]\n",
      "\n",
      " [[32.98828  37.890625 40.890625]\n",
      "  [35.097656 40.       43.      ]\n",
      "  [33.701843 38.604187 42.50653 ]\n",
      "  ...\n",
      "  [33.01306  38.01306  41.110718]\n",
      "  [32.195312 37.195312 40.29297 ]\n",
      "  [31.902344 36.902344 40.804688]]\n",
      "\n",
      " ...\n",
      "\n",
      " [[45.       50.       54.      ]\n",
      "  [45.       50.       54.      ]\n",
      "  [46.       51.       55.      ]\n",
      "  ...\n",
      "  [30.8125   38.09375  40.      ]\n",
      "  [32.328125 37.       40.      ]\n",
      "  [36.       40.       43.      ]]\n",
      "\n",
      " [[44.058594 49.058594 53.058594]\n",
      "  [45.941406 50.941406 54.941406]\n",
      "  [46.941406 51.941406 55.941406]\n",
      "  ...\n",
      "  [32.845276 37.037537 39.97345 ]\n",
      "  [32.960632 37.       40.      ]\n",
      "  [33.278748 37.278748 40.278748]]\n",
      "\n",
      " [[44.       49.       53.      ]\n",
      "  [46.       51.       55.      ]\n",
      "  [46.01953  51.01953  55.01953 ]\n",
      "  ...\n",
      "  [33.       37.       40.      ]\n",
      "  [33.       37.       40.      ]\n",
      "  [32.12677  36.12677  39.12677 ]]], shape=(128, 128, 3), dtype=float32)\n",
      "b'cat'\n"
     ]
    }
   ],
   "source": [
    "train_ds = train_ds.map(process_image)\n",
    "for img, label in train_ds.take(3):\n",
    "     print(img)\n",
    "     print(label.numpy())"
   ]
  },
  {
   "cell_type": "code",
   "execution_count": 26,
   "id": "5edb14ca-0675-481b-80ac-88026bae602c",
   "metadata": {},
   "outputs": [],
   "source": [
    "def scale(image, label):\n",
    "    return image/255, label"
   ]
  },
  {
   "cell_type": "code",
   "execution_count": 27,
   "id": "88ab53b3-1f99-49e3-adb2-4c49292f1c7e",
   "metadata": {},
   "outputs": [],
   "source": [
    "train_ds = train_ds.map(scale)"
   ]
  },
  {
   "cell_type": "code",
   "execution_count": 28,
   "id": "a288cc0a-a286-44e5-87d3-4a1e70a60fe6",
   "metadata": {},
   "outputs": [
    {
     "name": "stdout",
     "output_type": "stream",
     "text": [
      "****Image:  [0.12898284 0.14859068 0.16035539]\n",
      "****Label b'cat'\n",
      "****Image:  [0.9159926 0.956924  0.9939338]\n",
      "****Label b'cat'\n",
      "****Image:  [0.98078084 0.9847024  0.96509457]\n",
      "****Label b'dog'\n",
      "****Image:  [0.3878064  0.34859067 0.309375  ]\n",
      "****Label b'cat'\n",
      "****Image:  [0.78431374 0.7490196  0.72156864]\n",
      "****Label b'cat'\n"
     ]
    }
   ],
   "source": [
    "for image, label in train_ds.take(5):\n",
    "    print(\"****Image: \", image.numpy()[0][0])\n",
    "    print(\"****Label\", label.numpy())"
   ]
  },
  {
   "cell_type": "code",
   "execution_count": null,
   "id": "c11d189b-96dd-4200-8462-4a50a6b59f0e",
   "metadata": {},
   "outputs": [],
   "source": []
  }
 ],
 "metadata": {
  "kernelspec": {
   "display_name": "Python 3 (ipykernel)",
   "language": "python",
   "name": "python3"
  },
  "language_info": {
   "codemirror_mode": {
    "name": "ipython",
    "version": 3
   },
   "file_extension": ".py",
   "mimetype": "text/x-python",
   "name": "python",
   "nbconvert_exporter": "python",
   "pygments_lexer": "ipython3",
   "version": "3.10.17"
  }
 },
 "nbformat": 4,
 "nbformat_minor": 5
}
