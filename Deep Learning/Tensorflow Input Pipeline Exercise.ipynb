{
 "cells": [
  {
   "cell_type": "markdown",
   "id": "260da43f-7946-471e-904a-fadc35f942e4",
   "metadata": {},
   "source": [
    "<h1 span style=\"text-align:center;color:mediumvioletred\">Tensorflow Input Pipeline Exercise</h1>"
   ]
  },
  {
   "cell_type": "code",
   "execution_count": 2,
   "id": "7de50d09-87a4-47da-87c3-d44b27b3fb9f",
   "metadata": {},
   "outputs": [],
   "source": [
    "import tensorflow as tf"
   ]
  },
  {
   "cell_type": "markdown",
   "id": "4960ce92-f945-47eb-a206-34a706017f33",
   "metadata": {},
   "source": [
    "### Retrieve file paths in a tensorflow dataset"
   ]
  },
  {
   "cell_type": "code",
   "execution_count": 3,
   "id": "06f14390-3b73-41c3-bb9a-a8bf0497825b",
   "metadata": {},
   "outputs": [
    {
     "data": {
      "text/plain": [
       "<_TensorSliceDataset element_spec=TensorSpec(shape=(), dtype=tf.string, name=None)>"
      ]
     },
     "execution_count": 3,
     "metadata": {},
     "output_type": "execute_result"
    }
   ],
   "source": [
    "review_ds = tf.data.Dataset.list_files('reviews/*/*', shuffle=False)\n",
    "review_ds"
   ]
  },
  {
   "cell_type": "code",
   "execution_count": 4,
   "id": "c5a352ce-a3f0-47a4-bc74-9e64fc629061",
   "metadata": {},
   "outputs": [
    {
     "name": "stdout",
     "output_type": "stream",
     "text": [
      "b'reviews\\\\negetive\\\\neg_1.txt'\n",
      "b'reviews\\\\negetive\\\\neg_2.txt'\n",
      "b'reviews\\\\negetive\\\\neg_3.txt'\n",
      "b'reviews\\\\positive\\\\pos_1.txt'\n",
      "b'reviews\\\\positive\\\\pos_2.txt'\n",
      "b'reviews\\\\positive\\\\pos_3.txt'\n"
     ]
    }
   ],
   "source": [
    "for file in review_ds:\n",
    "    print(file.numpy())"
   ]
  },
  {
   "cell_type": "markdown",
   "id": "7430b7da-977d-4edc-9907-0925066fd2f9",
   "metadata": {},
   "source": [
    "### Extract review texts and levels from these files "
   ]
  },
  {
   "cell_type": "code",
   "execution_count": 13,
   "id": "5fa29228-af54-47d6-8f9a-6de1a71c14e0",
   "metadata": {},
   "outputs": [],
   "source": [
    "import os\n",
    "def extract_review_and_lebel(file_path):\n",
    "    return tf.io.read_file(file_path), tf.strings.split(path, os.path.sep)[-2]"
   ]
  },
  {
   "cell_type": "code",
   "execution_count": 14,
   "id": "2cd26848-061d-43f0-a061-eccc6e4712fe",
   "metadata": {},
   "outputs": [],
   "source": [
    "review_ds1 = review_ds.map(extract_review_and_lebel)"
   ]
  },
  {
   "cell_type": "code",
   "execution_count": 18,
   "id": "560ed89e-1937-46ec-9468-40a8f7035de4",
   "metadata": {},
   "outputs": [
    {
     "name": "stdout",
     "output_type": "stream",
     "text": [
      "Review:  b\"Basically there's a family where a little boy (Jak\"\n",
      "Label:  b'negetive'\n",
      "Review:  b'This show was an amazing, fresh & innovative idea '\n",
      "Label:  b'negetive'\n",
      "Review:  b''\n",
      "Label:  b'negetive'\n",
      "Review:  b'One of the other reviewers has mentioned that afte'\n",
      "Label:  b'negetive'\n",
      "Review:  b'A wonderful little production. <br /><br />The fil'\n",
      "Label:  b'negetive'\n",
      "Review:  b''\n",
      "Label:  b'negetive'\n"
     ]
    }
   ],
   "source": [
    "for review, label in review_ds1:\n",
    "    print(\"Review: \", review.numpy()[:50])\n",
    "    print(\"Label: \", label.numpy())"
   ]
  },
  {
   "cell_type": "markdown",
   "id": "d8169a10-8bb9-449b-9f77-13cf97d7b972",
   "metadata": {},
   "source": [
    "### Filter blank reviews"
   ]
  },
  {
   "cell_type": "code",
   "execution_count": 25,
   "id": "dc664d4e-c60f-4d55-838a-bdf84fcd3af9",
   "metadata": {},
   "outputs": [],
   "source": [
    "review_ds2 = review_ds1.filter(lambda review, label: review!=\"\")"
   ]
  },
  {
   "cell_type": "code",
   "execution_count": 26,
   "id": "b3622dfc-8066-42c0-9c18-6744997f8ebc",
   "metadata": {},
   "outputs": [
    {
     "name": "stdout",
     "output_type": "stream",
     "text": [
      "Review:  b\"Basically there's a family where a little boy (Jak\"\n",
      "Label:  b'negetive'\n",
      "Review:  b'This show was an amazing, fresh & innovative idea '\n",
      "Label:  b'negetive'\n",
      "Review:  b'One of the other reviewers has mentioned that afte'\n",
      "Label:  b'negetive'\n",
      "Review:  b'A wonderful little production. <br /><br />The fil'\n",
      "Label:  b'negetive'\n"
     ]
    }
   ],
   "source": [
    "for review, label in review_ds2:\n",
    "    print(\"Review: \", review.numpy()[:50])\n",
    "    print(\"Label: \", label.numpy())"
   ]
  },
  {
   "cell_type": "markdown",
   "id": "aa58b892-9453-4e3f-b938-fecdd6743fad",
   "metadata": {},
   "source": [
    "### Perform map, filter and shuffle all in single line of code"
   ]
  },
  {
   "cell_type": "code",
   "execution_count": 27,
   "id": "c525eba5-6a66-48b0-9477-d5c60e826599",
   "metadata": {},
   "outputs": [],
   "source": [
    "final_ds = review_ds.map(extract_review_and_lebel).filter(lambda review, label: review!=\"\").shuffle(3)"
   ]
  },
  {
   "cell_type": "code",
   "execution_count": 28,
   "id": "e88908d1-7bba-4e71-89c5-c9308bbb2cd4",
   "metadata": {},
   "outputs": [
    {
     "name": "stdout",
     "output_type": "stream",
     "text": [
      "Review:  b'One of the other reviewers has mentioned that afte'\n",
      "Label:  b'negetive'\n",
      "Review:  b\"Basically there's a family where a little boy (Jak\"\n",
      "Label:  b'negetive'\n",
      "Review:  b'A wonderful little production. <br /><br />The fil'\n",
      "Label:  b'negetive'\n",
      "Review:  b'This show was an amazing, fresh & innovative idea '\n",
      "Label:  b'negetive'\n"
     ]
    }
   ],
   "source": [
    "for review, label in final_ds:\n",
    "    print(\"Review: \", review.numpy()[:50])\n",
    "    print(\"Label: \", label.numpy())"
   ]
  }
 ],
 "metadata": {
  "kernelspec": {
   "display_name": "Python 3 (ipykernel)",
   "language": "python",
   "name": "python3"
  },
  "language_info": {
   "codemirror_mode": {
    "name": "ipython",
    "version": 3
   },
   "file_extension": ".py",
   "mimetype": "text/x-python",
   "name": "python",
   "nbconvert_exporter": "python",
   "pygments_lexer": "ipython3",
   "version": "3.10.17"
  }
 },
 "nbformat": 4,
 "nbformat_minor": 5
}
