{
 "cells": [
  {
   "cell_type": "markdown",
   "id": "0b17a865-530f-4117-b0e1-3e25f35a5361",
   "metadata": {},
   "source": [
    "<h1 span style=\"text-align:center;color:mediumvioletred;\">Optimize Tensorflow Pipeline Performance</h1>"
   ]
  },
  {
   "cell_type": "code",
   "execution_count": 1,
   "id": "7fb70d19-4220-42be-ac9f-602dabf4550e",
   "metadata": {},
   "outputs": [],
   "source": [
    "import tensorflow as tf\n",
    "import time"
   ]
  },
  {
   "cell_type": "code",
   "execution_count": 2,
   "id": "981b63fa-416e-44c9-af9a-7ffe9c7293ae",
   "metadata": {},
   "outputs": [
    {
     "data": {
      "text/plain": [
       "'2.19.0'"
      ]
     },
     "execution_count": 2,
     "metadata": {},
     "output_type": "execute_result"
    }
   ],
   "source": [
    "tf.__version__"
   ]
  },
  {
   "cell_type": "code",
   "execution_count": 26,
   "id": "6881c4cd-b51b-472f-9c67-2c5e55698d24",
   "metadata": {},
   "outputs": [],
   "source": [
    "class FileDataset(tf.data.Dataset):\n",
    "    def read_files_in_batches(num_samples):\n",
    "        #open file\n",
    "        time.sleep(0.03)\n",
    "        for sample_idx in range(num_samples):\n",
    "            time.sleep(0.015)\n",
    "            yield (sample_idx,)\n",
    "    \n",
    "    def __new__(cls, num_samples=3):\n",
    "        return tf.data.Dataset.from_generator(\n",
    "            cls.read_files_in_batches,\n",
    "            output_signature = tf.TensorSpec(shape = (1,), dtype=tf.int64),\n",
    "            args=(num_samples,)\n",
    "        )"
   ]
  },
  {
   "cell_type": "code",
   "execution_count": 27,
   "id": "20637f32-5621-4ba6-843a-692ecfb96284",
   "metadata": {},
   "outputs": [],
   "source": [
    "def benchmark(dataset, num_epochs=2):\n",
    "    for epoch_num in range(num_epochs):\n",
    "        for sample in dataset:\n",
    "            time.sleep(0.01)"
   ]
  },
  {
   "cell_type": "markdown",
   "id": "ee5ad541-22bd-414e-b9b9-255a8df0f723",
   "metadata": {},
   "source": [
    "## Using sequenctial processing"
   ]
  },
  {
   "cell_type": "code",
   "execution_count": 56,
   "id": "42a39ac6-e5e4-4e5e-92e0-9c1803db129c",
   "metadata": {},
   "outputs": [
    {
     "name": "stdout",
     "output_type": "stream",
     "text": [
      "295 ms ± 11.2 ms per loop (mean ± std. dev. of 7 runs, 1 loop each)\n"
     ]
    }
   ],
   "source": [
    "%%timeit\n",
    "benchmark(FileDataset())"
   ]
  },
  {
   "cell_type": "markdown",
   "id": "1c71be69-b4d9-40ff-9c89-4fe532b6000f",
   "metadata": {},
   "source": [
    "## Using parallel processing"
   ]
  },
  {
   "cell_type": "code",
   "execution_count": 57,
   "id": "842e80fc-2044-46cb-bb42-d3ff0f0e0371",
   "metadata": {},
   "outputs": [
    {
     "name": "stdout",
     "output_type": "stream",
     "text": [
      "295 ms ± 20.6 ms per loop (mean ± std. dev. of 7 runs, 1 loop each)\n"
     ]
    }
   ],
   "source": [
    "%%timeit\n",
    "benchmark(FileDataset().prefetch(1))"
   ]
  },
  {
   "cell_type": "code",
   "execution_count": 58,
   "id": "c1c6af5e-bec3-49d8-930d-65581504d991",
   "metadata": {},
   "outputs": [
    {
     "name": "stdout",
     "output_type": "stream",
     "text": [
      "284 ms ± 13.7 ms per loop (mean ± std. dev. of 7 runs, 1 loop each)\n"
     ]
    }
   ],
   "source": [
    "%%timeit\n",
    "benchmark(FileDataset().prefetch(tf.data.AUTOTUNE))"
   ]
  },
  {
   "cell_type": "markdown",
   "id": "66fafeea-3e35-4f17-a169-0dd6de7bb941",
   "metadata": {},
   "source": [
    "#### *Since I don't have a gpu, It's taking the same time to process.*"
   ]
  },
  {
   "cell_type": "code",
   "execution_count": 63,
   "id": "0cfbdcd2-aac6-455d-bc27-b980be9fbff3",
   "metadata": {},
   "outputs": [
    {
     "name": "stdout",
     "output_type": "stream",
     "text": [
      "0\n",
      "1\n",
      "2\n",
      "3\n",
      "4\n"
     ]
    }
   ],
   "source": [
    "dataset = tf.data.Dataset.range(5)\n",
    "for d in dataset:\n",
    "    print(d.numpy())"
   ]
  },
  {
   "cell_type": "code",
   "execution_count": 64,
   "id": "36e58871-50f7-43a5-bac4-8201b34b080e",
   "metadata": {},
   "outputs": [
    {
     "name": "stdout",
     "output_type": "stream",
     "text": [
      "0\n",
      "1\n",
      "4\n",
      "9\n",
      "16\n"
     ]
    }
   ],
   "source": [
    "dataset = dataset.map(lambda x: x**2)\n",
    "for d in dataset:\n",
    "    print(d.numpy())"
   ]
  },
  {
   "cell_type": "code",
   "execution_count": 66,
   "id": "c83ab376-a3d5-46e5-b605-aee87e4eddce",
   "metadata": {},
   "outputs": [
    {
     "name": "stdout",
     "output_type": "stream",
     "text": [
      "0\n",
      "1\n",
      "4\n",
      "9\n",
      "16\n"
     ]
    }
   ],
   "source": [
    "dataset = dataset.cache()\n",
    "\n",
    "for d in dataset.as_numpy_iterator():\n",
    "    print(d)"
   ]
  },
  {
   "cell_type": "code",
   "execution_count": 67,
   "id": "a3225a28-c71b-40a9-9e7e-c02e3b9f6907",
   "metadata": {},
   "outputs": [
    {
     "data": {
      "text/plain": [
       "[0, 1, 4, 9, 16]"
      ]
     },
     "execution_count": 67,
     "metadata": {},
     "output_type": "execute_result"
    }
   ],
   "source": [
    "list(dataset.as_numpy_iterator())"
   ]
  },
  {
   "cell_type": "code",
   "execution_count": 78,
   "id": "88e1dd45-4fe4-428a-85fa-bd781d477213",
   "metadata": {},
   "outputs": [],
   "source": [
    "def mapped_function(s):\n",
    "    tf.py_function(lambda: time.sleep(0.03), [], ())\n",
    "    return s"
   ]
  },
  {
   "cell_type": "code",
   "execution_count": 79,
   "id": "4bf37a93-9931-495c-bfc5-defdb2f42a5a",
   "metadata": {},
   "outputs": [
    {
     "data": {
      "text/plain": [
       "<_MapDataset element_spec=TensorSpec(shape=(1,), dtype=tf.int64, name=None)>"
      ]
     },
     "execution_count": 79,
     "metadata": {},
     "output_type": "execute_result"
    }
   ],
   "source": [
    "FileDataset().map(mapped_function)"
   ]
  },
  {
   "cell_type": "markdown",
   "id": "db78620a-2f23-4c62-8436-61f8810360fb",
   "metadata": {},
   "source": [
    "## Without Cache Memory"
   ]
  },
  {
   "cell_type": "code",
   "execution_count": 81,
   "id": "c16abbdc-7d2c-4a09-aba9-4863e4736a01",
   "metadata": {},
   "outputs": [
    {
     "name": "stdout",
     "output_type": "stream",
     "text": [
      "1.15 s ± 0 ns per loop (mean ± std. dev. of 1 run, 1 loop each)\n"
     ]
    }
   ],
   "source": [
    "%%timeit -n1 -r1\n",
    "benchmark(FileDataset().map(mapped_function), 5)"
   ]
  },
  {
   "cell_type": "markdown",
   "id": "a6c915b3-8efb-4342-aadb-8d03795d7149",
   "metadata": {},
   "source": [
    "## With Cache Memory"
   ]
  },
  {
   "cell_type": "code",
   "execution_count": 82,
   "id": "cd27a271-ab34-40a7-be99-59837de06cee",
   "metadata": {},
   "outputs": [
    {
     "name": "stdout",
     "output_type": "stream",
     "text": [
      "446 ms ± 0 ns per loop (mean ± std. dev. of 1 run, 1 loop each)\n"
     ]
    }
   ],
   "source": [
    "%%timeit -n1 -r1\n",
    "benchmark(FileDataset().map(mapped_function).cache(), 5)"
   ]
  },
  {
   "cell_type": "code",
   "execution_count": null,
   "id": "47874b9e-b051-4405-9504-09900f7f6c99",
   "metadata": {},
   "outputs": [],
   "source": []
  }
 ],
 "metadata": {
  "kernelspec": {
   "display_name": "Python 3 (ipykernel)",
   "language": "python",
   "name": "python3"
  },
  "language_info": {
   "codemirror_mode": {
    "name": "ipython",
    "version": 3
   },
   "file_extension": ".py",
   "mimetype": "text/x-python",
   "name": "python",
   "nbconvert_exporter": "python",
   "pygments_lexer": "ipython3",
   "version": "3.10.17"
  }
 },
 "nbformat": 4,
 "nbformat_minor": 5
}
