{
 "cells": [
  {
   "cell_type": "code",
   "execution_count": 1,
   "id": "c16a7b76-b3cd-48cc-a84f-add7ef32aa99",
   "metadata": {},
   "outputs": [],
   "source": [
    "import numpy as np\n",
    "import pandas as pd"
   ]
  },
  {
   "cell_type": "code",
   "execution_count": 2,
   "id": "ee79f85c-cdec-443d-b0f0-092ea22ef4f3",
   "metadata": {},
   "outputs": [],
   "source": [
    "revenue = np.array([[180,200,220], [24,36,40], [12,18,20]])\n",
    "expenses = np.array([[80,90,100], [10,16,20],[8,10,10]])\n",
    "sold_units = np.array([[30,40,50],[5,10,15],[2,5,7]])\n",
    "price_per_unit = np.array([[1000,400,1200]])"
   ]
  },
  {
   "cell_type": "markdown",
   "id": "64f67dc5-a5ec-40fd-aba8-b6fc8092a799",
   "metadata": {},
   "source": [
    "## Revenue"
   ]
  },
  {
   "cell_type": "code",
   "execution_count": 3,
   "id": "282a3bdc-ce27-4e0a-9339-72394f61911d",
   "metadata": {},
   "outputs": [
    {
     "data": {
      "text/plain": [
       "array([[180, 200, 220],\n",
       "       [ 24,  36,  40],\n",
       "       [ 12,  18,  20]])"
      ]
     },
     "execution_count": 3,
     "metadata": {},
     "output_type": "execute_result"
    }
   ],
   "source": [
    "revenue"
   ]
  },
  {
   "cell_type": "code",
   "execution_count": 4,
   "id": "46044aca-7b40-4dbd-b9b2-ede21df3634f",
   "metadata": {},
   "outputs": [
    {
     "data": {
      "text/html": [
       "<div>\n",
       "<style scoped>\n",
       "    .dataframe tbody tr th:only-of-type {\n",
       "        vertical-align: middle;\n",
       "    }\n",
       "\n",
       "    .dataframe tbody tr th {\n",
       "        vertical-align: top;\n",
       "    }\n",
       "\n",
       "    .dataframe thead tr th {\n",
       "        text-align: left;\n",
       "    }\n",
       "</style>\n",
       "<table border=\"1\" class=\"dataframe\">\n",
       "  <thead>\n",
       "    <tr>\n",
       "      <th></th>\n",
       "      <th colspan=\"3\" halign=\"left\">Revenue</th>\n",
       "    </tr>\n",
       "    <tr>\n",
       "      <th></th>\n",
       "      <th>FY 2018</th>\n",
       "      <th>FY 2019</th>\n",
       "      <th>FY 2020</th>\n",
       "    </tr>\n",
       "  </thead>\n",
       "  <tbody>\n",
       "    <tr>\n",
       "      <th>iPhone</th>\n",
       "      <td>180</td>\n",
       "      <td>200</td>\n",
       "      <td>220</td>\n",
       "    </tr>\n",
       "    <tr>\n",
       "      <th>iPad</th>\n",
       "      <td>24</td>\n",
       "      <td>36</td>\n",
       "      <td>40</td>\n",
       "    </tr>\n",
       "    <tr>\n",
       "      <th>Mac</th>\n",
       "      <td>12</td>\n",
       "      <td>18</td>\n",
       "      <td>20</td>\n",
       "    </tr>\n",
       "  </tbody>\n",
       "</table>\n",
       "</div>"
      ],
      "text/plain": [
       "       Revenue                \n",
       "       FY 2018 FY 2019 FY 2020\n",
       "iPhone     180     200     220\n",
       "iPad        24      36      40\n",
       "Mac         12      18      20"
      ]
     },
     "execution_count": 4,
     "metadata": {},
     "output_type": "execute_result"
    }
   ],
   "source": [
    "columns = pd.MultiIndex.from_product([['Revenue'], ['FY 2018', 'FY 2019', 'FY 2020']])\n",
    "df_revenue = pd.DataFrame(revenue, index=['iPhone', 'iPad', 'Mac'],columns=columns)\n",
    "df_revenue"
   ]
  },
  {
   "cell_type": "markdown",
   "id": "f6f69e93-91ce-425b-bfd3-38ea2eb485fe",
   "metadata": {},
   "source": [
    "## Expenses"
   ]
  },
  {
   "cell_type": "code",
   "execution_count": 5,
   "id": "41a50ccd-ce6a-4785-aac1-23f94d9a1ece",
   "metadata": {},
   "outputs": [
    {
     "data": {
      "text/html": [
       "<div>\n",
       "<style scoped>\n",
       "    .dataframe tbody tr th:only-of-type {\n",
       "        vertical-align: middle;\n",
       "    }\n",
       "\n",
       "    .dataframe tbody tr th {\n",
       "        vertical-align: top;\n",
       "    }\n",
       "\n",
       "    .dataframe thead tr th {\n",
       "        text-align: left;\n",
       "    }\n",
       "</style>\n",
       "<table border=\"1\" class=\"dataframe\">\n",
       "  <thead>\n",
       "    <tr>\n",
       "      <th></th>\n",
       "      <th colspan=\"3\" halign=\"left\">Expenses</th>\n",
       "    </tr>\n",
       "    <tr>\n",
       "      <th></th>\n",
       "      <th>FY 2018</th>\n",
       "      <th>FY 2019</th>\n",
       "      <th>FY 2020</th>\n",
       "    </tr>\n",
       "  </thead>\n",
       "  <tbody>\n",
       "    <tr>\n",
       "      <th>iPhone</th>\n",
       "      <td>80</td>\n",
       "      <td>90</td>\n",
       "      <td>100</td>\n",
       "    </tr>\n",
       "    <tr>\n",
       "      <th>iPad</th>\n",
       "      <td>10</td>\n",
       "      <td>16</td>\n",
       "      <td>20</td>\n",
       "    </tr>\n",
       "    <tr>\n",
       "      <th>Mac</th>\n",
       "      <td>8</td>\n",
       "      <td>10</td>\n",
       "      <td>10</td>\n",
       "    </tr>\n",
       "  </tbody>\n",
       "</table>\n",
       "</div>"
      ],
      "text/plain": [
       "       Expenses                \n",
       "        FY 2018 FY 2019 FY 2020\n",
       "iPhone       80      90     100\n",
       "iPad         10      16      20\n",
       "Mac           8      10      10"
      ]
     },
     "execution_count": 5,
     "metadata": {},
     "output_type": "execute_result"
    }
   ],
   "source": [
    "columns = pd.MultiIndex.from_product([['Expenses'], ['FY 2018', 'FY 2019', 'FY 2020']])\n",
    "df_expenses = pd.DataFrame(expenses, index=['iPhone', 'iPad', 'Mac'],columns=columns)\n",
    "df_expenses"
   ]
  },
  {
   "cell_type": "markdown",
   "id": "167ea746-ae7b-4e37-8d43-d6d686d3eedd",
   "metadata": {},
   "source": [
    "## Profit"
   ]
  },
  {
   "cell_type": "code",
   "execution_count": 6,
   "id": "256d29ff-4512-4040-82e1-5998377d7903",
   "metadata": {},
   "outputs": [
    {
     "data": {
      "text/plain": [
       "array([[100, 110, 120],\n",
       "       [ 14,  20,  20],\n",
       "       [  4,   8,  10]])"
      ]
     },
     "execution_count": 6,
     "metadata": {},
     "output_type": "execute_result"
    }
   ],
   "source": [
    "profit = revenue - expenses\n",
    "profit"
   ]
  },
  {
   "cell_type": "code",
   "execution_count": 7,
   "id": "e96ca954-70fa-49e2-92b1-61f8149177f2",
   "metadata": {},
   "outputs": [
    {
     "data": {
      "text/html": [
       "<div>\n",
       "<style scoped>\n",
       "    .dataframe tbody tr th:only-of-type {\n",
       "        vertical-align: middle;\n",
       "    }\n",
       "\n",
       "    .dataframe tbody tr th {\n",
       "        vertical-align: top;\n",
       "    }\n",
       "\n",
       "    .dataframe thead tr th {\n",
       "        text-align: left;\n",
       "    }\n",
       "</style>\n",
       "<table border=\"1\" class=\"dataframe\">\n",
       "  <thead>\n",
       "    <tr>\n",
       "      <th></th>\n",
       "      <th colspan=\"3\" halign=\"left\">Profit</th>\n",
       "    </tr>\n",
       "    <tr>\n",
       "      <th></th>\n",
       "      <th>FY 2018</th>\n",
       "      <th>FY 2019</th>\n",
       "      <th>FY 2020</th>\n",
       "    </tr>\n",
       "  </thead>\n",
       "  <tbody>\n",
       "    <tr>\n",
       "      <th>iPhone</th>\n",
       "      <td>100</td>\n",
       "      <td>110</td>\n",
       "      <td>120</td>\n",
       "    </tr>\n",
       "    <tr>\n",
       "      <th>iPad</th>\n",
       "      <td>14</td>\n",
       "      <td>20</td>\n",
       "      <td>20</td>\n",
       "    </tr>\n",
       "    <tr>\n",
       "      <th>Mac</th>\n",
       "      <td>4</td>\n",
       "      <td>8</td>\n",
       "      <td>10</td>\n",
       "    </tr>\n",
       "  </tbody>\n",
       "</table>\n",
       "</div>"
      ],
      "text/plain": [
       "        Profit                \n",
       "       FY 2018 FY 2019 FY 2020\n",
       "iPhone     100     110     120\n",
       "iPad        14      20      20\n",
       "Mac          4       8      10"
      ]
     },
     "execution_count": 7,
     "metadata": {},
     "output_type": "execute_result"
    }
   ],
   "source": [
    "columns = pd.MultiIndex.from_product([['Profit'], ['FY 2018', 'FY 2019', 'FY 2020']])\n",
    "df_profit = pd.DataFrame(profit, index=['iPhone', 'iPad', 'Mac'],columns=columns)\n",
    "df_profit"
   ]
  },
  {
   "cell_type": "markdown",
   "id": "9b4c5402-5051-4a74-8f53-1ecb15f8452f",
   "metadata": {},
   "source": [
    "## Price per unit"
   ]
  },
  {
   "cell_type": "code",
   "execution_count": 8,
   "id": "320607e9-3823-4859-b55c-a891c200e73d",
   "metadata": {},
   "outputs": [
    {
     "data": {
      "text/html": [
       "<div>\n",
       "<style scoped>\n",
       "    .dataframe tbody tr th:only-of-type {\n",
       "        vertical-align: middle;\n",
       "    }\n",
       "\n",
       "    .dataframe tbody tr th {\n",
       "        vertical-align: top;\n",
       "    }\n",
       "\n",
       "    .dataframe thead th {\n",
       "        text-align: right;\n",
       "    }\n",
       "</style>\n",
       "<table border=\"1\" class=\"dataframe\">\n",
       "  <thead>\n",
       "    <tr style=\"text-align: right;\">\n",
       "      <th></th>\n",
       "      <th>iPhone</th>\n",
       "      <th>iPad</th>\n",
       "      <th>Mac</th>\n",
       "    </tr>\n",
       "  </thead>\n",
       "  <tbody>\n",
       "    <tr>\n",
       "      <th>Price per unit</th>\n",
       "      <td>1000</td>\n",
       "      <td>400</td>\n",
       "      <td>1200</td>\n",
       "    </tr>\n",
       "  </tbody>\n",
       "</table>\n",
       "</div>"
      ],
      "text/plain": [
       "                iPhone  iPad   Mac\n",
       "Price per unit    1000   400  1200"
      ]
     },
     "execution_count": 8,
     "metadata": {},
     "output_type": "execute_result"
    }
   ],
   "source": [
    "df_price_per_unit = pd.DataFrame(price_per_unit, index=['Price per unit'],columns=['iPhone', 'iPad', 'Mac'])\n",
    "df_price_per_unit"
   ]
  },
  {
   "cell_type": "markdown",
   "id": "7c58267f-f88b-439f-a5fe-3c8665cde9ab",
   "metadata": {},
   "source": [
    "## Sold Units"
   ]
  },
  {
   "cell_type": "code",
   "execution_count": 9,
   "id": "f7ee3044-7678-469f-9791-369de53ad1b9",
   "metadata": {},
   "outputs": [
    {
     "data": {
      "text/html": [
       "<div>\n",
       "<style scoped>\n",
       "    .dataframe tbody tr th:only-of-type {\n",
       "        vertical-align: middle;\n",
       "    }\n",
       "\n",
       "    .dataframe tbody tr th {\n",
       "        vertical-align: top;\n",
       "    }\n",
       "\n",
       "    .dataframe thead tr th {\n",
       "        text-align: left;\n",
       "    }\n",
       "</style>\n",
       "<table border=\"1\" class=\"dataframe\">\n",
       "  <thead>\n",
       "    <tr>\n",
       "      <th></th>\n",
       "      <th colspan=\"3\" halign=\"left\">Units (Millions)</th>\n",
       "    </tr>\n",
       "    <tr>\n",
       "      <th></th>\n",
       "      <th>FY 2018</th>\n",
       "      <th>FY 2019</th>\n",
       "      <th>FY 2020</th>\n",
       "    </tr>\n",
       "  </thead>\n",
       "  <tbody>\n",
       "    <tr>\n",
       "      <th>iPhone</th>\n",
       "      <td>30</td>\n",
       "      <td>40</td>\n",
       "      <td>50</td>\n",
       "    </tr>\n",
       "    <tr>\n",
       "      <th>iPad</th>\n",
       "      <td>5</td>\n",
       "      <td>10</td>\n",
       "      <td>15</td>\n",
       "    </tr>\n",
       "    <tr>\n",
       "      <th>Mac</th>\n",
       "      <td>2</td>\n",
       "      <td>5</td>\n",
       "      <td>7</td>\n",
       "    </tr>\n",
       "  </tbody>\n",
       "</table>\n",
       "</div>"
      ],
      "text/plain": [
       "       Units (Millions)                \n",
       "                FY 2018 FY 2019 FY 2020\n",
       "iPhone               30      40      50\n",
       "iPad                  5      10      15\n",
       "Mac                   2       5       7"
      ]
     },
     "execution_count": 9,
     "metadata": {},
     "output_type": "execute_result"
    }
   ],
   "source": [
    "columns = pd.MultiIndex.from_product([['Units (Millions)'], ['FY 2018', 'FY 2019', 'FY 2020']])\n",
    "df_sold_units = pd.DataFrame(sold_units, index=['iPhone', 'iPad', 'Mac'],columns=columns)\n",
    "df_sold_units"
   ]
  },
  {
   "cell_type": "markdown",
   "id": "3ca72731-6065-40f1-9296-1b2d199d7445",
   "metadata": {},
   "source": [
    "## Total Sale"
   ]
  },
  {
   "cell_type": "code",
   "execution_count": 10,
   "id": "295bcf4b-da7a-456b-9b4d-51b744694f15",
   "metadata": {},
   "outputs": [
    {
     "data": {
      "text/plain": [
       "array([[34400, 50000, 64400]])"
      ]
     },
     "execution_count": 10,
     "metadata": {},
     "output_type": "execute_result"
    }
   ],
   "source": [
    "total_sale = np.dot(price_per_unit, sold_units)\n",
    "total_sale"
   ]
  },
  {
   "cell_type": "code",
   "execution_count": 11,
   "id": "59514db6-925d-47e0-b7c5-089ac56f201e",
   "metadata": {},
   "outputs": [
    {
     "data": {
      "text/html": [
       "<div>\n",
       "<style scoped>\n",
       "    .dataframe tbody tr th:only-of-type {\n",
       "        vertical-align: middle;\n",
       "    }\n",
       "\n",
       "    .dataframe tbody tr th {\n",
       "        vertical-align: top;\n",
       "    }\n",
       "\n",
       "    .dataframe thead tr th {\n",
       "        text-align: left;\n",
       "    }\n",
       "</style>\n",
       "<table border=\"1\" class=\"dataframe\">\n",
       "  <thead>\n",
       "    <tr>\n",
       "      <th></th>\n",
       "      <th colspan=\"3\" halign=\"left\">Total Sale ($)</th>\n",
       "    </tr>\n",
       "    <tr>\n",
       "      <th></th>\n",
       "      <th>FY 2018</th>\n",
       "      <th>FY 2019</th>\n",
       "      <th>FY 2020</th>\n",
       "    </tr>\n",
       "  </thead>\n",
       "  <tbody>\n",
       "    <tr>\n",
       "      <th>All</th>\n",
       "      <td>34400</td>\n",
       "      <td>50000</td>\n",
       "      <td>64400</td>\n",
       "    </tr>\n",
       "  </tbody>\n",
       "</table>\n",
       "</div>"
      ],
      "text/plain": [
       "    Total Sale ($)                \n",
       "           FY 2018 FY 2019 FY 2020\n",
       "All          34400   50000   64400"
      ]
     },
     "execution_count": 11,
     "metadata": {},
     "output_type": "execute_result"
    }
   ],
   "source": [
    "columns = pd.MultiIndex.from_product([['Total Sale ($)'], ['FY 2018', 'FY 2019', 'FY 2020']])\n",
    "df_total_sale = pd.DataFrame(total_sale, index=['All'],columns=columns)\n",
    "df_total_sale"
   ]
  },
  {
   "cell_type": "markdown",
   "id": "b13506d5-71a8-4fbd-990a-8918e8bb6f5f",
   "metadata": {},
   "source": [
    "# <span style=\"color:red\"> Exercise </span>"
   ]
  },
  {
   "cell_type": "code",
   "execution_count": 20,
   "id": "d4d43ee0-41ae-4b05-9ad9-9abc16fa1dc4",
   "metadata": {},
   "outputs": [],
   "source": [
    "revenue_in_million_doller = np.array([[200,220,250],[68,79,105],[110,140,180],[80,85,90]])"
   ]
  },
  {
   "cell_type": "code",
   "execution_count": 21,
   "id": "c0daa230-ce43-48a7-ba11-6c944e97c183",
   "metadata": {},
   "outputs": [
    {
     "data": {
      "text/html": [
       "<div>\n",
       "<style scoped>\n",
       "    .dataframe tbody tr th:only-of-type {\n",
       "        vertical-align: middle;\n",
       "    }\n",
       "\n",
       "    .dataframe tbody tr th {\n",
       "        vertical-align: top;\n",
       "    }\n",
       "\n",
       "    .dataframe thead tr th {\n",
       "        text-align: left;\n",
       "    }\n",
       "</style>\n",
       "<table border=\"1\" class=\"dataframe\">\n",
       "  <thead>\n",
       "    <tr>\n",
       "      <th></th>\n",
       "      <th colspan=\"3\" halign=\"left\">Revenue (Million US $)</th>\n",
       "    </tr>\n",
       "    <tr>\n",
       "      <th></th>\n",
       "      <th>FY 2018</th>\n",
       "      <th>FY 2019</th>\n",
       "      <th>FY 2020</th>\n",
       "    </tr>\n",
       "  </thead>\n",
       "  <tbody>\n",
       "    <tr>\n",
       "      <th>Reliance Industries</th>\n",
       "      <td>200</td>\n",
       "      <td>220</td>\n",
       "      <td>250</td>\n",
       "    </tr>\n",
       "    <tr>\n",
       "      <th>Infosys</th>\n",
       "      <td>68</td>\n",
       "      <td>79</td>\n",
       "      <td>105</td>\n",
       "    </tr>\n",
       "    <tr>\n",
       "      <th>TCS</th>\n",
       "      <td>110</td>\n",
       "      <td>140</td>\n",
       "      <td>180</td>\n",
       "    </tr>\n",
       "    <tr>\n",
       "      <th>Wipro</th>\n",
       "      <td>80</td>\n",
       "      <td>85</td>\n",
       "      <td>90</td>\n",
       "    </tr>\n",
       "  </tbody>\n",
       "</table>\n",
       "</div>"
      ],
      "text/plain": [
       "                    Revenue (Million US $)                \n",
       "                                   FY 2018 FY 2019 FY 2020\n",
       "Reliance Industries                    200     220     250\n",
       "Infosys                                 68      79     105\n",
       "TCS                                    110     140     180\n",
       "Wipro                                   80      85      90"
      ]
     },
     "execution_count": 21,
     "metadata": {},
     "output_type": "execute_result"
    }
   ],
   "source": [
    "columns = pd.MultiIndex.from_product([['Revenue (Million US $)'], ['FY 2018', 'FY 2019', 'FY 2020']])\n",
    "df_revenue = pd.DataFrame(revenue_in_million_doller, index=['Reliance Industries','Infosys','TCS','Wipro'],columns=columns)\n",
    "df_revenue"
   ]
  },
  {
   "cell_type": "code",
   "execution_count": 30,
   "id": "25739aea-0db1-455d-a7ef-83c97a76b206",
   "metadata": {},
   "outputs": [
    {
     "data": {
      "text/plain": [
       "array([[2420. , 2662. , 3025. ],\n",
       "       [ 822.8,  955.9, 1270.5],\n",
       "       [1331. , 1694. , 2178. ],\n",
       "       [ 968. , 1028.5, 1089. ]])"
      ]
     },
     "execution_count": 30,
     "metadata": {},
     "output_type": "execute_result"
    }
   ],
   "source": [
    "revenue_in_bdt = revenue_in_million_doller * 1000000 * 121 / 10000000\n",
    "revenue_in_bdt"
   ]
  },
  {
   "cell_type": "code",
   "execution_count": 31,
   "id": "ab649df0-6e50-4c75-97ba-86c2442cf2d4",
   "metadata": {},
   "outputs": [
    {
     "data": {
      "text/html": [
       "<div>\n",
       "<style scoped>\n",
       "    .dataframe tbody tr th:only-of-type {\n",
       "        vertical-align: middle;\n",
       "    }\n",
       "\n",
       "    .dataframe tbody tr th {\n",
       "        vertical-align: top;\n",
       "    }\n",
       "\n",
       "    .dataframe thead tr th {\n",
       "        text-align: left;\n",
       "    }\n",
       "</style>\n",
       "<table border=\"1\" class=\"dataframe\">\n",
       "  <thead>\n",
       "    <tr>\n",
       "      <th></th>\n",
       "      <th colspan=\"3\" halign=\"left\">Revenue (Crore Taka)</th>\n",
       "    </tr>\n",
       "    <tr>\n",
       "      <th></th>\n",
       "      <th>FY 2018</th>\n",
       "      <th>FY 2019</th>\n",
       "      <th>FY 2020</th>\n",
       "    </tr>\n",
       "  </thead>\n",
       "  <tbody>\n",
       "    <tr>\n",
       "      <th>Reliance Industries</th>\n",
       "      <td>2420.0</td>\n",
       "      <td>2662.0</td>\n",
       "      <td>3025.0</td>\n",
       "    </tr>\n",
       "    <tr>\n",
       "      <th>Infosys</th>\n",
       "      <td>822.8</td>\n",
       "      <td>955.9</td>\n",
       "      <td>1270.5</td>\n",
       "    </tr>\n",
       "    <tr>\n",
       "      <th>TCS</th>\n",
       "      <td>1331.0</td>\n",
       "      <td>1694.0</td>\n",
       "      <td>2178.0</td>\n",
       "    </tr>\n",
       "    <tr>\n",
       "      <th>Wipro</th>\n",
       "      <td>968.0</td>\n",
       "      <td>1028.5</td>\n",
       "      <td>1089.0</td>\n",
       "    </tr>\n",
       "  </tbody>\n",
       "</table>\n",
       "</div>"
      ],
      "text/plain": [
       "                    Revenue (Crore Taka)                \n",
       "                                 FY 2018 FY 2019 FY 2020\n",
       "Reliance Industries               2420.0  2662.0  3025.0\n",
       "Infosys                            822.8   955.9  1270.5\n",
       "TCS                               1331.0  1694.0  2178.0\n",
       "Wipro                              968.0  1028.5  1089.0"
      ]
     },
     "execution_count": 31,
     "metadata": {},
     "output_type": "execute_result"
    }
   ],
   "source": [
    "columns = pd.MultiIndex.from_product([['Revenue (Crore Taka)'], ['FY 2018', 'FY 2019', 'FY 2020']])\n",
    "df_revenue_bdt = pd.DataFrame(revenue_in_bdt, index=['Reliance Industries','Infosys','TCS','Wipro'],columns=columns)\n",
    "df_revenue_bdt"
   ]
  },
  {
   "cell_type": "code",
   "execution_count": 33,
   "id": "f4443004-6755-46f2-a39c-3ae2bb206022",
   "metadata": {},
   "outputs": [],
   "source": [
    "sold_units = np.array([[50,60,25],[10,13,5],[40,70,52]])\n",
    "price_per_unit = np.array([[20,30,15]])"
   ]
  },
  {
   "cell_type": "code",
   "execution_count": 37,
   "id": "76b97949-7821-4835-9fb5-a0cbb96fe546",
   "metadata": {},
   "outputs": [
    {
     "data": {
      "text/plain": [
       "array([[1900, 2640, 1430]])"
      ]
     },
     "execution_count": 37,
     "metadata": {},
     "output_type": "execute_result"
    }
   ],
   "source": [
    "total_sale = np.dot(price_per_unit, sold_units)\n",
    "total_sale"
   ]
  },
  {
   "cell_type": "code",
   "execution_count": 39,
   "id": "a543f460-e298-4779-846d-40383fe700e9",
   "metadata": {},
   "outputs": [
    {
     "data": {
      "text/html": [
       "<div>\n",
       "<style scoped>\n",
       "    .dataframe tbody tr th:only-of-type {\n",
       "        vertical-align: middle;\n",
       "    }\n",
       "\n",
       "    .dataframe tbody tr th {\n",
       "        vertical-align: top;\n",
       "    }\n",
       "\n",
       "    .dataframe thead th {\n",
       "        text-align: right;\n",
       "    }\n",
       "</style>\n",
       "<table border=\"1\" class=\"dataframe\">\n",
       "  <thead>\n",
       "    <tr style=\"text-align: right;\">\n",
       "      <th></th>\n",
       "      <th>Jan</th>\n",
       "      <th>Feb</th>\n",
       "      <th>March</th>\n",
       "    </tr>\n",
       "  </thead>\n",
       "  <tbody>\n",
       "    <tr>\n",
       "      <th>Total Sale</th>\n",
       "      <td>1900</td>\n",
       "      <td>2640</td>\n",
       "      <td>1430</td>\n",
       "    </tr>\n",
       "  </tbody>\n",
       "</table>\n",
       "</div>"
      ],
      "text/plain": [
       "             Jan   Feb  March\n",
       "Total Sale  1900  2640   1430"
      ]
     },
     "execution_count": 39,
     "metadata": {},
     "output_type": "execute_result"
    }
   ],
   "source": [
    "df_total_sale = pd.DataFrame(total_sale, index=['Total Sale'],columns=['Jan', 'Feb', 'March'])\n",
    "df_total_sale"
   ]
  },
  {
   "cell_type": "code",
   "execution_count": null,
   "id": "195f3128-97df-4b2f-90e0-798cf140b6a8",
   "metadata": {},
   "outputs": [],
   "source": []
  }
 ],
 "metadata": {
  "kernelspec": {
   "display_name": "Python 3 (ipykernel)",
   "language": "python",
   "name": "python3"
  },
  "language_info": {
   "codemirror_mode": {
    "name": "ipython",
    "version": 3
   },
   "file_extension": ".py",
   "mimetype": "text/x-python",
   "name": "python",
   "nbconvert_exporter": "python",
   "pygments_lexer": "ipython3",
   "version": "3.10.17"
  }
 },
 "nbformat": 4,
 "nbformat_minor": 5
}
