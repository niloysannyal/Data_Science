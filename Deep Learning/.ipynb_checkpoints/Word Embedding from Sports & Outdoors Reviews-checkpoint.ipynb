{
 "cells": [
  {
   "cell_type": "markdown",
   "id": "424e8eaa-c3ec-4076-b3ce-6d3e0822ac09",
   "metadata": {},
   "source": [
    "<h1 span style=\"text-align:center; color:mediumvioletred\">Word Embedding Exercise</h1>"
   ]
  },
  {
   "cell_type": "code",
   "execution_count": 1,
   "id": "c3225f3b-86ef-49cb-bad1-1814417bccb2",
   "metadata": {},
   "outputs": [],
   "source": [
    "import gensim\n",
    "import pandas as pd"
   ]
  },
  {
   "cell_type": "markdown",
   "id": "a0f6d69e-2030-4e0b-92b5-522ed32217f9",
   "metadata": {},
   "source": [
    "### Reading and Exploring the Dataset\n",
    "The dataset we are using here is a subset of Amazon reviews from the Sports & Outdoors category. The data is stored as a JSON file and can be read using pandas.\n",
    "\n",
    "Link to the Dataset: http://snap.stanford.edu/data/amazon/productGraph/categoryFiles/reviews_Sports_and_Outdoors_5.json.gz"
   ]
  },
  {
   "cell_type": "code",
   "execution_count": 2,
   "id": "6de2b88a-5638-48b2-85d8-ac0aad428648",
   "metadata": {},
   "outputs": [
    {
     "data": {
      "text/html": [
       "<div>\n",
       "<style scoped>\n",
       "    .dataframe tbody tr th:only-of-type {\n",
       "        vertical-align: middle;\n",
       "    }\n",
       "\n",
       "    .dataframe tbody tr th {\n",
       "        vertical-align: top;\n",
       "    }\n",
       "\n",
       "    .dataframe thead th {\n",
       "        text-align: right;\n",
       "    }\n",
       "</style>\n",
       "<table border=\"1\" class=\"dataframe\">\n",
       "  <thead>\n",
       "    <tr style=\"text-align: right;\">\n",
       "      <th></th>\n",
       "      <th>reviewerID</th>\n",
       "      <th>asin</th>\n",
       "      <th>reviewerName</th>\n",
       "      <th>helpful</th>\n",
       "      <th>reviewText</th>\n",
       "      <th>overall</th>\n",
       "      <th>summary</th>\n",
       "      <th>unixReviewTime</th>\n",
       "      <th>reviewTime</th>\n",
       "    </tr>\n",
       "  </thead>\n",
       "  <tbody>\n",
       "    <tr>\n",
       "      <th>0</th>\n",
       "      <td>AIXZKN4ACSKI</td>\n",
       "      <td>1881509818</td>\n",
       "      <td>David Briner</td>\n",
       "      <td>[0, 0]</td>\n",
       "      <td>This came in on time and I am veru happy with ...</td>\n",
       "      <td>5</td>\n",
       "      <td>Woks very good</td>\n",
       "      <td>1390694400</td>\n",
       "      <td>01 26, 2014</td>\n",
       "    </tr>\n",
       "    <tr>\n",
       "      <th>1</th>\n",
       "      <td>A1L5P841VIO02V</td>\n",
       "      <td>1881509818</td>\n",
       "      <td>Jason A. Kramer</td>\n",
       "      <td>[1, 1]</td>\n",
       "      <td>I had a factory Glock tool that I was using fo...</td>\n",
       "      <td>5</td>\n",
       "      <td>Works as well as the factory tool</td>\n",
       "      <td>1328140800</td>\n",
       "      <td>02 2, 2012</td>\n",
       "    </tr>\n",
       "    <tr>\n",
       "      <th>2</th>\n",
       "      <td>AB2W04NI4OEAD</td>\n",
       "      <td>1881509818</td>\n",
       "      <td>J. Fernald</td>\n",
       "      <td>[2, 2]</td>\n",
       "      <td>If you don't have a 3/32 punch or would like t...</td>\n",
       "      <td>4</td>\n",
       "      <td>It's a punch, that's all.</td>\n",
       "      <td>1330387200</td>\n",
       "      <td>02 28, 2012</td>\n",
       "    </tr>\n",
       "    <tr>\n",
       "      <th>3</th>\n",
       "      <td>A148SVSWKTJKU6</td>\n",
       "      <td>1881509818</td>\n",
       "      <td>Jusitn A. Watts \"Maverick9614\"</td>\n",
       "      <td>[0, 0]</td>\n",
       "      <td>This works no better than any 3/32 punch you w...</td>\n",
       "      <td>4</td>\n",
       "      <td>It's a punch with a Glock logo.</td>\n",
       "      <td>1328400000</td>\n",
       "      <td>02 5, 2012</td>\n",
       "    </tr>\n",
       "    <tr>\n",
       "      <th>4</th>\n",
       "      <td>AAAWJ6LW9WMOO</td>\n",
       "      <td>1881509818</td>\n",
       "      <td>Material Man</td>\n",
       "      <td>[0, 0]</td>\n",
       "      <td>I purchased this thinking maybe I need a speci...</td>\n",
       "      <td>4</td>\n",
       "      <td>Ok,tool does what a regular punch does.</td>\n",
       "      <td>1366675200</td>\n",
       "      <td>04 23, 2013</td>\n",
       "    </tr>\n",
       "  </tbody>\n",
       "</table>\n",
       "</div>"
      ],
      "text/plain": [
       "       reviewerID        asin                    reviewerName helpful  \\\n",
       "0    AIXZKN4ACSKI  1881509818                    David Briner  [0, 0]   \n",
       "1  A1L5P841VIO02V  1881509818                 Jason A. Kramer  [1, 1]   \n",
       "2   AB2W04NI4OEAD  1881509818                      J. Fernald  [2, 2]   \n",
       "3  A148SVSWKTJKU6  1881509818  Jusitn A. Watts \"Maverick9614\"  [0, 0]   \n",
       "4   AAAWJ6LW9WMOO  1881509818                    Material Man  [0, 0]   \n",
       "\n",
       "                                          reviewText  overall  \\\n",
       "0  This came in on time and I am veru happy with ...        5   \n",
       "1  I had a factory Glock tool that I was using fo...        5   \n",
       "2  If you don't have a 3/32 punch or would like t...        4   \n",
       "3  This works no better than any 3/32 punch you w...        4   \n",
       "4  I purchased this thinking maybe I need a speci...        4   \n",
       "\n",
       "                                   summary  unixReviewTime   reviewTime  \n",
       "0                           Woks very good      1390694400  01 26, 2014  \n",
       "1        Works as well as the factory tool      1328140800   02 2, 2012  \n",
       "2                It's a punch, that's all.      1330387200  02 28, 2012  \n",
       "3          It's a punch with a Glock logo.      1328400000   02 5, 2012  \n",
       "4  Ok,tool does what a regular punch does.      1366675200  04 23, 2013  "
      ]
     },
     "execution_count": 2,
     "metadata": {},
     "output_type": "execute_result"
    }
   ],
   "source": [
    "df =  pd.read_json(\"Word2Vec/Sports_and_Outdoors_5.json\", lines=True)\n",
    "df.head()"
   ]
  },
  {
   "cell_type": "code",
   "execution_count": 3,
   "id": "cfc4b010-fc60-45a5-beb6-f65b9b1f2650",
   "metadata": {},
   "outputs": [
    {
     "data": {
      "text/plain": [
       "(296337, 9)"
      ]
     },
     "execution_count": 3,
     "metadata": {},
     "output_type": "execute_result"
    }
   ],
   "source": [
    "df.shape"
   ]
  },
  {
   "cell_type": "code",
   "execution_count": 4,
   "id": "086fb57b-fb7d-4e9b-9e53-d7c2fd1282a7",
   "metadata": {},
   "outputs": [
    {
     "data": {
      "text/plain": [
       "'This came in on time and I am veru happy with it, I haved used it already and it makes taking out the pins in my glock 32 very easy'"
      ]
     },
     "execution_count": 4,
     "metadata": {},
     "output_type": "execute_result"
    }
   ],
   "source": [
    "df.reviewText[0]"
   ]
  },
  {
   "cell_type": "code",
   "execution_count": 5,
   "id": "2da53205-c016-455c-a2c2-6a586bf36644",
   "metadata": {},
   "outputs": [
    {
     "data": {
      "text/plain": [
       "(296337,)"
      ]
     },
     "execution_count": 5,
     "metadata": {},
     "output_type": "execute_result"
    }
   ],
   "source": [
    "review_text = df.reviewText.apply(gensim.utils.simple_preprocess)\n",
    "review_text.shape"
   ]
  },
  {
   "cell_type": "code",
   "execution_count": 6,
   "id": "9d03b905-4c00-44b2-ae22-4838262959d8",
   "metadata": {},
   "outputs": [
    {
     "data": {
      "text/plain": [
       "0    [this, came, in, on, time, and, am, veru, happ...\n",
       "1    [had, factory, glock, tool, that, was, using, ...\n",
       "2    [if, you, don, have, punch, or, would, like, t...\n",
       "3    [this, works, no, better, than, any, punch, yo...\n",
       "4    [purchased, this, thinking, maybe, need, speci...\n",
       "5    [needed, this, tool, to, really, break, down, ...\n",
       "6    [if, don, have, it, get, it, all, you, need, t...\n",
       "7    [this, light, will, no, doubt, capture, the, a...\n",
       "8    [light, and, laser, torch, work, well, very, b...\n",
       "9    [does, everything, it, says, it, will, do, wou...\n",
       "Name: reviewText, dtype: object"
      ]
     },
     "execution_count": 6,
     "metadata": {},
     "output_type": "execute_result"
    }
   ],
   "source": [
    "review_text[:10]"
   ]
  },
  {
   "cell_type": "code",
   "execution_count": 8,
   "id": "7604a87e-a192-4cab-a01d-bd4a3edbb459",
   "metadata": {},
   "outputs": [],
   "source": [
    "model = gensim.models.Word2Vec(\n",
    "    window=10,\n",
    "    min_count=2,\n",
    "    workers=6\n",
    ")\n",
    "\n",
    "model.build_vocab(review_text, progress_per=1000)"
   ]
  },
  {
   "cell_type": "code",
   "execution_count": 9,
   "id": "dfd2766d-35d7-4f7c-b273-5de87c3c14d3",
   "metadata": {},
   "outputs": [
    {
     "data": {
      "text/plain": [
       "5"
      ]
     },
     "execution_count": 9,
     "metadata": {},
     "output_type": "execute_result"
    }
   ],
   "source": [
    "model.epochs"
   ]
  },
  {
   "cell_type": "code",
   "execution_count": 11,
   "id": "51f0865b-a4cc-422d-9d52-76031393b582",
   "metadata": {},
   "outputs": [
    {
     "data": {
      "text/plain": [
       "(91338117, 121496535)"
      ]
     },
     "execution_count": 11,
     "metadata": {},
     "output_type": "execute_result"
    }
   ],
   "source": [
    "model.train(review_text, total_examples=model.corpus_count, epochs=model.epochs)"
   ]
  },
  {
   "cell_type": "code",
   "execution_count": 12,
   "id": "37a0c22f-7634-4fb4-9185-c426a4a15344",
   "metadata": {},
   "outputs": [],
   "source": [
    "model.save(\"./Word2Vec/sports_outdoors_reviews_short.model\")"
   ]
  },
  {
   "cell_type": "code",
   "execution_count": 13,
   "id": "cd3e5939-e472-4891-b093-2097a02cb57d",
   "metadata": {},
   "outputs": [
    {
     "data": {
      "text/plain": [
       "[('horrible', 0.6862936019897461),\n",
       " ('terrible', 0.6675543189048767),\n",
       " ('ugly', 0.63221675157547),\n",
       " ('unpleasant', 0.6185182332992554),\n",
       " ('overpowering', 0.5874032378196716),\n",
       " ('anomaly', 0.5619857311248779),\n",
       " ('overwhelming', 0.5572304129600525),\n",
       " ('funny', 0.5564756989479065),\n",
       " ('enormous', 0.5527489185333252),\n",
       " ('aweful', 0.5477838516235352)]"
      ]
     },
     "execution_count": 13,
     "metadata": {},
     "output_type": "execute_result"
    }
   ],
   "source": [
    "model.wv.most_similar(\"awful\")"
   ]
  },
  {
   "cell_type": "code",
   "execution_count": 14,
   "id": "1a4cc10f-2a2b-4417-aff3-32deebca008e",
   "metadata": {},
   "outputs": [
    {
     "data": {
      "text/plain": [
       "0.79019696"
      ]
     },
     "execution_count": 14,
     "metadata": {},
     "output_type": "execute_result"
    }
   ],
   "source": [
    "model.wv.similarity(w1=\"good\", w2=\"great\")"
   ]
  },
  {
   "cell_type": "code",
   "execution_count": 15,
   "id": "f0b4c93b-4aca-4fcc-901a-96373534d719",
   "metadata": {},
   "outputs": [
    {
     "data": {
      "text/plain": [
       "0.3592851"
      ]
     },
     "execution_count": 15,
     "metadata": {},
     "output_type": "execute_result"
    }
   ],
   "source": [
    "model.wv.similarity(w1=\"slow\", w2=\"steady\")"
   ]
  },
  {
   "cell_type": "code",
   "execution_count": 20,
   "id": "d6b04c04-eb6b-412b-b996-a0babfb4855c",
   "metadata": {},
   "outputs": [
    {
     "data": {
      "text/plain": [
       "'time'"
      ]
     },
     "execution_count": 20,
     "metadata": {},
     "output_type": "execute_result"
    }
   ],
   "source": [
    "review_text[0][4]"
   ]
  },
  {
   "cell_type": "code",
   "execution_count": 21,
   "id": "3dff141a-c7e9-441d-b5b9-9e24807bbffc",
   "metadata": {},
   "outputs": [
    {
     "data": {
      "text/plain": [
       "array([ 1.9544969e+00,  9.2818207e-01, -1.3682575e+00, -2.0281837e+00,\n",
       "        2.7952030e+00,  3.0229936e+00,  3.1868894e+00, -3.2004316e+00,\n",
       "       -4.7833872e+00, -7.7007043e-01,  4.9839439e+00,  3.0708907e+00,\n",
       "       -3.5410328e+00, -3.6062124e+00, -1.1113087e+00, -2.5805917e-01,\n",
       "        2.0015211e+00,  2.7970715e+00, -3.1749640e+00,  2.4029217e+00,\n",
       "       -2.5250063e+00, -1.4628839e+00, -3.7672584e+00, -4.7211246e+00,\n",
       "       -2.2465444e+00, -1.1663551e+00,  2.8123381e+00,  2.4592390e+00,\n",
       "       -1.3637855e+00, -3.0306110e+00, -1.2404996e+00, -1.1999376e+00,\n",
       "       -6.6397268e-01, -2.0059333e+00,  2.9789989e+00,  4.9256168e-02,\n",
       "        2.2280200e+00,  4.8029852e-01,  3.9719987e-01, -9.2646563e-01,\n",
       "       -1.2499117e+00, -3.2692916e+00, -2.8249526e+00,  2.5647838e+00,\n",
       "        7.6053187e-04,  8.8250065e-01, -1.4497664e+00,  1.9710586e+00,\n",
       "       -6.2708080e-01,  1.8253658e+00,  5.4259501e+00,  6.8935692e-01,\n",
       "       -5.2383924e-01,  2.2950463e+00,  3.6856547e-01, -4.0158191e-01,\n",
       "        2.4212432e+00,  3.3412776e+00,  2.9604671e+00, -1.2138457e+00,\n",
       "       -2.5746453e+00,  3.7465281e+00, -4.7313509e+00,  1.5737474e-01,\n",
       "        1.6096472e+00,  2.5494471e+00,  9.6050531e-01, -1.3528833e+00,\n",
       "        6.2568855e-01,  1.6454196e+00,  2.2687328e+00,  2.6331630e+00,\n",
       "       -1.4488521e+00,  1.6855983e+00,  2.5546477e+00, -6.1248116e+00,\n",
       "        3.9066422e+00,  1.2026268e+00, -4.1335157e-01,  3.0616650e-01,\n",
       "       -4.1363158e+00,  2.3550794e+00, -1.7555746e+00, -1.4976978e+00,\n",
       "        2.8332943e-01, -5.2898580e-01, -2.6983509e+00,  6.7115360e-01,\n",
       "       -1.2493254e+00,  2.0790603e+00, -1.6395752e+00,  3.1011059e+00,\n",
       "        4.8549733e+00,  1.5240105e+00,  1.1897780e+00, -3.2970200e+00,\n",
       "       -1.4054865e+00, -2.2556007e+00,  4.9159074e-01,  7.2431415e-02],\n",
       "      dtype=float32)"
      ]
     },
     "execution_count": 21,
     "metadata": {},
     "output_type": "execute_result"
    }
   ],
   "source": [
    "model.wv[review_text[0][4]]"
   ]
  }
 ],
 "metadata": {
  "kernelspec": {
   "display_name": "Python 3 (ipykernel)",
   "language": "python",
   "name": "python3"
  },
  "language_info": {
   "codemirror_mode": {
    "name": "ipython",
    "version": 3
   },
   "file_extension": ".py",
   "mimetype": "text/x-python",
   "name": "python",
   "nbconvert_exporter": "python",
   "pygments_lexer": "ipython3",
   "version": "3.10.17"
  }
 },
 "nbformat": 4,
 "nbformat_minor": 5
}
