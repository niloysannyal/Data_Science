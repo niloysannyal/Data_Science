{
 "cells": [
  {
   "cell_type": "code",
   "execution_count": 3,
   "id": "186cd325-bb1b-4ad5-beb5-34cf30f3704c",
   "metadata": {},
   "outputs": [],
   "source": [
    "import math\n",
    "\n",
    "def sigmoid(x):\n",
    "    return 1 / (1 + math.exp(-x))"
   ]
  },
  {
   "cell_type": "code",
   "execution_count": 13,
   "id": "8a37b66e-e690-4811-b584-3d27ddb188ea",
   "metadata": {},
   "outputs": [
    {
     "data": {
      "text/plain": [
       "0.7310585786300049"
      ]
     },
     "execution_count": 13,
     "metadata": {},
     "output_type": "execute_result"
    }
   ],
   "source": [
    "sigmoid(1)"
   ]
  },
  {
   "cell_type": "code",
   "execution_count": 15,
   "id": "8e55a40a-d3d7-4b55-9890-b7af2952e588",
   "metadata": {},
   "outputs": [
    {
     "data": {
      "text/plain": [
       "1.0"
      ]
     },
     "execution_count": 15,
     "metadata": {},
     "output_type": "execute_result"
    }
   ],
   "source": [
    "sigmoid(100)"
   ]
  },
  {
   "cell_type": "code",
   "execution_count": 16,
   "id": "e617f8d2-fd6a-46e2-b7c8-b786bef9b800",
   "metadata": {},
   "outputs": [
    {
     "data": {
      "text/plain": [
       "1.0806392777072785e-30"
      ]
     },
     "execution_count": 16,
     "metadata": {},
     "output_type": "execute_result"
    }
   ],
   "source": [
    "sigmoid(-69)"
   ]
  },
  {
   "cell_type": "code",
   "execution_count": 17,
   "id": "21f4e86d-4e97-4d35-9f00-15341410f388",
   "metadata": {},
   "outputs": [
    {
     "data": {
      "text/plain": [
       "0.04742587317756678"
      ]
     },
     "execution_count": 17,
     "metadata": {},
     "output_type": "execute_result"
    }
   ],
   "source": [
    "sigmoid(-3)"
   ]
  },
  {
   "cell_type": "code",
   "execution_count": 18,
   "id": "79256efb-98d2-4510-a920-b273194ff84f",
   "metadata": {},
   "outputs": [],
   "source": [
    "def tanh(x):\n",
    "    return (math.exp(x) - math.exp(-x)) / (math.exp(x) + math.exp(-x)) "
   ]
  },
  {
   "cell_type": "code",
   "execution_count": 20,
   "id": "7a00b7ca-d04b-414c-a5d0-f69d88b35b63",
   "metadata": {},
   "outputs": [
    {
     "data": {
      "text/plain": [
       "0.9999999958776926"
      ]
     },
     "execution_count": 20,
     "metadata": {},
     "output_type": "execute_result"
    }
   ],
   "source": [
    "tanh(10)"
   ]
  },
  {
   "cell_type": "code",
   "execution_count": 19,
   "id": "0c829147-6a6f-42cc-8ca7-85dfde9a6b88",
   "metadata": {},
   "outputs": [
    {
     "data": {
      "text/plain": [
       "0.7615941559557649"
      ]
     },
     "execution_count": 19,
     "metadata": {},
     "output_type": "execute_result"
    }
   ],
   "source": [
    "tanh(1)"
   ]
  },
  {
   "cell_type": "code",
   "execution_count": 27,
   "id": "0e3164f7-ec92-468d-b5d2-7b04e609d0c2",
   "metadata": {},
   "outputs": [
    {
     "data": {
      "text/plain": [
       "0.664036770267849"
      ]
     },
     "execution_count": 27,
     "metadata": {},
     "output_type": "execute_result"
    }
   ],
   "source": [
    "tanh(0.8)"
   ]
  },
  {
   "cell_type": "code",
   "execution_count": 22,
   "id": "365192a1-47a6-4101-8bc6-c40c84f72211",
   "metadata": {},
   "outputs": [
    {
     "data": {
      "text/plain": [
       "0.35381676211968377"
      ]
     },
     "execution_count": 22,
     "metadata": {},
     "output_type": "execute_result"
    }
   ],
   "source": [
    "tanh(0.3698)"
   ]
  },
  {
   "cell_type": "code",
   "execution_count": 23,
   "id": "5bceda09-4028-4f12-a866-dd1afefc6ca5",
   "metadata": {},
   "outputs": [
    {
     "data": {
      "text/plain": [
       "-0.35381676211968377"
      ]
     },
     "execution_count": 23,
     "metadata": {},
     "output_type": "execute_result"
    }
   ],
   "source": [
    "tanh(-0.3698)"
   ]
  },
  {
   "cell_type": "code",
   "execution_count": 28,
   "id": "aebcde68-58cc-44b4-90bf-b87f60c30f77",
   "metadata": {},
   "outputs": [
    {
     "data": {
      "text/plain": [
       "-0.664036770267849"
      ]
     },
     "execution_count": 28,
     "metadata": {},
     "output_type": "execute_result"
    }
   ],
   "source": [
    "tanh(-0.8)"
   ]
  },
  {
   "cell_type": "code",
   "execution_count": 30,
   "id": "16135b32-1b54-4e2f-aa7f-69da26e03f91",
   "metadata": {},
   "outputs": [
    {
     "data": {
      "text/plain": [
       "-0.7615941559557649"
      ]
     },
     "execution_count": 30,
     "metadata": {},
     "output_type": "execute_result"
    }
   ],
   "source": [
    "tanh(-1)"
   ]
  },
  {
   "cell_type": "code",
   "execution_count": 31,
   "id": "33150cdb-195b-41c4-b5d8-ddbf53fdb302",
   "metadata": {},
   "outputs": [
    {
     "data": {
      "text/plain": [
       "-0.9999999958776926"
      ]
     },
     "execution_count": 31,
     "metadata": {},
     "output_type": "execute_result"
    }
   ],
   "source": [
    "tanh(-10)"
   ]
  },
  {
   "cell_type": "code",
   "execution_count": 32,
   "id": "aeec95b8-34d1-44ae-8b27-0447c35929d3",
   "metadata": {},
   "outputs": [],
   "source": [
    "def reLU(x):\n",
    "    return max(0, x)"
   ]
  },
  {
   "cell_type": "code",
   "execution_count": 33,
   "id": "5e412e66-76ea-4bb2-8e97-eacb60adfb17",
   "metadata": {},
   "outputs": [
    {
     "data": {
      "text/plain": [
       "0"
      ]
     },
     "execution_count": 33,
     "metadata": {},
     "output_type": "execute_result"
    }
   ],
   "source": [
    "reLU(-8)"
   ]
  },
  {
   "cell_type": "code",
   "execution_count": 34,
   "id": "ccdde9a0-649c-4cf6-9c9b-9a67f68f6522",
   "metadata": {},
   "outputs": [
    {
     "data": {
      "text/plain": [
       "0"
      ]
     },
     "execution_count": 34,
     "metadata": {},
     "output_type": "execute_result"
    }
   ],
   "source": [
    "reLU(-3)"
   ]
  },
  {
   "cell_type": "code",
   "execution_count": 35,
   "id": "f8ace03a-f29a-4f86-a09b-0e8b6e34ee0f",
   "metadata": {},
   "outputs": [
    {
     "data": {
      "text/plain": [
       "0"
      ]
     },
     "execution_count": 35,
     "metadata": {},
     "output_type": "execute_result"
    }
   ],
   "source": [
    "reLU(0)"
   ]
  },
  {
   "cell_type": "code",
   "execution_count": 36,
   "id": "8a3ff04a-799d-4b06-8405-207763afa6c4",
   "metadata": {},
   "outputs": [
    {
     "data": {
      "text/plain": [
       "3"
      ]
     },
     "execution_count": 36,
     "metadata": {},
     "output_type": "execute_result"
    }
   ],
   "source": [
    "reLU(3)"
   ]
  },
  {
   "cell_type": "code",
   "execution_count": 38,
   "id": "93ab795f-2d74-495f-8c38-c4d67d97ce0a",
   "metadata": {},
   "outputs": [
    {
     "data": {
      "text/plain": [
       "6"
      ]
     },
     "execution_count": 38,
     "metadata": {},
     "output_type": "execute_result"
    }
   ],
   "source": [
    "reLU(6)"
   ]
  },
  {
   "cell_type": "code",
   "execution_count": 39,
   "id": "e98efcd2-d1ca-42e1-b486-e59802523342",
   "metadata": {},
   "outputs": [
    {
     "data": {
      "text/plain": [
       "9"
      ]
     },
     "execution_count": 39,
     "metadata": {},
     "output_type": "execute_result"
    }
   ],
   "source": [
    "reLU(9)"
   ]
  },
  {
   "cell_type": "code",
   "execution_count": 41,
   "id": "119664d5-9e02-4e09-aa76-64a2aa7a72cf",
   "metadata": {},
   "outputs": [],
   "source": [
    "def leaky_reLU(x):\n",
    "    return max(0.1*x, x)"
   ]
  },
  {
   "cell_type": "code",
   "execution_count": 42,
   "id": "2838807e-2881-413a-8249-4683bf5d7f2e",
   "metadata": {},
   "outputs": [
    {
     "data": {
      "text/plain": [
       "-0.8"
      ]
     },
     "execution_count": 42,
     "metadata": {},
     "output_type": "execute_result"
    }
   ],
   "source": [
    "leaky_reLU(-8)"
   ]
  },
  {
   "cell_type": "code",
   "execution_count": 43,
   "id": "c5f045c8-20b3-4762-8ae2-dad71866a73d",
   "metadata": {},
   "outputs": [
    {
     "data": {
      "text/plain": [
       "-0.30000000000000004"
      ]
     },
     "execution_count": 43,
     "metadata": {},
     "output_type": "execute_result"
    }
   ],
   "source": [
    "leaky_reLU(-3)"
   ]
  },
  {
   "cell_type": "code",
   "execution_count": 44,
   "id": "9fe274f6-47b9-4463-80f5-2d61f6f5319f",
   "metadata": {},
   "outputs": [
    {
     "data": {
      "text/plain": [
       "0.0"
      ]
     },
     "execution_count": 44,
     "metadata": {},
     "output_type": "execute_result"
    }
   ],
   "source": [
    "leaky_reLU(0)"
   ]
  },
  {
   "cell_type": "code",
   "execution_count": 45,
   "id": "ebc2ad07-451e-4159-a66a-9cd6566dca04",
   "metadata": {},
   "outputs": [
    {
     "data": {
      "text/plain": [
       "3"
      ]
     },
     "execution_count": 45,
     "metadata": {},
     "output_type": "execute_result"
    }
   ],
   "source": [
    "leaky_reLU(3)"
   ]
  },
  {
   "cell_type": "code",
   "execution_count": 46,
   "id": "d51cbce0-0d97-4499-a584-ba59f62f9542",
   "metadata": {},
   "outputs": [
    {
     "data": {
      "text/plain": [
       "6"
      ]
     },
     "execution_count": 46,
     "metadata": {},
     "output_type": "execute_result"
    }
   ],
   "source": [
    "leaky_reLU(6)"
   ]
  },
  {
   "cell_type": "code",
   "execution_count": 47,
   "id": "71a1f8a7-2683-4c4b-a142-78be2f1bbf0f",
   "metadata": {},
   "outputs": [
    {
     "data": {
      "text/plain": [
       "9"
      ]
     },
     "execution_count": 47,
     "metadata": {},
     "output_type": "execute_result"
    }
   ],
   "source": [
    "leaky_reLU(9)"
   ]
  },
  {
   "cell_type": "code",
   "execution_count": null,
   "id": "5f447eeb-54e6-40c4-b35e-82d260036b2b",
   "metadata": {},
   "outputs": [],
   "source": []
  }
 ],
 "metadata": {
  "kernelspec": {
   "display_name": "Python 3 (ipykernel)",
   "language": "python",
   "name": "python3"
  },
  "language_info": {
   "codemirror_mode": {
    "name": "ipython",
    "version": 3
   },
   "file_extension": ".py",
   "mimetype": "text/x-python",
   "name": "python",
   "nbconvert_exporter": "python",
   "pygments_lexer": "ipython3",
   "version": "3.10.17"
  }
 },
 "nbformat": 4,
 "nbformat_minor": 5
}
