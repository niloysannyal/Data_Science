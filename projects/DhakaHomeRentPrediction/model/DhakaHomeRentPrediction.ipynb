{
 "cells": [
  {
   "cell_type": "markdown",
   "id": "f1f4b6f4-0edb-47e4-9a63-5a8a7fc38970",
   "metadata": {},
   "source": [
    "<h1 align=\"center\"> <span style='color:MediumVioletRed;'>Dhaka Home Rent Prediction</span></h1>"
   ]
  },
  {
   "cell_type": "code",
   "execution_count": 1,
   "id": "cb0dff66-1f71-472c-b6c5-48e9f38c3dc1",
   "metadata": {},
   "outputs": [],
   "source": [
    "import pandas as pd\n",
    "import numpy as np\n",
    "import matplotlib.pyplot as plt\n",
    "%matplotlib inline\n",
    "import matplotlib\n",
    "matplotlib.rcParams[\"figure.figsize\"] = (20,10)"
   ]
  },
  {
   "cell_type": "code",
   "execution_count": 2,
   "id": "3c8dfcd0-e24b-4a8c-a1ff-aed5240b430d",
   "metadata": {},
   "outputs": [
    {
     "data": {
      "text/html": [
       "<div>\n",
       "<style scoped>\n",
       "    .dataframe tbody tr th:only-of-type {\n",
       "        vertical-align: middle;\n",
       "    }\n",
       "\n",
       "    .dataframe tbody tr th {\n",
       "        vertical-align: top;\n",
       "    }\n",
       "\n",
       "    .dataframe thead th {\n",
       "        text-align: right;\n",
       "    }\n",
       "</style>\n",
       "<table border=\"1\" class=\"dataframe\">\n",
       "  <thead>\n",
       "    <tr style=\"text-align: right;\">\n",
       "      <th></th>\n",
       "      <th>Location</th>\n",
       "      <th>Area(sqft)</th>\n",
       "      <th>Bed</th>\n",
       "      <th>Bath</th>\n",
       "      <th>Price(Taka)</th>\n",
       "    </tr>\n",
       "  </thead>\n",
       "  <tbody>\n",
       "    <tr>\n",
       "      <th>0</th>\n",
       "      <td>Block H, Bashundhara R-A, Dhaka</td>\n",
       "      <td>1600</td>\n",
       "      <td>3</td>\n",
       "      <td>3</td>\n",
       "      <td>20000</td>\n",
       "    </tr>\n",
       "    <tr>\n",
       "      <th>1</th>\n",
       "      <td>Farmgate, Tejgaon, Dhaka</td>\n",
       "      <td>900</td>\n",
       "      <td>2</td>\n",
       "      <td>2</td>\n",
       "      <td>20000</td>\n",
       "    </tr>\n",
       "    <tr>\n",
       "      <th>2</th>\n",
       "      <td>Block B, Nobodoy Housing Society, Mohammadpur,...</td>\n",
       "      <td>1250</td>\n",
       "      <td>3</td>\n",
       "      <td>3</td>\n",
       "      <td>18000</td>\n",
       "    </tr>\n",
       "    <tr>\n",
       "      <th>3</th>\n",
       "      <td>Gulshan 1, Gulshan, Dhaka</td>\n",
       "      <td>2200</td>\n",
       "      <td>3</td>\n",
       "      <td>4</td>\n",
       "      <td>75000</td>\n",
       "    </tr>\n",
       "    <tr>\n",
       "      <th>4</th>\n",
       "      <td>Baridhara, Dhaka</td>\n",
       "      <td>2200</td>\n",
       "      <td>3</td>\n",
       "      <td>3</td>\n",
       "      <td>75000</td>\n",
       "    </tr>\n",
       "  </tbody>\n",
       "</table>\n",
       "</div>"
      ],
      "text/plain": [
       "                                            Location  Area(sqft)  Bed  Bath  \\\n",
       "0                    Block H, Bashundhara R-A, Dhaka        1600    3     3   \n",
       "1                           Farmgate, Tejgaon, Dhaka         900    2     2   \n",
       "2  Block B, Nobodoy Housing Society, Mohammadpur,...        1250    3     3   \n",
       "3                          Gulshan 1, Gulshan, Dhaka        2200    3     4   \n",
       "4                                   Baridhara, Dhaka        2200    3     3   \n",
       "\n",
       "   Price(Taka)  \n",
       "0        20000  \n",
       "1        20000  \n",
       "2        18000  \n",
       "3        75000  \n",
       "4        75000  "
      ]
     },
     "execution_count": 2,
     "metadata": {},
     "output_type": "execute_result"
    }
   ],
   "source": [
    "df = pd.read_csv(\"houserentdhaka_cleaned.csv\")\n",
    "df.head()"
   ]
  },
  {
   "cell_type": "code",
   "execution_count": 3,
   "id": "d86d04f8-5453-47a1-90b0-8911735c1983",
   "metadata": {},
   "outputs": [
    {
     "data": {
      "text/plain": [
       "(28800, 5)"
      ]
     },
     "execution_count": 3,
     "metadata": {},
     "output_type": "execute_result"
    }
   ],
   "source": [
    "df.shape"
   ]
  },
  {
   "cell_type": "markdown",
   "id": "4a0dfd9e-b452-410d-8ff2-5c5ed5d879de",
   "metadata": {},
   "source": [
    "# <span style='color:MediumVioletRed'>Data Preprocessing</span>"
   ]
  },
  {
   "cell_type": "code",
   "execution_count": 4,
   "id": "69f1efe6-7802-4572-9b92-124370cbeada",
   "metadata": {},
   "outputs": [
    {
     "data": {
      "text/html": [
       "<div>\n",
       "<style scoped>\n",
       "    .dataframe tbody tr th:only-of-type {\n",
       "        vertical-align: middle;\n",
       "    }\n",
       "\n",
       "    .dataframe tbody tr th {\n",
       "        vertical-align: top;\n",
       "    }\n",
       "\n",
       "    .dataframe thead th {\n",
       "        text-align: right;\n",
       "    }\n",
       "</style>\n",
       "<table border=\"1\" class=\"dataframe\">\n",
       "  <thead>\n",
       "    <tr style=\"text-align: right;\">\n",
       "      <th></th>\n",
       "      <th>Location</th>\n",
       "      <th>Area_sqft</th>\n",
       "      <th>Bed</th>\n",
       "      <th>Bath</th>\n",
       "      <th>Price_taka</th>\n",
       "    </tr>\n",
       "  </thead>\n",
       "  <tbody>\n",
       "    <tr>\n",
       "      <th>0</th>\n",
       "      <td>Block H, Bashundhara R-A, Dhaka</td>\n",
       "      <td>1600</td>\n",
       "      <td>3</td>\n",
       "      <td>3</td>\n",
       "      <td>20000</td>\n",
       "    </tr>\n",
       "    <tr>\n",
       "      <th>1</th>\n",
       "      <td>Farmgate, Tejgaon, Dhaka</td>\n",
       "      <td>900</td>\n",
       "      <td>2</td>\n",
       "      <td>2</td>\n",
       "      <td>20000</td>\n",
       "    </tr>\n",
       "    <tr>\n",
       "      <th>2</th>\n",
       "      <td>Block B, Nobodoy Housing Society, Mohammadpur,...</td>\n",
       "      <td>1250</td>\n",
       "      <td>3</td>\n",
       "      <td>3</td>\n",
       "      <td>18000</td>\n",
       "    </tr>\n",
       "    <tr>\n",
       "      <th>3</th>\n",
       "      <td>Gulshan 1, Gulshan, Dhaka</td>\n",
       "      <td>2200</td>\n",
       "      <td>3</td>\n",
       "      <td>4</td>\n",
       "      <td>75000</td>\n",
       "    </tr>\n",
       "    <tr>\n",
       "      <th>4</th>\n",
       "      <td>Baridhara, Dhaka</td>\n",
       "      <td>2200</td>\n",
       "      <td>3</td>\n",
       "      <td>3</td>\n",
       "      <td>75000</td>\n",
       "    </tr>\n",
       "  </tbody>\n",
       "</table>\n",
       "</div>"
      ],
      "text/plain": [
       "                                            Location  Area_sqft  Bed  Bath  \\\n",
       "0                    Block H, Bashundhara R-A, Dhaka       1600    3     3   \n",
       "1                           Farmgate, Tejgaon, Dhaka        900    2     2   \n",
       "2  Block B, Nobodoy Housing Society, Mohammadpur,...       1250    3     3   \n",
       "3                          Gulshan 1, Gulshan, Dhaka       2200    3     4   \n",
       "4                                   Baridhara, Dhaka       2200    3     3   \n",
       "\n",
       "   Price_taka  \n",
       "0       20000  \n",
       "1       20000  \n",
       "2       18000  \n",
       "3       75000  \n",
       "4       75000  "
      ]
     },
     "execution_count": 4,
     "metadata": {},
     "output_type": "execute_result"
    }
   ],
   "source": [
    "df.rename(columns={'Area(sqft)': 'Area_sqft'}, inplace=True)\n",
    "df.rename(columns={'Price(Taka)': 'Price_taka'}, inplace=True)\n",
    "df.head()"
   ]
  },
  {
   "cell_type": "code",
   "execution_count": 5,
   "id": "c1fcfef9-02f6-4a40-81ba-acd285389e1f",
   "metadata": {},
   "outputs": [
    {
     "data": {
      "text/plain": [
       "Location      0\n",
       "Area_sqft     0\n",
       "Bed           0\n",
       "Bath          0\n",
       "Price_taka    0\n",
       "dtype: int64"
      ]
     },
     "execution_count": 5,
     "metadata": {},
     "output_type": "execute_result"
    }
   ],
   "source": [
    "df.isna().sum()"
   ]
  },
  {
   "cell_type": "code",
   "execution_count": 6,
   "id": "e3a592c5-6af2-42b7-918c-d71cc9d281d2",
   "metadata": {
    "scrolled": true
   },
   "outputs": [
    {
     "data": {
      "text/html": [
       "<div>\n",
       "<style scoped>\n",
       "    .dataframe tbody tr th:only-of-type {\n",
       "        vertical-align: middle;\n",
       "    }\n",
       "\n",
       "    .dataframe tbody tr th {\n",
       "        vertical-align: top;\n",
       "    }\n",
       "\n",
       "    .dataframe thead th {\n",
       "        text-align: right;\n",
       "    }\n",
       "</style>\n",
       "<table border=\"1\" class=\"dataframe\">\n",
       "  <thead>\n",
       "    <tr style=\"text-align: right;\">\n",
       "      <th></th>\n",
       "      <th>Location</th>\n",
       "      <th>Area_sqft</th>\n",
       "      <th>Bed</th>\n",
       "      <th>Bath</th>\n",
       "      <th>Price_taka</th>\n",
       "    </tr>\n",
       "  </thead>\n",
       "  <tbody>\n",
       "    <tr>\n",
       "      <th>1195</th>\n",
       "      <td>Dhaka</td>\n",
       "      <td>700</td>\n",
       "      <td>2</td>\n",
       "      <td>1</td>\n",
       "      <td>10500</td>\n",
       "    </tr>\n",
       "    <tr>\n",
       "      <th>3213</th>\n",
       "      <td>Dhaka</td>\n",
       "      <td>1050</td>\n",
       "      <td>3</td>\n",
       "      <td>2</td>\n",
       "      <td>20000</td>\n",
       "    </tr>\n",
       "    <tr>\n",
       "      <th>9376</th>\n",
       "      <td>Dhaka</td>\n",
       "      <td>1100</td>\n",
       "      <td>3</td>\n",
       "      <td>3</td>\n",
       "      <td>18000</td>\n",
       "    </tr>\n",
       "    <tr>\n",
       "      <th>11494</th>\n",
       "      <td>Dhaka</td>\n",
       "      <td>1150</td>\n",
       "      <td>3</td>\n",
       "      <td>2</td>\n",
       "      <td>17500</td>\n",
       "    </tr>\n",
       "    <tr>\n",
       "      <th>16611</th>\n",
       "      <td>Dhaka</td>\n",
       "      <td>500</td>\n",
       "      <td>2</td>\n",
       "      <td>1</td>\n",
       "      <td>10000</td>\n",
       "    </tr>\n",
       "    <tr>\n",
       "      <th>16612</th>\n",
       "      <td>Dhaka</td>\n",
       "      <td>500</td>\n",
       "      <td>2</td>\n",
       "      <td>1</td>\n",
       "      <td>10000</td>\n",
       "    </tr>\n",
       "    <tr>\n",
       "      <th>16613</th>\n",
       "      <td>Dhaka</td>\n",
       "      <td>500</td>\n",
       "      <td>2</td>\n",
       "      <td>1</td>\n",
       "      <td>11000</td>\n",
       "    </tr>\n",
       "    <tr>\n",
       "      <th>16741</th>\n",
       "      <td>Dhaka</td>\n",
       "      <td>700</td>\n",
       "      <td>2</td>\n",
       "      <td>1</td>\n",
       "      <td>10500</td>\n",
       "    </tr>\n",
       "    <tr>\n",
       "      <th>16742</th>\n",
       "      <td>Dhaka</td>\n",
       "      <td>1486</td>\n",
       "      <td>3</td>\n",
       "      <td>3</td>\n",
       "      <td>20000</td>\n",
       "    </tr>\n",
       "    <tr>\n",
       "      <th>18280</th>\n",
       "      <td>Dhaka</td>\n",
       "      <td>1050</td>\n",
       "      <td>3</td>\n",
       "      <td>2</td>\n",
       "      <td>15500</td>\n",
       "    </tr>\n",
       "    <tr>\n",
       "      <th>19001</th>\n",
       "      <td>Dhaka</td>\n",
       "      <td>1650</td>\n",
       "      <td>3</td>\n",
       "      <td>4</td>\n",
       "      <td>36000</td>\n",
       "    </tr>\n",
       "    <tr>\n",
       "      <th>22720</th>\n",
       "      <td>Dhaka</td>\n",
       "      <td>1100</td>\n",
       "      <td>3</td>\n",
       "      <td>3</td>\n",
       "      <td>20000</td>\n",
       "    </tr>\n",
       "    <tr>\n",
       "      <th>27792</th>\n",
       "      <td>Dhaka</td>\n",
       "      <td>2700</td>\n",
       "      <td>4</td>\n",
       "      <td>4</td>\n",
       "      <td>50000</td>\n",
       "    </tr>\n",
       "  </tbody>\n",
       "</table>\n",
       "</div>"
      ],
      "text/plain": [
       "      Location  Area_sqft  Bed  Bath  Price_taka\n",
       "1195     Dhaka        700    2     1       10500\n",
       "3213     Dhaka       1050    3     2       20000\n",
       "9376     Dhaka       1100    3     3       18000\n",
       "11494    Dhaka       1150    3     2       17500\n",
       "16611    Dhaka        500    2     1       10000\n",
       "16612    Dhaka        500    2     1       10000\n",
       "16613    Dhaka        500    2     1       11000\n",
       "16741    Dhaka        700    2     1       10500\n",
       "16742    Dhaka       1486    3     3       20000\n",
       "18280    Dhaka       1050    3     2       15500\n",
       "19001    Dhaka       1650    3     4       36000\n",
       "22720    Dhaka       1100    3     3       20000\n",
       "27792    Dhaka       2700    4     4       50000"
      ]
     },
     "execution_count": 6,
     "metadata": {},
     "output_type": "execute_result"
    }
   ],
   "source": [
    "df[df['Location']=='Dhaka']"
   ]
  },
  {
   "cell_type": "code",
   "execution_count": 7,
   "id": "22d1a08f-4cea-4595-88e3-b3bd895184c3",
   "metadata": {},
   "outputs": [
    {
     "data": {
      "text/plain": [
       "(28787, 5)"
      ]
     },
     "execution_count": 7,
     "metadata": {},
     "output_type": "execute_result"
    }
   ],
   "source": [
    "df2 = df[df['Location']!='Dhaka']\n",
    "df2.shape"
   ]
  },
  {
   "cell_type": "markdown",
   "id": "de80783e-0072-4272-8816-6c15e667292c",
   "metadata": {},
   "source": [
    "# <span style='color:MediumVioletRed'>Feature Engineering</span>"
   ]
  },
  {
   "cell_type": "code",
   "execution_count": 8,
   "id": "634e130a-4d20-45ff-8e82-2e791a41fb57",
   "metadata": {},
   "outputs": [
    {
     "data": {
      "text/html": [
       "<div>\n",
       "<style scoped>\n",
       "    .dataframe tbody tr th:only-of-type {\n",
       "        vertical-align: middle;\n",
       "    }\n",
       "\n",
       "    .dataframe tbody tr th {\n",
       "        vertical-align: top;\n",
       "    }\n",
       "\n",
       "    .dataframe thead th {\n",
       "        text-align: right;\n",
       "    }\n",
       "</style>\n",
       "<table border=\"1\" class=\"dataframe\">\n",
       "  <thead>\n",
       "    <tr style=\"text-align: right;\">\n",
       "      <th></th>\n",
       "      <th>Location</th>\n",
       "      <th>Area_sqft</th>\n",
       "      <th>Bed</th>\n",
       "      <th>Bath</th>\n",
       "      <th>Price_taka</th>\n",
       "    </tr>\n",
       "  </thead>\n",
       "  <tbody>\n",
       "    <tr>\n",
       "      <th>0</th>\n",
       "      <td>Block H, Bashundhara R-A, Dhaka</td>\n",
       "      <td>1600</td>\n",
       "      <td>3</td>\n",
       "      <td>3</td>\n",
       "      <td>20000</td>\n",
       "    </tr>\n",
       "    <tr>\n",
       "      <th>1</th>\n",
       "      <td>Farmgate, Tejgaon, Dhaka</td>\n",
       "      <td>900</td>\n",
       "      <td>2</td>\n",
       "      <td>2</td>\n",
       "      <td>20000</td>\n",
       "    </tr>\n",
       "    <tr>\n",
       "      <th>2</th>\n",
       "      <td>Block B, Nobodoy Housing Society, Mohammadpur,...</td>\n",
       "      <td>1250</td>\n",
       "      <td>3</td>\n",
       "      <td>3</td>\n",
       "      <td>18000</td>\n",
       "    </tr>\n",
       "    <tr>\n",
       "      <th>3</th>\n",
       "      <td>Gulshan 1, Gulshan, Dhaka</td>\n",
       "      <td>2200</td>\n",
       "      <td>3</td>\n",
       "      <td>4</td>\n",
       "      <td>75000</td>\n",
       "    </tr>\n",
       "    <tr>\n",
       "      <th>4</th>\n",
       "      <td>Baridhara, Dhaka</td>\n",
       "      <td>2200</td>\n",
       "      <td>3</td>\n",
       "      <td>3</td>\n",
       "      <td>75000</td>\n",
       "    </tr>\n",
       "  </tbody>\n",
       "</table>\n",
       "</div>"
      ],
      "text/plain": [
       "                                            Location  Area_sqft  Bed  Bath  \\\n",
       "0                    Block H, Bashundhara R-A, Dhaka       1600    3     3   \n",
       "1                           Farmgate, Tejgaon, Dhaka        900    2     2   \n",
       "2  Block B, Nobodoy Housing Society, Mohammadpur,...       1250    3     3   \n",
       "3                          Gulshan 1, Gulshan, Dhaka       2200    3     4   \n",
       "4                                   Baridhara, Dhaka       2200    3     3   \n",
       "\n",
       "   Price_taka  \n",
       "0       20000  \n",
       "1       20000  \n",
       "2       18000  \n",
       "3       75000  \n",
       "4       75000  "
      ]
     },
     "execution_count": 8,
     "metadata": {},
     "output_type": "execute_result"
    }
   ],
   "source": [
    "df2.head()"
   ]
  },
  {
   "cell_type": "code",
   "execution_count": 9,
   "id": "61bb32fa-6668-4262-9e64-d212a4c59d5f",
   "metadata": {},
   "outputs": [
    {
     "data": {
      "text/plain": [
       "729"
      ]
     },
     "execution_count": 9,
     "metadata": {},
     "output_type": "execute_result"
    }
   ],
   "source": [
    "df2.Location.nunique()"
   ]
  },
  {
   "cell_type": "markdown",
   "id": "16d927e9-8d8e-4346-ba8c-2a8a12390c6e",
   "metadata": {},
   "source": [
    "### <span style='color:Turquoise'>Location Transformation for User Friendly Searching</span>"
   ]
  },
  {
   "cell_type": "code",
   "execution_count": 10,
   "id": "ff9b1bb3-52c9-4394-8ecf-ea45b9d849f0",
   "metadata": {},
   "outputs": [],
   "source": [
    "def process_location(location):\n",
    "    # Split by comma and strip whitespace\n",
    "    parts = [part.strip() for part in location.split(\",\")]\n",
    "    \n",
    "    # Remove 'Dhaka' if it exists\n",
    "    parts = [part for part in parts if part.lower() != \"dhaka\"]\n",
    "    \n",
    "    # Reverse the order\n",
    "    parts.reverse()\n",
    "    \n",
    "    # Join the parts back into a single string\n",
    "    return \", \".join(parts)"
   ]
  },
  {
   "cell_type": "code",
   "execution_count": 11,
   "id": "784fc74d-7eda-4747-bd7e-50f97e66e859",
   "metadata": {},
   "outputs": [
    {
     "data": {
      "text/plain": [
       "0                         Bashundhara R-A, Block H\n",
       "1                                Tejgaon, Farmgate\n",
       "2    Mohammadpur, Nobodoy Housing Society, Block B\n",
       "3                               Gulshan, Gulshan 1\n",
       "4                                        Baridhara\n",
       "5                                  Bashundhara R-A\n",
       "6                                        Baridhara\n",
       "7                  Mohammadpur, PC Culture Housing\n",
       "8                              Hazaribag, Jigatola\n",
       "9                            Mirpur, West Kazipara\n",
       "Name: Location, dtype: object"
      ]
     },
     "execution_count": 11,
     "metadata": {},
     "output_type": "execute_result"
    }
   ],
   "source": [
    "processed_locations = df2['Location'].apply(process_location)\n",
    "processed_locations.head(10)"
   ]
  },
  {
   "cell_type": "code",
   "execution_count": 12,
   "id": "a9059a3f-adf0-422c-bfa8-40fc9c563a59",
   "metadata": {},
   "outputs": [
    {
     "data": {
      "text/html": [
       "<div>\n",
       "<style scoped>\n",
       "    .dataframe tbody tr th:only-of-type {\n",
       "        vertical-align: middle;\n",
       "    }\n",
       "\n",
       "    .dataframe tbody tr th {\n",
       "        vertical-align: top;\n",
       "    }\n",
       "\n",
       "    .dataframe thead th {\n",
       "        text-align: right;\n",
       "    }\n",
       "</style>\n",
       "<table border=\"1\" class=\"dataframe\">\n",
       "  <thead>\n",
       "    <tr style=\"text-align: right;\">\n",
       "      <th></th>\n",
       "      <th>Location</th>\n",
       "      <th>Area_sqft</th>\n",
       "      <th>Bed</th>\n",
       "      <th>Bath</th>\n",
       "      <th>Price_taka</th>\n",
       "    </tr>\n",
       "  </thead>\n",
       "  <tbody>\n",
       "    <tr>\n",
       "      <th>0</th>\n",
       "      <td>Bashundhara R-A, Block H</td>\n",
       "      <td>1600</td>\n",
       "      <td>3</td>\n",
       "      <td>3</td>\n",
       "      <td>20000</td>\n",
       "    </tr>\n",
       "    <tr>\n",
       "      <th>1</th>\n",
       "      <td>Tejgaon, Farmgate</td>\n",
       "      <td>900</td>\n",
       "      <td>2</td>\n",
       "      <td>2</td>\n",
       "      <td>20000</td>\n",
       "    </tr>\n",
       "    <tr>\n",
       "      <th>2</th>\n",
       "      <td>Mohammadpur, Nobodoy Housing Society, Block B</td>\n",
       "      <td>1250</td>\n",
       "      <td>3</td>\n",
       "      <td>3</td>\n",
       "      <td>18000</td>\n",
       "    </tr>\n",
       "    <tr>\n",
       "      <th>3</th>\n",
       "      <td>Gulshan, Gulshan 1</td>\n",
       "      <td>2200</td>\n",
       "      <td>3</td>\n",
       "      <td>4</td>\n",
       "      <td>75000</td>\n",
       "    </tr>\n",
       "    <tr>\n",
       "      <th>4</th>\n",
       "      <td>Baridhara</td>\n",
       "      <td>2200</td>\n",
       "      <td>3</td>\n",
       "      <td>3</td>\n",
       "      <td>75000</td>\n",
       "    </tr>\n",
       "  </tbody>\n",
       "</table>\n",
       "</div>"
      ],
      "text/plain": [
       "                                        Location  Area_sqft  Bed  Bath  \\\n",
       "0                       Bashundhara R-A, Block H       1600    3     3   \n",
       "1                              Tejgaon, Farmgate        900    2     2   \n",
       "2  Mohammadpur, Nobodoy Housing Society, Block B       1250    3     3   \n",
       "3                             Gulshan, Gulshan 1       2200    3     4   \n",
       "4                                      Baridhara       2200    3     3   \n",
       "\n",
       "   Price_taka  \n",
       "0       20000  \n",
       "1       20000  \n",
       "2       18000  \n",
       "3       75000  \n",
       "4       75000  "
      ]
     },
     "execution_count": 12,
     "metadata": {},
     "output_type": "execute_result"
    }
   ],
   "source": [
    "df3 = df2.copy()\n",
    "df3['Location'] = processed_locations\n",
    "df3.head()"
   ]
  },
  {
   "cell_type": "markdown",
   "id": "9f3a8977-8f26-4e7c-8aeb-a3d5f4e43a4e",
   "metadata": {},
   "source": [
    "### <span style='color:Turquoise'>Adding new column called \"rent_per_sqft\" for further analysis<span>"
   ]
  },
  {
   "cell_type": "code",
   "execution_count": 13,
   "id": "81dde483-d922-4d29-b5b4-576e7f4c2e30",
   "metadata": {},
   "outputs": [
    {
     "data": {
      "text/html": [
       "<div>\n",
       "<style scoped>\n",
       "    .dataframe tbody tr th:only-of-type {\n",
       "        vertical-align: middle;\n",
       "    }\n",
       "\n",
       "    .dataframe tbody tr th {\n",
       "        vertical-align: top;\n",
       "    }\n",
       "\n",
       "    .dataframe thead th {\n",
       "        text-align: right;\n",
       "    }\n",
       "</style>\n",
       "<table border=\"1\" class=\"dataframe\">\n",
       "  <thead>\n",
       "    <tr style=\"text-align: right;\">\n",
       "      <th></th>\n",
       "      <th>Location</th>\n",
       "      <th>Area_sqft</th>\n",
       "      <th>Bed</th>\n",
       "      <th>Bath</th>\n",
       "      <th>Price_taka</th>\n",
       "      <th>rent_per_sqft</th>\n",
       "    </tr>\n",
       "  </thead>\n",
       "  <tbody>\n",
       "    <tr>\n",
       "      <th>0</th>\n",
       "      <td>Bashundhara R-A, Block H</td>\n",
       "      <td>1600</td>\n",
       "      <td>3</td>\n",
       "      <td>3</td>\n",
       "      <td>20000</td>\n",
       "      <td>12.500000</td>\n",
       "    </tr>\n",
       "    <tr>\n",
       "      <th>1</th>\n",
       "      <td>Tejgaon, Farmgate</td>\n",
       "      <td>900</td>\n",
       "      <td>2</td>\n",
       "      <td>2</td>\n",
       "      <td>20000</td>\n",
       "      <td>22.222222</td>\n",
       "    </tr>\n",
       "    <tr>\n",
       "      <th>2</th>\n",
       "      <td>Mohammadpur, Nobodoy Housing Society, Block B</td>\n",
       "      <td>1250</td>\n",
       "      <td>3</td>\n",
       "      <td>3</td>\n",
       "      <td>18000</td>\n",
       "      <td>14.400000</td>\n",
       "    </tr>\n",
       "    <tr>\n",
       "      <th>3</th>\n",
       "      <td>Gulshan, Gulshan 1</td>\n",
       "      <td>2200</td>\n",
       "      <td>3</td>\n",
       "      <td>4</td>\n",
       "      <td>75000</td>\n",
       "      <td>34.090909</td>\n",
       "    </tr>\n",
       "    <tr>\n",
       "      <th>4</th>\n",
       "      <td>Baridhara</td>\n",
       "      <td>2200</td>\n",
       "      <td>3</td>\n",
       "      <td>3</td>\n",
       "      <td>75000</td>\n",
       "      <td>34.090909</td>\n",
       "    </tr>\n",
       "  </tbody>\n",
       "</table>\n",
       "</div>"
      ],
      "text/plain": [
       "                                        Location  Area_sqft  Bed  Bath  \\\n",
       "0                       Bashundhara R-A, Block H       1600    3     3   \n",
       "1                              Tejgaon, Farmgate        900    2     2   \n",
       "2  Mohammadpur, Nobodoy Housing Society, Block B       1250    3     3   \n",
       "3                             Gulshan, Gulshan 1       2200    3     4   \n",
       "4                                      Baridhara       2200    3     3   \n",
       "\n",
       "   Price_taka  rent_per_sqft  \n",
       "0       20000      12.500000  \n",
       "1       20000      22.222222  \n",
       "2       18000      14.400000  \n",
       "3       75000      34.090909  \n",
       "4       75000      34.090909  "
      ]
     },
     "execution_count": 13,
     "metadata": {},
     "output_type": "execute_result"
    }
   ],
   "source": [
    "df4 = df3.copy()\n",
    "df4['rent_per_sqft'] = df4['Price_taka']/df4['Area_sqft']\n",
    "df4.head()"
   ]
  },
  {
   "cell_type": "code",
   "execution_count": 14,
   "id": "4aa2d65b-c7f6-4258-9b9f-439ffe337ddd",
   "metadata": {},
   "outputs": [
    {
     "data": {
      "text/plain": [
       "729"
      ]
     },
     "execution_count": 14,
     "metadata": {},
     "output_type": "execute_result"
    }
   ],
   "source": [
    "df4.Location.nunique()"
   ]
  },
  {
   "cell_type": "markdown",
   "id": "4c856643-4c4e-473f-9e76-880b5ba1eff8",
   "metadata": {},
   "source": [
    "### <span style='color:Turquoise'>Location which is a categorical variable has <span style=\"color:red\">729</span> unique values. So, we need to apply dimentionality reduction technique here to reduce number of Locations</span>"
   ]
  },
  {
   "cell_type": "code",
   "execution_count": 15,
   "id": "ab5a9510-1bb0-401f-acd2-0fec80295250",
   "metadata": {},
   "outputs": [
    {
     "data": {
      "text/plain": [
       "Location\n",
       "Mohammadpur                      757\n",
       "Mirpur                           556\n",
       "Mirpur, Section 12, Block D      417\n",
       "Dhanmondi                        414\n",
       "Mirpur, Section 12, Block E      411\n",
       "Uttara, Sector 10                357\n",
       "Mirpur, Ahmed Nagar, Paikpara    352\n",
       "Mirpur, Kallyanpur               337\n",
       "Name: Location, dtype: int64"
      ]
     },
     "execution_count": 15,
     "metadata": {},
     "output_type": "execute_result"
    }
   ],
   "source": [
    "Location_stats = df4.groupby('Location')['Location'].agg('count').sort_values(ascending=False)\n",
    "Location_stats.head(8)"
   ]
  },
  {
   "cell_type": "code",
   "execution_count": 16,
   "id": "169ae346-6788-49d5-8ab0-6b444180e76c",
   "metadata": {},
   "outputs": [
    {
     "data": {
      "text/plain": [
       "np.int64(28787)"
      ]
     },
     "execution_count": 16,
     "metadata": {},
     "output_type": "execute_result"
    }
   ],
   "source": [
    "Location_stats.values.sum()"
   ]
  },
  {
   "cell_type": "code",
   "execution_count": 17,
   "id": "5be760fd-24b3-45ed-aefd-eae2090241f1",
   "metadata": {},
   "outputs": [
    {
     "data": {
      "text/plain": [
       "729"
      ]
     },
     "execution_count": 17,
     "metadata": {},
     "output_type": "execute_result"
    }
   ],
   "source": [
    "len(Location_stats)"
   ]
  },
  {
   "cell_type": "markdown",
   "id": "b4e834af-a906-4ac0-8591-9eca11716b91",
   "metadata": {},
   "source": [
    "# <span style='color:MediumVioletRed'>Dimentionality Reduction</span>\n",
    "### <span style='color:Turquoise'>Any location having <span style=\"color:red\">less than 5</span> data points should be tagged as <span style=\"color:red\">\"Other\"</span> location. This way number of categories can be reduced by huge amount. Later on when we do one hot encoding, it will help us with having fewer dummy columns</span>"
   ]
  },
  {
   "cell_type": "code",
   "execution_count": 18,
   "id": "f4d9fb1d-1c09-4546-8aee-531cc8bc4417",
   "metadata": {},
   "outputs": [
    {
     "data": {
      "text/plain": [
       "Location\n",
       "Bangshal, Naya Bazar, Armanitola       4\n",
       "Lalmatia, Block D                      4\n",
       "Lalbagh, Lalbagh Road                  4\n",
       "Khilgaon, West Nandipara, Road No 1    4\n",
       "Dakshin Khan, Faydabad, Transmitter    4\n",
       "                                      ..\n",
       "Maghbazar, Old Elephant Road           1\n",
       "Uttara, Sector 4, Road No 12           1\n",
       "Aftab Nagar, Block F                   1\n",
       "Uttara, Sector 12, Road No 17          1\n",
       "Aftab Nagar, Block D                   1\n",
       "Name: Location, Length: 202, dtype: int64"
      ]
     },
     "execution_count": 18,
     "metadata": {},
     "output_type": "execute_result"
    }
   ],
   "source": [
    "less_than_5 = Location_stats[Location_stats<5]\n",
    "less_than_5"
   ]
  },
  {
   "cell_type": "code",
   "execution_count": 19,
   "id": "fa8a2d07-1c66-4c0c-84b0-9f0cf1ea12c7",
   "metadata": {},
   "outputs": [
    {
     "data": {
      "text/plain": [
       "202"
      ]
     },
     "execution_count": 19,
     "metadata": {},
     "output_type": "execute_result"
    }
   ],
   "source": [
    "len(less_than_5)"
   ]
  },
  {
   "cell_type": "code",
   "execution_count": 20,
   "id": "784d83c9-280f-44a5-9b20-60946594b535",
   "metadata": {},
   "outputs": [
    {
     "data": {
      "text/plain": [
       "528"
      ]
     },
     "execution_count": 20,
     "metadata": {},
     "output_type": "execute_result"
    }
   ],
   "source": [
    "df4.Location = df4.Location.apply(lambda x: 'Other' if x in less_than_5 else x)\n",
    "df4.Location.nunique()"
   ]
  },
  {
   "cell_type": "code",
   "execution_count": 21,
   "id": "bcd33e40-77e8-462c-baef-b7675d39553d",
   "metadata": {
    "scrolled": true
   },
   "outputs": [
    {
     "data": {
      "text/html": [
       "<div>\n",
       "<style scoped>\n",
       "    .dataframe tbody tr th:only-of-type {\n",
       "        vertical-align: middle;\n",
       "    }\n",
       "\n",
       "    .dataframe tbody tr th {\n",
       "        vertical-align: top;\n",
       "    }\n",
       "\n",
       "    .dataframe thead th {\n",
       "        text-align: right;\n",
       "    }\n",
       "</style>\n",
       "<table border=\"1\" class=\"dataframe\">\n",
       "  <thead>\n",
       "    <tr style=\"text-align: right;\">\n",
       "      <th></th>\n",
       "      <th>Location</th>\n",
       "      <th>Area_sqft</th>\n",
       "      <th>Bed</th>\n",
       "      <th>Bath</th>\n",
       "      <th>Price_taka</th>\n",
       "      <th>rent_per_sqft</th>\n",
       "    </tr>\n",
       "  </thead>\n",
       "  <tbody>\n",
       "    <tr>\n",
       "      <th>39</th>\n",
       "      <td>Other</td>\n",
       "      <td>800</td>\n",
       "      <td>3</td>\n",
       "      <td>2</td>\n",
       "      <td>15000</td>\n",
       "      <td>18.750000</td>\n",
       "    </tr>\n",
       "    <tr>\n",
       "      <th>69</th>\n",
       "      <td>Other</td>\n",
       "      <td>2420</td>\n",
       "      <td>3</td>\n",
       "      <td>4</td>\n",
       "      <td>45000</td>\n",
       "      <td>18.595041</td>\n",
       "    </tr>\n",
       "    <tr>\n",
       "      <th>135</th>\n",
       "      <td>Other</td>\n",
       "      <td>800</td>\n",
       "      <td>3</td>\n",
       "      <td>2</td>\n",
       "      <td>15000</td>\n",
       "      <td>18.750000</td>\n",
       "    </tr>\n",
       "    <tr>\n",
       "      <th>138</th>\n",
       "      <td>Other</td>\n",
       "      <td>1000</td>\n",
       "      <td>3</td>\n",
       "      <td>2</td>\n",
       "      <td>15000</td>\n",
       "      <td>15.000000</td>\n",
       "    </tr>\n",
       "    <tr>\n",
       "      <th>198</th>\n",
       "      <td>Other</td>\n",
       "      <td>1800</td>\n",
       "      <td>5</td>\n",
       "      <td>5</td>\n",
       "      <td>35000</td>\n",
       "      <td>19.444444</td>\n",
       "    </tr>\n",
       "  </tbody>\n",
       "</table>\n",
       "</div>"
      ],
      "text/plain": [
       "    Location  Area_sqft  Bed  Bath  Price_taka  rent_per_sqft\n",
       "39     Other        800    3     2       15000      18.750000\n",
       "69     Other       2420    3     4       45000      18.595041\n",
       "135    Other        800    3     2       15000      18.750000\n",
       "138    Other       1000    3     2       15000      15.000000\n",
       "198    Other       1800    5     5       35000      19.444444"
      ]
     },
     "execution_count": 21,
     "metadata": {},
     "output_type": "execute_result"
    }
   ],
   "source": [
    "df4[df4['Location']=='Other'].head()"
   ]
  },
  {
   "cell_type": "code",
   "execution_count": 22,
   "id": "affbdc4c-090e-414e-8987-b3a06463c775",
   "metadata": {},
   "outputs": [
    {
     "data": {
      "text/plain": [
       "np.float64(18108.773672055428)"
      ]
     },
     "execution_count": 22,
     "metadata": {},
     "output_type": "execute_result"
    }
   ],
   "source": [
    "df4[df4['Location']=='Other']['Price_taka'].mean()"
   ]
  },
  {
   "cell_type": "code",
   "execution_count": 23,
   "id": "17474eaa-0cdd-49a6-86cc-60ce41c1ac52",
   "metadata": {},
   "outputs": [
    {
     "data": {
      "text/plain": [
       "(28787, 6)"
      ]
     },
     "execution_count": 23,
     "metadata": {},
     "output_type": "execute_result"
    }
   ],
   "source": [
    "df4.shape"
   ]
  },
  {
   "cell_type": "markdown",
   "id": "22718e2e-76bc-44f7-8243-1e65ac3b67f6",
   "metadata": {},
   "source": [
    "# <span style=\"color:MediumVioletRed\">Outliers Removal Using Business Logic</span>"
   ]
  },
  {
   "cell_type": "code",
   "execution_count": 24,
   "id": "49db140d-fb8b-42cb-91ba-48c02bc2d9d4",
   "metadata": {},
   "outputs": [
    {
     "data": {
      "text/plain": [
       "count    28787.000000\n",
       "mean        19.015292\n",
       "std          6.553057\n",
       "min          6.500000\n",
       "25%         15.384615\n",
       "50%         18.055556\n",
       "75%         21.052632\n",
       "max        228.571429\n",
       "Name: rent_per_sqft, dtype: float64"
      ]
     },
     "execution_count": 24,
     "metadata": {},
     "output_type": "execute_result"
    }
   ],
   "source": [
    "df4.rent_per_sqft.describe()"
   ]
  },
  {
   "cell_type": "markdown",
   "id": "9a1eee9b-3c6a-41c9-8589-fbd7012b42ce",
   "metadata": {},
   "source": [
    "## <span style=\"color:MediumVioletRed\">1. 3-Sigma Rule</span>\n",
    "### <span style=\"color:Turquoise\">For a normal distribution with mean <span style='color:MediumVioletRed'>(μ)</span> and standard deviation <span style='color:MediumVioletRed'>(σ)</span>:</span>\n",
    "#### <span style=\"color:Turquoise\"><span style='color:MediumVioletRed'>1.</span> The range μ ± 1σ covers <span style='color:MediumVioletRed'>~68%</span> of the data.</span>\n",
    "#### <span style=\"color:Turquoise\"><span style='color:MediumVioletRed'>2.</span> The range μ ± 2σ covers <span style='color:MediumVioletRed'>~95%</span> of the data.</span>\n",
    "#### <span style=\"color:Turquoise\"><span style='color:MediumVioletRed'>3.</span> The range μ ± 3σ covers <span style='color:MediumVioletRed'>~99.7%</span> of the data.</span>"
   ]
  },
  {
   "cell_type": "code",
   "execution_count": 25,
   "id": "479ce52b-54d1-4a19-89a4-8303dc9749df",
   "metadata": {},
   "outputs": [
    {
     "data": {
      "text/html": [
       "<div>\n",
       "<style scoped>\n",
       "    .dataframe tbody tr th:only-of-type {\n",
       "        vertical-align: middle;\n",
       "    }\n",
       "\n",
       "    .dataframe tbody tr th {\n",
       "        vertical-align: top;\n",
       "    }\n",
       "\n",
       "    .dataframe thead th {\n",
       "        text-align: right;\n",
       "    }\n",
       "</style>\n",
       "<table border=\"1\" class=\"dataframe\">\n",
       "  <thead>\n",
       "    <tr style=\"text-align: right;\">\n",
       "      <th></th>\n",
       "      <th>Location</th>\n",
       "      <th>Area_sqft</th>\n",
       "      <th>Bed</th>\n",
       "      <th>Bath</th>\n",
       "      <th>Price_taka</th>\n",
       "      <th>rent_per_sqft</th>\n",
       "    </tr>\n",
       "  </thead>\n",
       "  <tbody>\n",
       "    <tr>\n",
       "      <th>131</th>\n",
       "      <td>Bashundhara R-A, Block D</td>\n",
       "      <td>1100</td>\n",
       "      <td>2</td>\n",
       "      <td>2</td>\n",
       "      <td>140000</td>\n",
       "      <td>127.272727</td>\n",
       "    </tr>\n",
       "    <tr>\n",
       "      <th>646</th>\n",
       "      <td>Gulshan, Gulshan 2</td>\n",
       "      <td>5800</td>\n",
       "      <td>4</td>\n",
       "      <td>4</td>\n",
       "      <td>650000</td>\n",
       "      <td>112.068966</td>\n",
       "    </tr>\n",
       "    <tr>\n",
       "      <th>23388</th>\n",
       "      <td>Baridhara, Block K</td>\n",
       "      <td>3600</td>\n",
       "      <td>4</td>\n",
       "      <td>4</td>\n",
       "      <td>400000</td>\n",
       "      <td>111.111111</td>\n",
       "    </tr>\n",
       "    <tr>\n",
       "      <th>23688</th>\n",
       "      <td>Baridhara, Block K</td>\n",
       "      <td>3600</td>\n",
       "      <td>4</td>\n",
       "      <td>4</td>\n",
       "      <td>400000</td>\n",
       "      <td>111.111111</td>\n",
       "    </tr>\n",
       "    <tr>\n",
       "      <th>26973</th>\n",
       "      <td>Shantinagar</td>\n",
       "      <td>2100</td>\n",
       "      <td>3</td>\n",
       "      <td>4</td>\n",
       "      <td>480000</td>\n",
       "      <td>228.571429</td>\n",
       "    </tr>\n",
       "  </tbody>\n",
       "</table>\n",
       "</div>"
      ],
      "text/plain": [
       "                       Location  Area_sqft  Bed  Bath  Price_taka  \\\n",
       "131    Bashundhara R-A, Block D       1100    2     2      140000   \n",
       "646          Gulshan, Gulshan 2       5800    4     4      650000   \n",
       "23388        Baridhara, Block K       3600    4     4      400000   \n",
       "23688        Baridhara, Block K       3600    4     4      400000   \n",
       "26973               Shantinagar       2100    3     4      480000   \n",
       "\n",
       "       rent_per_sqft  \n",
       "131       127.272727  \n",
       "646       112.068966  \n",
       "23388     111.111111  \n",
       "23688     111.111111  \n",
       "26973     228.571429  "
      ]
     },
     "execution_count": 25,
     "metadata": {},
     "output_type": "execute_result"
    }
   ],
   "source": [
    "df4[df4.rent_per_sqft>100]"
   ]
  },
  {
   "cell_type": "code",
   "execution_count": 26,
   "id": "7b2ffbca-feb3-417b-b94f-8303ed86ec91",
   "metadata": {},
   "outputs": [
    {
     "data": {
      "text/html": [
       "<div>\n",
       "<style scoped>\n",
       "    .dataframe tbody tr th:only-of-type {\n",
       "        vertical-align: middle;\n",
       "    }\n",
       "\n",
       "    .dataframe tbody tr th {\n",
       "        vertical-align: top;\n",
       "    }\n",
       "\n",
       "    .dataframe thead th {\n",
       "        text-align: right;\n",
       "    }\n",
       "</style>\n",
       "<table border=\"1\" class=\"dataframe\">\n",
       "  <thead>\n",
       "    <tr style=\"text-align: right;\">\n",
       "      <th></th>\n",
       "      <th>Location</th>\n",
       "      <th>Area_sqft</th>\n",
       "      <th>Bed</th>\n",
       "      <th>Bath</th>\n",
       "      <th>Price_taka</th>\n",
       "      <th>rent_per_sqft</th>\n",
       "    </tr>\n",
       "  </thead>\n",
       "  <tbody>\n",
       "    <tr>\n",
       "      <th>192</th>\n",
       "      <td>Mirpur, Middle Paikpara</td>\n",
       "      <td>1600</td>\n",
       "      <td>3</td>\n",
       "      <td>3</td>\n",
       "      <td>15000</td>\n",
       "      <td>9.375000</td>\n",
       "    </tr>\n",
       "    <tr>\n",
       "      <th>454</th>\n",
       "      <td>Khilgaon, Goran, East Goran</td>\n",
       "      <td>980</td>\n",
       "      <td>2</td>\n",
       "      <td>2</td>\n",
       "      <td>9000</td>\n",
       "      <td>9.183673</td>\n",
       "    </tr>\n",
       "    <tr>\n",
       "      <th>522</th>\n",
       "      <td>Uttara, Sector 18, Rajuk Uttara Apartment Proj...</td>\n",
       "      <td>1654</td>\n",
       "      <td>3</td>\n",
       "      <td>3</td>\n",
       "      <td>14000</td>\n",
       "      <td>8.464329</td>\n",
       "    </tr>\n",
       "    <tr>\n",
       "      <th>901</th>\n",
       "      <td>Uttara, Sector 18, Rajuk Uttara Apartment Proj...</td>\n",
       "      <td>1654</td>\n",
       "      <td>3</td>\n",
       "      <td>3</td>\n",
       "      <td>14000</td>\n",
       "      <td>8.464329</td>\n",
       "    </tr>\n",
       "    <tr>\n",
       "      <th>1141</th>\n",
       "      <td>Other</td>\n",
       "      <td>1000</td>\n",
       "      <td>3</td>\n",
       "      <td>2</td>\n",
       "      <td>9000</td>\n",
       "      <td>9.000000</td>\n",
       "    </tr>\n",
       "    <tr>\n",
       "      <th>...</th>\n",
       "      <td>...</td>\n",
       "      <td>...</td>\n",
       "      <td>...</td>\n",
       "      <td>...</td>\n",
       "      <td>...</td>\n",
       "      <td>...</td>\n",
       "    </tr>\n",
       "    <tr>\n",
       "      <th>28120</th>\n",
       "      <td>Uttara, Sector 18, Rajuk Uttara Apartment Proj...</td>\n",
       "      <td>1654</td>\n",
       "      <td>3</td>\n",
       "      <td>4</td>\n",
       "      <td>15000</td>\n",
       "      <td>9.068924</td>\n",
       "    </tr>\n",
       "    <tr>\n",
       "      <th>28159</th>\n",
       "      <td>Uttara, Sector 18, Rajuk Uttara Apartment Proj...</td>\n",
       "      <td>1654</td>\n",
       "      <td>3</td>\n",
       "      <td>4</td>\n",
       "      <td>14000</td>\n",
       "      <td>8.464329</td>\n",
       "    </tr>\n",
       "    <tr>\n",
       "      <th>28258</th>\n",
       "      <td>Uttara, Sector 18, Rajuk Uttara Apartment Proj...</td>\n",
       "      <td>1654</td>\n",
       "      <td>3</td>\n",
       "      <td>4</td>\n",
       "      <td>14000</td>\n",
       "      <td>8.464329</td>\n",
       "    </tr>\n",
       "    <tr>\n",
       "      <th>28277</th>\n",
       "      <td>Uttara, Sector 18, Rajuk Uttara Apartment Proj...</td>\n",
       "      <td>1654</td>\n",
       "      <td>3</td>\n",
       "      <td>4</td>\n",
       "      <td>14000</td>\n",
       "      <td>8.464329</td>\n",
       "    </tr>\n",
       "    <tr>\n",
       "      <th>28464</th>\n",
       "      <td>Uttara, Sector 18, Rajuk Uttara Apartment Proj...</td>\n",
       "      <td>1654</td>\n",
       "      <td>3</td>\n",
       "      <td>3</td>\n",
       "      <td>13000</td>\n",
       "      <td>7.859734</td>\n",
       "    </tr>\n",
       "  </tbody>\n",
       "</table>\n",
       "<p>248 rows × 6 columns</p>\n",
       "</div>"
      ],
      "text/plain": [
       "                                                Location  Area_sqft  Bed  \\\n",
       "192                              Mirpur, Middle Paikpara       1600    3   \n",
       "454                          Khilgaon, Goran, East Goran        980    2   \n",
       "522    Uttara, Sector 18, Rajuk Uttara Apartment Proj...       1654    3   \n",
       "901    Uttara, Sector 18, Rajuk Uttara Apartment Proj...       1654    3   \n",
       "1141                                               Other       1000    3   \n",
       "...                                                  ...        ...  ...   \n",
       "28120  Uttara, Sector 18, Rajuk Uttara Apartment Proj...       1654    3   \n",
       "28159  Uttara, Sector 18, Rajuk Uttara Apartment Proj...       1654    3   \n",
       "28258  Uttara, Sector 18, Rajuk Uttara Apartment Proj...       1654    3   \n",
       "28277  Uttara, Sector 18, Rajuk Uttara Apartment Proj...       1654    3   \n",
       "28464  Uttara, Sector 18, Rajuk Uttara Apartment Proj...       1654    3   \n",
       "\n",
       "       Bath  Price_taka  rent_per_sqft  \n",
       "192       3       15000       9.375000  \n",
       "454       2        9000       9.183673  \n",
       "522       3       14000       8.464329  \n",
       "901       3       14000       8.464329  \n",
       "1141      2        9000       9.000000  \n",
       "...     ...         ...            ...  \n",
       "28120     4       15000       9.068924  \n",
       "28159     4       14000       8.464329  \n",
       "28258     4       14000       8.464329  \n",
       "28277     4       14000       8.464329  \n",
       "28464     3       13000       7.859734  \n",
       "\n",
       "[248 rows x 6 columns]"
      ]
     },
     "execution_count": 26,
     "metadata": {},
     "output_type": "execute_result"
    }
   ],
   "source": [
    "df4[df4.rent_per_sqft<10]"
   ]
  },
  {
   "cell_type": "code",
   "execution_count": 27,
   "id": "b2a31aa5-2bc4-44ce-9a81-c8c911f82f04",
   "metadata": {},
   "outputs": [],
   "source": [
    "#Removing rows using 3 sigma rule\n",
    "def remove_rps_outliers(df):\n",
    "    df_out = pd.DataFrame()\n",
    "    for key, subdf in df.groupby('Location'):\n",
    "        m = np.mean(subdf.rent_per_sqft)\n",
    "        st = np.std(subdf.rent_per_sqft)\n",
    "        reduced_df = subdf[(subdf.rent_per_sqft>(m-1.3*st)) & (subdf.rent_per_sqft<=(m+1.3*st))]\n",
    "        df_out = pd.concat([df_out, reduced_df], ignore_index=True)\n",
    "    return df_out"
   ]
  },
  {
   "cell_type": "code",
   "execution_count": 28,
   "id": "29527497-4d5c-431a-93bd-8282da9c59c9",
   "metadata": {},
   "outputs": [
    {
     "data": {
      "text/plain": [
       "(24036, 6)"
      ]
     },
     "execution_count": 28,
     "metadata": {},
     "output_type": "execute_result"
    }
   ],
   "source": [
    "df5 = remove_rps_outliers(df4)\n",
    "df5.shape"
   ]
  },
  {
   "cell_type": "code",
   "execution_count": 29,
   "id": "6f41edf5-b164-4063-8612-49f8a52336d4",
   "metadata": {},
   "outputs": [
    {
     "data": {
      "text/plain": [
       "count    24036.000000\n",
       "mean        18.740161\n",
       "std          5.504735\n",
       "min          8.464329\n",
       "25%         15.625000\n",
       "50%         18.000000\n",
       "75%         20.689655\n",
       "max         83.333333\n",
       "Name: rent_per_sqft, dtype: float64"
      ]
     },
     "execution_count": 29,
     "metadata": {},
     "output_type": "execute_result"
    }
   ],
   "source": [
    "df5.rent_per_sqft.describe()"
   ]
  },
  {
   "cell_type": "code",
   "execution_count": 30,
   "id": "4634c304-946a-4d22-ac3f-83f82fe1c46a",
   "metadata": {},
   "outputs": [
    {
     "data": {
      "text/html": [
       "<div>\n",
       "<style scoped>\n",
       "    .dataframe tbody tr th:only-of-type {\n",
       "        vertical-align: middle;\n",
       "    }\n",
       "\n",
       "    .dataframe tbody tr th {\n",
       "        vertical-align: top;\n",
       "    }\n",
       "\n",
       "    .dataframe thead th {\n",
       "        text-align: right;\n",
       "    }\n",
       "</style>\n",
       "<table border=\"1\" class=\"dataframe\">\n",
       "  <thead>\n",
       "    <tr style=\"text-align: right;\">\n",
       "      <th></th>\n",
       "      <th>Location</th>\n",
       "      <th>Area_sqft</th>\n",
       "      <th>Bed</th>\n",
       "      <th>Bath</th>\n",
       "      <th>Price_taka</th>\n",
       "      <th>rent_per_sqft</th>\n",
       "    </tr>\n",
       "  </thead>\n",
       "  <tbody>\n",
       "    <tr>\n",
       "      <th>5145</th>\n",
       "      <td>Cantonment, Goltek</td>\n",
       "      <td>1050</td>\n",
       "      <td>3</td>\n",
       "      <td>3</td>\n",
       "      <td>10000</td>\n",
       "      <td>9.523810</td>\n",
       "    </tr>\n",
       "    <tr>\n",
       "      <th>5146</th>\n",
       "      <td>Cantonment, Goltek</td>\n",
       "      <td>1100</td>\n",
       "      <td>3</td>\n",
       "      <td>3</td>\n",
       "      <td>10000</td>\n",
       "      <td>9.090909</td>\n",
       "    </tr>\n",
       "    <tr>\n",
       "      <th>5149</th>\n",
       "      <td>Cantonment, Goltek</td>\n",
       "      <td>1270</td>\n",
       "      <td>3</td>\n",
       "      <td>3</td>\n",
       "      <td>12000</td>\n",
       "      <td>9.448819</td>\n",
       "    </tr>\n",
       "    <tr>\n",
       "      <th>5150</th>\n",
       "      <td>Cantonment, Goltek</td>\n",
       "      <td>1240</td>\n",
       "      <td>3</td>\n",
       "      <td>3</td>\n",
       "      <td>12000</td>\n",
       "      <td>9.677419</td>\n",
       "    </tr>\n",
       "    <tr>\n",
       "      <th>5151</th>\n",
       "      <td>Cantonment, Goltek</td>\n",
       "      <td>1100</td>\n",
       "      <td>3</td>\n",
       "      <td>3</td>\n",
       "      <td>10000</td>\n",
       "      <td>9.090909</td>\n",
       "    </tr>\n",
       "    <tr>\n",
       "      <th>...</th>\n",
       "      <td>...</td>\n",
       "      <td>...</td>\n",
       "      <td>...</td>\n",
       "      <td>...</td>\n",
       "      <td>...</td>\n",
       "      <td>...</td>\n",
       "    </tr>\n",
       "    <tr>\n",
       "      <th>23527</th>\n",
       "      <td>Uttara, Sector 18, Rajuk Uttara Apartment Proj...</td>\n",
       "      <td>1654</td>\n",
       "      <td>3</td>\n",
       "      <td>4</td>\n",
       "      <td>15000</td>\n",
       "      <td>9.068924</td>\n",
       "    </tr>\n",
       "    <tr>\n",
       "      <th>23528</th>\n",
       "      <td>Uttara, Sector 18, Rajuk Uttara Apartment Proj...</td>\n",
       "      <td>1654</td>\n",
       "      <td>3</td>\n",
       "      <td>4</td>\n",
       "      <td>15000</td>\n",
       "      <td>9.068924</td>\n",
       "    </tr>\n",
       "    <tr>\n",
       "      <th>23529</th>\n",
       "      <td>Uttara, Sector 18, Rajuk Uttara Apartment Proj...</td>\n",
       "      <td>1654</td>\n",
       "      <td>3</td>\n",
       "      <td>4</td>\n",
       "      <td>14000</td>\n",
       "      <td>8.464329</td>\n",
       "    </tr>\n",
       "    <tr>\n",
       "      <th>23530</th>\n",
       "      <td>Uttara, Sector 18, Rajuk Uttara Apartment Proj...</td>\n",
       "      <td>1654</td>\n",
       "      <td>3</td>\n",
       "      <td>4</td>\n",
       "      <td>14000</td>\n",
       "      <td>8.464329</td>\n",
       "    </tr>\n",
       "    <tr>\n",
       "      <th>23531</th>\n",
       "      <td>Uttara, Sector 18, Rajuk Uttara Apartment Proj...</td>\n",
       "      <td>1654</td>\n",
       "      <td>3</td>\n",
       "      <td>4</td>\n",
       "      <td>14000</td>\n",
       "      <td>8.464329</td>\n",
       "    </tr>\n",
       "  </tbody>\n",
       "</table>\n",
       "<p>183 rows × 6 columns</p>\n",
       "</div>"
      ],
      "text/plain": [
       "                                                Location  Area_sqft  Bed  \\\n",
       "5145                                  Cantonment, Goltek       1050    3   \n",
       "5146                                  Cantonment, Goltek       1100    3   \n",
       "5149                                  Cantonment, Goltek       1270    3   \n",
       "5150                                  Cantonment, Goltek       1240    3   \n",
       "5151                                  Cantonment, Goltek       1100    3   \n",
       "...                                                  ...        ...  ...   \n",
       "23527  Uttara, Sector 18, Rajuk Uttara Apartment Proj...       1654    3   \n",
       "23528  Uttara, Sector 18, Rajuk Uttara Apartment Proj...       1654    3   \n",
       "23529  Uttara, Sector 18, Rajuk Uttara Apartment Proj...       1654    3   \n",
       "23530  Uttara, Sector 18, Rajuk Uttara Apartment Proj...       1654    3   \n",
       "23531  Uttara, Sector 18, Rajuk Uttara Apartment Proj...       1654    3   \n",
       "\n",
       "       Bath  Price_taka  rent_per_sqft  \n",
       "5145      3       10000       9.523810  \n",
       "5146      3       10000       9.090909  \n",
       "5149      3       12000       9.448819  \n",
       "5150      3       12000       9.677419  \n",
       "5151      3       10000       9.090909  \n",
       "...     ...         ...            ...  \n",
       "23527     4       15000       9.068924  \n",
       "23528     4       15000       9.068924  \n",
       "23529     4       14000       8.464329  \n",
       "23530     4       14000       8.464329  \n",
       "23531     4       14000       8.464329  \n",
       "\n",
       "[183 rows x 6 columns]"
      ]
     },
     "execution_count": 30,
     "metadata": {},
     "output_type": "execute_result"
    }
   ],
   "source": [
    "df5[df5.rent_per_sqft<10]"
   ]
  },
  {
   "cell_type": "code",
   "execution_count": 31,
   "id": "d0ce7977-3c2d-4ddf-a4c0-7e967ef9dcae",
   "metadata": {},
   "outputs": [
    {
     "data": {
      "text/html": [
       "<div>\n",
       "<style scoped>\n",
       "    .dataframe tbody tr th:only-of-type {\n",
       "        vertical-align: middle;\n",
       "    }\n",
       "\n",
       "    .dataframe tbody tr th {\n",
       "        vertical-align: top;\n",
       "    }\n",
       "\n",
       "    .dataframe thead th {\n",
       "        text-align: right;\n",
       "    }\n",
       "</style>\n",
       "<table border=\"1\" class=\"dataframe\">\n",
       "  <thead>\n",
       "    <tr style=\"text-align: right;\">\n",
       "      <th></th>\n",
       "      <th>Location</th>\n",
       "      <th>Area_sqft</th>\n",
       "      <th>Bed</th>\n",
       "      <th>Bath</th>\n",
       "      <th>Price_taka</th>\n",
       "      <th>rent_per_sqft</th>\n",
       "    </tr>\n",
       "  </thead>\n",
       "  <tbody>\n",
       "    <tr>\n",
       "      <th>3436</th>\n",
       "      <td>Baridhara, Block K</td>\n",
       "      <td>3000</td>\n",
       "      <td>3</td>\n",
       "      <td>3</td>\n",
       "      <td>250000</td>\n",
       "      <td>83.333333</td>\n",
       "    </tr>\n",
       "    <tr>\n",
       "      <th>3460</th>\n",
       "      <td>Baridhara, Block K</td>\n",
       "      <td>3000</td>\n",
       "      <td>4</td>\n",
       "      <td>4</td>\n",
       "      <td>250000</td>\n",
       "      <td>83.333333</td>\n",
       "    </tr>\n",
       "    <tr>\n",
       "      <th>3461</th>\n",
       "      <td>Baridhara, Block K</td>\n",
       "      <td>3000</td>\n",
       "      <td>4</td>\n",
       "      <td>4</td>\n",
       "      <td>250000</td>\n",
       "      <td>83.333333</td>\n",
       "    </tr>\n",
       "  </tbody>\n",
       "</table>\n",
       "</div>"
      ],
      "text/plain": [
       "                Location  Area_sqft  Bed  Bath  Price_taka  rent_per_sqft\n",
       "3436  Baridhara, Block K       3000    3     3      250000      83.333333\n",
       "3460  Baridhara, Block K       3000    4     4      250000      83.333333\n",
       "3461  Baridhara, Block K       3000    4     4      250000      83.333333"
      ]
     },
     "execution_count": 31,
     "metadata": {},
     "output_type": "execute_result"
    }
   ],
   "source": [
    "df5[df5.rent_per_sqft>80]"
   ]
  },
  {
   "cell_type": "code",
   "execution_count": 32,
   "id": "a4afefdc-f010-42a9-b736-568e6d48a98c",
   "metadata": {},
   "outputs": [
    {
     "data": {
      "text/html": [
       "<div>\n",
       "<style scoped>\n",
       "    .dataframe tbody tr th:only-of-type {\n",
       "        vertical-align: middle;\n",
       "    }\n",
       "\n",
       "    .dataframe tbody tr th {\n",
       "        vertical-align: top;\n",
       "    }\n",
       "\n",
       "    .dataframe thead th {\n",
       "        text-align: right;\n",
       "    }\n",
       "</style>\n",
       "<table border=\"1\" class=\"dataframe\">\n",
       "  <thead>\n",
       "    <tr style=\"text-align: right;\">\n",
       "      <th></th>\n",
       "      <th>Location</th>\n",
       "      <th>Area_sqft</th>\n",
       "      <th>Bed</th>\n",
       "      <th>Bath</th>\n",
       "      <th>Price_taka</th>\n",
       "      <th>rent_per_sqft</th>\n",
       "    </tr>\n",
       "  </thead>\n",
       "  <tbody>\n",
       "    <tr>\n",
       "      <th>3248</th>\n",
       "      <td>Baridhara</td>\n",
       "      <td>5500</td>\n",
       "      <td>4</td>\n",
       "      <td>5</td>\n",
       "      <td>350000</td>\n",
       "      <td>63.636364</td>\n",
       "    </tr>\n",
       "    <tr>\n",
       "      <th>3263</th>\n",
       "      <td>Baridhara</td>\n",
       "      <td>6300</td>\n",
       "      <td>4</td>\n",
       "      <td>5</td>\n",
       "      <td>400000</td>\n",
       "      <td>63.492063</td>\n",
       "    </tr>\n",
       "    <tr>\n",
       "      <th>3264</th>\n",
       "      <td>Baridhara</td>\n",
       "      <td>6300</td>\n",
       "      <td>4</td>\n",
       "      <td>5</td>\n",
       "      <td>400000</td>\n",
       "      <td>63.492063</td>\n",
       "    </tr>\n",
       "    <tr>\n",
       "      <th>3279</th>\n",
       "      <td>Baridhara</td>\n",
       "      <td>6300</td>\n",
       "      <td>4</td>\n",
       "      <td>5</td>\n",
       "      <td>400000</td>\n",
       "      <td>63.492063</td>\n",
       "    </tr>\n",
       "  </tbody>\n",
       "</table>\n",
       "</div>"
      ],
      "text/plain": [
       "       Location  Area_sqft  Bed  Bath  Price_taka  rent_per_sqft\n",
       "3248  Baridhara       5500    4     5      350000      63.636364\n",
       "3263  Baridhara       6300    4     5      400000      63.492063\n",
       "3264  Baridhara       6300    4     5      400000      63.492063\n",
       "3279  Baridhara       6300    4     5      400000      63.492063"
      ]
     },
     "execution_count": 32,
     "metadata": {},
     "output_type": "execute_result"
    }
   ],
   "source": [
    "df5[df5['Area_sqft']>5000]"
   ]
  },
  {
   "cell_type": "markdown",
   "id": "0f3e29ea-3fe3-4f85-beda-c5b1216137a2",
   "metadata": {},
   "source": [
    "## <span style='color:MediumVioletRed'>2. Value Per Unit of Utility</span>\n",
    "### <span style='color:Turquoise'>Let's check if for a given location how does the 2 Bedrooms and 3 Bedrooms property rent look like</span>"
   ]
  },
  {
   "cell_type": "code",
   "execution_count": 33,
   "id": "60e5c123-fa2a-4624-9508-eaa21b729169",
   "metadata": {},
   "outputs": [],
   "source": [
    "def plot_scatter_chart(df,location):\n",
    "    bed2 = df[(df.Location==location) & (df.Bed==2)]\n",
    "    bed3 = df[(df.Location==location) & (df.Bed==3)]\n",
    "    matplotlib.rcParams['figure.figsize'] = (10,7)\n",
    "    plt.scatter(bed2['Area_sqft'], bed2['rent_per_sqft'], color='red', marker='*', label='2 Bed')\n",
    "    plt.scatter(bed3['Area_sqft'], bed3['rent_per_sqft'], color='blue', marker='^', label='3 Bed')\n",
    "    plt.xlabel(\"Total Square Feet Area\")\n",
    "    plt.ylabel(\"Rent Per Square Feet\")\n",
    "    plt.title(location)\n",
    "    plt.style.use('dark_background')\n",
    "    plt.legend()\n",
    "    plt.show()"
   ]
  },
  {
   "cell_type": "code",
   "execution_count": 35,
   "id": "47b1e2d1-268c-4ce2-a517-b1b2786f639b",
   "metadata": {},
   "outputs": [
    {
     "data": {
      "image/png": "[encoded data removed]",
      "text/plain": [
       "<Figure size 1000x700 with 1 Axes>"
      ]
     },
     "metadata": {},
     "output_type": "display_data"
    }
   ],
   "source": [
    "plot_scatter_chart(df5, 'Agargaon')"
   ]
  },
  {
   "cell_type": "code",
   "execution_count": 36,
   "id": "77f1f879-19c9-4519-b913-2bfce3641bfc",
   "metadata": {},
   "outputs": [
    {
     "data": {
      "image/png": "[encoded data removed]",
      "text/plain": [
       "<Figure size 1000x700 with 1 Axes>"
      ]
     },
     "metadata": {},
     "output_type": "display_data"
    }
   ],
   "source": [
    "plot_scatter_chart(df5, 'Dhanmondi')"
   ]
  },
  {
   "cell_type": "markdown",
   "id": "db435f3f-65da-44f3-9ef1-ba43018f9f87",
   "metadata": {},
   "source": [
    "### <span style='color:Turquoise'>We should also remove properties where for same location, the rent of (for example) 3 Bedroom apartment is less than 2 Bedroom apartment (with same square ft area). What we will do is for a given location, we will build a dictionary of stats per bedroom, i.e.</span>\n",
    "\n",
    "```python\n",
    "{\n",
    "    '1' : {\n",
    "        'mean': 12,\n",
    "        'percentile': 0.1,\n",
    "        'count': 34\n",
    "    },\n",
    "    '2' : {\n",
    "        'mean': 14,\n",
    "        'percentile': 0.1,\n",
    "        'count': 22\n",
    "    },    \n",
    "}"
   ]
  },
  {
   "cell_type": "markdown",
   "id": "6b59a48e-a53c-4138-9a2d-c1d9f119bb3a",
   "metadata": {},
   "source": [
    "### <span style='color:Turquoise'>Now we can remove those 2 Bedroom apartments whose price_per_sqft is less than percentile-based threshold of 1 Bedroom apartments</span>"
   ]
  },
  {
   "cell_type": "code",
   "execution_count": 37,
   "id": "e80726b2-06c2-4360-a9a5-82e7a3e52332",
   "metadata": {},
   "outputs": [],
   "source": [
    "def remove_bhk_outliers(df, percentile=0.1, min_count=5):\n",
    "    exclude_indices = np.array([])\n",
    "    \n",
    "    for location, location_df in df.groupby('Location'):\n",
    "        bhk_stats = {}\n",
    "        # Calculate statistics for each bedroom count\n",
    "        for bhk, bhk_df in location_df.groupby('Bed'):\n",
    "            if len(bhk_df) >= min_count:  # Only consider groups with enough samples\n",
    "                bhk_stats[bhk] = {\n",
    "                    'mean': np.mean(bhk_df.rent_per_sqft),\n",
    "                    'percentile': np.percentile(bhk_df.rent_per_sqft, percentile * 100),\n",
    "                    'count': bhk_df.shape[0]\n",
    "                }\n",
    "        # Identify outliers\n",
    "        for bhk, bhk_df in location_df.groupby('Bed'):\n",
    "            if bhk - 1 in bhk_stats:  # Check if B-1 stats exist\n",
    "                stats = bhk_stats[bhk - 1]\n",
    "                if stats['count'] >= min_count:  # Only apply logic if enough samples exist\n",
    "                    # Use percentile as threshold (less strict than mean)\n",
    "                    threshold = stats['percentile']\n",
    "                    outliers = bhk_df[bhk_df.rent_per_sqft < threshold]\n",
    "                    exclude_indices = np.append(exclude_indices, outliers.index.values)\n",
    "    \n",
    "    # Drop outliers and return the cleaned DataFrame\n",
    "    return df.drop(exclude_indices, axis='index')"
   ]
  },
  {
   "cell_type": "code",
   "execution_count": 38,
   "id": "45946ff0-2eeb-405b-bfca-78ac83cd5d8d",
   "metadata": {},
   "outputs": [
    {
     "data": {
      "text/plain": [
       "(24036, 6)"
      ]
     },
     "execution_count": 38,
     "metadata": {},
     "output_type": "execute_result"
    }
   ],
   "source": [
    "df5.shape"
   ]
  },
  {
   "cell_type": "code",
   "execution_count": 39,
   "id": "33717871-895a-40d9-887f-31c68ba89598",
   "metadata": {},
   "outputs": [
    {
     "data": {
      "text/plain": [
       "(22257, 6)"
      ]
     },
     "execution_count": 39,
     "metadata": {},
     "output_type": "execute_result"
    }
   ],
   "source": [
    "df6 = remove_bhk_outliers(df5, 0.05, min_count=14)\n",
    "df6.shape"
   ]
  },
  {
   "cell_type": "markdown",
   "id": "e926b0a9-ef29-45c3-8eec-383793533513",
   "metadata": {},
   "source": [
    "### <span style='color:Turquoise'>Comparing Before and After processing for location:</span> <span style=\"color:red\">Uttara, Sector 10</span>"
   ]
  },
  {
   "cell_type": "code",
   "execution_count": 40,
   "id": "78c24b48-2fac-45ec-84fe-93c50e34eda9",
   "metadata": {},
   "outputs": [
    {
     "data": {
      "image/png": "[encoded data removed]",
      "text/plain": [
       "<Figure size 1000x700 with 1 Axes>"
      ]
     },
     "metadata": {},
     "output_type": "display_data"
    }
   ],
   "source": [
    "plot_scatter_chart(df5, 'Uttara, Sector 10')"
   ]
  },
  {
   "cell_type": "code",
   "execution_count": 41,
   "id": "3f77b848-b267-403a-9f2e-428477811ecc",
   "metadata": {},
   "outputs": [
    {
     "data": {
      "image/png": "[encoded data removed]",
      "text/plain": [
       "<Figure size 1000x700 with 1 Axes>"
      ]
     },
     "metadata": {},
     "output_type": "display_data"
    }
   ],
   "source": [
    "plot_scatter_chart(df6, 'Uttara, Sector 10')"
   ]
  },
  {
   "cell_type": "markdown",
   "id": "1b2a10ee-8e13-4c15-ad62-ca2618513fa0",
   "metadata": {},
   "source": [
    "### <span style='color:Turquoise'>Comparing Before and After processing for location:</span> <span style=\"color:red\">Mirpur</span>"
   ]
  },
  {
   "cell_type": "code",
   "execution_count": 42,
   "id": "f2293339-11d4-4bd2-a4ff-814acf08a5d2",
   "metadata": {},
   "outputs": [
    {
     "data": {
      "image/png": "[encoded data removed]",
      "text/plain": [
       "<Figure size 1000x700 with 1 Axes>"
      ]
     },
     "metadata": {},
     "output_type": "display_data"
    }
   ],
   "source": [
    "plot_scatter_chart(df5, 'Mirpur')"
   ]
  },
  {
   "cell_type": "code",
   "execution_count": 43,
   "id": "bcc8899d-ee27-43c4-a586-32833af267af",
   "metadata": {},
   "outputs": [
    {
     "data": {
      "image/png": "[encoded data removed]",
      "text/plain": [
       "<Figure size 1000x700 with 1 Axes>"
      ]
     },
     "metadata": {},
     "output_type": "display_data"
    }
   ],
   "source": [
    "plot_scatter_chart(df6, 'Mirpur')"
   ]
  },
  {
   "cell_type": "markdown",
   "id": "3aa05b63-8fee-41f6-848d-6d31ea5b7bb0",
   "metadata": {},
   "source": [
    "### <span style='color:Turquoise'>Analizing removed rows for parameter tuning</span>*"
   ]
  },
  {
   "cell_type": "code",
   "execution_count": 44,
   "id": "e4cbeecc-5038-4121-9fdf-11ad00a5cdf6",
   "metadata": {},
   "outputs": [],
   "source": [
    "# Identify removed rows\n",
    "removed_indices = list(set(df5.index) - set(df6.index))\n",
    "removed_rows = df5.loc[removed_indices]"
   ]
  },
  {
   "cell_type": "code",
   "execution_count": 45,
   "id": "044ad6c6-19e6-4914-b5ea-22cd42fbde45",
   "metadata": {},
   "outputs": [
    {
     "data": {
      "text/plain": [
       "1779"
      ]
     },
     "execution_count": 45,
     "metadata": {},
     "output_type": "execute_result"
    }
   ],
   "source": [
    "len(removed_rows)"
   ]
  },
  {
   "cell_type": "code",
   "execution_count": 46,
   "id": "80bc48ab-13b2-477f-a9e0-792453941f76",
   "metadata": {},
   "outputs": [
    {
     "data": {
      "text/html": [
       "<div>\n",
       "<style scoped>\n",
       "    .dataframe tbody tr th:only-of-type {\n",
       "        vertical-align: middle;\n",
       "    }\n",
       "\n",
       "    .dataframe tbody tr th {\n",
       "        vertical-align: top;\n",
       "    }\n",
       "\n",
       "    .dataframe thead th {\n",
       "        text-align: right;\n",
       "    }\n",
       "</style>\n",
       "<table border=\"1\" class=\"dataframe\">\n",
       "  <thead>\n",
       "    <tr style=\"text-align: right;\">\n",
       "      <th></th>\n",
       "      <th>Bed</th>\n",
       "      <th>rent_per_sqft</th>\n",
       "    </tr>\n",
       "  </thead>\n",
       "  <tbody>\n",
       "    <tr>\n",
       "      <th>count</th>\n",
       "      <td>1779.000000</td>\n",
       "      <td>1779.000000</td>\n",
       "    </tr>\n",
       "    <tr>\n",
       "      <th>mean</th>\n",
       "      <td>2.983137</td>\n",
       "      <td>15.070175</td>\n",
       "    </tr>\n",
       "    <tr>\n",
       "      <th>std</th>\n",
       "      <td>0.276054</td>\n",
       "      <td>2.457826</td>\n",
       "    </tr>\n",
       "    <tr>\n",
       "      <th>min</th>\n",
       "      <td>2.000000</td>\n",
       "      <td>9.000000</td>\n",
       "    </tr>\n",
       "    <tr>\n",
       "      <th>25%</th>\n",
       "      <td>3.000000</td>\n",
       "      <td>13.333333</td>\n",
       "    </tr>\n",
       "    <tr>\n",
       "      <th>50%</th>\n",
       "      <td>3.000000</td>\n",
       "      <td>14.814815</td>\n",
       "    </tr>\n",
       "    <tr>\n",
       "      <th>75%</th>\n",
       "      <td>3.000000</td>\n",
       "      <td>16.666667</td>\n",
       "    </tr>\n",
       "    <tr>\n",
       "      <th>max</th>\n",
       "      <td>5.000000</td>\n",
       "      <td>30.303030</td>\n",
       "    </tr>\n",
       "  </tbody>\n",
       "</table>\n",
       "</div>"
      ],
      "text/plain": [
       "               Bed  rent_per_sqft\n",
       "count  1779.000000    1779.000000\n",
       "mean      2.983137      15.070175\n",
       "std       0.276054       2.457826\n",
       "min       2.000000       9.000000\n",
       "25%       3.000000      13.333333\n",
       "50%       3.000000      14.814815\n",
       "75%       3.000000      16.666667\n",
       "max       5.000000      30.303030"
      ]
     },
     "execution_count": 46,
     "metadata": {},
     "output_type": "execute_result"
    }
   ],
   "source": [
    "removed_rows[['Location', 'Bed', 'rent_per_sqft']].describe()"
   ]
  },
  {
   "cell_type": "code",
   "execution_count": 47,
   "id": "db8db594-f095-41f1-a2e5-b615592feb41",
   "metadata": {},
   "outputs": [
    {
     "data": {
      "text/html": [
       "<div>\n",
       "<style scoped>\n",
       "    .dataframe tbody tr th:only-of-type {\n",
       "        vertical-align: middle;\n",
       "    }\n",
       "\n",
       "    .dataframe tbody tr th {\n",
       "        vertical-align: top;\n",
       "    }\n",
       "\n",
       "    .dataframe thead th {\n",
       "        text-align: right;\n",
       "    }\n",
       "</style>\n",
       "<table border=\"1\" class=\"dataframe\">\n",
       "  <thead>\n",
       "    <tr style=\"text-align: right;\">\n",
       "      <th></th>\n",
       "      <th>count</th>\n",
       "    </tr>\n",
       "    <tr>\n",
       "      <th>Location</th>\n",
       "      <th></th>\n",
       "    </tr>\n",
       "  </thead>\n",
       "  <tbody>\n",
       "    <tr>\n",
       "      <th>Mirpur, Ahmed Nagar, Paikpara</th>\n",
       "      <td>107</td>\n",
       "    </tr>\n",
       "    <tr>\n",
       "      <th>Uttara, Sector 10</th>\n",
       "      <td>105</td>\n",
       "    </tr>\n",
       "    <tr>\n",
       "      <th>Bashundhara R-A, Block G</th>\n",
       "      <td>89</td>\n",
       "    </tr>\n",
       "    <tr>\n",
       "      <th>Mirpur, Section 1</th>\n",
       "      <td>56</td>\n",
       "    </tr>\n",
       "    <tr>\n",
       "      <th>Mirpur, Middle Paikpara</th>\n",
       "      <td>55</td>\n",
       "    </tr>\n",
       "  </tbody>\n",
       "</table>\n",
       "</div>"
      ],
      "text/plain": [
       "                               count\n",
       "Location                            \n",
       "Mirpur, Ahmed Nagar, Paikpara    107\n",
       "Uttara, Sector 10                105\n",
       "Bashundhara R-A, Block G          89\n",
       "Mirpur, Section 1                 56\n",
       "Mirpur, Middle Paikpara           55"
      ]
     },
     "execution_count": 47,
     "metadata": {},
     "output_type": "execute_result"
    }
   ],
   "source": [
    "deleted_analysis = pd.DataFrame(removed_rows['Location'].value_counts())\n",
    "deleted_analysis.head()"
   ]
  },
  {
   "cell_type": "code",
   "execution_count": 48,
   "id": "a75704d6-b83d-4107-92f2-91677b613eca",
   "metadata": {},
   "outputs": [
    {
     "data": {
      "text/plain": [
       "317"
      ]
     },
     "execution_count": 48,
     "metadata": {},
     "output_type": "execute_result"
    }
   ],
   "source": [
    "df5[df5['Location'] == 'Mirpur, Ahmed Nagar, Paikpara'].shape[0]"
   ]
  },
  {
   "cell_type": "markdown",
   "id": "46149b9b-bfc9-4ec0-893f-df1c42b02ea0",
   "metadata": {},
   "source": [
    "# <span style='color:MediumVioletRed'>Histograms of rent_per_sqft, Bedrooms and Bathrooms</span>"
   ]
  },
  {
   "cell_type": "code",
   "execution_count": 49,
   "id": "7ead6415-9666-45d3-97aa-11da8057692a",
   "metadata": {},
   "outputs": [
    {
     "data": {
      "text/plain": [
       "Text(0, 0.5, 'Count')"
      ]
     },
     "execution_count": 49,
     "metadata": {},
     "output_type": "execute_result"
    },
    {
     "data": {
      "image/png": "[encoded data removed]",
      "text/plain": [
       "<Figure size 1000x700 with 1 Axes>"
      ]
     },
     "metadata": {},
     "output_type": "display_data"
    }
   ],
   "source": [
    "import matplotlib.pyplot as plt\n",
    "plt.figure(figsize = (10, 7))\n",
    "plt.hist(df6.rent_per_sqft, rwidth=0.8)\n",
    "plt.xlabel(\"Rent Per Square Feet\")\n",
    "plt.ylabel(\"Count\")"
   ]
  },
  {
   "cell_type": "code",
   "execution_count": 50,
   "id": "6a1a4b9e-b581-4d51-aa96-45de64dfdf49",
   "metadata": {},
   "outputs": [
    {
     "data": {
      "text/plain": [
       "array([2, 3, 4, 1, 5, 6])"
      ]
     },
     "execution_count": 50,
     "metadata": {},
     "output_type": "execute_result"
    }
   ],
   "source": [
    "df6.Bed.unique()"
   ]
  },
  {
   "cell_type": "code",
   "execution_count": 51,
   "id": "ee5a7a24-8b25-412a-be95-bd982a46a413",
   "metadata": {},
   "outputs": [
    {
     "data": {
      "text/html": [
       "<div>\n",
       "<style scoped>\n",
       "    .dataframe tbody tr th:only-of-type {\n",
       "        vertical-align: middle;\n",
       "    }\n",
       "\n",
       "    .dataframe tbody tr th {\n",
       "        vertical-align: top;\n",
       "    }\n",
       "\n",
       "    .dataframe thead th {\n",
       "        text-align: right;\n",
       "    }\n",
       "</style>\n",
       "<table border=\"1\" class=\"dataframe\">\n",
       "  <thead>\n",
       "    <tr style=\"text-align: right;\">\n",
       "      <th></th>\n",
       "      <th>Location</th>\n",
       "      <th>Area_sqft</th>\n",
       "      <th>Bed</th>\n",
       "      <th>Bath</th>\n",
       "      <th>Price_taka</th>\n",
       "      <th>rent_per_sqft</th>\n",
       "    </tr>\n",
       "  </thead>\n",
       "  <tbody>\n",
       "    <tr>\n",
       "      <th>7030</th>\n",
       "      <td>Gulshan, Gulshan 2</td>\n",
       "      <td>4500</td>\n",
       "      <td>6</td>\n",
       "      <td>6</td>\n",
       "      <td>280000</td>\n",
       "      <td>62.222222</td>\n",
       "    </tr>\n",
       "    <tr>\n",
       "      <th>7040</th>\n",
       "      <td>Gulshan, Gulshan 2</td>\n",
       "      <td>4300</td>\n",
       "      <td>5</td>\n",
       "      <td>6</td>\n",
       "      <td>280000</td>\n",
       "      <td>65.116279</td>\n",
       "    </tr>\n",
       "    <tr>\n",
       "      <th>18964</th>\n",
       "      <td>Mohammadpur, Mohammadi Housing LTD.</td>\n",
       "      <td>2200</td>\n",
       "      <td>5</td>\n",
       "      <td>6</td>\n",
       "      <td>40000</td>\n",
       "      <td>18.181818</td>\n",
       "    </tr>\n",
       "    <tr>\n",
       "      <th>22149</th>\n",
       "      <td>Tejgaon, Tejturi Bazar</td>\n",
       "      <td>2450</td>\n",
       "      <td>6</td>\n",
       "      <td>6</td>\n",
       "      <td>60000</td>\n",
       "      <td>24.489796</td>\n",
       "    </tr>\n",
       "    <tr>\n",
       "      <th>22274</th>\n",
       "      <td>Uttara, Sector 1</td>\n",
       "      <td>2750</td>\n",
       "      <td>5</td>\n",
       "      <td>6</td>\n",
       "      <td>75000</td>\n",
       "      <td>27.272727</td>\n",
       "    </tr>\n",
       "  </tbody>\n",
       "</table>\n",
       "</div>"
      ],
      "text/plain": [
       "                                  Location  Area_sqft  Bed  Bath  Price_taka  \\\n",
       "7030                    Gulshan, Gulshan 2       4500    6     6      280000   \n",
       "7040                    Gulshan, Gulshan 2       4300    5     6      280000   \n",
       "18964  Mohammadpur, Mohammadi Housing LTD.       2200    5     6       40000   \n",
       "22149               Tejgaon, Tejturi Bazar       2450    6     6       60000   \n",
       "22274                     Uttara, Sector 1       2750    5     6       75000   \n",
       "\n",
       "       rent_per_sqft  \n",
       "7030       62.222222  \n",
       "7040       65.116279  \n",
       "18964      18.181818  \n",
       "22149      24.489796  \n",
       "22274      27.272727  "
      ]
     },
     "execution_count": 51,
     "metadata": {},
     "output_type": "execute_result"
    }
   ],
   "source": [
    "df6[df6.Bath>5]"
   ]
  },
  {
   "cell_type": "code",
   "execution_count": 52,
   "id": "0dcf104a-9602-4540-ba84-183a336e5a47",
   "metadata": {},
   "outputs": [
    {
     "data": {
      "text/plain": [
       "Text(0, 0.5, 'Count')"
      ]
     },
     "execution_count": 52,
     "metadata": {},
     "output_type": "execute_result"
    },
    {
     "data": {
      "image/png": "[encoded data removed]",
      "text/plain": [
       "<Figure size 1000x700 with 1 Axes>"
      ]
     },
     "metadata": {},
     "output_type": "display_data"
    }
   ],
   "source": [
    "plt.figure(figsize = (10, 7))\n",
    "plt.hist(df6.Bed, rwidth=0.8)\n",
    "plt.xlabel(\"Number Of Bedrooms\")\n",
    "plt.ylabel(\"Count\")"
   ]
  },
  {
   "cell_type": "code",
   "execution_count": 53,
   "id": "e71a5d94-83f1-4021-8fc9-90d326748efe",
   "metadata": {},
   "outputs": [
    {
     "data": {
      "text/plain": [
       "array([2, 3, 1, 4, 5, 6])"
      ]
     },
     "execution_count": 53,
     "metadata": {},
     "output_type": "execute_result"
    }
   ],
   "source": [
    "df6.Bath.unique()"
   ]
  },
  {
   "cell_type": "code",
   "execution_count": 54,
   "id": "68e859df-68fa-4445-9890-c5bbc9ca21ab",
   "metadata": {},
   "outputs": [
    {
     "data": {
      "text/html": [
       "<div>\n",
       "<style scoped>\n",
       "    .dataframe tbody tr th:only-of-type {\n",
       "        vertical-align: middle;\n",
       "    }\n",
       "\n",
       "    .dataframe tbody tr th {\n",
       "        vertical-align: top;\n",
       "    }\n",
       "\n",
       "    .dataframe thead th {\n",
       "        text-align: right;\n",
       "    }\n",
       "</style>\n",
       "<table border=\"1\" class=\"dataframe\">\n",
       "  <thead>\n",
       "    <tr style=\"text-align: right;\">\n",
       "      <th></th>\n",
       "      <th>Location</th>\n",
       "      <th>Area_sqft</th>\n",
       "      <th>Bed</th>\n",
       "      <th>Bath</th>\n",
       "      <th>Price_taka</th>\n",
       "      <th>rent_per_sqft</th>\n",
       "    </tr>\n",
       "  </thead>\n",
       "  <tbody>\n",
       "    <tr>\n",
       "      <th>7030</th>\n",
       "      <td>Gulshan, Gulshan 2</td>\n",
       "      <td>4500</td>\n",
       "      <td>6</td>\n",
       "      <td>6</td>\n",
       "      <td>280000</td>\n",
       "      <td>62.222222</td>\n",
       "    </tr>\n",
       "    <tr>\n",
       "      <th>7040</th>\n",
       "      <td>Gulshan, Gulshan 2</td>\n",
       "      <td>4300</td>\n",
       "      <td>5</td>\n",
       "      <td>6</td>\n",
       "      <td>280000</td>\n",
       "      <td>65.116279</td>\n",
       "    </tr>\n",
       "    <tr>\n",
       "      <th>18964</th>\n",
       "      <td>Mohammadpur, Mohammadi Housing LTD.</td>\n",
       "      <td>2200</td>\n",
       "      <td>5</td>\n",
       "      <td>6</td>\n",
       "      <td>40000</td>\n",
       "      <td>18.181818</td>\n",
       "    </tr>\n",
       "    <tr>\n",
       "      <th>22149</th>\n",
       "      <td>Tejgaon, Tejturi Bazar</td>\n",
       "      <td>2450</td>\n",
       "      <td>6</td>\n",
       "      <td>6</td>\n",
       "      <td>60000</td>\n",
       "      <td>24.489796</td>\n",
       "    </tr>\n",
       "    <tr>\n",
       "      <th>22274</th>\n",
       "      <td>Uttara, Sector 1</td>\n",
       "      <td>2750</td>\n",
       "      <td>5</td>\n",
       "      <td>6</td>\n",
       "      <td>75000</td>\n",
       "      <td>27.272727</td>\n",
       "    </tr>\n",
       "  </tbody>\n",
       "</table>\n",
       "</div>"
      ],
      "text/plain": [
       "                                  Location  Area_sqft  Bed  Bath  Price_taka  \\\n",
       "7030                    Gulshan, Gulshan 2       4500    6     6      280000   \n",
       "7040                    Gulshan, Gulshan 2       4300    5     6      280000   \n",
       "18964  Mohammadpur, Mohammadi Housing LTD.       2200    5     6       40000   \n",
       "22149               Tejgaon, Tejturi Bazar       2450    6     6       60000   \n",
       "22274                     Uttara, Sector 1       2750    5     6       75000   \n",
       "\n",
       "       rent_per_sqft  \n",
       "7030       62.222222  \n",
       "7040       65.116279  \n",
       "18964      18.181818  \n",
       "22149      24.489796  \n",
       "22274      27.272727  "
      ]
     },
     "execution_count": 54,
     "metadata": {},
     "output_type": "execute_result"
    }
   ],
   "source": [
    "df6[df6.Bath>5]"
   ]
  },
  {
   "cell_type": "code",
   "execution_count": 55,
   "id": "9cd81f28-a332-4ab6-966e-4d81e4d47646",
   "metadata": {},
   "outputs": [
    {
     "data": {
      "text/plain": [
       "Text(0, 0.5, 'Count')"
      ]
     },
     "execution_count": 55,
     "metadata": {},
     "output_type": "execute_result"
    },
    {
     "data": {
      "image/png": "[encoded data removed]",
      "text/plain": [
       "<Figure size 1000x700 with 1 Axes>"
      ]
     },
     "metadata": {},
     "output_type": "display_data"
    }
   ],
   "source": [
    "plt.hist(df6.Bath, rwidth=0.8)\n",
    "plt.xlabel(\"Number Of Bathrooms\")\n",
    "plt.ylabel(\"Count\")"
   ]
  },
  {
   "cell_type": "markdown",
   "id": "607c6866-4f15-4e60-ab22-42ce4f93dbf4",
   "metadata": {},
   "source": [
    "### <span style='color:Turquoise'>It is unusual to have 2 more bathrooms than number of bedrooms in a home</span>"
   ]
  },
  {
   "cell_type": "code",
   "execution_count": 56,
   "id": "10638f14-bc72-4019-ace5-6cb0a1a91d13",
   "metadata": {
    "scrolled": true
   },
   "outputs": [
    {
     "data": {
      "text/html": [
       "<div>\n",
       "<style scoped>\n",
       "    .dataframe tbody tr th:only-of-type {\n",
       "        vertical-align: middle;\n",
       "    }\n",
       "\n",
       "    .dataframe tbody tr th {\n",
       "        vertical-align: top;\n",
       "    }\n",
       "\n",
       "    .dataframe thead th {\n",
       "        text-align: right;\n",
       "    }\n",
       "</style>\n",
       "<table border=\"1\" class=\"dataframe\">\n",
       "  <thead>\n",
       "    <tr style=\"text-align: right;\">\n",
       "      <th></th>\n",
       "      <th>Location</th>\n",
       "      <th>Area_sqft</th>\n",
       "      <th>Bed</th>\n",
       "      <th>Bath</th>\n",
       "      <th>Price_taka</th>\n",
       "      <th>rent_per_sqft</th>\n",
       "    </tr>\n",
       "  </thead>\n",
       "  <tbody>\n",
       "    <tr>\n",
       "      <th>2413</th>\n",
       "      <td>Banani</td>\n",
       "      <td>2410</td>\n",
       "      <td>3</td>\n",
       "      <td>5</td>\n",
       "      <td>80000</td>\n",
       "      <td>33.195021</td>\n",
       "    </tr>\n",
       "    <tr>\n",
       "      <th>2496</th>\n",
       "      <td>Banani DOHS</td>\n",
       "      <td>3000</td>\n",
       "      <td>3</td>\n",
       "      <td>5</td>\n",
       "      <td>130000</td>\n",
       "      <td>43.333333</td>\n",
       "    </tr>\n",
       "    <tr>\n",
       "      <th>3418</th>\n",
       "      <td>Baridhara, Block J</td>\n",
       "      <td>2200</td>\n",
       "      <td>3</td>\n",
       "      <td>5</td>\n",
       "      <td>50000</td>\n",
       "      <td>22.727273</td>\n",
       "    </tr>\n",
       "    <tr>\n",
       "      <th>3886</th>\n",
       "      <td>Bashundhara R-A, Block A</td>\n",
       "      <td>2100</td>\n",
       "      <td>3</td>\n",
       "      <td>5</td>\n",
       "      <td>60000</td>\n",
       "      <td>28.571429</td>\n",
       "    </tr>\n",
       "    <tr>\n",
       "      <th>3887</th>\n",
       "      <td>Bashundhara R-A, Block A</td>\n",
       "      <td>2100</td>\n",
       "      <td>3</td>\n",
       "      <td>5</td>\n",
       "      <td>60000</td>\n",
       "      <td>28.571429</td>\n",
       "    </tr>\n",
       "    <tr>\n",
       "      <th>4136</th>\n",
       "      <td>Bashundhara R-A, Block D</td>\n",
       "      <td>3000</td>\n",
       "      <td>3</td>\n",
       "      <td>5</td>\n",
       "      <td>55000</td>\n",
       "      <td>18.333333</td>\n",
       "    </tr>\n",
       "    <tr>\n",
       "      <th>4207</th>\n",
       "      <td>Bashundhara R-A, Block D</td>\n",
       "      <td>1700</td>\n",
       "      <td>2</td>\n",
       "      <td>4</td>\n",
       "      <td>30000</td>\n",
       "      <td>17.647059</td>\n",
       "    </tr>\n",
       "    <tr>\n",
       "      <th>4282</th>\n",
       "      <td>Bashundhara R-A, Block D</td>\n",
       "      <td>2200</td>\n",
       "      <td>3</td>\n",
       "      <td>5</td>\n",
       "      <td>30000</td>\n",
       "      <td>13.636364</td>\n",
       "    </tr>\n",
       "    <tr>\n",
       "      <th>4767</th>\n",
       "      <td>Bashundhara R-A, Block I</td>\n",
       "      <td>1300</td>\n",
       "      <td>2</td>\n",
       "      <td>4</td>\n",
       "      <td>30000</td>\n",
       "      <td>23.076923</td>\n",
       "    </tr>\n",
       "    <tr>\n",
       "      <th>6392</th>\n",
       "      <td>Dhanmondi</td>\n",
       "      <td>2200</td>\n",
       "      <td>3</td>\n",
       "      <td>5</td>\n",
       "      <td>62000</td>\n",
       "      <td>28.181818</td>\n",
       "    </tr>\n",
       "    <tr>\n",
       "      <th>6419</th>\n",
       "      <td>Dhanmondi</td>\n",
       "      <td>2040</td>\n",
       "      <td>3</td>\n",
       "      <td>5</td>\n",
       "      <td>50000</td>\n",
       "      <td>24.509804</td>\n",
       "    </tr>\n",
       "    <tr>\n",
       "      <th>6590</th>\n",
       "      <td>Dhanmondi</td>\n",
       "      <td>2300</td>\n",
       "      <td>3</td>\n",
       "      <td>5</td>\n",
       "      <td>70000</td>\n",
       "      <td>30.434783</td>\n",
       "    </tr>\n",
       "    <tr>\n",
       "      <th>7029</th>\n",
       "      <td>Gulshan, Gulshan 2</td>\n",
       "      <td>3000</td>\n",
       "      <td>2</td>\n",
       "      <td>4</td>\n",
       "      <td>160000</td>\n",
       "      <td>53.333333</td>\n",
       "    </tr>\n",
       "    <tr>\n",
       "      <th>11735</th>\n",
       "      <td>Mirpur, Mirpur DOHS, Avenue 6</td>\n",
       "      <td>2175</td>\n",
       "      <td>3</td>\n",
       "      <td>5</td>\n",
       "      <td>42000</td>\n",
       "      <td>19.310345</td>\n",
       "    </tr>\n",
       "    <tr>\n",
       "      <th>11736</th>\n",
       "      <td>Mirpur, Mirpur DOHS, Avenue 6</td>\n",
       "      <td>2175</td>\n",
       "      <td>3</td>\n",
       "      <td>5</td>\n",
       "      <td>42000</td>\n",
       "      <td>19.310345</td>\n",
       "    </tr>\n",
       "    <tr>\n",
       "      <th>20655</th>\n",
       "      <td>Other</td>\n",
       "      <td>2229</td>\n",
       "      <td>3</td>\n",
       "      <td>5</td>\n",
       "      <td>36000</td>\n",
       "      <td>16.150740</td>\n",
       "    </tr>\n",
       "    <tr>\n",
       "      <th>21450</th>\n",
       "      <td>Shiddheswari</td>\n",
       "      <td>2000</td>\n",
       "      <td>3</td>\n",
       "      <td>5</td>\n",
       "      <td>55000</td>\n",
       "      <td>27.500000</td>\n",
       "    </tr>\n",
       "    <tr>\n",
       "      <th>22806</th>\n",
       "      <td>Uttara, Sector 12</td>\n",
       "      <td>1650</td>\n",
       "      <td>3</td>\n",
       "      <td>5</td>\n",
       "      <td>29000</td>\n",
       "      <td>17.575758</td>\n",
       "    </tr>\n",
       "    <tr>\n",
       "      <th>23545</th>\n",
       "      <td>Uttara, Sector 3</td>\n",
       "      <td>2300</td>\n",
       "      <td>2</td>\n",
       "      <td>4</td>\n",
       "      <td>50000</td>\n",
       "      <td>21.739130</td>\n",
       "    </tr>\n",
       "    <tr>\n",
       "      <th>23854</th>\n",
       "      <td>Uttara, Sector 6</td>\n",
       "      <td>3000</td>\n",
       "      <td>3</td>\n",
       "      <td>5</td>\n",
       "      <td>70000</td>\n",
       "      <td>23.333333</td>\n",
       "    </tr>\n",
       "  </tbody>\n",
       "</table>\n",
       "</div>"
      ],
      "text/plain": [
       "                            Location  Area_sqft  Bed  Bath  Price_taka  \\\n",
       "2413                          Banani       2410    3     5       80000   \n",
       "2496                     Banani DOHS       3000    3     5      130000   \n",
       "3418              Baridhara, Block J       2200    3     5       50000   \n",
       "3886        Bashundhara R-A, Block A       2100    3     5       60000   \n",
       "3887        Bashundhara R-A, Block A       2100    3     5       60000   \n",
       "4136        Bashundhara R-A, Block D       3000    3     5       55000   \n",
       "4207        Bashundhara R-A, Block D       1700    2     4       30000   \n",
       "4282        Bashundhara R-A, Block D       2200    3     5       30000   \n",
       "4767        Bashundhara R-A, Block I       1300    2     4       30000   \n",
       "6392                       Dhanmondi       2200    3     5       62000   \n",
       "6419                       Dhanmondi       2040    3     5       50000   \n",
       "6590                       Dhanmondi       2300    3     5       70000   \n",
       "7029              Gulshan, Gulshan 2       3000    2     4      160000   \n",
       "11735  Mirpur, Mirpur DOHS, Avenue 6       2175    3     5       42000   \n",
       "11736  Mirpur, Mirpur DOHS, Avenue 6       2175    3     5       42000   \n",
       "20655                          Other       2229    3     5       36000   \n",
       "21450                   Shiddheswari       2000    3     5       55000   \n",
       "22806              Uttara, Sector 12       1650    3     5       29000   \n",
       "23545               Uttara, Sector 3       2300    2     4       50000   \n",
       "23854               Uttara, Sector 6       3000    3     5       70000   \n",
       "\n",
       "       rent_per_sqft  \n",
       "2413       33.195021  \n",
       "2496       43.333333  \n",
       "3418       22.727273  \n",
       "3886       28.571429  \n",
       "3887       28.571429  \n",
       "4136       18.333333  \n",
       "4207       17.647059  \n",
       "4282       13.636364  \n",
       "4767       23.076923  \n",
       "6392       28.181818  \n",
       "6419       24.509804  \n",
       "6590       30.434783  \n",
       "7029       53.333333  \n",
       "11735      19.310345  \n",
       "11736      19.310345  \n",
       "20655      16.150740  \n",
       "21450      27.500000  \n",
       "22806      17.575758  \n",
       "23545      21.739130  \n",
       "23854      23.333333  "
      ]
     },
     "execution_count": 56,
     "metadata": {},
     "output_type": "execute_result"
    }
   ],
   "source": [
    "df6[df6.Bath>=df6.Bed+2]"
   ]
  },
  {
   "cell_type": "markdown",
   "id": "934ae432-243e-4fec-bf1f-f810dc09fb14",
   "metadata": {},
   "source": [
    "### <span style='color:Turquoise'>Again the business manager has a conversation with you (i.e. a data scientist) that if you have 4 bedroom home and even if you have bathroom in all 4 rooms plus one guest bathroom, you will have total bath = total bed + 1 max. Anything above that is an outlier or a data error and can be removed</span>"
   ]
  },
  {
   "cell_type": "code",
   "execution_count": 57,
   "id": "299a788f-547e-48a9-a4a4-96fa6dc549a1",
   "metadata": {},
   "outputs": [
    {
     "data": {
      "text/plain": [
       "(22257, 6)"
      ]
     },
     "execution_count": 57,
     "metadata": {},
     "output_type": "execute_result"
    }
   ],
   "source": [
    "df6.shape"
   ]
  },
  {
   "cell_type": "code",
   "execution_count": 58,
   "id": "376d8eb0-b3e8-4232-97cc-2cec9eb19b25",
   "metadata": {},
   "outputs": [
    {
     "data": {
      "text/plain": [
       "(22237, 6)"
      ]
     },
     "execution_count": 58,
     "metadata": {},
     "output_type": "execute_result"
    }
   ],
   "source": [
    "df7 = df6[df6.Bath<df6.Bed+2]\n",
    "df7.shape"
   ]
  },
  {
   "cell_type": "code",
   "execution_count": 59,
   "id": "7b067a84-7053-4b5d-8257-3b220cc47e36",
   "metadata": {},
   "outputs": [
    {
     "data": {
      "text/html": [
       "<div>\n",
       "<style scoped>\n",
       "    .dataframe tbody tr th:only-of-type {\n",
       "        vertical-align: middle;\n",
       "    }\n",
       "\n",
       "    .dataframe tbody tr th {\n",
       "        vertical-align: top;\n",
       "    }\n",
       "\n",
       "    .dataframe thead th {\n",
       "        text-align: right;\n",
       "    }\n",
       "</style>\n",
       "<table border=\"1\" class=\"dataframe\">\n",
       "  <thead>\n",
       "    <tr style=\"text-align: right;\">\n",
       "      <th></th>\n",
       "      <th>Location</th>\n",
       "      <th>Area_sqft</th>\n",
       "      <th>Bed</th>\n",
       "      <th>Bath</th>\n",
       "      <th>Price_taka</th>\n",
       "      <th>rent_per_sqft</th>\n",
       "    </tr>\n",
       "  </thead>\n",
       "  <tbody>\n",
       "    <tr>\n",
       "      <th>0</th>\n",
       "      <td>Adabor</td>\n",
       "      <td>800</td>\n",
       "      <td>2</td>\n",
       "      <td>2</td>\n",
       "      <td>14000</td>\n",
       "      <td>17.50</td>\n",
       "    </tr>\n",
       "    <tr>\n",
       "      <th>2</th>\n",
       "      <td>Adabor</td>\n",
       "      <td>800</td>\n",
       "      <td>2</td>\n",
       "      <td>2</td>\n",
       "      <td>16000</td>\n",
       "      <td>20.00</td>\n",
       "    </tr>\n",
       "    <tr>\n",
       "      <th>3</th>\n",
       "      <td>Adabor</td>\n",
       "      <td>800</td>\n",
       "      <td>2</td>\n",
       "      <td>2</td>\n",
       "      <td>15000</td>\n",
       "      <td>18.75</td>\n",
       "    </tr>\n",
       "    <tr>\n",
       "      <th>4</th>\n",
       "      <td>Adabor</td>\n",
       "      <td>800</td>\n",
       "      <td>2</td>\n",
       "      <td>2</td>\n",
       "      <td>16000</td>\n",
       "      <td>20.00</td>\n",
       "    </tr>\n",
       "    <tr>\n",
       "      <th>5</th>\n",
       "      <td>Adabor</td>\n",
       "      <td>800</td>\n",
       "      <td>2</td>\n",
       "      <td>2</td>\n",
       "      <td>15000</td>\n",
       "      <td>18.75</td>\n",
       "    </tr>\n",
       "  </tbody>\n",
       "</table>\n",
       "</div>"
      ],
      "text/plain": [
       "  Location  Area_sqft  Bed  Bath  Price_taka  rent_per_sqft\n",
       "0   Adabor        800    2     2       14000          17.50\n",
       "2   Adabor        800    2     2       16000          20.00\n",
       "3   Adabor        800    2     2       15000          18.75\n",
       "4   Adabor        800    2     2       16000          20.00\n",
       "5   Adabor        800    2     2       15000          18.75"
      ]
     },
     "execution_count": 59,
     "metadata": {},
     "output_type": "execute_result"
    }
   ],
   "source": [
    "df7.head()"
   ]
  },
  {
   "cell_type": "code",
   "execution_count": 60,
   "id": "369e2a7a-2f64-435e-a0a2-b1427ffd1f34",
   "metadata": {},
   "outputs": [
    {
     "data": {
      "text/html": [
       "<div>\n",
       "<style scoped>\n",
       "    .dataframe tbody tr th:only-of-type {\n",
       "        vertical-align: middle;\n",
       "    }\n",
       "\n",
       "    .dataframe tbody tr th {\n",
       "        vertical-align: top;\n",
       "    }\n",
       "\n",
       "    .dataframe thead th {\n",
       "        text-align: right;\n",
       "    }\n",
       "</style>\n",
       "<table border=\"1\" class=\"dataframe\">\n",
       "  <thead>\n",
       "    <tr style=\"text-align: right;\">\n",
       "      <th></th>\n",
       "      <th>Location</th>\n",
       "      <th>Area_sqft</th>\n",
       "      <th>Bed</th>\n",
       "      <th>Bath</th>\n",
       "      <th>Price_taka</th>\n",
       "    </tr>\n",
       "  </thead>\n",
       "  <tbody>\n",
       "    <tr>\n",
       "      <th>0</th>\n",
       "      <td>Adabor</td>\n",
       "      <td>800</td>\n",
       "      <td>2</td>\n",
       "      <td>2</td>\n",
       "      <td>14000</td>\n",
       "    </tr>\n",
       "    <tr>\n",
       "      <th>2</th>\n",
       "      <td>Adabor</td>\n",
       "      <td>800</td>\n",
       "      <td>2</td>\n",
       "      <td>2</td>\n",
       "      <td>16000</td>\n",
       "    </tr>\n",
       "    <tr>\n",
       "      <th>3</th>\n",
       "      <td>Adabor</td>\n",
       "      <td>800</td>\n",
       "      <td>2</td>\n",
       "      <td>2</td>\n",
       "      <td>15000</td>\n",
       "    </tr>\n",
       "    <tr>\n",
       "      <th>4</th>\n",
       "      <td>Adabor</td>\n",
       "      <td>800</td>\n",
       "      <td>2</td>\n",
       "      <td>2</td>\n",
       "      <td>16000</td>\n",
       "    </tr>\n",
       "    <tr>\n",
       "      <th>5</th>\n",
       "      <td>Adabor</td>\n",
       "      <td>800</td>\n",
       "      <td>2</td>\n",
       "      <td>2</td>\n",
       "      <td>15000</td>\n",
       "    </tr>\n",
       "  </tbody>\n",
       "</table>\n",
       "</div>"
      ],
      "text/plain": [
       "  Location  Area_sqft  Bed  Bath  Price_taka\n",
       "0   Adabor        800    2     2       14000\n",
       "2   Adabor        800    2     2       16000\n",
       "3   Adabor        800    2     2       15000\n",
       "4   Adabor        800    2     2       16000\n",
       "5   Adabor        800    2     2       15000"
      ]
     },
     "execution_count": 60,
     "metadata": {},
     "output_type": "execute_result"
    }
   ],
   "source": [
    "df8 = df7.drop('rent_per_sqft',axis=1)\n",
    "df8.head()"
   ]
  },
  {
   "cell_type": "markdown",
   "id": "04564b8e-6a63-4036-955c-c7329ba6513b",
   "metadata": {},
   "source": [
    "# <span style='color:MediumVioletRed'>One Hot Encoding on Location Column</span>"
   ]
  },
  {
   "cell_type": "code",
   "execution_count": 61,
   "id": "b2109bc5-b6a1-489b-8e0f-34f7c0b6dfa7",
   "metadata": {},
   "outputs": [
    {
     "data": {
      "text/html": [
       "<div>\n",
       "<style scoped>\n",
       "    .dataframe tbody tr th:only-of-type {\n",
       "        vertical-align: middle;\n",
       "    }\n",
       "\n",
       "    .dataframe tbody tr th {\n",
       "        vertical-align: top;\n",
       "    }\n",
       "\n",
       "    .dataframe thead th {\n",
       "        text-align: right;\n",
       "    }\n",
       "</style>\n",
       "<table border=\"1\" class=\"dataframe\">\n",
       "  <thead>\n",
       "    <tr style=\"text-align: right;\">\n",
       "      <th></th>\n",
       "      <th>Area_sqft</th>\n",
       "      <th>Bed</th>\n",
       "      <th>Bath</th>\n",
       "      <th>Price_taka</th>\n",
       "      <th>Adabor, Baitul Aman Housing Society</th>\n",
       "      <th>Adabor, Comfort Housing</th>\n",
       "      <th>Adabor, Janata Housing Society</th>\n",
       "      <th>Adabor, Mansurabad Housing Society, Block A</th>\n",
       "      <th>Adabor, Mansurabad Housing Society, Block B</th>\n",
       "      <th>Adabor, Mansurabad Housing Society, Block C</th>\n",
       "      <th>...</th>\n",
       "      <th>Uttara, Sector 15</th>\n",
       "      <th>Uttara, Sector 15, Block C1</th>\n",
       "      <th>Uttara, Sector 18, Rajuk Uttara Apartment Project, Block A</th>\n",
       "      <th>Uttara, Sector 3</th>\n",
       "      <th>Uttara, Sector 4</th>\n",
       "      <th>Uttara, Sector 5</th>\n",
       "      <th>Uttara, Sector 6</th>\n",
       "      <th>Uttara, Sector 7</th>\n",
       "      <th>Uttara, Sector 9</th>\n",
       "      <th>Zafrabad</th>\n",
       "    </tr>\n",
       "  </thead>\n",
       "  <tbody>\n",
       "    <tr>\n",
       "      <th>0</th>\n",
       "      <td>800</td>\n",
       "      <td>2</td>\n",
       "      <td>2</td>\n",
       "      <td>14000</td>\n",
       "      <td>False</td>\n",
       "      <td>False</td>\n",
       "      <td>False</td>\n",
       "      <td>False</td>\n",
       "      <td>False</td>\n",
       "      <td>False</td>\n",
       "      <td>...</td>\n",
       "      <td>False</td>\n",
       "      <td>False</td>\n",
       "      <td>False</td>\n",
       "      <td>False</td>\n",
       "      <td>False</td>\n",
       "      <td>False</td>\n",
       "      <td>False</td>\n",
       "      <td>False</td>\n",
       "      <td>False</td>\n",
       "      <td>False</td>\n",
       "    </tr>\n",
       "    <tr>\n",
       "      <th>2</th>\n",
       "      <td>800</td>\n",
       "      <td>2</td>\n",
       "      <td>2</td>\n",
       "      <td>16000</td>\n",
       "      <td>False</td>\n",
       "      <td>False</td>\n",
       "      <td>False</td>\n",
       "      <td>False</td>\n",
       "      <td>False</td>\n",
       "      <td>False</td>\n",
       "      <td>...</td>\n",
       "      <td>False</td>\n",
       "      <td>False</td>\n",
       "      <td>False</td>\n",
       "      <td>False</td>\n",
       "      <td>False</td>\n",
       "      <td>False</td>\n",
       "      <td>False</td>\n",
       "      <td>False</td>\n",
       "      <td>False</td>\n",
       "      <td>False</td>\n",
       "    </tr>\n",
       "    <tr>\n",
       "      <th>3</th>\n",
       "      <td>800</td>\n",
       "      <td>2</td>\n",
       "      <td>2</td>\n",
       "      <td>15000</td>\n",
       "      <td>False</td>\n",
       "      <td>False</td>\n",
       "      <td>False</td>\n",
       "      <td>False</td>\n",
       "      <td>False</td>\n",
       "      <td>False</td>\n",
       "      <td>...</td>\n",
       "      <td>False</td>\n",
       "      <td>False</td>\n",
       "      <td>False</td>\n",
       "      <td>False</td>\n",
       "      <td>False</td>\n",
       "      <td>False</td>\n",
       "      <td>False</td>\n",
       "      <td>False</td>\n",
       "      <td>False</td>\n",
       "      <td>False</td>\n",
       "    </tr>\n",
       "    <tr>\n",
       "      <th>4</th>\n",
       "      <td>800</td>\n",
       "      <td>2</td>\n",
       "      <td>2</td>\n",
       "      <td>16000</td>\n",
       "      <td>False</td>\n",
       "      <td>False</td>\n",
       "      <td>False</td>\n",
       "      <td>False</td>\n",
       "      <td>False</td>\n",
       "      <td>False</td>\n",
       "      <td>...</td>\n",
       "      <td>False</td>\n",
       "      <td>False</td>\n",
       "      <td>False</td>\n",
       "      <td>False</td>\n",
       "      <td>False</td>\n",
       "      <td>False</td>\n",
       "      <td>False</td>\n",
       "      <td>False</td>\n",
       "      <td>False</td>\n",
       "      <td>False</td>\n",
       "    </tr>\n",
       "    <tr>\n",
       "      <th>5</th>\n",
       "      <td>800</td>\n",
       "      <td>2</td>\n",
       "      <td>2</td>\n",
       "      <td>15000</td>\n",
       "      <td>False</td>\n",
       "      <td>False</td>\n",
       "      <td>False</td>\n",
       "      <td>False</td>\n",
       "      <td>False</td>\n",
       "      <td>False</td>\n",
       "      <td>...</td>\n",
       "      <td>False</td>\n",
       "      <td>False</td>\n",
       "      <td>False</td>\n",
       "      <td>False</td>\n",
       "      <td>False</td>\n",
       "      <td>False</td>\n",
       "      <td>False</td>\n",
       "      <td>False</td>\n",
       "      <td>False</td>\n",
       "      <td>False</td>\n",
       "    </tr>\n",
       "  </tbody>\n",
       "</table>\n",
       "<p>5 rows × 526 columns</p>\n",
       "</div>"
      ],
      "text/plain": [
       "   Area_sqft  Bed  Bath  Price_taka  Adabor, Baitul Aman Housing Society  \\\n",
       "0        800    2     2       14000                                False   \n",
       "2        800    2     2       16000                                False   \n",
       "3        800    2     2       15000                                False   \n",
       "4        800    2     2       16000                                False   \n",
       "5        800    2     2       15000                                False   \n",
       "\n",
       "   Adabor, Comfort Housing  Adabor, Janata Housing Society  \\\n",
       "0                    False                           False   \n",
       "2                    False                           False   \n",
       "3                    False                           False   \n",
       "4                    False                           False   \n",
       "5                    False                           False   \n",
       "\n",
       "   Adabor, Mansurabad Housing Society, Block A  \\\n",
       "0                                        False   \n",
       "2                                        False   \n",
       "3                                        False   \n",
       "4                                        False   \n",
       "5                                        False   \n",
       "\n",
       "   Adabor, Mansurabad Housing Society, Block B  \\\n",
       "0                                        False   \n",
       "2                                        False   \n",
       "3                                        False   \n",
       "4                                        False   \n",
       "5                                        False   \n",
       "\n",
       "   Adabor, Mansurabad Housing Society, Block C  ...  Uttara, Sector 15  \\\n",
       "0                                        False  ...              False   \n",
       "2                                        False  ...              False   \n",
       "3                                        False  ...              False   \n",
       "4                                        False  ...              False   \n",
       "5                                        False  ...              False   \n",
       "\n",
       "   Uttara, Sector 15, Block C1  \\\n",
       "0                        False   \n",
       "2                        False   \n",
       "3                        False   \n",
       "4                        False   \n",
       "5                        False   \n",
       "\n",
       "   Uttara, Sector 18, Rajuk Uttara Apartment Project, Block A  \\\n",
       "0                                              False            \n",
       "2                                              False            \n",
       "3                                              False            \n",
       "4                                              False            \n",
       "5                                              False            \n",
       "\n",
       "   Uttara, Sector 3  Uttara, Sector 4  Uttara, Sector 5  Uttara, Sector 6  \\\n",
       "0             False             False             False             False   \n",
       "2             False             False             False             False   \n",
       "3             False             False             False             False   \n",
       "4             False             False             False             False   \n",
       "5             False             False             False             False   \n",
       "\n",
       "   Uttara, Sector 7  Uttara, Sector 9  Zafrabad  \n",
       "0             False             False     False  \n",
       "2             False             False     False  \n",
       "3             False             False     False  \n",
       "4             False             False     False  \n",
       "5             False             False     False  \n",
       "\n",
       "[5 rows x 526 columns]"
      ]
     },
     "execution_count": 61,
     "metadata": {},
     "output_type": "execute_result"
    }
   ],
   "source": [
    "df9 = pd.get_dummies(df8, drop_first=True, prefix='', prefix_sep='')\n",
    "df9.head()"
   ]
  },
  {
   "cell_type": "code",
   "execution_count": 63,
   "id": "5cc489f5-caed-461e-abe9-69de19c334de",
   "metadata": {},
   "outputs": [
    {
     "data": {
      "text/plain": [
       "(22237, 526)"
      ]
     },
     "execution_count": 63,
     "metadata": {},
     "output_type": "execute_result"
    }
   ],
   "source": [
    "df9.shape"
   ]
  },
  {
   "cell_type": "markdown",
   "id": "f7a16e66-bb16-4286-b2dc-6b4d02aba828",
   "metadata": {},
   "source": [
    "# <span style='color:MediumVioletRed'>Input and Output processing</span>"
   ]
  },
  {
   "cell_type": "code",
   "execution_count": 64,
   "id": "d7774579-cbb7-4281-8b62-36764c9984fb",
   "metadata": {},
   "outputs": [],
   "source": [
    "X = df9.drop('Price_taka', axis=1)\n",
    "y = df9['Price_taka']"
   ]
  },
  {
   "cell_type": "code",
   "execution_count": 65,
   "id": "08d3597f-076a-4215-8108-aaf51ea0d499",
   "metadata": {},
   "outputs": [
    {
     "data": {
      "text/html": [
       "<div>\n",
       "<style scoped>\n",
       "    .dataframe tbody tr th:only-of-type {\n",
       "        vertical-align: middle;\n",
       "    }\n",
       "\n",
       "    .dataframe tbody tr th {\n",
       "        vertical-align: top;\n",
       "    }\n",
       "\n",
       "    .dataframe thead th {\n",
       "        text-align: right;\n",
       "    }\n",
       "</style>\n",
       "<table border=\"1\" class=\"dataframe\">\n",
       "  <thead>\n",
       "    <tr style=\"text-align: right;\">\n",
       "      <th></th>\n",
       "      <th>Area_sqft</th>\n",
       "      <th>Bed</th>\n",
       "      <th>Bath</th>\n",
       "      <th>Adabor, Baitul Aman Housing Society</th>\n",
       "      <th>Adabor, Comfort Housing</th>\n",
       "      <th>Adabor, Janata Housing Society</th>\n",
       "      <th>Adabor, Mansurabad Housing Society, Block A</th>\n",
       "      <th>Adabor, Mansurabad Housing Society, Block B</th>\n",
       "      <th>Adabor, Mansurabad Housing Society, Block C</th>\n",
       "      <th>Adabor, Mansurabad Housing Society, Block D</th>\n",
       "      <th>...</th>\n",
       "      <th>Uttara, Sector 15</th>\n",
       "      <th>Uttara, Sector 15, Block C1</th>\n",
       "      <th>Uttara, Sector 18, Rajuk Uttara Apartment Project, Block A</th>\n",
       "      <th>Uttara, Sector 3</th>\n",
       "      <th>Uttara, Sector 4</th>\n",
       "      <th>Uttara, Sector 5</th>\n",
       "      <th>Uttara, Sector 6</th>\n",
       "      <th>Uttara, Sector 7</th>\n",
       "      <th>Uttara, Sector 9</th>\n",
       "      <th>Zafrabad</th>\n",
       "    </tr>\n",
       "  </thead>\n",
       "  <tbody>\n",
       "    <tr>\n",
       "      <th>0</th>\n",
       "      <td>800</td>\n",
       "      <td>2</td>\n",
       "      <td>2</td>\n",
       "      <td>False</td>\n",
       "      <td>False</td>\n",
       "      <td>False</td>\n",
       "      <td>False</td>\n",
       "      <td>False</td>\n",
       "      <td>False</td>\n",
       "      <td>False</td>\n",
       "      <td>...</td>\n",
       "      <td>False</td>\n",
       "      <td>False</td>\n",
       "      <td>False</td>\n",
       "      <td>False</td>\n",
       "      <td>False</td>\n",
       "      <td>False</td>\n",
       "      <td>False</td>\n",
       "      <td>False</td>\n",
       "      <td>False</td>\n",
       "      <td>False</td>\n",
       "    </tr>\n",
       "    <tr>\n",
       "      <th>2</th>\n",
       "      <td>800</td>\n",
       "      <td>2</td>\n",
       "      <td>2</td>\n",
       "      <td>False</td>\n",
       "      <td>False</td>\n",
       "      <td>False</td>\n",
       "      <td>False</td>\n",
       "      <td>False</td>\n",
       "      <td>False</td>\n",
       "      <td>False</td>\n",
       "      <td>...</td>\n",
       "      <td>False</td>\n",
       "      <td>False</td>\n",
       "      <td>False</td>\n",
       "      <td>False</td>\n",
       "      <td>False</td>\n",
       "      <td>False</td>\n",
       "      <td>False</td>\n",
       "      <td>False</td>\n",
       "      <td>False</td>\n",
       "      <td>False</td>\n",
       "    </tr>\n",
       "    <tr>\n",
       "      <th>3</th>\n",
       "      <td>800</td>\n",
       "      <td>2</td>\n",
       "      <td>2</td>\n",
       "      <td>False</td>\n",
       "      <td>False</td>\n",
       "      <td>False</td>\n",
       "      <td>False</td>\n",
       "      <td>False</td>\n",
       "      <td>False</td>\n",
       "      <td>False</td>\n",
       "      <td>...</td>\n",
       "      <td>False</td>\n",
       "      <td>False</td>\n",
       "      <td>False</td>\n",
       "      <td>False</td>\n",
       "      <td>False</td>\n",
       "      <td>False</td>\n",
       "      <td>False</td>\n",
       "      <td>False</td>\n",
       "      <td>False</td>\n",
       "      <td>False</td>\n",
       "    </tr>\n",
       "    <tr>\n",
       "      <th>4</th>\n",
       "      <td>800</td>\n",
       "      <td>2</td>\n",
       "      <td>2</td>\n",
       "      <td>False</td>\n",
       "      <td>False</td>\n",
       "      <td>False</td>\n",
       "      <td>False</td>\n",
       "      <td>False</td>\n",
       "      <td>False</td>\n",
       "      <td>False</td>\n",
       "      <td>...</td>\n",
       "      <td>False</td>\n",
       "      <td>False</td>\n",
       "      <td>False</td>\n",
       "      <td>False</td>\n",
       "      <td>False</td>\n",
       "      <td>False</td>\n",
       "      <td>False</td>\n",
       "      <td>False</td>\n",
       "      <td>False</td>\n",
       "      <td>False</td>\n",
       "    </tr>\n",
       "    <tr>\n",
       "      <th>5</th>\n",
       "      <td>800</td>\n",
       "      <td>2</td>\n",
       "      <td>2</td>\n",
       "      <td>False</td>\n",
       "      <td>False</td>\n",
       "      <td>False</td>\n",
       "      <td>False</td>\n",
       "      <td>False</td>\n",
       "      <td>False</td>\n",
       "      <td>False</td>\n",
       "      <td>...</td>\n",
       "      <td>False</td>\n",
       "      <td>False</td>\n",
       "      <td>False</td>\n",
       "      <td>False</td>\n",
       "      <td>False</td>\n",
       "      <td>False</td>\n",
       "      <td>False</td>\n",
       "      <td>False</td>\n",
       "      <td>False</td>\n",
       "      <td>False</td>\n",
       "    </tr>\n",
       "  </tbody>\n",
       "</table>\n",
       "<p>5 rows × 525 columns</p>\n",
       "</div>"
      ],
      "text/plain": [
       "   Area_sqft  Bed  Bath  Adabor, Baitul Aman Housing Society  \\\n",
       "0        800    2     2                                False   \n",
       "2        800    2     2                                False   \n",
       "3        800    2     2                                False   \n",
       "4        800    2     2                                False   \n",
       "5        800    2     2                                False   \n",
       "\n",
       "   Adabor, Comfort Housing  Adabor, Janata Housing Society  \\\n",
       "0                    False                           False   \n",
       "2                    False                           False   \n",
       "3                    False                           False   \n",
       "4                    False                           False   \n",
       "5                    False                           False   \n",
       "\n",
       "   Adabor, Mansurabad Housing Society, Block A  \\\n",
       "0                                        False   \n",
       "2                                        False   \n",
       "3                                        False   \n",
       "4                                        False   \n",
       "5                                        False   \n",
       "\n",
       "   Adabor, Mansurabad Housing Society, Block B  \\\n",
       "0                                        False   \n",
       "2                                        False   \n",
       "3                                        False   \n",
       "4                                        False   \n",
       "5                                        False   \n",
       "\n",
       "   Adabor, Mansurabad Housing Society, Block C  \\\n",
       "0                                        False   \n",
       "2                                        False   \n",
       "3                                        False   \n",
       "4                                        False   \n",
       "5                                        False   \n",
       "\n",
       "   Adabor, Mansurabad Housing Society, Block D  ...  Uttara, Sector 15  \\\n",
       "0                                        False  ...              False   \n",
       "2                                        False  ...              False   \n",
       "3                                        False  ...              False   \n",
       "4                                        False  ...              False   \n",
       "5                                        False  ...              False   \n",
       "\n",
       "   Uttara, Sector 15, Block C1  \\\n",
       "0                        False   \n",
       "2                        False   \n",
       "3                        False   \n",
       "4                        False   \n",
       "5                        False   \n",
       "\n",
       "   Uttara, Sector 18, Rajuk Uttara Apartment Project, Block A  \\\n",
       "0                                              False            \n",
       "2                                              False            \n",
       "3                                              False            \n",
       "4                                              False            \n",
       "5                                              False            \n",
       "\n",
       "   Uttara, Sector 3  Uttara, Sector 4  Uttara, Sector 5  Uttara, Sector 6  \\\n",
       "0             False             False             False             False   \n",
       "2             False             False             False             False   \n",
       "3             False             False             False             False   \n",
       "4             False             False             False             False   \n",
       "5             False             False             False             False   \n",
       "\n",
       "   Uttara, Sector 7  Uttara, Sector 9  Zafrabad  \n",
       "0             False             False     False  \n",
       "2             False             False     False  \n",
       "3             False             False     False  \n",
       "4             False             False     False  \n",
       "5             False             False     False  \n",
       "\n",
       "[5 rows x 525 columns]"
      ]
     },
     "execution_count": 65,
     "metadata": {},
     "output_type": "execute_result"
    }
   ],
   "source": [
    "X.head()"
   ]
  },
  {
   "cell_type": "code",
   "execution_count": 66,
   "id": "63efb17b-86ef-4a4f-8e6c-b89c9a40a1a0",
   "metadata": {},
   "outputs": [
    {
     "data": {
      "text/plain": [
       "0    14000\n",
       "2    16000\n",
       "3    15000\n",
       "4    16000\n",
       "5    15000\n",
       "Name: Price_taka, dtype: int64"
      ]
     },
     "execution_count": 66,
     "metadata": {},
     "output_type": "execute_result"
    }
   ],
   "source": [
    "y.head()"
   ]
  },
  {
   "cell_type": "code",
   "execution_count": 67,
   "id": "968e3a89-fe45-45e6-871b-d7e52dca8338",
   "metadata": {},
   "outputs": [],
   "source": [
    "from sklearn.model_selection import train_test_split\n",
    "X_train, X_test, y_train, y_test = train_test_split(X, y, test_size=0.2, random_state=8)"
   ]
  },
  {
   "cell_type": "markdown",
   "id": "114a9251-53d5-42ea-b525-c8e529905572",
   "metadata": {},
   "source": [
    "# <span style='color:MediumVioletRed'>Model Analysis</span>"
   ]
  },
  {
   "cell_type": "code",
   "execution_count": 68,
   "id": "eb1be8b5-b24a-4a37-a220-94a9e52961ff",
   "metadata": {},
   "outputs": [],
   "source": [
    "from sklearn.linear_model import LinearRegression\n",
    "from sklearn.ensemble import RandomForestRegressor\n",
    "from sklearn.tree import DecisionTreeRegressor\n",
    "from xgboost import XGBRegressor\n",
    "\n",
    "lr_model = LinearRegression()\n",
    "rf_model = RandomForestRegressor()\n",
    "dt_model = DecisionTreeRegressor()\n",
    "xgb_model = XGBRegressor()"
   ]
  },
  {
   "cell_type": "code",
   "execution_count": 69,
   "id": "ac62fa80-bea4-4075-b670-a1093213ea71",
   "metadata": {},
   "outputs": [
    {
     "data": {
      "text/plain": [
       "0.897141511854175"
      ]
     },
     "execution_count": 69,
     "metadata": {},
     "output_type": "execute_result"
    }
   ],
   "source": [
    "lr_model.fit(X_train, y_train)\n",
    "lr_model.score(X_test, y_test)"
   ]
  },
  {
   "cell_type": "code",
   "execution_count": 70,
   "id": "dd92ec60-60c4-457c-9cb3-8780d1792124",
   "metadata": {},
   "outputs": [
    {
     "data": {
      "text/plain": [
       "0.949030411035578"
      ]
     },
     "execution_count": 70,
     "metadata": {},
     "output_type": "execute_result"
    }
   ],
   "source": [
    "rf_model.fit(X_train, y_train)\n",
    "rf_model.score(X_test, y_test)"
   ]
  },
  {
   "cell_type": "code",
   "execution_count": 71,
   "id": "8f32835b-a397-4703-8274-a611234e2188",
   "metadata": {},
   "outputs": [
    {
     "data": {
      "text/plain": [
       "0.9423710074694513"
      ]
     },
     "execution_count": 71,
     "metadata": {},
     "output_type": "execute_result"
    }
   ],
   "source": [
    "dt_model.fit(X_train, y_train)\n",
    "dt_model.score(X_test, y_test)"
   ]
  },
  {
   "cell_type": "code",
   "execution_count": 72,
   "id": "04e691a1-43f0-40c5-88d5-1cc2a027c260",
   "metadata": {},
   "outputs": [
    {
     "data": {
      "text/plain": [
       "0.9327718019485474"
      ]
     },
     "execution_count": 72,
     "metadata": {},
     "output_type": "execute_result"
    }
   ],
   "source": [
    "xgb_model.fit(X_train, y_train)\n",
    "xgb_model.score(X_test, y_test)"
   ]
  },
  {
   "cell_type": "markdown",
   "id": "4f99a73c-2e3d-4f87-a15b-e358f4148485",
   "metadata": {},
   "source": [
    "## <span style='color:MediumVioletRed'>Use K Fold cross validation to measure accuracy of Models</span>"
   ]
  },
  {
   "cell_type": "code",
   "execution_count": 73,
   "id": "caa61ef5-bc6f-4134-b012-1319c6852d45",
   "metadata": {},
   "outputs": [],
   "source": [
    "from sklearn.model_selection import cross_val_score\n",
    "from sklearn.model_selection import ShuffleSplit\n",
    "\n",
    "cv = ShuffleSplit(n_splits=5, test_size=0.2, random_state=8)"
   ]
  },
  {
   "cell_type": "code",
   "execution_count": 74,
   "id": "c01c77d4-583a-49d2-a941-1f898135f524",
   "metadata": {},
   "outputs": [
    {
     "data": {
      "text/plain": [
       "np.float64(0.8933396543348142)"
      ]
     },
     "execution_count": 74,
     "metadata": {},
     "output_type": "execute_result"
    }
   ],
   "source": [
    "cross_score = cross_val_score(LinearRegression(), X, y, cv=cv, n_jobs=-1)\n",
    "cross_score.mean()"
   ]
  },
  {
   "cell_type": "code",
   "execution_count": 75,
   "id": "a6f1e61f-901d-4534-9938-3165a21876fb",
   "metadata": {},
   "outputs": [
    {
     "data": {
      "text/plain": [
       "np.float64(0.94448052964398)"
      ]
     },
     "execution_count": 75,
     "metadata": {},
     "output_type": "execute_result"
    }
   ],
   "source": [
    "cross_score = cross_val_score(RandomForestRegressor(), X, y, cv=cv, n_jobs=-1)\n",
    "cross_score.mean()"
   ]
  },
  {
   "cell_type": "code",
   "execution_count": 76,
   "id": "dc0db20b-eb8e-4c5e-a4be-7e2f384ba62b",
   "metadata": {},
   "outputs": [
    {
     "data": {
      "text/plain": [
       "np.float64(0.9360294383873647)"
      ]
     },
     "execution_count": 76,
     "metadata": {},
     "output_type": "execute_result"
    }
   ],
   "source": [
    "cross_score = cross_val_score(DecisionTreeRegressor(), X, y, cv=cv, n_jobs=-1)\n",
    "cross_score.mean()"
   ]
  },
  {
   "cell_type": "code",
   "execution_count": 77,
   "id": "c3a5814f-6d36-4b89-8508-4c99fa428c68",
   "metadata": {},
   "outputs": [
    {
     "data": {
      "text/plain": [
       "np.float64(0.9308273077011109)"
      ]
     },
     "execution_count": 77,
     "metadata": {},
     "output_type": "execute_result"
    }
   ],
   "source": [
    "cross_score = cross_val_score(XGBRegressor(), X, y, cv=cv, n_jobs=-1)\n",
    "cross_score.mean()"
   ]
  },
  {
   "cell_type": "markdown",
   "id": "ef8ed170-2311-4c6d-be31-381971092a95",
   "metadata": {},
   "source": [
    "### <span style='color:Turquoise'>After general testing of 4 different models, <span style=\"color:red\">RandomForestRegressor</span> and <span style=\"color:red\">XGBRegressor</span> gave us average score above <span style=\"color:red\">93%</span>\n",
    "### <span style='color:Turquoise'>Now let's use Hyper Parameter Tuning on these models to get the best model to train</span>"
   ]
  },
  {
   "cell_type": "markdown",
   "id": "ba7b51ed-289c-4d4e-b8e2-d1edd1d5dd71",
   "metadata": {},
   "source": [
    "## <span style='color:MediumVioletRed'>Find best model using GridSearchCV</span>"
   ]
  },
  {
   "cell_type": "code",
   "execution_count": 78,
   "id": "60fbfdea-4d04-481c-8c31-346c8bd78cae",
   "metadata": {},
   "outputs": [],
   "source": [
    "from sklearn.model_selection import GridSearchCV\n",
    "from sklearn.model_selection import RandomizedSearchCV"
   ]
  },
  {
   "cell_type": "code",
   "execution_count": 79,
   "id": "89795102-424b-46d1-bece-24f9073008ea",
   "metadata": {},
   "outputs": [],
   "source": [
    "def find_best_model_using_gridsearchcv(X, y):\n",
    "    algos = {\n",
    "        'random_forest_regressor': {\n",
    "            'model': RandomForestRegressor(),\n",
    "            'params': {\n",
    "                'n_estimators': [100, 300, 500],\n",
    "                'max_depth': [3, 6, None],\n",
    "                'max_features': ['sqrt', 'log2'],\n",
    "                'min_samples_split': [2, 3, 5]\n",
    "            }\n",
    "        },\n",
    "        'xgb_regressor': {\n",
    "            'model': XGBRegressor(),\n",
    "            'params': {\n",
    "                'n_estimators': [100, 300, 500],\n",
    "                'max_depth': [3, 6],\n",
    "                'learning_rate': [0.01, 0.1],\n",
    "                'subsample': [0.8, 1.0],\n",
    "                'colsample_bytree': [0.8, 1.0]\n",
    "            }\n",
    "        }\n",
    "    }\n",
    "    \n",
    "    scores = []\n",
    "    cv = ShuffleSplit(n_splits=3, test_size=0.2, random_state=0)\n",
    "    for algo_name, config in algos.items():\n",
    "        gs = GridSearchCV(config['model'], config['params'], cv=cv, return_train_score=False, n_jobs=-1, error_score='raise')\n",
    "        gs.fit(X,y)\n",
    "        scores.append(\n",
    "            {\n",
    "                'model': algo_name,\n",
    "                'best_score': gs.best_score_,\n",
    "                'best_params': gs.best_params_\n",
    "            }\n",
    "        )\n",
    "        \n",
    "    return pd.DataFrame(scores, columns=['model', 'best_score', 'best_params'])"
   ]
  },
  {
   "cell_type": "code",
   "execution_count": 80,
   "id": "e92b11ff-ffc0-4b15-b95f-127f192c2232",
   "metadata": {},
   "outputs": [],
   "source": [
    "result = find_best_model_using_gridsearchcv(X, y)"
   ]
  },
  {
   "cell_type": "code",
   "execution_count": 81,
   "id": "829da02d-ac3a-4152-835c-047f3ba24333",
   "metadata": {},
   "outputs": [
    {
     "data": {
      "text/html": [
       "<div>\n",
       "<style scoped>\n",
       "    .dataframe tbody tr th:only-of-type {\n",
       "        vertical-align: middle;\n",
       "    }\n",
       "\n",
       "    .dataframe tbody tr th {\n",
       "        vertical-align: top;\n",
       "    }\n",
       "\n",
       "    .dataframe thead th {\n",
       "        text-align: right;\n",
       "    }\n",
       "</style>\n",
       "<table border=\"1\" class=\"dataframe\">\n",
       "  <thead>\n",
       "    <tr style=\"text-align: right;\">\n",
       "      <th></th>\n",
       "      <th>model</th>\n",
       "      <th>best_score</th>\n",
       "      <th>best_params</th>\n",
       "    </tr>\n",
       "  </thead>\n",
       "  <tbody>\n",
       "    <tr>\n",
       "      <th>0</th>\n",
       "      <td>random_forest_regressor</td>\n",
       "      <td>0.949366</td>\n",
       "      <td>{'max_depth': None, 'max_features': 'log2', 'm...</td>\n",
       "    </tr>\n",
       "    <tr>\n",
       "      <th>1</th>\n",
       "      <td>xgb_regressor</td>\n",
       "      <td>0.929172</td>\n",
       "      <td>{'colsample_bytree': 1.0, 'learning_rate': 0.1...</td>\n",
       "    </tr>\n",
       "  </tbody>\n",
       "</table>\n",
       "</div>"
      ],
      "text/plain": [
       "                     model  best_score  \\\n",
       "0  random_forest_regressor    0.949366   \n",
       "1            xgb_regressor    0.929172   \n",
       "\n",
       "                                         best_params  \n",
       "0  {'max_depth': None, 'max_features': 'log2', 'm...  \n",
       "1  {'colsample_bytree': 1.0, 'learning_rate': 0.1...  "
      ]
     },
     "execution_count": 81,
     "metadata": {},
     "output_type": "execute_result"
    }
   ],
   "source": [
    "result"
   ]
  },
  {
   "cell_type": "markdown",
   "id": "b44c8aa7-9441-4730-b3dc-b0668f6faf60",
   "metadata": {},
   "source": [
    "### <span style='color:Turquoise'>We can see the <span style=\"color:red\">RandomForestRegressor</span> came out with the Best_Score</span> <span style=\"color:red\">94.94%</span>\n",
    "### <span style='color:Turquoise'>So, we will go for this model with the <span style=\"color:red\">Best Parameters</span></span>"
   ]
  },
  {
   "cell_type": "code",
   "execution_count": 82,
   "id": "3cdad4d6-c799-4317-90d2-937fbd3f9fd0",
   "metadata": {},
   "outputs": [
    {
     "data": {
      "text/plain": [
       "{'max_depth': None,\n",
       " 'max_features': 'log2',\n",
       " 'min_samples_split': 3,\n",
       " 'n_estimators': 100}"
      ]
     },
     "execution_count": 82,
     "metadata": {},
     "output_type": "execute_result"
    }
   ],
   "source": [
    "result['best_params'][0]"
   ]
  },
  {
   "cell_type": "markdown",
   "id": "139c8c99-5871-46ed-853a-c1cbf985e632",
   "metadata": {},
   "source": [
    "# <span style='color:MediumVioletRed'>Final Model Building</span>"
   ]
  },
  {
   "cell_type": "code",
   "execution_count": 89,
   "id": "84810440-a266-4b17-8f59-bd4df8e343b1",
   "metadata": {},
   "outputs": [
    {
     "data": {
      "text/html": [
       "<style>#sk-container-id-4 {\n",
       "  /* Definition of color scheme common for light and dark mode */\n",
       "  --sklearn-color-text: #000;\n",
       "  --sklearn-color-text-muted: #666;\n",
       "  --sklearn-color-line: gray;\n",
       "  /* Definition of color scheme for unfitted estimators */\n",
       "  --sklearn-color-unfitted-level-0: #fff5e6;\n",
       "  --sklearn-color-unfitted-level-1: #f6e4d2;\n",
       "  --sklearn-color-unfitted-level-2: #ffe0b3;\n",
       "  --sklearn-color-unfitted-level-3: chocolate;\n",
       "  /* Definition of color scheme for fitted estimators */\n",
       "  --sklearn-color-fitted-level-0: #f0f8ff;\n",
       "  --sklearn-color-fitted-level-1: #d4ebff;\n",
       "  --sklearn-color-fitted-level-2: #b3dbfd;\n",
       "  --sklearn-color-fitted-level-3: cornflowerblue;\n",
       "\n",
       "  /* Specific color for light theme */\n",
       "  --sklearn-color-text-on-default-background: var(--sg-text-color, var(--theme-code-foreground, var(--jp-content-font-color1, black)));\n",
       "  --sklearn-color-background: var(--sg-background-color, var(--theme-background, var(--jp-layout-color0, white)));\n",
       "  --sklearn-color-border-box: var(--sg-text-color, var(--theme-code-foreground, var(--jp-content-font-color1, black)));\n",
       "  --sklearn-color-icon: #696969;\n",
       "\n",
       "  @media (prefers-color-scheme: dark) {\n",
       "    /* Redefinition of color scheme for dark theme */\n",
       "    --sklearn-color-text-on-default-background: var(--sg-text-color, var(--theme-code-foreground, var(--jp-content-font-color1, white)));\n",
       "    --sklearn-color-background: var(--sg-background-color, var(--theme-background, var(--jp-layout-color0, #111)));\n",
       "    --sklearn-color-border-box: var(--sg-text-color, var(--theme-code-foreground, var(--jp-content-font-color1, white)));\n",
       "    --sklearn-color-icon: #878787;\n",
       "  }\n",
       "}\n",
       "\n",
       "#sk-container-id-4 {\n",
       "  color: var(--sklearn-color-text);\n",
       "}\n",
       "\n",
       "#sk-container-id-4 pre {\n",
       "  padding: 0;\n",
       "}\n",
       "\n",
       "#sk-container-id-4 input.sk-hidden--visually {\n",
       "  border: 0;\n",
       "  clip: rect(1px 1px 1px 1px);\n",
       "  clip: rect(1px, 1px, 1px, 1px);\n",
       "  height: 1px;\n",
       "  margin: -1px;\n",
       "  overflow: hidden;\n",
       "  padding: 0;\n",
       "  position: absolute;\n",
       "  width: 1px;\n",
       "}\n",
       "\n",
       "#sk-container-id-4 div.sk-dashed-wrapped {\n",
       "  border: 1px dashed var(--sklearn-color-line);\n",
       "  margin: 0 0.4em 0.5em 0.4em;\n",
       "  box-sizing: border-box;\n",
       "  padding-bottom: 0.4em;\n",
       "  background-color: var(--sklearn-color-background);\n",
       "}\n",
       "\n",
       "#sk-container-id-4 div.sk-container {\n",
       "  /* jupyter's `normalize.less` sets `[hidden] { display: none; }`\n",
       "     but bootstrap.min.css set `[hidden] { display: none !important; }`\n",
       "     so we also need the `!important` here to be able to override the\n",
       "     default hidden behavior on the sphinx rendered scikit-learn.org.\n",
       "     See: https://github.com/scikit-learn/scikit-learn/issues/21755 */\n",
       "  display: inline-block !important;\n",
       "  position: relative;\n",
       "}\n",
       "\n",
       "#sk-container-id-4 div.sk-text-repr-fallback {\n",
       "  display: none;\n",
       "}\n",
       "\n",
       "div.sk-parallel-item,\n",
       "div.sk-serial,\n",
       "div.sk-item {\n",
       "  /* draw centered vertical line to link estimators */\n",
       "  background-image: linear-gradient(var(--sklearn-color-text-on-default-background), var(--sklearn-color-text-on-default-background));\n",
       "  background-size: 2px 100%;\n",
       "  background-repeat: no-repeat;\n",
       "  background-position: center center;\n",
       "}\n",
       "\n",
       "/* Parallel-specific style estimator block */\n",
       "\n",
       "#sk-container-id-4 div.sk-parallel-item::after {\n",
       "  content: \"\";\n",
       "  width: 100%;\n",
       "  border-bottom: 2px solid var(--sklearn-color-text-on-default-background);\n",
       "  flex-grow: 1;\n",
       "}\n",
       "\n",
       "#sk-container-id-4 div.sk-parallel {\n",
       "  display: flex;\n",
       "  align-items: stretch;\n",
       "  justify-content: center;\n",
       "  background-color: var(--sklearn-color-background);\n",
       "  position: relative;\n",
       "}\n",
       "\n",
       "#sk-container-id-4 div.sk-parallel-item {\n",
       "  display: flex;\n",
       "  flex-direction: column;\n",
       "}\n",
       "\n",
       "#sk-container-id-4 div.sk-parallel-item:first-child::after {\n",
       "  align-self: flex-end;\n",
       "  width: 50%;\n",
       "}\n",
       "\n",
       "#sk-container-id-4 div.sk-parallel-item:last-child::after {\n",
       "  align-self: flex-start;\n",
       "  width: 50%;\n",
       "}\n",
       "\n",
       "#sk-container-id-4 div.sk-parallel-item:only-child::after {\n",
       "  width: 0;\n",
       "}\n",
       "\n",
       "/* Serial-specific style estimator block */\n",
       "\n",
       "#sk-container-id-4 div.sk-serial {\n",
       "  display: flex;\n",
       "  flex-direction: column;\n",
       "  align-items: center;\n",
       "  background-color: var(--sklearn-color-background);\n",
       "  padding-right: 1em;\n",
       "  padding-left: 1em;\n",
       "}\n",
       "\n",
       "\n",
       "/* Toggleable style: style used for estimator/Pipeline/ColumnTransformer box that is\n",
       "clickable and can be expanded/collapsed.\n",
       "- Pipeline and ColumnTransformer use this feature and define the default style\n",
       "- Estimators will overwrite some part of the style using the `sk-estimator` class\n",
       "*/\n",
       "\n",
       "/* Pipeline and ColumnTransformer style (default) */\n",
       "\n",
       "#sk-container-id-4 div.sk-toggleable {\n",
       "  /* Default theme specific background. It is overwritten whether we have a\n",
       "  specific estimator or a Pipeline/ColumnTransformer */\n",
       "  background-color: var(--sklearn-color-background);\n",
       "}\n",
       "\n",
       "/* Toggleable label */\n",
       "#sk-container-id-4 label.sk-toggleable__label {\n",
       "  cursor: pointer;\n",
       "  display: flex;\n",
       "  width: 100%;\n",
       "  margin-bottom: 0;\n",
       "  padding: 0.5em;\n",
       "  box-sizing: border-box;\n",
       "  text-align: center;\n",
       "  align-items: start;\n",
       "  justify-content: space-between;\n",
       "  gap: 0.5em;\n",
       "}\n",
       "\n",
       "#sk-container-id-4 label.sk-toggleable__label .caption {\n",
       "  font-size: 0.6rem;\n",
       "  font-weight: lighter;\n",
       "  color: var(--sklearn-color-text-muted);\n",
       "}\n",
       "\n",
       "#sk-container-id-4 label.sk-toggleable__label-arrow:before {\n",
       "  /* Arrow on the left of the label */\n",
       "  content: \"▸\";\n",
       "  float: left;\n",
       "  margin-right: 0.25em;\n",
       "  color: var(--sklearn-color-icon);\n",
       "}\n",
       "\n",
       "#sk-container-id-4 label.sk-toggleable__label-arrow:hover:before {\n",
       "  color: var(--sklearn-color-text);\n",
       "}\n",
       "\n",
       "/* Toggleable content - dropdown */\n",
       "\n",
       "#sk-container-id-4 div.sk-toggleable__content {\n",
       "  max-height: 0;\n",
       "  max-width: 0;\n",
       "  overflow: hidden;\n",
       "  text-align: left;\n",
       "  /* unfitted */\n",
       "  background-color: var(--sklearn-color-unfitted-level-0);\n",
       "}\n",
       "\n",
       "#sk-container-id-4 div.sk-toggleable__content.fitted {\n",
       "  /* fitted */\n",
       "  background-color: var(--sklearn-color-fitted-level-0);\n",
       "}\n",
       "\n",
       "#sk-container-id-4 div.sk-toggleable__content pre {\n",
       "  margin: 0.2em;\n",
       "  border-radius: 0.25em;\n",
       "  color: var(--sklearn-color-text);\n",
       "  /* unfitted */\n",
       "  background-color: var(--sklearn-color-unfitted-level-0);\n",
       "}\n",
       "\n",
       "#sk-container-id-4 div.sk-toggleable__content.fitted pre {\n",
       "  /* unfitted */\n",
       "  background-color: var(--sklearn-color-fitted-level-0);\n",
       "}\n",
       "\n",
       "#sk-container-id-4 input.sk-toggleable__control:checked~div.sk-toggleable__content {\n",
       "  /* Expand drop-down */\n",
       "  max-height: 200px;\n",
       "  max-width: 100%;\n",
       "  overflow: auto;\n",
       "}\n",
       "\n",
       "#sk-container-id-4 input.sk-toggleable__control:checked~label.sk-toggleable__label-arrow:before {\n",
       "  content: \"▾\";\n",
       "}\n",
       "\n",
       "/* Pipeline/ColumnTransformer-specific style */\n",
       "\n",
       "#sk-container-id-4 div.sk-label input.sk-toggleable__control:checked~label.sk-toggleable__label {\n",
       "  color: var(--sklearn-color-text);\n",
       "  background-color: var(--sklearn-color-unfitted-level-2);\n",
       "}\n",
       "\n",
       "#sk-container-id-4 div.sk-label.fitted input.sk-toggleable__control:checked~label.sk-toggleable__label {\n",
       "  background-color: var(--sklearn-color-fitted-level-2);\n",
       "}\n",
       "\n",
       "/* Estimator-specific style */\n",
       "\n",
       "/* Colorize estimator box */\n",
       "#sk-container-id-4 div.sk-estimator input.sk-toggleable__control:checked~label.sk-toggleable__label {\n",
       "  /* unfitted */\n",
       "  background-color: var(--sklearn-color-unfitted-level-2);\n",
       "}\n",
       "\n",
       "#sk-container-id-4 div.sk-estimator.fitted input.sk-toggleable__control:checked~label.sk-toggleable__label {\n",
       "  /* fitted */\n",
       "  background-color: var(--sklearn-color-fitted-level-2);\n",
       "}\n",
       "\n",
       "#sk-container-id-4 div.sk-label label.sk-toggleable__label,\n",
       "#sk-container-id-4 div.sk-label label {\n",
       "  /* The background is the default theme color */\n",
       "  color: var(--sklearn-color-text-on-default-background);\n",
       "}\n",
       "\n",
       "/* On hover, darken the color of the background */\n",
       "#sk-container-id-4 div.sk-label:hover label.sk-toggleable__label {\n",
       "  color: var(--sklearn-color-text);\n",
       "  background-color: var(--sklearn-color-unfitted-level-2);\n",
       "}\n",
       "\n",
       "/* Label box, darken color on hover, fitted */\n",
       "#sk-container-id-4 div.sk-label.fitted:hover label.sk-toggleable__label.fitted {\n",
       "  color: var(--sklearn-color-text);\n",
       "  background-color: var(--sklearn-color-fitted-level-2);\n",
       "}\n",
       "\n",
       "/* Estimator label */\n",
       "\n",
       "#sk-container-id-4 div.sk-label label {\n",
       "  font-family: monospace;\n",
       "  font-weight: bold;\n",
       "  display: inline-block;\n",
       "  line-height: 1.2em;\n",
       "}\n",
       "\n",
       "#sk-container-id-4 div.sk-label-container {\n",
       "  text-align: center;\n",
       "}\n",
       "\n",
       "/* Estimator-specific */\n",
       "#sk-container-id-4 div.sk-estimator {\n",
       "  font-family: monospace;\n",
       "  border: 1px dotted var(--sklearn-color-border-box);\n",
       "  border-radius: 0.25em;\n",
       "  box-sizing: border-box;\n",
       "  margin-bottom: 0.5em;\n",
       "  /* unfitted */\n",
       "  background-color: var(--sklearn-color-unfitted-level-0);\n",
       "}\n",
       "\n",
       "#sk-container-id-4 div.sk-estimator.fitted {\n",
       "  /* fitted */\n",
       "  background-color: var(--sklearn-color-fitted-level-0);\n",
       "}\n",
       "\n",
       "/* on hover */\n",
       "#sk-container-id-4 div.sk-estimator:hover {\n",
       "  /* unfitted */\n",
       "  background-color: var(--sklearn-color-unfitted-level-2);\n",
       "}\n",
       "\n",
       "#sk-container-id-4 div.sk-estimator.fitted:hover {\n",
       "  /* fitted */\n",
       "  background-color: var(--sklearn-color-fitted-level-2);\n",
       "}\n",
       "\n",
       "/* Specification for estimator info (e.g. \"i\" and \"?\") */\n",
       "\n",
       "/* Common style for \"i\" and \"?\" */\n",
       "\n",
       ".sk-estimator-doc-link,\n",
       "a:link.sk-estimator-doc-link,\n",
       "a:visited.sk-estimator-doc-link {\n",
       "  float: right;\n",
       "  font-size: smaller;\n",
       "  line-height: 1em;\n",
       "  font-family: monospace;\n",
       "  background-color: var(--sklearn-color-background);\n",
       "  border-radius: 1em;\n",
       "  height: 1em;\n",
       "  width: 1em;\n",
       "  text-decoration: none !important;\n",
       "  margin-left: 0.5em;\n",
       "  text-align: center;\n",
       "  /* unfitted */\n",
       "  border: var(--sklearn-color-unfitted-level-1) 1pt solid;\n",
       "  color: var(--sklearn-color-unfitted-level-1);\n",
       "}\n",
       "\n",
       ".sk-estimator-doc-link.fitted,\n",
       "a:link.sk-estimator-doc-link.fitted,\n",
       "a:visited.sk-estimator-doc-link.fitted {\n",
       "  /* fitted */\n",
       "  border: var(--sklearn-color-fitted-level-1) 1pt solid;\n",
       "  color: var(--sklearn-color-fitted-level-1);\n",
       "}\n",
       "\n",
       "/* On hover */\n",
       "div.sk-estimator:hover .sk-estimator-doc-link:hover,\n",
       ".sk-estimator-doc-link:hover,\n",
       "div.sk-label-container:hover .sk-estimator-doc-link:hover,\n",
       ".sk-estimator-doc-link:hover {\n",
       "  /* unfitted */\n",
       "  background-color: var(--sklearn-color-unfitted-level-3);\n",
       "  color: var(--sklearn-color-background);\n",
       "  text-decoration: none;\n",
       "}\n",
       "\n",
       "div.sk-estimator.fitted:hover .sk-estimator-doc-link.fitted:hover,\n",
       ".sk-estimator-doc-link.fitted:hover,\n",
       "div.sk-label-container:hover .sk-estimator-doc-link.fitted:hover,\n",
       ".sk-estimator-doc-link.fitted:hover {\n",
       "  /* fitted */\n",
       "  background-color: var(--sklearn-color-fitted-level-3);\n",
       "  color: var(--sklearn-color-background);\n",
       "  text-decoration: none;\n",
       "}\n",
       "\n",
       "/* Span, style for the box shown on hovering the info icon */\n",
       ".sk-estimator-doc-link span {\n",
       "  display: none;\n",
       "  z-index: 9999;\n",
       "  position: relative;\n",
       "  font-weight: normal;\n",
       "  right: .2ex;\n",
       "  padding: .5ex;\n",
       "  margin: .5ex;\n",
       "  width: min-content;\n",
       "  min-width: 20ex;\n",
       "  max-width: 50ex;\n",
       "  color: var(--sklearn-color-text);\n",
       "  box-shadow: 2pt 2pt 4pt #999;\n",
       "  /* unfitted */\n",
       "  background: var(--sklearn-color-unfitted-level-0);\n",
       "  border: .5pt solid var(--sklearn-color-unfitted-level-3);\n",
       "}\n",
       "\n",
       ".sk-estimator-doc-link.fitted span {\n",
       "  /* fitted */\n",
       "  background: var(--sklearn-color-fitted-level-0);\n",
       "  border: var(--sklearn-color-fitted-level-3);\n",
       "}\n",
       "\n",
       ".sk-estimator-doc-link:hover span {\n",
       "  display: block;\n",
       "}\n",
       "\n",
       "/* \"?\"-specific style due to the `<a>` HTML tag */\n",
       "\n",
       "#sk-container-id-4 a.estimator_doc_link {\n",
       "  float: right;\n",
       "  font-size: 1rem;\n",
       "  line-height: 1em;\n",
       "  font-family: monospace;\n",
       "  background-color: var(--sklearn-color-background);\n",
       "  border-radius: 1rem;\n",
       "  height: 1rem;\n",
       "  width: 1rem;\n",
       "  text-decoration: none;\n",
       "  /* unfitted */\n",
       "  color: var(--sklearn-color-unfitted-level-1);\n",
       "  border: var(--sklearn-color-unfitted-level-1) 1pt solid;\n",
       "}\n",
       "\n",
       "#sk-container-id-4 a.estimator_doc_link.fitted {\n",
       "  /* fitted */\n",
       "  border: var(--sklearn-color-fitted-level-1) 1pt solid;\n",
       "  color: var(--sklearn-color-fitted-level-1);\n",
       "}\n",
       "\n",
       "/* On hover */\n",
       "#sk-container-id-4 a.estimator_doc_link:hover {\n",
       "  /* unfitted */\n",
       "  background-color: var(--sklearn-color-unfitted-level-3);\n",
       "  color: var(--sklearn-color-background);\n",
       "  text-decoration: none;\n",
       "}\n",
       "\n",
       "#sk-container-id-4 a.estimator_doc_link.fitted:hover {\n",
       "  /* fitted */\n",
       "  background-color: var(--sklearn-color-fitted-level-3);\n",
       "}\n",
       "</style><div id=\"sk-container-id-4\" class=\"sk-top-container\"><div class=\"sk-text-repr-fallback\"><pre>RandomForestRegressor(max_features=&#x27;log2&#x27;, min_samples_split=3, n_jobs=-1)</pre><b>In a Jupyter environment, please rerun this cell to show the HTML representation or trust the notebook. <br />On GitHub, the HTML representation is unable to render, please try loading this page with nbviewer.org.</b></div><div class=\"sk-container\" hidden><div class=\"sk-item\"><div class=\"sk-estimator fitted sk-toggleable\"><input class=\"sk-toggleable__control sk-hidden--visually\" id=\"sk-estimator-id-4\" type=\"checkbox\" checked><label for=\"sk-estimator-id-4\" class=\"sk-toggleable__label fitted sk-toggleable__label-arrow\"><div><div>RandomForestRegressor</div></div><div><a class=\"sk-estimator-doc-link fitted\" rel=\"noreferrer\" target=\"_blank\" href=\"https://scikit-learn.org/1.6/modules/generated/sklearn.ensemble.RandomForestRegressor.html\">?<span>Documentation for RandomForestRegressor</span></a><span class=\"sk-estimator-doc-link fitted\">i<span>Fitted</span></span></div></label><div class=\"sk-toggleable__content fitted\"><pre>RandomForestRegressor(max_features=&#x27;log2&#x27;, min_samples_split=3, n_jobs=-1)</pre></div> </div></div></div></div>"
      ],
      "text/plain": [
       "RandomForestRegressor(max_features='log2', min_samples_split=3, n_jobs=-1)"
      ]
     },
     "execution_count": 89,
     "metadata": {},
     "output_type": "execute_result"
    }
   ],
   "source": [
    "from sklearn.ensemble import RandomForestRegressor\n",
    "\n",
    "final_model = RandomForestRegressor(n_estimators=100, min_samples_split=3, max_features='log2', max_depth=None, n_jobs=-1)\n",
    "final_model.fit(X_train, y_train)"
   ]
  },
  {
   "cell_type": "code",
   "execution_count": 90,
   "id": "2fbedb88-05fc-4b93-94e9-fbedd5404a8e",
   "metadata": {},
   "outputs": [
    {
     "data": {
      "text/plain": [
       "0.9518280766492986"
      ]
     },
     "execution_count": 90,
     "metadata": {},
     "output_type": "execute_result"
    }
   ],
   "source": [
    "final_model.score(X_test, y_test)"
   ]
  },
  {
   "cell_type": "code",
   "execution_count": 91,
   "id": "cdc9c377-2f17-4c5c-8acd-a765bdee1797",
   "metadata": {},
   "outputs": [
    {
     "name": "stdout",
     "output_type": "stream",
     "text": [
      "Index(['Area_sqft', 'Bed', 'Bath', 'Adabor, Baitul Aman Housing Society',\n",
      "       'Adabor, Comfort Housing', 'Adabor, Janata Housing Society',\n",
      "       'Adabor, Mansurabad Housing Society, Block A',\n",
      "       'Adabor, Mansurabad Housing Society, Block B',\n",
      "       'Adabor, Mansurabad Housing Society, Block C',\n",
      "       'Adabor, Mansurabad Housing Society, Block D',\n",
      "       ...\n",
      "       'Uttara, Sector 15', 'Uttara, Sector 15, Block C1',\n",
      "       'Uttara, Sector 18, Rajuk Uttara Apartment Project, Block A',\n",
      "       'Uttara, Sector 3', 'Uttara, Sector 4', 'Uttara, Sector 5',\n",
      "       'Uttara, Sector 6', 'Uttara, Sector 7', 'Uttara, Sector 9', 'Zafrabad'],\n",
      "      dtype='object', length=525)\n"
     ]
    }
   ],
   "source": [
    "print(X.columns)"
   ]
  },
  {
   "cell_type": "code",
   "execution_count": 92,
   "id": "622f368d-6e8d-4a6c-bc19-dbf3093b523a",
   "metadata": {},
   "outputs": [
    {
     "data": {
      "text/plain": [
       "(array([466]),)"
      ]
     },
     "execution_count": 92,
     "metadata": {},
     "output_type": "execute_result"
    }
   ],
   "source": [
    "np.where(X.columns=='Other')"
   ]
  },
  {
   "cell_type": "code",
   "execution_count": 93,
   "id": "b66cb872-f97f-4a1f-bad7-b1adb103d287",
   "metadata": {},
   "outputs": [],
   "source": [
    "def predict_price(Location, Area_sqft, Bed, Bath):\n",
    "    try:\n",
    "        if Location not in X.columns[3:]:  # Assuming first 3 columns are Area_sqft, Bed, Bath\n",
    "            raise ValueError(f\"Location '{Location}' not found in the model's training data.\")\n",
    "        # Create a dictionary for input data\n",
    "        input_data = {\n",
    "            'Area_sqft': [Area_sqft],\n",
    "            'Bed': [Bed],\n",
    "            'Bath': [Bath]\n",
    "        }\n",
    "        # Add location columns (one-hot encoding)\n",
    "        for loc in X.columns[3:]:\n",
    "            input_data[loc] = [1 if loc == Location else 0]\n",
    "            \n",
    "        input_df = pd.DataFrame(input_data, columns=X.columns)\n",
    "        \n",
    "        # Predict price\n",
    "        predicted_price = round(final_model.predict(input_df)[0],2)\n",
    "        return predicted_price\n",
    "    \n",
    "    except Exception as e:\n",
    "        print(f\"Error: {e}\")\n",
    "        return None"
   ]
  },
  {
   "cell_type": "code",
   "execution_count": 94,
   "id": "cb88dc98-b378-4c0c-a236-59e9fc3601c7",
   "metadata": {},
   "outputs": [
    {
     "data": {
      "text/plain": [
       "np.float64(16000.0)"
      ]
     },
     "execution_count": 94,
     "metadata": {},
     "output_type": "execute_result"
    }
   ],
   "source": [
    "predict_price('Aftab Nagar, Block F, Sector 2', 850, 2, 2)"
   ]
  },
  {
   "cell_type": "markdown",
   "id": "393a3326-dd41-4923-9073-df8cf0ce1877",
   "metadata": {},
   "source": [
    "# <span style='color:MediumVioletRed'>Exporting the Model and Artifacts</span>"
   ]
  },
  {
   "cell_type": "code",
   "execution_count": 95,
   "id": "faa4959b-d34f-49a0-80e0-93a9092f36f5",
   "metadata": {},
   "outputs": [
    {
     "data": {
      "text/plain": [
       "['DhakaHomeRentPrediction.pkl']"
      ]
     },
     "execution_count": 95,
     "metadata": {},
     "output_type": "execute_result"
    }
   ],
   "source": [
    "import joblib\n",
    "\n",
    "joblib.dump(final_model, \"DhakaHomeRentPrediction.pkl\", compress=3)"
   ]
  },
  {
   "cell_type": "code",
   "execution_count": 96,
   "id": "22f17409-8e4a-44da-ac6d-ad842316c4af",
   "metadata": {},
   "outputs": [],
   "source": [
    "import json\n",
    "\n",
    "columns = {\n",
    "    'data_columns': list(X.columns)\n",
    "}\n",
    "\n",
    "with open(\"columns.json\", \"w\") as f:\n",
    "    f.write(json.dumps(columns))"
   ]
  },
  {
   "cell_type": "code",
   "execution_count": null,
   "id": "0df233b4-061b-42e1-9120-5b8d95437a43",
   "metadata": {},
   "outputs": [],
   "source": []
  }
 ],
 "metadata": {
  "kernelspec": {
   "display_name": "Python 3 (ipykernel)",
   "language": "python",
   "name": "python3"
  },
  "language_info": {
   "codemirror_mode": {
    "name": "ipython",
    "version": 3
   },
   "file_extension": ".py",
   "mimetype": "text/x-python",
   "name": "python",
   "nbconvert_exporter": "python",
   "pygments_lexer": "ipython3",
   "version": "3.10.17"
  }
 },
 "nbformat": 4,
 "nbformat_minor": 5
}
