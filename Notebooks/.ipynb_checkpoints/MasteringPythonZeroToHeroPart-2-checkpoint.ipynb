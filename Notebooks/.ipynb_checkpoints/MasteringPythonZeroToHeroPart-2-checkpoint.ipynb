{
 "cells": [
  {
   "cell_type": "markdown",
   "id": "dffc636a",
   "metadata": {},
   "source": [
    "# Numpy"
   ]
  },
  {
   "cell_type": "code",
   "execution_count": 7,
   "id": "504639f2",
   "metadata": {},
   "outputs": [],
   "source": [
    "import numpy as np"
   ]
  },
  {
   "cell_type": "code",
   "execution_count": 8,
   "id": "be5efa5b",
   "metadata": {},
   "outputs": [],
   "source": [
    "a = np.array([1,2,3,5,7],dtype='i')"
   ]
  },
  {
   "cell_type": "code",
   "execution_count": 9,
   "id": "37f8c97b",
   "metadata": {},
   "outputs": [],
   "source": [
    "b = np.array((2,3,5),dtype='f')"
   ]
  },
  {
   "cell_type": "code",
   "execution_count": 10,
   "id": "a6e7648b",
   "metadata": {},
   "outputs": [
    {
     "name": "stdout",
     "output_type": "stream",
     "text": [
      "[1 2 3 5 7]\n"
     ]
    }
   ],
   "source": [
    "print(a)"
   ]
  },
  {
   "cell_type": "code",
   "execution_count": 11,
   "id": "89ae9f15",
   "metadata": {},
   "outputs": [
    {
     "data": {
      "text/plain": [
       "numpy.ndarray"
      ]
     },
     "execution_count": 11,
     "metadata": {},
     "output_type": "execute_result"
    }
   ],
   "source": [
    "type(a)"
   ]
  },
  {
   "cell_type": "code",
   "execution_count": 12,
   "id": "f6475673",
   "metadata": {},
   "outputs": [
    {
     "name": "stdout",
     "output_type": "stream",
     "text": [
      "[2. 3. 5.]\n"
     ]
    }
   ],
   "source": [
    "print(b)"
   ]
  },
  {
   "cell_type": "code",
   "execution_count": 13,
   "id": "02f6f6dd",
   "metadata": {},
   "outputs": [
    {
     "data": {
      "text/plain": [
       "numpy.ndarray"
      ]
     },
     "execution_count": 13,
     "metadata": {},
     "output_type": "execute_result"
    }
   ],
   "source": [
    "type(b)"
   ]
  },
  {
   "cell_type": "code",
   "execution_count": 14,
   "id": "c5a83eb8",
   "metadata": {},
   "outputs": [
    {
     "data": {
      "text/plain": [
       "dtype('int32')"
      ]
     },
     "execution_count": 14,
     "metadata": {},
     "output_type": "execute_result"
    }
   ],
   "source": [
    "a.dtype"
   ]
  },
  {
   "cell_type": "code",
   "execution_count": 15,
   "id": "9b9f2d49",
   "metadata": {},
   "outputs": [
    {
     "data": {
      "text/plain": [
       "dtype('float32')"
      ]
     },
     "execution_count": 15,
     "metadata": {},
     "output_type": "execute_result"
    }
   ],
   "source": [
    "b.dtype"
   ]
  },
  {
   "cell_type": "code",
   "execution_count": 16,
   "id": "eb08efd8",
   "metadata": {},
   "outputs": [],
   "source": [
    "import numpy as np\n",
    "a = np.array([[1,2,3],[4,5,6]])"
   ]
  },
  {
   "cell_type": "code",
   "execution_count": 17,
   "id": "295cf996",
   "metadata": {},
   "outputs": [
    {
     "data": {
      "text/plain": [
       "2"
      ]
     },
     "execution_count": 17,
     "metadata": {},
     "output_type": "execute_result"
    }
   ],
   "source": [
    "a.ndim"
   ]
  },
  {
   "cell_type": "code",
   "execution_count": 18,
   "id": "aac4ad35",
   "metadata": {},
   "outputs": [
    {
     "data": {
      "text/plain": [
       "3"
      ]
     },
     "execution_count": 18,
     "metadata": {},
     "output_type": "execute_result"
    }
   ],
   "source": [
    "a[0,2]"
   ]
  },
  {
   "cell_type": "code",
   "execution_count": 19,
   "id": "706a9289",
   "metadata": {},
   "outputs": [],
   "source": [
    "b = np.array([[1,2,3],[4,5,6]])"
   ]
  },
  {
   "cell_type": "code",
   "execution_count": 20,
   "id": "8c478c15",
   "metadata": {},
   "outputs": [
    {
     "data": {
      "text/plain": [
       "5"
      ]
     },
     "execution_count": 20,
     "metadata": {},
     "output_type": "execute_result"
    }
   ],
   "source": [
    "b[1,1]"
   ]
  },
  {
   "cell_type": "code",
   "execution_count": 21,
   "id": "08609119",
   "metadata": {},
   "outputs": [
    {
     "data": {
      "text/plain": [
       "2"
      ]
     },
     "execution_count": 21,
     "metadata": {},
     "output_type": "execute_result"
    }
   ],
   "source": [
    "b.ndim"
   ]
  },
  {
   "cell_type": "code",
   "execution_count": 22,
   "id": "21f8ffbf",
   "metadata": {},
   "outputs": [],
   "source": [
    "c = np.array([[[1,2,3],[4,5,6],[7,8,9]],[[-5,-2,-1],[7,5,8],[-3,9,-5]]])"
   ]
  },
  {
   "cell_type": "code",
   "execution_count": 23,
   "id": "427d575f",
   "metadata": {},
   "outputs": [
    {
     "data": {
      "text/plain": [
       "8"
      ]
     },
     "execution_count": 23,
     "metadata": {},
     "output_type": "execute_result"
    }
   ],
   "source": [
    "c[1,1,2]"
   ]
  },
  {
   "cell_type": "code",
   "execution_count": 24,
   "id": "ef0466b5",
   "metadata": {},
   "outputs": [
    {
     "data": {
      "text/plain": [
       "3"
      ]
     },
     "execution_count": 24,
     "metadata": {},
     "output_type": "execute_result"
    }
   ],
   "source": [
    "c.ndim"
   ]
  },
  {
   "cell_type": "code",
   "execution_count": 25,
   "id": "8c188746",
   "metadata": {},
   "outputs": [
    {
     "data": {
      "text/plain": [
       "numpy.ndarray"
      ]
     },
     "execution_count": 25,
     "metadata": {},
     "output_type": "execute_result"
    }
   ],
   "source": [
    "type(c)"
   ]
  },
  {
   "cell_type": "code",
   "execution_count": 26,
   "id": "8411a80f",
   "metadata": {},
   "outputs": [
    {
     "data": {
      "text/plain": [
       "(2, 3, 3)"
      ]
     },
     "execution_count": 26,
     "metadata": {},
     "output_type": "execute_result"
    }
   ],
   "source": [
    "c.shape"
   ]
  },
  {
   "cell_type": "code",
   "execution_count": 27,
   "id": "ab82b57d",
   "metadata": {},
   "outputs": [
    {
     "data": {
      "text/plain": [
       "tuple"
      ]
     },
     "execution_count": 27,
     "metadata": {},
     "output_type": "execute_result"
    }
   ],
   "source": [
    "type(c.shape)"
   ]
  },
  {
   "cell_type": "code",
   "execution_count": 28,
   "id": "b2186d86",
   "metadata": {},
   "outputs": [],
   "source": [
    "A = np.array([8])"
   ]
  },
  {
   "cell_type": "code",
   "execution_count": 29,
   "id": "87398060",
   "metadata": {},
   "outputs": [
    {
     "data": {
      "text/plain": [
       "1"
      ]
     },
     "execution_count": 29,
     "metadata": {},
     "output_type": "execute_result"
    }
   ],
   "source": [
    "A.ndim"
   ]
  },
  {
   "cell_type": "code",
   "execution_count": 30,
   "id": "e92fcbb8",
   "metadata": {},
   "outputs": [],
   "source": [
    "B = np.array(8)"
   ]
  },
  {
   "cell_type": "code",
   "execution_count": 31,
   "id": "8cbbb429",
   "metadata": {},
   "outputs": [
    {
     "data": {
      "text/plain": [
       "0"
      ]
     },
     "execution_count": 31,
     "metadata": {},
     "output_type": "execute_result"
    }
   ],
   "source": [
    "B.ndim"
   ]
  },
  {
   "cell_type": "code",
   "execution_count": 32,
   "id": "e9862a12",
   "metadata": {},
   "outputs": [
    {
     "data": {
      "text/plain": [
       "18"
      ]
     },
     "execution_count": 32,
     "metadata": {},
     "output_type": "execute_result"
    }
   ],
   "source": [
    "c.size"
   ]
  },
  {
   "cell_type": "code",
   "execution_count": 33,
   "id": "a0118fde",
   "metadata": {},
   "outputs": [
    {
     "data": {
      "text/plain": [
       "72"
      ]
     },
     "execution_count": 33,
     "metadata": {},
     "output_type": "execute_result"
    }
   ],
   "source": [
    "c.nbytes"
   ]
  },
  {
   "cell_type": "markdown",
   "id": "27284ab1",
   "metadata": {},
   "source": [
    "## Numpy(np.arange,reshape,random)"
   ]
  },
  {
   "cell_type": "code",
   "execution_count": 34,
   "id": "135362e8",
   "metadata": {},
   "outputs": [],
   "source": [
    "X = np.arange(100)"
   ]
  },
  {
   "cell_type": "code",
   "execution_count": 35,
   "id": "b7dcc8a1",
   "metadata": {},
   "outputs": [
    {
     "name": "stdout",
     "output_type": "stream",
     "text": [
      "[ 0  1  2  3  4  5  6  7  8  9 10 11 12 13 14 15 16 17 18 19 20 21 22 23\n",
      " 24 25 26 27 28 29 30 31 32 33 34 35 36 37 38 39 40 41 42 43 44 45 46 47\n",
      " 48 49 50 51 52 53 54 55 56 57 58 59 60 61 62 63 64 65 66 67 68 69 70 71\n",
      " 72 73 74 75 76 77 78 79 80 81 82 83 84 85 86 87 88 89 90 91 92 93 94 95\n",
      " 96 97 98 99]\n"
     ]
    }
   ],
   "source": [
    "print(X)"
   ]
  },
  {
   "cell_type": "code",
   "execution_count": 37,
   "id": "eebcd4e0",
   "metadata": {},
   "outputs": [
    {
     "name": "stdout",
     "output_type": "stream",
     "text": [
      "[20 21 22 23 24 25 26 27 28 29 30 31 32 33 34 35 36 37 38 39 40 41 42 43\n",
      " 44 45 46 47 48 49 50 51 52 53 54 55 56 57 58 59 60 61 62 63 64 65 66 67\n",
      " 68 69 70 71 72 73 74 75 76 77 78 79 80 81 82 83 84 85 86 87 88 89 90 91\n",
      " 92 93 94 95 96 97 98 99]\n"
     ]
    }
   ],
   "source": [
    "X = np.arange(20,100)\n",
    "print(X)"
   ]
  },
  {
   "cell_type": "code",
   "execution_count": 41,
   "id": "c55666b2",
   "metadata": {},
   "outputs": [
    {
     "name": "stdout",
     "output_type": "stream",
     "text": [
      "[33 44 55 66 77 88 99]\n"
     ]
    }
   ],
   "source": [
    "X = np.arange(33,100,11) #for i in range(33,100,3)\n",
    "print(X)"
   ]
  },
  {
   "cell_type": "code",
   "execution_count": 42,
   "id": "d579182e",
   "metadata": {},
   "outputs": [
    {
     "name": "stdout",
     "output_type": "stream",
     "text": [
      "range(0, 10)\n"
     ]
    }
   ],
   "source": [
    "print(range(10))"
   ]
  },
  {
   "cell_type": "code",
   "execution_count": 43,
   "id": "5c6e7c13",
   "metadata": {},
   "outputs": [
    {
     "name": "stdout",
     "output_type": "stream",
     "text": [
      "[0, 1, 2, 3, 4, 5, 6, 7, 8, 9]\n"
     ]
    }
   ],
   "source": [
    "print(list(range(10)))"
   ]
  },
  {
   "cell_type": "code",
   "execution_count": 54,
   "id": "b47da4ea",
   "metadata": {},
   "outputs": [
    {
     "name": "stdout",
     "output_type": "stream",
     "text": [
      "[2 3 5 6 7 9 0 4 8 1]\n"
     ]
    }
   ],
   "source": [
    "Y = np.random.permutation(np.arange(10))\n",
    "print(Y)"
   ]
  },
  {
   "cell_type": "code",
   "execution_count": 55,
   "id": "f3cec02a",
   "metadata": {},
   "outputs": [],
   "source": [
    "np.random.randint?"
   ]
  },
  {
   "cell_type": "code",
   "execution_count": 94,
   "id": "51468db0",
   "metadata": {},
   "outputs": [
    {
     "data": {
      "text/plain": [
       "444"
      ]
     },
     "execution_count": 94,
     "metadata": {},
     "output_type": "execute_result"
    }
   ],
   "source": [
    "np.random.randint(30,600)"
   ]
  },
  {
   "cell_type": "code",
   "execution_count": 95,
   "id": "115e28f6",
   "metadata": {},
   "outputs": [],
   "source": [
    "v = np.random.randint(30,600)"
   ]
  },
  {
   "cell_type": "code",
   "execution_count": 96,
   "id": "d9015840",
   "metadata": {},
   "outputs": [
    {
     "data": {
      "text/plain": [
       "int"
      ]
     },
     "execution_count": 96,
     "metadata": {},
     "output_type": "execute_result"
    }
   ],
   "source": [
    "type(v)"
   ]
  },
  {
   "cell_type": "code",
   "execution_count": 111,
   "id": "90a951b2",
   "metadata": {},
   "outputs": [],
   "source": [
    "A = np.random.rand(1000)"
   ]
  },
  {
   "cell_type": "code",
   "execution_count": 112,
   "id": "fdbc2beb",
   "metadata": {},
   "outputs": [],
   "source": [
    "import matplotlib.pyplot as plt"
   ]
  },
  {
   "cell_type": "code",
   "execution_count": 117,
   "id": "bf690161",
   "metadata": {},
   "outputs": [
    {
     "data": {
      "text/plain": [
       "(array([ 8., 10.,  8.,  9.,  7.,  9., 12., 17., 15., 12.,  8., 20., 10.,\n",
       "        10., 15.,  4.,  8., 15., 13., 12.,  7., 14.,  9.,  9., 12., 10.,\n",
       "        12., 10.,  9.,  5., 14.,  9.,  6., 11.,  7.,  8.,  9., 13.,  9.,\n",
       "         8., 17., 12., 16., 15., 11.,  8.,  7.,  9.,  7.,  9., 17.,  8.,\n",
       "        10., 14.,  7.,  8.,  4., 11., 10.,  6.,  7.,  9., 11.,  4., 12.,\n",
       "        12.,  9.,  8., 11., 13.,  9.,  8., 10., 11., 13.,  7., 13., 14.,\n",
       "         7., 10.,  6.,  8.,  6., 14., 10., 11., 12., 13.,  8., 10., 12.,\n",
       "        12., 10., 10.,  8.,  6.,  4.,  8.,  6.,  9.]),\n",
       " array([6.25862716e-04, 1.06161656e-02, 2.06064684e-02, 3.05967713e-02,\n",
       "        4.05870742e-02, 5.05773770e-02, 6.05676799e-02, 7.05579828e-02,\n",
       "        8.05482856e-02, 9.05385885e-02, 1.00528891e-01, 1.10519194e-01,\n",
       "        1.20509497e-01, 1.30499800e-01, 1.40490103e-01, 1.50480406e-01,\n",
       "        1.60470709e-01, 1.70461011e-01, 1.80451314e-01, 1.90441617e-01,\n",
       "        2.00431920e-01, 2.10422223e-01, 2.20412526e-01, 2.30402829e-01,\n",
       "        2.40393131e-01, 2.50383434e-01, 2.60373737e-01, 2.70364040e-01,\n",
       "        2.80354343e-01, 2.90344646e-01, 3.00334949e-01, 3.10325251e-01,\n",
       "        3.20315554e-01, 3.30305857e-01, 3.40296160e-01, 3.50286463e-01,\n",
       "        3.60276766e-01, 3.70267069e-01, 3.80257372e-01, 3.90247674e-01,\n",
       "        4.00237977e-01, 4.10228280e-01, 4.20218583e-01, 4.30208886e-01,\n",
       "        4.40199189e-01, 4.50189492e-01, 4.60179794e-01, 4.70170097e-01,\n",
       "        4.80160400e-01, 4.90150703e-01, 5.00141006e-01, 5.10131309e-01,\n",
       "        5.20121612e-01, 5.30111914e-01, 5.40102217e-01, 5.50092520e-01,\n",
       "        5.60082823e-01, 5.70073126e-01, 5.80063429e-01, 5.90053732e-01,\n",
       "        6.00044035e-01, 6.10034337e-01, 6.20024640e-01, 6.30014943e-01,\n",
       "        6.40005246e-01, 6.49995549e-01, 6.59985852e-01, 6.69976155e-01,\n",
       "        6.79966457e-01, 6.89956760e-01, 6.99947063e-01, 7.09937366e-01,\n",
       "        7.19927669e-01, 7.29917972e-01, 7.39908275e-01, 7.49898577e-01,\n",
       "        7.59888880e-01, 7.69879183e-01, 7.79869486e-01, 7.89859789e-01,\n",
       "        7.99850092e-01, 8.09840395e-01, 8.19830697e-01, 8.29821000e-01,\n",
       "        8.39811303e-01, 8.49801606e-01, 8.59791909e-01, 8.69782212e-01,\n",
       "        8.79772515e-01, 8.89762818e-01, 8.99753120e-01, 9.09743423e-01,\n",
       "        9.19733726e-01, 9.29724029e-01, 9.39714332e-01, 9.49704635e-01,\n",
       "        9.59694938e-01, 9.69685240e-01, 9.79675543e-01, 9.89665846e-01,\n",
       "        9.99656149e-01]),\n",
       " <BarContainer object of 100 artists>)"
      ]
     },
     "execution_count": 117,
     "metadata": {},
     "output_type": "execute_result"
    },
    {
     "data": {
      "image/png": "[encoded data removed]",
      "text/plain": [
       "<Figure size 640x480 with 1 Axes>"
      ]
     },
     "metadata": {},
     "output_type": "display_data"
    }
   ],
   "source": [
    "plt.hist(A,bins=100)"
   ]
  },
  {
   "cell_type": "code",
   "execution_count": 119,
   "id": "aaa61203",
   "metadata": {},
   "outputs": [
    {
     "data": {
      "text/plain": [
       "(array([2.000e+00, 1.000e+00, 0.000e+00, 0.000e+00, 0.000e+00, 0.000e+00,\n",
       "        0.000e+00, 0.000e+00, 0.000e+00, 2.000e+00, 0.000e+00, 0.000e+00,\n",
       "        1.000e+00, 0.000e+00, 1.000e+00, 2.000e+00, 0.000e+00, 2.000e+00,\n",
       "        2.000e+00, 1.000e+00, 1.000e+00, 2.000e+00, 0.000e+00, 3.000e+00,\n",
       "        8.000e+00, 3.000e+00, 7.000e+00, 6.000e+00, 5.000e+00, 1.500e+01,\n",
       "        2.100e+01, 1.000e+01, 1.300e+01, 1.100e+01, 1.600e+01, 2.300e+01,\n",
       "        1.100e+01, 1.600e+01, 2.800e+01, 3.200e+01, 4.900e+01, 4.300e+01,\n",
       "        4.000e+01, 4.300e+01, 5.600e+01, 7.100e+01, 7.300e+01, 1.070e+02,\n",
       "        9.700e+01, 1.110e+02, 1.020e+02, 1.400e+02, 1.410e+02, 1.620e+02,\n",
       "        1.440e+02, 1.610e+02, 1.860e+02, 2.060e+02, 2.270e+02, 2.350e+02,\n",
       "        2.740e+02, 3.060e+02, 3.080e+02, 3.630e+02, 3.480e+02, 3.660e+02,\n",
       "        4.170e+02, 4.660e+02, 4.760e+02, 5.260e+02, 5.400e+02, 5.710e+02,\n",
       "        6.310e+02, 6.740e+02, 7.080e+02, 7.520e+02, 7.770e+02, 8.470e+02,\n",
       "        9.160e+02, 9.280e+02, 1.015e+03, 1.019e+03, 1.061e+03, 1.128e+03,\n",
       "        1.099e+03, 1.158e+03, 1.210e+03, 1.220e+03, 1.328e+03, 1.297e+03,\n",
       "        1.375e+03, 1.385e+03, 1.497e+03, 1.516e+03, 1.573e+03, 1.542e+03,\n",
       "        1.572e+03, 1.662e+03, 1.598e+03, 1.628e+03, 1.776e+03, 1.701e+03,\n",
       "        1.795e+03, 1.778e+03, 1.675e+03, 1.712e+03, 1.679e+03, 1.766e+03,\n",
       "        1.612e+03, 1.645e+03, 1.620e+03, 1.652e+03, 1.661e+03, 1.626e+03,\n",
       "        1.620e+03, 1.570e+03, 1.512e+03, 1.466e+03, 1.499e+03, 1.451e+03,\n",
       "        1.508e+03, 1.350e+03, 1.291e+03, 1.225e+03, 1.189e+03, 1.148e+03,\n",
       "        1.118e+03, 1.130e+03, 9.930e+02, 9.970e+02, 9.230e+02, 9.200e+02,\n",
       "        9.110e+02, 8.320e+02, 7.750e+02, 7.140e+02, 7.350e+02, 6.660e+02,\n",
       "        6.250e+02, 6.030e+02, 5.750e+02, 5.380e+02, 4.990e+02, 4.260e+02,\n",
       "        4.360e+02, 3.820e+02, 3.680e+02, 2.980e+02, 3.030e+02, 2.420e+02,\n",
       "        2.610e+02, 2.330e+02, 2.300e+02, 1.860e+02, 2.080e+02, 1.590e+02,\n",
       "        1.390e+02, 1.300e+02, 1.350e+02, 1.190e+02, 8.000e+01, 9.800e+01,\n",
       "        1.000e+02, 6.800e+01, 7.300e+01, 6.600e+01, 6.200e+01, 4.200e+01,\n",
       "        4.800e+01, 3.000e+01, 4.100e+01, 3.700e+01, 2.900e+01, 3.300e+01,\n",
       "        1.500e+01, 1.300e+01, 1.400e+01, 1.300e+01, 9.000e+00, 1.200e+01,\n",
       "        1.000e+01, 6.000e+00, 8.000e+00, 5.000e+00, 5.000e+00, 9.000e+00,\n",
       "        2.000e+00, 2.000e+00, 4.000e+00, 4.000e+00, 1.000e+00, 2.000e+00,\n",
       "        2.000e+00, 0.000e+00, 1.000e+00, 0.000e+00, 0.000e+00, 1.000e+00,\n",
       "        1.000e+00, 2.000e+00]),\n",
       " array([-4.50950544, -4.4666819 , -4.42385836, -4.38103482, -4.33821128,\n",
       "        -4.29538775, -4.25256421, -4.20974067, -4.16691713, -4.12409359,\n",
       "        -4.08127005, -4.03844651, -3.99562297, -3.95279944, -3.9099759 ,\n",
       "        -3.86715236, -3.82432882, -3.78150528, -3.73868174, -3.6958582 ,\n",
       "        -3.65303467, -3.61021113, -3.56738759, -3.52456405, -3.48174051,\n",
       "        -3.43891697, -3.39609343, -3.3532699 , -3.31044636, -3.26762282,\n",
       "        -3.22479928, -3.18197574, -3.1391522 , -3.09632866, -3.05350512,\n",
       "        -3.01068159, -2.96785805, -2.92503451, -2.88221097, -2.83938743,\n",
       "        -2.79656389, -2.75374035, -2.71091682, -2.66809328, -2.62526974,\n",
       "        -2.5824462 , -2.53962266, -2.49679912, -2.45397558, -2.41115204,\n",
       "        -2.36832851, -2.32550497, -2.28268143, -2.23985789, -2.19703435,\n",
       "        -2.15421081, -2.11138727, -2.06856374, -2.0257402 , -1.98291666,\n",
       "        -1.94009312, -1.89726958, -1.85444604, -1.8116225 , -1.76879897,\n",
       "        -1.72597543, -1.68315189, -1.64032835, -1.59750481, -1.55468127,\n",
       "        -1.51185773, -1.46903419, -1.42621066, -1.38338712, -1.34056358,\n",
       "        -1.29774004, -1.2549165 , -1.21209296, -1.16926942, -1.12644589,\n",
       "        -1.08362235, -1.04079881, -0.99797527, -0.95515173, -0.91232819,\n",
       "        -0.86950465, -0.82668111, -0.78385758, -0.74103404, -0.6982105 ,\n",
       "        -0.65538696, -0.61256342, -0.56973988, -0.52691634, -0.48409281,\n",
       "        -0.44126927, -0.39844573, -0.35562219, -0.31279865, -0.26997511,\n",
       "        -0.22715157, -0.18432803, -0.1415045 , -0.09868096, -0.05585742,\n",
       "        -0.01303388,  0.02978966,  0.0726132 ,  0.11543674,  0.15826027,\n",
       "         0.20108381,  0.24390735,  0.28673089,  0.32955443,  0.37237797,\n",
       "         0.41520151,  0.45802504,  0.50084858,  0.54367212,  0.58649566,\n",
       "         0.6293192 ,  0.67214274,  0.71496628,  0.75778982,  0.80061335,\n",
       "         0.84343689,  0.88626043,  0.92908397,  0.97190751,  1.01473105,\n",
       "         1.05755459,  1.10037812,  1.14320166,  1.1860252 ,  1.22884874,\n",
       "         1.27167228,  1.31449582,  1.35731936,  1.4001429 ,  1.44296643,\n",
       "         1.48578997,  1.52861351,  1.57143705,  1.61426059,  1.65708413,\n",
       "         1.69990767,  1.7427312 ,  1.78555474,  1.82837828,  1.87120182,\n",
       "         1.91402536,  1.9568489 ,  1.99967244,  2.04249597,  2.08531951,\n",
       "         2.12814305,  2.17096659,  2.21379013,  2.25661367,  2.29943721,\n",
       "         2.34226075,  2.38508428,  2.42790782,  2.47073136,  2.5135549 ,\n",
       "         2.55637844,  2.59920198,  2.64202552,  2.68484905,  2.72767259,\n",
       "         2.77049613,  2.81331967,  2.85614321,  2.89896675,  2.94179029,\n",
       "         2.98461383,  3.02743736,  3.0702609 ,  3.11308444,  3.15590798,\n",
       "         3.19873152,  3.24155506,  3.2843786 ,  3.32720213,  3.37002567,\n",
       "         3.41284921,  3.45567275,  3.49849629,  3.54131983,  3.58414337,\n",
       "         3.6269669 ,  3.66979044,  3.71261398,  3.75543752,  3.79826106,\n",
       "         3.8410846 ,  3.88390814,  3.92673168,  3.96955521,  4.01237875,\n",
       "         4.05520229]),\n",
       " <BarContainer object of 200 artists>)"
      ]
     },
     "execution_count": 119,
     "metadata": {},
     "output_type": "execute_result"
    },
    {
     "data": {
      "image/png": "[encoded data removed]",
      "text/plain": [
       "<Figure size 640x480 with 1 Axes>"
      ]
     },
     "metadata": {},
     "output_type": "display_data"
    }
   ],
   "source": [
    "B = np.random.randn(100000)\n",
    "plt.hist(B,bins=200)"
   ]
  },
  {
   "cell_type": "code",
   "execution_count": 120,
   "id": "6fb36785",
   "metadata": {},
   "outputs": [],
   "source": [
    "C = np.random.rand(2,3)"
   ]
  },
  {
   "cell_type": "code",
   "execution_count": 121,
   "id": "1c02901a",
   "metadata": {},
   "outputs": [
    {
     "data": {
      "text/plain": [
       "array([[0.94241827, 0.958826  , 0.83179949],\n",
       "       [0.79958783, 0.48857818, 0.86582901]])"
      ]
     },
     "execution_count": 121,
     "metadata": {},
     "output_type": "execute_result"
    }
   ],
   "source": [
    "C"
   ]
  },
  {
   "cell_type": "code",
   "execution_count": 122,
   "id": "c70b433e",
   "metadata": {},
   "outputs": [
    {
     "data": {
      "text/plain": [
       "2"
      ]
     },
     "execution_count": 122,
     "metadata": {},
     "output_type": "execute_result"
    }
   ],
   "source": [
    "C.ndim"
   ]
  },
  {
   "cell_type": "code",
   "execution_count": 123,
   "id": "6af3b946",
   "metadata": {},
   "outputs": [],
   "source": [
    "C = np.random.rand(2,3,4,2)"
   ]
  },
  {
   "cell_type": "code",
   "execution_count": 126,
   "id": "33c057e5",
   "metadata": {},
   "outputs": [
    {
     "data": {
      "text/plain": [
       "4"
      ]
     },
     "execution_count": 126,
     "metadata": {},
     "output_type": "execute_result"
    }
   ],
   "source": [
    "C.ndim"
   ]
  },
  {
   "cell_type": "code",
   "execution_count": 132,
   "id": "dfb1154a",
   "metadata": {},
   "outputs": [],
   "source": [
    " D = np.arange(32).reshape(4,8)"
   ]
  },
  {
   "cell_type": "code",
   "execution_count": 133,
   "id": "a92ea5cd",
   "metadata": {},
   "outputs": [
    {
     "data": {
      "text/plain": [
       "(4, 8)"
      ]
     },
     "execution_count": 133,
     "metadata": {},
     "output_type": "execute_result"
    }
   ],
   "source": [
    "D.shape"
   ]
  },
  {
   "cell_type": "code",
   "execution_count": 134,
   "id": "d14fad15",
   "metadata": {},
   "outputs": [
    {
     "name": "stdout",
     "output_type": "stream",
     "text": [
      "[[ 0  1  2  3  4  5  6  7]\n",
      " [ 8  9 10 11 12 13 14 15]\n",
      " [16 17 18 19 20 21 22 23]\n",
      " [24 25 26 27 28 29 30 31]]\n"
     ]
    }
   ],
   "source": [
    "print(D)"
   ]
  },
  {
   "cell_type": "code",
   "execution_count": 141,
   "id": "3118b438",
   "metadata": {},
   "outputs": [],
   "source": [
    "F = np.arange(100).reshape(4,5,5)"
   ]
  },
  {
   "cell_type": "code",
   "execution_count": 142,
   "id": "91df7595",
   "metadata": {},
   "outputs": [
    {
     "name": "stdout",
     "output_type": "stream",
     "text": [
      "[[[ 0  1  2  3  4]\n",
      "  [ 5  6  7  8  9]\n",
      "  [10 11 12 13 14]\n",
      "  [15 16 17 18 19]\n",
      "  [20 21 22 23 24]]\n",
      "\n",
      " [[25 26 27 28 29]\n",
      "  [30 31 32 33 34]\n",
      "  [35 36 37 38 39]\n",
      "  [40 41 42 43 44]\n",
      "  [45 46 47 48 49]]\n",
      "\n",
      " [[50 51 52 53 54]\n",
      "  [55 56 57 58 59]\n",
      "  [60 61 62 63 64]\n",
      "  [65 66 67 68 69]\n",
      "  [70 71 72 73 74]]\n",
      "\n",
      " [[75 76 77 78 79]\n",
      "  [80 81 82 83 84]\n",
      "  [85 86 87 88 89]\n",
      "  [90 91 92 93 94]\n",
      "  [95 96 97 98 99]]]\n"
     ]
    }
   ],
   "source": [
    "print(F)"
   ]
  },
  {
   "cell_type": "code",
   "execution_count": 143,
   "id": "9af8ce4f",
   "metadata": {},
   "outputs": [
    {
     "data": {
      "text/plain": [
       "3"
      ]
     },
     "execution_count": 143,
     "metadata": {},
     "output_type": "execute_result"
    }
   ],
   "source": [
    "F.ndim"
   ]
  },
  {
   "cell_type": "code",
   "execution_count": 144,
   "id": "eb5bb4ab",
   "metadata": {},
   "outputs": [
    {
     "data": {
      "text/plain": [
       "(4, 5, 5)"
      ]
     },
     "execution_count": 144,
     "metadata": {},
     "output_type": "execute_result"
    }
   ],
   "source": [
    "F.shape"
   ]
  },
  {
   "cell_type": "code",
   "execution_count": 154,
   "id": "0e24d4cc",
   "metadata": {},
   "outputs": [],
   "source": [
    "np.zeros?"
   ]
  },
  {
   "cell_type": "code",
   "execution_count": 149,
   "id": "06d42f2e",
   "metadata": {},
   "outputs": [
    {
     "name": "stdout",
     "output_type": "stream",
     "text": [
      "[0. 0. 0. 0. 0. 0. 0. 0.]\n"
     ]
    }
   ],
   "source": [
    "P = np.zeros(8)\n",
    "print(P)"
   ]
  },
  {
   "cell_type": "code",
   "execution_count": 151,
   "id": "f817740f",
   "metadata": {},
   "outputs": [
    {
     "name": "stdout",
     "output_type": "stream",
     "text": [
      "[0 0 0 0 0 0 0 0]\n"
     ]
    }
   ],
   "source": [
    "Q = np.zeros((8,), dtype=int)\n",
    "print(Q)"
   ]
  },
  {
   "cell_type": "code",
   "execution_count": 158,
   "id": "3719e69b",
   "metadata": {},
   "outputs": [
    {
     "name": "stdout",
     "output_type": "stream",
     "text": [
      "[[0. 0. 0. 0.]\n",
      " [0. 0. 0. 0.]\n",
      " [0. 0. 0. 0.]]\n"
     ]
    }
   ],
   "source": [
    "R = np.zeros((3,4))\n",
    "print(R)"
   ]
  },
  {
   "cell_type": "code",
   "execution_count": 159,
   "id": "d6955e98",
   "metadata": {},
   "outputs": [],
   "source": [
    "s = (3,5)"
   ]
  },
  {
   "cell_type": "code",
   "execution_count": 160,
   "id": "69859cf0",
   "metadata": {},
   "outputs": [
    {
     "data": {
      "text/plain": [
       "array([[0., 0., 0., 0., 0.],\n",
       "       [0., 0., 0., 0., 0.],\n",
       "       [0., 0., 0., 0., 0.]])"
      ]
     },
     "execution_count": 160,
     "metadata": {},
     "output_type": "execute_result"
    }
   ],
   "source": [
    "np.zeros(s)"
   ]
  },
  {
   "cell_type": "markdown",
   "id": "71df8281",
   "metadata": {},
   "source": [
    "## Numpy(Slicing)"
   ]
  },
  {
   "cell_type": "code",
   "execution_count": 4,
   "id": "2e7db0f7",
   "metadata": {},
   "outputs": [],
   "source": [
    "import numpy as np\n",
    "A = np.arange(100)"
   ]
  },
  {
   "cell_type": "code",
   "execution_count": 5,
   "id": "e9f1b037",
   "metadata": {},
   "outputs": [
    {
     "name": "stdout",
     "output_type": "stream",
     "text": [
      "[3 4 5 6 7 8 9]\n"
     ]
    }
   ],
   "source": [
    "b = A[3:10]\n",
    "print(b)"
   ]
  },
  {
   "cell_type": "code",
   "execution_count": 6,
   "id": "58620b6f",
   "metadata": {},
   "outputs": [],
   "source": [
    "b[0]=6699"
   ]
  },
  {
   "cell_type": "code",
   "execution_count": 7,
   "id": "fc45bf70",
   "metadata": {},
   "outputs": [
    {
     "data": {
      "text/plain": [
       "array([6699,    4,    5,    6,    7,    8,    9])"
      ]
     },
     "execution_count": 7,
     "metadata": {},
     "output_type": "execute_result"
    }
   ],
   "source": [
    "b"
   ]
  },
  {
   "cell_type": "code",
   "execution_count": 8,
   "id": "ced60b16",
   "metadata": {},
   "outputs": [
    {
     "data": {
      "text/plain": [
       "array([   0,    1,    2, 6699,    4,    5,    6,    7,    8,    9,   10,\n",
       "         11,   12,   13,   14,   15,   16,   17,   18,   19,   20,   21,\n",
       "         22,   23,   24,   25,   26,   27,   28,   29,   30,   31,   32,\n",
       "         33,   34,   35,   36,   37,   38,   39,   40,   41,   42,   43,\n",
       "         44,   45,   46,   47,   48,   49,   50,   51,   52,   53,   54,\n",
       "         55,   56,   57,   58,   59,   60,   61,   62,   63,   64,   65,\n",
       "         66,   67,   68,   69,   70,   71,   72,   73,   74,   75,   76,\n",
       "         77,   78,   79,   80,   81,   82,   83,   84,   85,   86,   87,\n",
       "         88,   89,   90,   91,   92,   93,   94,   95,   96,   97,   98,\n",
       "         99])"
      ]
     },
     "execution_count": 8,
     "metadata": {},
     "output_type": "execute_result"
    }
   ],
   "source": [
    "A"
   ]
  },
  {
   "cell_type": "code",
   "execution_count": 9,
   "id": "0253f2f2",
   "metadata": {},
   "outputs": [],
   "source": [
    "b = A[3:10].copy()"
   ]
  },
  {
   "cell_type": "code",
   "execution_count": 10,
   "id": "be4114eb",
   "metadata": {},
   "outputs": [],
   "source": [
    "b[4] = 69"
   ]
  },
  {
   "cell_type": "code",
   "execution_count": 11,
   "id": "b79bbb28",
   "metadata": {},
   "outputs": [
    {
     "data": {
      "text/plain": [
       "array([6699,    4,    5,    6,   69,    8,    9])"
      ]
     },
     "execution_count": 11,
     "metadata": {},
     "output_type": "execute_result"
    }
   ],
   "source": [
    "b"
   ]
  },
  {
   "cell_type": "code",
   "execution_count": 12,
   "id": "6b1d1ec1",
   "metadata": {},
   "outputs": [
    {
     "data": {
      "text/plain": [
       "array([   0,    1,    2, 6699,    4,    5,    6,    7,    8,    9,   10,\n",
       "         11,   12,   13,   14,   15,   16,   17,   18,   19,   20,   21,\n",
       "         22,   23,   24,   25,   26,   27,   28,   29,   30,   31,   32,\n",
       "         33,   34,   35,   36,   37,   38,   39,   40,   41,   42,   43,\n",
       "         44,   45,   46,   47,   48,   49,   50,   51,   52,   53,   54,\n",
       "         55,   56,   57,   58,   59,   60,   61,   62,   63,   64,   65,\n",
       "         66,   67,   68,   69,   70,   71,   72,   73,   74,   75,   76,\n",
       "         77,   78,   79,   80,   81,   82,   83,   84,   85,   86,   87,\n",
       "         88,   89,   90,   91,   92,   93,   94,   95,   96,   97,   98,\n",
       "         99])"
      ]
     },
     "execution_count": 12,
     "metadata": {},
     "output_type": "execute_result"
    }
   ],
   "source": [
    "A"
   ]
  },
  {
   "cell_type": "code",
   "execution_count": 13,
   "id": "1a757abe",
   "metadata": {},
   "outputs": [
    {
     "data": {
      "text/plain": [
       "array([ 0,  5, 10, 15, 20, 25, 30, 35, 40, 45, 50, 55, 60, 65, 70, 75, 80,\n",
       "       85, 90, 95])"
      ]
     },
     "execution_count": 13,
     "metadata": {},
     "output_type": "execute_result"
    }
   ],
   "source": [
    "A[::5]"
   ]
  },
  {
   "cell_type": "code",
   "execution_count": 14,
   "id": "3611300d",
   "metadata": {},
   "outputs": [
    {
     "data": {
      "text/plain": [
       "array([99, 94, 89, 84, 79, 74, 69, 64, 59, 54, 49, 44, 39, 34, 29, 24, 19,\n",
       "       14,  9,  4])"
      ]
     },
     "execution_count": 14,
     "metadata": {},
     "output_type": "execute_result"
    }
   ],
   "source": [
    "A[::-5]"
   ]
  },
  {
   "cell_type": "code",
   "execution_count": 15,
   "id": "227c386a",
   "metadata": {},
   "outputs": [
    {
     "data": {
      "text/plain": [
       "array([  99,   98,   97,   96,   95,   94,   93,   92,   91,   90,   89,\n",
       "         88,   87,   86,   85,   84,   83,   82,   81,   80,   79,   78,\n",
       "         77,   76,   75,   74,   73,   72,   71,   70,   69,   68,   67,\n",
       "         66,   65,   64,   63,   62,   61,   60,   59,   58,   57,   56,\n",
       "         55,   54,   53,   52,   51,   50,   49,   48,   47,   46,   45,\n",
       "         44,   43,   42,   41,   40,   39,   38,   37,   36,   35,   34,\n",
       "         33,   32,   31,   30,   29,   28,   27,   26,   25,   24,   23,\n",
       "         22,   21,   20,   19,   18,   17,   16,   15,   14,   13,   12,\n",
       "         11,   10,    9,    8,    7,    6,    5,    4, 6699,    2,    1,\n",
       "          0])"
      ]
     },
     "execution_count": 15,
     "metadata": {},
     "output_type": "execute_result"
    }
   ],
   "source": [
    "A[::-1]"
   ]
  },
  {
   "cell_type": "code",
   "execution_count": 16,
   "id": "cca4da20",
   "metadata": {},
   "outputs": [
    {
     "name": "stdout",
     "output_type": "stream",
     "text": [
      "Object `np.index` not found.\n"
     ]
    }
   ],
   "source": [
    "np.index?"
   ]
  },
  {
   "cell_type": "code",
   "execution_count": 21,
   "id": "61fc1a94",
   "metadata": {},
   "outputs": [],
   "source": [
    "B = (A==6699)*np.arange(A.size)"
   ]
  },
  {
   "cell_type": "code",
   "execution_count": 22,
   "id": "6c71a765",
   "metadata": {},
   "outputs": [
    {
     "data": {
      "text/plain": [
       "array([0, 0, 0, 3, 0, 0, 0, 0, 0, 0, 0, 0, 0, 0, 0, 0, 0, 0, 0, 0, 0, 0,\n",
       "       0, 0, 0, 0, 0, 0, 0, 0, 0, 0, 0, 0, 0, 0, 0, 0, 0, 0, 0, 0, 0, 0,\n",
       "       0, 0, 0, 0, 0, 0, 0, 0, 0, 0, 0, 0, 0, 0, 0, 0, 0, 0, 0, 0, 0, 0,\n",
       "       0, 0, 0, 0, 0, 0, 0, 0, 0, 0, 0, 0, 0, 0, 0, 0, 0, 0, 0, 0, 0, 0,\n",
       "       0, 0, 0, 0, 0, 0, 0, 0, 0, 0, 0, 0])"
      ]
     },
     "execution_count": 22,
     "metadata": {},
     "output_type": "execute_result"
    }
   ],
   "source": [
    "B"
   ]
  },
  {
   "cell_type": "code",
   "execution_count": 23,
   "id": "5d96a44f",
   "metadata": {},
   "outputs": [
    {
     "data": {
      "text/plain": [
       "array([   0,    1,    2, 6699,    4,    5,    6,    7,    8,    9,   10,\n",
       "         11,   12,   13,   14,   15,   16,   17,   18,   19,   20,   21,\n",
       "         22,   23,   24,   25,   26,   27,   28,   29,   30,   31,   32,\n",
       "         33,   34,   35,   36,   37,   38,   39,   40,   41,   42,   43,\n",
       "         44,   45,   46,   47,   48,   49,   50,   51,   52,   53,   54,\n",
       "         55,   56,   57,   58,   59,   60,   61,   62,   63,   64,   65,\n",
       "         66,   67,   68,   69,   70,   71,   72,   73,   74,   75,   76,\n",
       "         77,   78,   79,   80,   81,   82,   83,   84,   85,   86,   87,\n",
       "         88,   89,   90,   91,   92,   93,   94,   95,   96,   97,   98,\n",
       "         99])"
      ]
     },
     "execution_count": 23,
     "metadata": {},
     "output_type": "execute_result"
    }
   ],
   "source": [
    "A"
   ]
  },
  {
   "cell_type": "code",
   "execution_count": 26,
   "id": "27cd39d9",
   "metadata": {},
   "outputs": [],
   "source": [
    "idx = np.argwhere(A==6699)[0][0]"
   ]
  },
  {
   "cell_type": "code",
   "execution_count": 27,
   "id": "7f4b0899",
   "metadata": {},
   "outputs": [
    {
     "data": {
      "text/plain": [
       "3"
      ]
     },
     "execution_count": 27,
     "metadata": {},
     "output_type": "execute_result"
    }
   ],
   "source": [
    "idx"
   ]
  },
  {
   "cell_type": "code",
   "execution_count": 28,
   "id": "614a1ee9",
   "metadata": {},
   "outputs": [],
   "source": [
    "A[idx] = 3"
   ]
  },
  {
   "cell_type": "code",
   "execution_count": 29,
   "id": "9b16a752",
   "metadata": {},
   "outputs": [
    {
     "data": {
      "text/plain": [
       "array([ 0,  1,  2,  3,  4,  5,  6,  7,  8,  9, 10, 11, 12, 13, 14, 15, 16,\n",
       "       17, 18, 19, 20, 21, 22, 23, 24, 25, 26, 27, 28, 29, 30, 31, 32, 33,\n",
       "       34, 35, 36, 37, 38, 39, 40, 41, 42, 43, 44, 45, 46, 47, 48, 49, 50,\n",
       "       51, 52, 53, 54, 55, 56, 57, 58, 59, 60, 61, 62, 63, 64, 65, 66, 67,\n",
       "       68, 69, 70, 71, 72, 73, 74, 75, 76, 77, 78, 79, 80, 81, 82, 83, 84,\n",
       "       85, 86, 87, 88, 89, 90, 91, 92, 93, 94, 95, 96, 97, 98, 99])"
      ]
     },
     "execution_count": 29,
     "metadata": {},
     "output_type": "execute_result"
    }
   ],
   "source": [
    "A"
   ]
  },
  {
   "cell_type": "code",
   "execution_count": 55,
   "id": "3926010b",
   "metadata": {},
   "outputs": [],
   "source": [
    "A = np.round(10*np.random.rand(5,4))"
   ]
  },
  {
   "cell_type": "code",
   "execution_count": 56,
   "id": "448cf418",
   "metadata": {},
   "outputs": [
    {
     "data": {
      "text/plain": [
       "array([[ 2.,  2.,  9.,  3.],\n",
       "       [ 0.,  2.,  3.,  6.],\n",
       "       [10.,  8.,  3.,  9.],\n",
       "       [ 5.,  2.,  7.,  9.],\n",
       "       [ 3.,  4.,  5.,  6.]])"
      ]
     },
     "execution_count": 56,
     "metadata": {},
     "output_type": "execute_result"
    }
   ],
   "source": [
    "A"
   ]
  },
  {
   "cell_type": "code",
   "execution_count": 57,
   "id": "c1ed24a2",
   "metadata": {},
   "outputs": [
    {
     "data": {
      "text/plain": [
       "9.0"
      ]
     },
     "execution_count": 57,
     "metadata": {},
     "output_type": "execute_result"
    }
   ],
   "source": [
    "A[3,3]"
   ]
  },
  {
   "cell_type": "code",
   "execution_count": 58,
   "id": "59b8a036",
   "metadata": {},
   "outputs": [
    {
     "data": {
      "text/plain": [
       "array([0., 2., 3., 6.])"
      ]
     },
     "execution_count": 58,
     "metadata": {},
     "output_type": "execute_result"
    }
   ],
   "source": [
    "A[1,:]"
   ]
  },
  {
   "cell_type": "code",
   "execution_count": 59,
   "id": "0fb0fe77",
   "metadata": {},
   "outputs": [
    {
     "data": {
      "text/plain": [
       "array([5., 2., 7., 9.])"
      ]
     },
     "execution_count": 59,
     "metadata": {},
     "output_type": "execute_result"
    }
   ],
   "source": [
    "A[3,:]"
   ]
  },
  {
   "cell_type": "code",
   "execution_count": 61,
   "id": "df0b38de",
   "metadata": {},
   "outputs": [
    {
     "data": {
      "text/plain": [
       "array([9., 3., 3., 7., 5.])"
      ]
     },
     "execution_count": 61,
     "metadata": {},
     "output_type": "execute_result"
    }
   ],
   "source": [
    "A[:,2]"
   ]
  },
  {
   "cell_type": "code",
   "execution_count": 66,
   "id": "93f7f546",
   "metadata": {},
   "outputs": [
    {
     "data": {
      "text/plain": [
       "array([[3., 6.],\n",
       "       [3., 9.]])"
      ]
     },
     "execution_count": 66,
     "metadata": {},
     "output_type": "execute_result"
    }
   ],
   "source": [
    "A[1:3,2:4]"
   ]
  },
  {
   "cell_type": "code",
   "execution_count": 67,
   "id": "ceb72f42",
   "metadata": {},
   "outputs": [
    {
     "data": {
      "text/plain": [
       "array([[ 2.,  0., 10.,  5.,  3.],\n",
       "       [ 2.,  2.,  8.,  2.,  4.],\n",
       "       [ 9.,  3.,  3.,  7.,  5.],\n",
       "       [ 3.,  6.,  9.,  9.,  6.]])"
      ]
     },
     "execution_count": 67,
     "metadata": {},
     "output_type": "execute_result"
    }
   ],
   "source": [
    "A.T"
   ]
  },
  {
   "cell_type": "code",
   "execution_count": 68,
   "id": "682c7d4f",
   "metadata": {},
   "outputs": [
    {
     "data": {
      "text/plain": [
       "array([[ 2.,  2.,  9.,  3.],\n",
       "       [ 0.,  2.,  3.,  6.],\n",
       "       [10.,  8.,  3.,  9.],\n",
       "       [ 5.,  2.,  7.,  9.],\n",
       "       [ 3.,  4.,  5.,  6.]])"
      ]
     },
     "execution_count": 68,
     "metadata": {},
     "output_type": "execute_result"
    }
   ],
   "source": [
    "A"
   ]
  },
  {
   "cell_type": "code",
   "execution_count": 73,
   "id": "fc1a39d4",
   "metadata": {},
   "outputs": [],
   "source": [
    "A.sort(axis=0) #sorting column-wise"
   ]
  },
  {
   "cell_type": "code",
   "execution_count": 74,
   "id": "a6cd2e64",
   "metadata": {},
   "outputs": [
    {
     "data": {
      "text/plain": [
       "array([[ 0.,  2.,  3.,  3.],\n",
       "       [ 2.,  2.,  3.,  6.],\n",
       "       [ 2.,  3.,  5.,  6.],\n",
       "       [ 4.,  5.,  7.,  9.],\n",
       "       [ 8.,  9.,  9., 10.]])"
      ]
     },
     "execution_count": 74,
     "metadata": {},
     "output_type": "execute_result"
    }
   ],
   "source": [
    "A"
   ]
  },
  {
   "cell_type": "code",
   "execution_count": 75,
   "id": "dd291e8a",
   "metadata": {},
   "outputs": [],
   "source": [
    "A.sort(axis=1) #sorting rowe-wise"
   ]
  },
  {
   "cell_type": "code",
   "execution_count": 76,
   "id": "30af6c43",
   "metadata": {},
   "outputs": [
    {
     "data": {
      "text/plain": [
       "array([[ 0.,  2.,  3.,  3.],\n",
       "       [ 2.,  2.,  3.,  6.],\n",
       "       [ 2.,  3.,  5.,  6.],\n",
       "       [ 4.,  5.,  7.,  9.],\n",
       "       [ 8.,  9.,  9., 10.]])"
      ]
     },
     "execution_count": 76,
     "metadata": {},
     "output_type": "execute_result"
    }
   ],
   "source": [
    "A"
   ]
  },
  {
   "cell_type": "markdown",
   "id": "dda5fd8a",
   "metadata": {},
   "source": [
    "## Numpy(More Indexing)"
   ]
  },
  {
   "cell_type": "code",
   "execution_count": 77,
   "id": "f5da35d5",
   "metadata": {},
   "outputs": [],
   "source": [
    "A = np.arange(100)"
   ]
  },
  {
   "cell_type": "code",
   "execution_count": 81,
   "id": "63450c98",
   "metadata": {},
   "outputs": [],
   "source": [
    "B = A[[7,13,67]]"
   ]
  },
  {
   "cell_type": "code",
   "execution_count": 82,
   "id": "b9850571",
   "metadata": {},
   "outputs": [
    {
     "data": {
      "text/plain": [
       "array([ 7, 13, 67])"
      ]
     },
     "execution_count": 82,
     "metadata": {},
     "output_type": "execute_result"
    }
   ],
   "source": [
    "B"
   ]
  },
  {
   "cell_type": "code",
   "execution_count": 85,
   "id": "78c5c855",
   "metadata": {},
   "outputs": [],
   "source": [
    "B[0] = 88"
   ]
  },
  {
   "cell_type": "code",
   "execution_count": 86,
   "id": "168ea211",
   "metadata": {},
   "outputs": [
    {
     "data": {
      "text/plain": [
       "array([88, 13, 67])"
      ]
     },
     "execution_count": 86,
     "metadata": {},
     "output_type": "execute_result"
    }
   ],
   "source": [
    "B"
   ]
  },
  {
   "cell_type": "code",
   "execution_count": 87,
   "id": "a010e4e4",
   "metadata": {},
   "outputs": [
    {
     "data": {
      "text/plain": [
       "array([ 0,  1,  2,  3,  4,  5,  6,  7,  8,  9, 10, 11, 12, 13, 14, 15, 16,\n",
       "       17, 18, 19, 20, 21, 22, 23, 24, 25, 26, 27, 28, 29, 30, 31, 32, 33,\n",
       "       34, 35, 36, 37, 38, 39, 40, 41, 42, 43, 44, 45, 46, 47, 48, 49, 50,\n",
       "       51, 52, 53, 54, 55, 56, 57, 58, 59, 60, 61, 62, 63, 64, 65, 66, 67,\n",
       "       68, 69, 70, 71, 72, 73, 74, 75, 76, 77, 78, 79, 80, 81, 82, 83, 84,\n",
       "       85, 86, 87, 88, 89, 90, 91, 92, 93, 94, 95, 96, 97, 98, 99])"
      ]
     },
     "execution_count": 87,
     "metadata": {},
     "output_type": "execute_result"
    }
   ],
   "source": [
    "A"
   ]
  },
  {
   "cell_type": "code",
   "execution_count": 88,
   "id": "f022fab8",
   "metadata": {},
   "outputs": [],
   "source": [
    "B = A[A<40]"
   ]
  },
  {
   "cell_type": "code",
   "execution_count": 89,
   "id": "9c664011",
   "metadata": {},
   "outputs": [
    {
     "data": {
      "text/plain": [
       "array([ 0,  1,  2,  3,  4,  5,  6,  7,  8,  9, 10, 11, 12, 13, 14, 15, 16,\n",
       "       17, 18, 19, 20, 21, 22, 23, 24, 25, 26, 27, 28, 29, 30, 31, 32, 33,\n",
       "       34, 35, 36, 37, 38, 39])"
      ]
     },
     "execution_count": 89,
     "metadata": {},
     "output_type": "execute_result"
    }
   ],
   "source": [
    "B"
   ]
  },
  {
   "cell_type": "code",
   "execution_count": 90,
   "id": "89c8e2cb",
   "metadata": {},
   "outputs": [],
   "source": [
    "B = A[A%5==0]"
   ]
  },
  {
   "cell_type": "code",
   "execution_count": 91,
   "id": "577f4580",
   "metadata": {},
   "outputs": [
    {
     "data": {
      "text/plain": [
       "array([ 0,  5, 10, 15, 20, 25, 30, 35, 40, 45, 50, 55, 60, 65, 70, 75, 80,\n",
       "       85, 90, 95])"
      ]
     },
     "execution_count": 91,
     "metadata": {},
     "output_type": "execute_result"
    }
   ],
   "source": [
    "B"
   ]
  },
  {
   "cell_type": "code",
   "execution_count": 92,
   "id": "3d0bc699",
   "metadata": {},
   "outputs": [],
   "source": [
    "B = A[(A>=60) & (A<=80)]"
   ]
  },
  {
   "cell_type": "code",
   "execution_count": 93,
   "id": "c2de0790",
   "metadata": {},
   "outputs": [
    {
     "data": {
      "text/plain": [
       "array([60, 61, 62, 63, 64, 65, 66, 67, 68, 69, 70, 71, 72, 73, 74, 75, 76,\n",
       "       77, 78, 79, 80])"
      ]
     },
     "execution_count": 93,
     "metadata": {},
     "output_type": "execute_result"
    }
   ],
   "source": [
    "B"
   ]
  },
  {
   "cell_type": "code",
   "execution_count": 94,
   "id": "66f93d6e",
   "metadata": {},
   "outputs": [],
   "source": [
    "# &, and\n",
    "# |, or\n",
    "# ~, not"
   ]
  },
  {
   "cell_type": "markdown",
   "id": "795a3480",
   "metadata": {},
   "source": [
    "## Numpy(Broadcasting)"
   ]
  },
  {
   "cell_type": "code",
   "execution_count": 95,
   "id": "69eb475b",
   "metadata": {},
   "outputs": [],
   "source": [
    "A = [[2,3],[5,4]]"
   ]
  },
  {
   "cell_type": "code",
   "execution_count": 96,
   "id": "c4e2e014",
   "metadata": {},
   "outputs": [
    {
     "ename": "TypeError",
     "evalue": "can only concatenate list (not \"int\") to list",
     "output_type": "error",
     "traceback": [
      "\u001b[1;31m---------------------------------------------------------------------------\u001b[0m",
      "\u001b[1;31mTypeError\u001b[0m                                 Traceback (most recent call last)",
      "Cell \u001b[1;32mIn[96], line 1\u001b[0m\n\u001b[1;32m----> 1\u001b[0m A \u001b[38;5;241m=\u001b[39m A \u001b[38;5;241m+\u001b[39m \u001b[38;5;241m5\u001b[39m\n",
      "\u001b[1;31mTypeError\u001b[0m: can only concatenate list (not \"int\") to list"
     ]
    }
   ],
   "source": [
    "A = A + 5"
   ]
  },
  {
   "cell_type": "code",
   "execution_count": 97,
   "id": "07848290",
   "metadata": {},
   "outputs": [],
   "source": [
    "A = [2,3,5,4]"
   ]
  },
  {
   "cell_type": "code",
   "execution_count": 99,
   "id": "d752fb53",
   "metadata": {},
   "outputs": [],
   "source": [
    "A = A * 5"
   ]
  },
  {
   "cell_type": "code",
   "execution_count": 100,
   "id": "dc013550",
   "metadata": {},
   "outputs": [
    {
     "data": {
      "text/plain": [
       "[2, 3, 5, 4, 2, 3, 5, 4, 2, 3, 5, 4, 2, 3, 5, 4, 2, 3, 5, 4]"
      ]
     },
     "execution_count": 100,
     "metadata": {},
     "output_type": "execute_result"
    }
   ],
   "source": [
    "A"
   ]
  },
  {
   "cell_type": "markdown",
   "id": "cf65344c",
   "metadata": {},
   "source": [
    "## Numpy(hstack,vstack,sort(axis=0))"
   ]
  },
  {
   "cell_type": "code",
   "execution_count": 101,
   "id": "16f140b7",
   "metadata": {},
   "outputs": [],
   "source": [
    " A = np.round(10*np.random.rand(2,3))"
   ]
  },
  {
   "cell_type": "code",
   "execution_count": 102,
   "id": "24b8a00f",
   "metadata": {},
   "outputs": [
    {
     "data": {
      "text/plain": [
       "array([[9., 8., 6.],\n",
       "       [3., 6., 9.]])"
      ]
     },
     "execution_count": 102,
     "metadata": {},
     "output_type": "execute_result"
    }
   ],
   "source": [
    "A"
   ]
  },
  {
   "cell_type": "code",
   "execution_count": 103,
   "id": "075f7866",
   "metadata": {},
   "outputs": [
    {
     "data": {
      "text/plain": [
       "array([[12., 11.,  9.],\n",
       "       [ 6.,  9., 12.]])"
      ]
     },
     "execution_count": 103,
     "metadata": {},
     "output_type": "execute_result"
    }
   ],
   "source": [
    "A+3"
   ]
  },
  {
   "cell_type": "code",
   "execution_count": 106,
   "id": "5fd702d4",
   "metadata": {},
   "outputs": [
    {
     "data": {
      "text/plain": [
       "array([[ 9.,  8.,  6.],\n",
       "       [ 4.,  7., 10.]])"
      ]
     },
     "execution_count": 106,
     "metadata": {},
     "output_type": "execute_result"
    }
   ],
   "source": [
    "A+(np.arange(2).reshape(2,1))"
   ]
  },
  {
   "cell_type": "code",
   "execution_count": 107,
   "id": "abfdc598",
   "metadata": {},
   "outputs": [
    {
     "data": {
      "text/plain": [
       "array([[9., 8., 6.],\n",
       "       [3., 6., 9.]])"
      ]
     },
     "execution_count": 107,
     "metadata": {},
     "output_type": "execute_result"
    }
   ],
   "source": [
    "A"
   ]
  },
  {
   "cell_type": "code",
   "execution_count": 113,
   "id": "df4ca9fb",
   "metadata": {},
   "outputs": [],
   "source": [
    "B = np.round(10*np.random.rand(2,2))"
   ]
  },
  {
   "cell_type": "code",
   "execution_count": 114,
   "id": "d28b8a38",
   "metadata": {},
   "outputs": [
    {
     "data": {
      "text/plain": [
       "array([[9., 8., 6.],\n",
       "       [3., 6., 9.]])"
      ]
     },
     "execution_count": 114,
     "metadata": {},
     "output_type": "execute_result"
    }
   ],
   "source": [
    "A"
   ]
  },
  {
   "cell_type": "code",
   "execution_count": 115,
   "id": "53073da3",
   "metadata": {},
   "outputs": [
    {
     "data": {
      "text/plain": [
       "array([[2., 9.],\n",
       "       [7., 6.]])"
      ]
     },
     "execution_count": 115,
     "metadata": {},
     "output_type": "execute_result"
    }
   ],
   "source": [
    "B"
   ]
  },
  {
   "cell_type": "code",
   "execution_count": 116,
   "id": "964c4faa",
   "metadata": {},
   "outputs": [],
   "source": [
    "C = np.hstack((A,B))"
   ]
  },
  {
   "cell_type": "code",
   "execution_count": 117,
   "id": "10d594dd",
   "metadata": {},
   "outputs": [
    {
     "data": {
      "text/plain": [
       "array([[9., 8., 6., 2., 9.],\n",
       "       [3., 6., 9., 7., 6.]])"
      ]
     },
     "execution_count": 117,
     "metadata": {},
     "output_type": "execute_result"
    }
   ],
   "source": [
    "C"
   ]
  },
  {
   "cell_type": "code",
   "execution_count": 125,
   "id": "49442675",
   "metadata": {},
   "outputs": [],
   "source": [
    "A = np.random.permutation(np.arange(10))"
   ]
  },
  {
   "cell_type": "code",
   "execution_count": 126,
   "id": "ecdbffe7",
   "metadata": {},
   "outputs": [
    {
     "data": {
      "text/plain": [
       "array([6, 9, 3, 1, 8, 5, 7, 4, 0, 2])"
      ]
     },
     "execution_count": 126,
     "metadata": {},
     "output_type": "execute_result"
    }
   ],
   "source": [
    "A"
   ]
  },
  {
   "cell_type": "code",
   "execution_count": 127,
   "id": "f0c7b1d0",
   "metadata": {},
   "outputs": [],
   "source": [
    "A.sort()"
   ]
  },
  {
   "cell_type": "code",
   "execution_count": 128,
   "id": "37571adf",
   "metadata": {},
   "outputs": [
    {
     "data": {
      "text/plain": [
       "array([0, 1, 2, 3, 4, 5, 6, 7, 8, 9])"
      ]
     },
     "execution_count": 128,
     "metadata": {},
     "output_type": "execute_result"
    }
   ],
   "source": [
    "A"
   ]
  },
  {
   "cell_type": "code",
   "execution_count": 129,
   "id": "7df40183",
   "metadata": {},
   "outputs": [],
   "source": [
    "A.sort()"
   ]
  },
  {
   "cell_type": "code",
   "execution_count": 131,
   "id": "cf92e97f",
   "metadata": {},
   "outputs": [],
   "source": [
    "A = A[::-1]"
   ]
  },
  {
   "cell_type": "code",
   "execution_count": 132,
   "id": "7f2d92c7",
   "metadata": {},
   "outputs": [
    {
     "data": {
      "text/plain": [
       "array([9, 8, 7, 6, 5, 4, 3, 2, 1, 0])"
      ]
     },
     "execution_count": 132,
     "metadata": {},
     "output_type": "execute_result"
    }
   ],
   "source": [
    "A"
   ]
  },
  {
   "cell_type": "code",
   "execution_count": 133,
   "id": "92bdd892",
   "metadata": {},
   "outputs": [],
   "source": [
    " A = np.array([\"abc\",'how are you','u698','gy11'])"
   ]
  },
  {
   "cell_type": "code",
   "execution_count": 134,
   "id": "741c9708",
   "metadata": {},
   "outputs": [],
   "source": [
    "A.sort()"
   ]
  },
  {
   "cell_type": "code",
   "execution_count": 135,
   "id": "f14cf3fc",
   "metadata": {},
   "outputs": [
    {
     "data": {
      "text/plain": [
       "array(['abc', 'gy11', 'how are you', 'u698'], dtype='<U11')"
      ]
     },
     "execution_count": 135,
     "metadata": {},
     "output_type": "execute_result"
    }
   ],
   "source": [
    "A"
   ]
  },
  {
   "cell_type": "markdown",
   "id": "f84e6754",
   "metadata": {},
   "source": [
    "## numpy(Speed: ufuncs)"
   ]
  },
  {
   "cell_type": "code",
   "execution_count": 136,
   "id": "7f3836f5",
   "metadata": {},
   "outputs": [
    {
     "name": "stdout",
     "output_type": "stream",
     "text": [
      "56.8 ms ± 396 µs per loop (mean ± std. dev. of 7 runs, 10 loops each)\n",
      "345 µs ± 54.4 µs per loop (mean ± std. dev. of 7 runs, 1,000 loops each)\n"
     ]
    }
   ],
   "source": [
    "B = np.random.rand(1000000)\n",
    "%timeit sum(B)\n",
    "%timeit np.sum(B)   #B.sum()"
   ]
  },
  {
   "cell_type": "code",
   "execution_count": 139,
   "id": "63a31ae4",
   "metadata": {},
   "outputs": [],
   "source": [
    "def mysum(G):\n",
    "    s = 0\n",
    "    for x in G:\n",
    "        s+=x\n",
    "    return s"
   ]
  },
  {
   "cell_type": "code",
   "execution_count": 140,
   "id": "aeceab2c",
   "metadata": {},
   "outputs": [
    {
     "name": "stdout",
     "output_type": "stream",
     "text": [
      "70.4 ms ± 508 µs per loop (mean ± std. dev. of 7 runs, 10 loops each)\n"
     ]
    }
   ],
   "source": [
    "%timeit mysum(B)"
   ]
  },
  {
   "cell_type": "markdown",
   "id": "b13ccfb6",
   "metadata": {},
   "source": [
    "# Pandas"
   ]
  },
  {
   "cell_type": "code",
   "execution_count": 2,
   "id": "92d63054",
   "metadata": {},
   "outputs": [],
   "source": [
    "import pandas as pd"
   ]
  },
  {
   "cell_type": "code",
   "execution_count": 3,
   "id": "c8b871d6",
   "metadata": {},
   "outputs": [
    {
     "name": "stdout",
     "output_type": "stream",
     "text": [
      "1.5.3\n"
     ]
    }
   ],
   "source": [
    "print(pd.__version__)"
   ]
  },
  {
   "cell_type": "code",
   "execution_count": 4,
   "id": "1cb05644",
   "metadata": {},
   "outputs": [],
   "source": [
    "A = pd.Series([2,3,4,5],index=['a','b','c','d'])"
   ]
  },
  {
   "cell_type": "code",
   "execution_count": 5,
   "id": "879bb4c3",
   "metadata": {},
   "outputs": [
    {
     "data": {
      "text/plain": [
       "array([2, 3, 4, 5], dtype=int64)"
      ]
     },
     "execution_count": 5,
     "metadata": {},
     "output_type": "execute_result"
    }
   ],
   "source": [
    "A.values"
   ]
  },
  {
   "cell_type": "code",
   "execution_count": 6,
   "id": "45365b97",
   "metadata": {},
   "outputs": [
    {
     "data": {
      "text/plain": [
       "numpy.ndarray"
      ]
     },
     "execution_count": 6,
     "metadata": {},
     "output_type": "execute_result"
    }
   ],
   "source": [
    "type(A.values)"
   ]
  },
  {
   "cell_type": "code",
   "execution_count": 7,
   "id": "097ab050",
   "metadata": {},
   "outputs": [
    {
     "data": {
      "text/plain": [
       "pandas.core.series.Series"
      ]
     },
     "execution_count": 7,
     "metadata": {},
     "output_type": "execute_result"
    }
   ],
   "source": [
    "type(A)"
   ]
  },
  {
   "cell_type": "code",
   "execution_count": 8,
   "id": "b04393f5",
   "metadata": {},
   "outputs": [
    {
     "data": {
      "text/plain": [
       "Index(['a', 'b', 'c', 'd'], dtype='object')"
      ]
     },
     "execution_count": 8,
     "metadata": {},
     "output_type": "execute_result"
    }
   ],
   "source": [
    "A.index"
   ]
  },
  {
   "cell_type": "code",
   "execution_count": 9,
   "id": "574628dc",
   "metadata": {},
   "outputs": [
    {
     "data": {
      "text/plain": [
       "pandas.core.indexes.base.Index"
      ]
     },
     "execution_count": 9,
     "metadata": {},
     "output_type": "execute_result"
    }
   ],
   "source": [
    "type(A.index)"
   ]
  },
  {
   "cell_type": "code",
   "execution_count": 10,
   "id": "1676c519",
   "metadata": {},
   "outputs": [
    {
     "data": {
      "text/plain": [
       "2"
      ]
     },
     "execution_count": 10,
     "metadata": {},
     "output_type": "execute_result"
    }
   ],
   "source": [
    "A[\"a\"]"
   ]
  },
  {
   "cell_type": "code",
   "execution_count": 11,
   "id": "f18aae2d",
   "metadata": {},
   "outputs": [
    {
     "data": {
      "text/plain": [
       "b    3\n",
       "c    4\n",
       "d    5\n",
       "dtype: int64"
      ]
     },
     "execution_count": 11,
     "metadata": {},
     "output_type": "execute_result"
    }
   ],
   "source": [
    "A['b':'d']"
   ]
  },
  {
   "cell_type": "markdown",
   "id": "392518b1",
   "metadata": {},
   "source": [
    "## Pandas (Series)"
   ]
  },
  {
   "cell_type": "code",
   "execution_count": 14,
   "id": "f736abd5",
   "metadata": {},
   "outputs": [],
   "source": [
    "grads_dict = {'A+':4,'A':3.75,'A-':3.5,'B+':3.25,'B':3,'B-':2.75,'C+':2.5,'C':2.25,'D':2}\n",
    "grads = pd.Series(grads_dict)"
   ]
  },
  {
   "cell_type": "code",
   "execution_count": 15,
   "id": "1bf1a8bf",
   "metadata": {
    "scrolled": true
   },
   "outputs": [
    {
     "data": {
      "text/plain": [
       "A+    4.00\n",
       "A     3.75\n",
       "A-    3.50\n",
       "B+    3.25\n",
       "B     3.00\n",
       "B-    2.75\n",
       "C+    2.50\n",
       "C     2.25\n",
       "D     2.00\n",
       "dtype: float64"
      ]
     },
     "execution_count": 15,
     "metadata": {},
     "output_type": "execute_result"
    }
   ],
   "source": [
    "grads"
   ]
  },
  {
   "cell_type": "code",
   "execution_count": 16,
   "id": "8b38a41d",
   "metadata": {},
   "outputs": [
    {
     "data": {
      "text/plain": [
       "3.25"
      ]
     },
     "execution_count": 16,
     "metadata": {},
     "output_type": "execute_result"
    }
   ],
   "source": [
    "grads['B+']"
   ]
  },
  {
   "cell_type": "code",
   "execution_count": 17,
   "id": "068d9508",
   "metadata": {},
   "outputs": [
    {
     "data": {
      "text/plain": [
       "A+    4.00\n",
       "A     3.75\n",
       "A-    3.50\n",
       "dtype: float64"
      ]
     },
     "execution_count": 17,
     "metadata": {},
     "output_type": "execute_result"
    }
   ],
   "source": [
    "grads[0:3] #implicit indices. not including the last index"
   ]
  },
  {
   "cell_type": "code",
   "execution_count": 18,
   "id": "f2f70d40",
   "metadata": {},
   "outputs": [
    {
     "data": {
      "text/plain": [
       "A+    4.00\n",
       "A     3.75\n",
       "A-    3.50\n",
       "B+    3.25\n",
       "dtype: float64"
      ]
     },
     "execution_count": 18,
     "metadata": {},
     "output_type": "execute_result"
    }
   ],
   "source": [
    "grads['A+':'B+'] ##explicit indices. including the last index"
   ]
  },
  {
   "cell_type": "code",
   "execution_count": 19,
   "id": "97078ca4",
   "metadata": {},
   "outputs": [],
   "source": [
    "marks_dict= {'A+':80,'A':75,'A-':70,'B+':65,'B':60,'B-':55,'C+':50,'C':45,'D':40}"
   ]
  },
  {
   "cell_type": "code",
   "execution_count": 20,
   "id": "fd92fc1e",
   "metadata": {},
   "outputs": [],
   "source": [
    "marks = pd.Series(marks_dict)"
   ]
  },
  {
   "cell_type": "code",
   "execution_count": 21,
   "id": "ea4d96a9",
   "metadata": {},
   "outputs": [
    {
     "data": {
      "text/plain": [
       "A+    80\n",
       "A     75\n",
       "A-    70\n",
       "B+    65\n",
       "B     60\n",
       "B-    55\n",
       "C+    50\n",
       "C     45\n",
       "D     40\n",
       "dtype: int64"
      ]
     },
     "execution_count": 21,
     "metadata": {},
     "output_type": "execute_result"
    }
   ],
   "source": [
    "marks"
   ]
  },
  {
   "cell_type": "markdown",
   "id": "22badff7",
   "metadata": {},
   "source": [
    "## Pandas(DataFrame)"
   ]
  },
  {
   "cell_type": "code",
   "execution_count": 22,
   "id": "0d0ad4a6",
   "metadata": {},
   "outputs": [
    {
     "data": {
      "text/plain": [
       "A+    4.00\n",
       "A     3.75\n",
       "A-    3.50\n",
       "B+    3.25\n",
       "B     3.00\n",
       "B-    2.75\n",
       "C+    2.50\n",
       "C     2.25\n",
       "D     2.00\n",
       "dtype: float64"
      ]
     },
     "execution_count": 22,
     "metadata": {},
     "output_type": "execute_result"
    }
   ],
   "source": [
    "grads"
   ]
  },
  {
   "cell_type": "code",
   "execution_count": 23,
   "id": "9c58ba11",
   "metadata": {},
   "outputs": [
    {
     "data": {
      "text/plain": [
       "A+    80\n",
       "A     75\n",
       "A-    70\n",
       "B+    65\n",
       "B     60\n",
       "B-    55\n",
       "C+    50\n",
       "C     45\n",
       "D     40\n",
       "dtype: int64"
      ]
     },
     "execution_count": 23,
     "metadata": {},
     "output_type": "execute_result"
    }
   ],
   "source": [
    "marks"
   ]
  },
  {
   "cell_type": "code",
   "execution_count": 24,
   "id": "6ac4a7c7",
   "metadata": {},
   "outputs": [],
   "source": [
    "D = pd.DataFrame({'Marks':marks,'Grades':grads})"
   ]
  },
  {
   "cell_type": "code",
   "execution_count": 25,
   "id": "78e97872",
   "metadata": {},
   "outputs": [
    {
     "data": {
      "text/html": [
       "<div>\n",
       "<style scoped>\n",
       "    .dataframe tbody tr th:only-of-type {\n",
       "        vertical-align: middle;\n",
       "    }\n",
       "\n",
       "    .dataframe tbody tr th {\n",
       "        vertical-align: top;\n",
       "    }\n",
       "\n",
       "    .dataframe thead th {\n",
       "        text-align: right;\n",
       "    }\n",
       "</style>\n",
       "<table border=\"1\" class=\"dataframe\">\n",
       "  <thead>\n",
       "    <tr style=\"text-align: right;\">\n",
       "      <th></th>\n",
       "      <th>Marks</th>\n",
       "      <th>Grades</th>\n",
       "    </tr>\n",
       "  </thead>\n",
       "  <tbody>\n",
       "    <tr>\n",
       "      <th>A+</th>\n",
       "      <td>80</td>\n",
       "      <td>4.00</td>\n",
       "    </tr>\n",
       "    <tr>\n",
       "      <th>A</th>\n",
       "      <td>75</td>\n",
       "      <td>3.75</td>\n",
       "    </tr>\n",
       "    <tr>\n",
       "      <th>A-</th>\n",
       "      <td>70</td>\n",
       "      <td>3.50</td>\n",
       "    </tr>\n",
       "    <tr>\n",
       "      <th>B+</th>\n",
       "      <td>65</td>\n",
       "      <td>3.25</td>\n",
       "    </tr>\n",
       "    <tr>\n",
       "      <th>B</th>\n",
       "      <td>60</td>\n",
       "      <td>3.00</td>\n",
       "    </tr>\n",
       "    <tr>\n",
       "      <th>B-</th>\n",
       "      <td>55</td>\n",
       "      <td>2.75</td>\n",
       "    </tr>\n",
       "    <tr>\n",
       "      <th>C+</th>\n",
       "      <td>50</td>\n",
       "      <td>2.50</td>\n",
       "    </tr>\n",
       "    <tr>\n",
       "      <th>C</th>\n",
       "      <td>45</td>\n",
       "      <td>2.25</td>\n",
       "    </tr>\n",
       "    <tr>\n",
       "      <th>D</th>\n",
       "      <td>40</td>\n",
       "      <td>2.00</td>\n",
       "    </tr>\n",
       "  </tbody>\n",
       "</table>\n",
       "</div>"
      ],
      "text/plain": [
       "    Marks  Grades\n",
       "A+     80    4.00\n",
       "A      75    3.75\n",
       "A-     70    3.50\n",
       "B+     65    3.25\n",
       "B      60    3.00\n",
       "B-     55    2.75\n",
       "C+     50    2.50\n",
       "C      45    2.25\n",
       "D      40    2.00"
      ]
     },
     "execution_count": 25,
     "metadata": {},
     "output_type": "execute_result"
    }
   ],
   "source": [
    "D"
   ]
  },
  {
   "cell_type": "code",
   "execution_count": 26,
   "id": "7783265b",
   "metadata": {},
   "outputs": [
    {
     "data": {
      "text/html": [
       "<div>\n",
       "<style scoped>\n",
       "    .dataframe tbody tr th:only-of-type {\n",
       "        vertical-align: middle;\n",
       "    }\n",
       "\n",
       "    .dataframe tbody tr th {\n",
       "        vertical-align: top;\n",
       "    }\n",
       "\n",
       "    .dataframe thead th {\n",
       "        text-align: right;\n",
       "    }\n",
       "</style>\n",
       "<table border=\"1\" class=\"dataframe\">\n",
       "  <thead>\n",
       "    <tr style=\"text-align: right;\">\n",
       "      <th></th>\n",
       "      <th>A+</th>\n",
       "      <th>A</th>\n",
       "      <th>A-</th>\n",
       "      <th>B+</th>\n",
       "      <th>B</th>\n",
       "      <th>B-</th>\n",
       "      <th>C+</th>\n",
       "      <th>C</th>\n",
       "      <th>D</th>\n",
       "    </tr>\n",
       "  </thead>\n",
       "  <tbody>\n",
       "    <tr>\n",
       "      <th>Marks</th>\n",
       "      <td>80.0</td>\n",
       "      <td>75.00</td>\n",
       "      <td>70.0</td>\n",
       "      <td>65.00</td>\n",
       "      <td>60.0</td>\n",
       "      <td>55.00</td>\n",
       "      <td>50.0</td>\n",
       "      <td>45.00</td>\n",
       "      <td>40.0</td>\n",
       "    </tr>\n",
       "    <tr>\n",
       "      <th>Grades</th>\n",
       "      <td>4.0</td>\n",
       "      <td>3.75</td>\n",
       "      <td>3.5</td>\n",
       "      <td>3.25</td>\n",
       "      <td>3.0</td>\n",
       "      <td>2.75</td>\n",
       "      <td>2.5</td>\n",
       "      <td>2.25</td>\n",
       "      <td>2.0</td>\n",
       "    </tr>\n",
       "  </tbody>\n",
       "</table>\n",
       "</div>"
      ],
      "text/plain": [
       "          A+      A    A-     B+     B     B-    C+      C     D\n",
       "Marks   80.0  75.00  70.0  65.00  60.0  55.00  50.0  45.00  40.0\n",
       "Grades   4.0   3.75   3.5   3.25   3.0   2.75   2.5   2.25   2.0"
      ]
     },
     "execution_count": 26,
     "metadata": {},
     "output_type": "execute_result"
    }
   ],
   "source": [
    "D.T"
   ]
  },
  {
   "cell_type": "code",
   "execution_count": 27,
   "id": "be4dec30",
   "metadata": {},
   "outputs": [
    {
     "data": {
      "text/plain": [
       "array([[80.  ,  4.  ],\n",
       "       [75.  ,  3.75],\n",
       "       [70.  ,  3.5 ],\n",
       "       [65.  ,  3.25],\n",
       "       [60.  ,  3.  ],\n",
       "       [55.  ,  2.75],\n",
       "       [50.  ,  2.5 ],\n",
       "       [45.  ,  2.25],\n",
       "       [40.  ,  2.  ]])"
      ]
     },
     "execution_count": 27,
     "metadata": {},
     "output_type": "execute_result"
    }
   ],
   "source": [
    "D.values"
   ]
  },
  {
   "cell_type": "code",
   "execution_count": 28,
   "id": "126251b5",
   "metadata": {},
   "outputs": [
    {
     "data": {
      "text/plain": [
       "3.25"
      ]
     },
     "execution_count": 28,
     "metadata": {},
     "output_type": "execute_result"
    }
   ],
   "source": [
    "D.values[3,1]"
   ]
  },
  {
   "cell_type": "code",
   "execution_count": 29,
   "id": "28983651",
   "metadata": {},
   "outputs": [
    {
     "data": {
      "text/html": [
       "<div>\n",
       "<style scoped>\n",
       "    .dataframe tbody tr th:only-of-type {\n",
       "        vertical-align: middle;\n",
       "    }\n",
       "\n",
       "    .dataframe tbody tr th {\n",
       "        vertical-align: top;\n",
       "    }\n",
       "\n",
       "    .dataframe thead th {\n",
       "        text-align: right;\n",
       "    }\n",
       "</style>\n",
       "<table border=\"1\" class=\"dataframe\">\n",
       "  <thead>\n",
       "    <tr style=\"text-align: right;\">\n",
       "      <th></th>\n",
       "      <th>Marks</th>\n",
       "      <th>Grades</th>\n",
       "    </tr>\n",
       "  </thead>\n",
       "  <tbody>\n",
       "    <tr>\n",
       "      <th>A+</th>\n",
       "      <td>80</td>\n",
       "      <td>4.00</td>\n",
       "    </tr>\n",
       "    <tr>\n",
       "      <th>A</th>\n",
       "      <td>75</td>\n",
       "      <td>3.75</td>\n",
       "    </tr>\n",
       "    <tr>\n",
       "      <th>A-</th>\n",
       "      <td>70</td>\n",
       "      <td>3.50</td>\n",
       "    </tr>\n",
       "    <tr>\n",
       "      <th>B+</th>\n",
       "      <td>65</td>\n",
       "      <td>3.25</td>\n",
       "    </tr>\n",
       "    <tr>\n",
       "      <th>B</th>\n",
       "      <td>60</td>\n",
       "      <td>3.00</td>\n",
       "    </tr>\n",
       "    <tr>\n",
       "      <th>B-</th>\n",
       "      <td>55</td>\n",
       "      <td>2.75</td>\n",
       "    </tr>\n",
       "    <tr>\n",
       "      <th>C+</th>\n",
       "      <td>50</td>\n",
       "      <td>2.50</td>\n",
       "    </tr>\n",
       "    <tr>\n",
       "      <th>C</th>\n",
       "      <td>45</td>\n",
       "      <td>2.25</td>\n",
       "    </tr>\n",
       "    <tr>\n",
       "      <th>D</th>\n",
       "      <td>40</td>\n",
       "      <td>2.00</td>\n",
       "    </tr>\n",
       "  </tbody>\n",
       "</table>\n",
       "</div>"
      ],
      "text/plain": [
       "    Marks  Grades\n",
       "A+     80    4.00\n",
       "A      75    3.75\n",
       "A-     70    3.50\n",
       "B+     65    3.25\n",
       "B      60    3.00\n",
       "B-     55    2.75\n",
       "C+     50    2.50\n",
       "C      45    2.25\n",
       "D      40    2.00"
      ]
     },
     "execution_count": 29,
     "metadata": {},
     "output_type": "execute_result"
    }
   ],
   "source": [
    "D"
   ]
  },
  {
   "cell_type": "code",
   "execution_count": 30,
   "id": "cc0f63d5",
   "metadata": {},
   "outputs": [],
   "source": [
    "D['Marks in 75%'] = (75*D['Marks'])/100"
   ]
  },
  {
   "cell_type": "code",
   "execution_count": 31,
   "id": "7ad0c429",
   "metadata": {},
   "outputs": [
    {
     "data": {
      "text/html": [
       "<div>\n",
       "<style scoped>\n",
       "    .dataframe tbody tr th:only-of-type {\n",
       "        vertical-align: middle;\n",
       "    }\n",
       "\n",
       "    .dataframe tbody tr th {\n",
       "        vertical-align: top;\n",
       "    }\n",
       "\n",
       "    .dataframe thead th {\n",
       "        text-align: right;\n",
       "    }\n",
       "</style>\n",
       "<table border=\"1\" class=\"dataframe\">\n",
       "  <thead>\n",
       "    <tr style=\"text-align: right;\">\n",
       "      <th></th>\n",
       "      <th>Marks</th>\n",
       "      <th>Grades</th>\n",
       "      <th>Marks in 75%</th>\n",
       "    </tr>\n",
       "  </thead>\n",
       "  <tbody>\n",
       "    <tr>\n",
       "      <th>A+</th>\n",
       "      <td>80</td>\n",
       "      <td>4.00</td>\n",
       "      <td>60.00</td>\n",
       "    </tr>\n",
       "    <tr>\n",
       "      <th>A</th>\n",
       "      <td>75</td>\n",
       "      <td>3.75</td>\n",
       "      <td>56.25</td>\n",
       "    </tr>\n",
       "    <tr>\n",
       "      <th>A-</th>\n",
       "      <td>70</td>\n",
       "      <td>3.50</td>\n",
       "      <td>52.50</td>\n",
       "    </tr>\n",
       "    <tr>\n",
       "      <th>B+</th>\n",
       "      <td>65</td>\n",
       "      <td>3.25</td>\n",
       "      <td>48.75</td>\n",
       "    </tr>\n",
       "    <tr>\n",
       "      <th>B</th>\n",
       "      <td>60</td>\n",
       "      <td>3.00</td>\n",
       "      <td>45.00</td>\n",
       "    </tr>\n",
       "    <tr>\n",
       "      <th>B-</th>\n",
       "      <td>55</td>\n",
       "      <td>2.75</td>\n",
       "      <td>41.25</td>\n",
       "    </tr>\n",
       "    <tr>\n",
       "      <th>C+</th>\n",
       "      <td>50</td>\n",
       "      <td>2.50</td>\n",
       "      <td>37.50</td>\n",
       "    </tr>\n",
       "    <tr>\n",
       "      <th>C</th>\n",
       "      <td>45</td>\n",
       "      <td>2.25</td>\n",
       "      <td>33.75</td>\n",
       "    </tr>\n",
       "    <tr>\n",
       "      <th>D</th>\n",
       "      <td>40</td>\n",
       "      <td>2.00</td>\n",
       "      <td>30.00</td>\n",
       "    </tr>\n",
       "  </tbody>\n",
       "</table>\n",
       "</div>"
      ],
      "text/plain": [
       "    Marks  Grades  Marks in 75%\n",
       "A+     80    4.00         60.00\n",
       "A      75    3.75         56.25\n",
       "A-     70    3.50         52.50\n",
       "B+     65    3.25         48.75\n",
       "B      60    3.00         45.00\n",
       "B-     55    2.75         41.25\n",
       "C+     50    2.50         37.50\n",
       "C      45    2.25         33.75\n",
       "D      40    2.00         30.00"
      ]
     },
     "execution_count": 31,
     "metadata": {},
     "output_type": "execute_result"
    }
   ],
   "source": [
    "D"
   ]
  },
  {
   "cell_type": "code",
   "execution_count": 32,
   "id": "2463d8cb",
   "metadata": {},
   "outputs": [
    {
     "ename": "KeyError",
     "evalue": "'Serial'",
     "output_type": "error",
     "traceback": [
      "\u001b[1;31m---------------------------------------------------------------------------\u001b[0m",
      "\u001b[1;31mKeyError\u001b[0m                                  Traceback (most recent call last)",
      "File \u001b[1;32m~\\anaconda3\\Lib\\site-packages\\pandas\\core\\indexes\\base.py:3802\u001b[0m, in \u001b[0;36mIndex.get_loc\u001b[1;34m(self, key, method, tolerance)\u001b[0m\n\u001b[0;32m   3801\u001b[0m \u001b[38;5;28;01mtry\u001b[39;00m:\n\u001b[1;32m-> 3802\u001b[0m     \u001b[38;5;28;01mreturn\u001b[39;00m \u001b[38;5;28mself\u001b[39m\u001b[38;5;241m.\u001b[39m_engine\u001b[38;5;241m.\u001b[39mget_loc(casted_key)\n\u001b[0;32m   3803\u001b[0m \u001b[38;5;28;01mexcept\u001b[39;00m \u001b[38;5;167;01mKeyError\u001b[39;00m \u001b[38;5;28;01mas\u001b[39;00m err:\n",
      "File \u001b[1;32m~\\anaconda3\\Lib\\site-packages\\pandas\\_libs\\index.pyx:138\u001b[0m, in \u001b[0;36mpandas._libs.index.IndexEngine.get_loc\u001b[1;34m()\u001b[0m\n",
      "File \u001b[1;32m~\\anaconda3\\Lib\\site-packages\\pandas\\_libs\\index.pyx:165\u001b[0m, in \u001b[0;36mpandas._libs.index.IndexEngine.get_loc\u001b[1;34m()\u001b[0m\n",
      "File \u001b[1;32mpandas\\_libs\\hashtable_class_helper.pxi:5745\u001b[0m, in \u001b[0;36mpandas._libs.hashtable.PyObjectHashTable.get_item\u001b[1;34m()\u001b[0m\n",
      "File \u001b[1;32mpandas\\_libs\\hashtable_class_helper.pxi:5753\u001b[0m, in \u001b[0;36mpandas._libs.hashtable.PyObjectHashTable.get_item\u001b[1;34m()\u001b[0m\n",
      "\u001b[1;31mKeyError\u001b[0m: 'Serial'",
      "\nThe above exception was the direct cause of the following exception:\n",
      "\u001b[1;31mKeyError\u001b[0m                                  Traceback (most recent call last)",
      "Cell \u001b[1;32mIn[32], line 1\u001b[0m\n\u001b[1;32m----> 1\u001b[0m \u001b[38;5;28;01mdel\u001b[39;00m D[\u001b[38;5;124m'\u001b[39m\u001b[38;5;124mSerial\u001b[39m\u001b[38;5;124m'\u001b[39m]\n",
      "File \u001b[1;32m~\\anaconda3\\Lib\\site-packages\\pandas\\core\\generic.py:4243\u001b[0m, in \u001b[0;36mNDFrame.__delitem__\u001b[1;34m(self, key)\u001b[0m\n\u001b[0;32m   4238\u001b[0m             deleted \u001b[38;5;241m=\u001b[39m \u001b[38;5;28;01mTrue\u001b[39;00m\n\u001b[0;32m   4239\u001b[0m \u001b[38;5;28;01mif\u001b[39;00m \u001b[38;5;129;01mnot\u001b[39;00m deleted:\n\u001b[0;32m   4240\u001b[0m     \u001b[38;5;66;03m# If the above loop ran and didn't delete anything because\u001b[39;00m\n\u001b[0;32m   4241\u001b[0m     \u001b[38;5;66;03m# there was no match, this call should raise the appropriate\u001b[39;00m\n\u001b[0;32m   4242\u001b[0m     \u001b[38;5;66;03m# exception:\u001b[39;00m\n\u001b[1;32m-> 4243\u001b[0m     loc \u001b[38;5;241m=\u001b[39m \u001b[38;5;28mself\u001b[39m\u001b[38;5;241m.\u001b[39maxes[\u001b[38;5;241m-\u001b[39m\u001b[38;5;241m1\u001b[39m]\u001b[38;5;241m.\u001b[39mget_loc(key)\n\u001b[0;32m   4244\u001b[0m     \u001b[38;5;28mself\u001b[39m\u001b[38;5;241m.\u001b[39m_mgr \u001b[38;5;241m=\u001b[39m \u001b[38;5;28mself\u001b[39m\u001b[38;5;241m.\u001b[39m_mgr\u001b[38;5;241m.\u001b[39midelete(loc)\n\u001b[0;32m   4246\u001b[0m \u001b[38;5;66;03m# delete from the caches\u001b[39;00m\n",
      "File \u001b[1;32m~\\anaconda3\\Lib\\site-packages\\pandas\\core\\indexes\\base.py:3804\u001b[0m, in \u001b[0;36mIndex.get_loc\u001b[1;34m(self, key, method, tolerance)\u001b[0m\n\u001b[0;32m   3802\u001b[0m     \u001b[38;5;28;01mreturn\u001b[39;00m \u001b[38;5;28mself\u001b[39m\u001b[38;5;241m.\u001b[39m_engine\u001b[38;5;241m.\u001b[39mget_loc(casted_key)\n\u001b[0;32m   3803\u001b[0m \u001b[38;5;28;01mexcept\u001b[39;00m \u001b[38;5;167;01mKeyError\u001b[39;00m \u001b[38;5;28;01mas\u001b[39;00m err:\n\u001b[1;32m-> 3804\u001b[0m     \u001b[38;5;28;01mraise\u001b[39;00m \u001b[38;5;167;01mKeyError\u001b[39;00m(key) \u001b[38;5;28;01mfrom\u001b[39;00m \u001b[38;5;21;01merr\u001b[39;00m\n\u001b[0;32m   3805\u001b[0m \u001b[38;5;28;01mexcept\u001b[39;00m \u001b[38;5;167;01mTypeError\u001b[39;00m:\n\u001b[0;32m   3806\u001b[0m     \u001b[38;5;66;03m# If we have a listlike key, _check_indexing_error will raise\u001b[39;00m\n\u001b[0;32m   3807\u001b[0m     \u001b[38;5;66;03m#  InvalidIndexError. Otherwise we fall through and re-raise\u001b[39;00m\n\u001b[0;32m   3808\u001b[0m     \u001b[38;5;66;03m#  the TypeError.\u001b[39;00m\n\u001b[0;32m   3809\u001b[0m     \u001b[38;5;28mself\u001b[39m\u001b[38;5;241m.\u001b[39m_check_indexing_error(key)\n",
      "\u001b[1;31mKeyError\u001b[0m: 'Serial'"
     ]
    }
   ],
   "source": [
    "del D['Serial']"
   ]
  },
  {
   "cell_type": "code",
   "execution_count": null,
   "id": "8cb9632d",
   "metadata": {},
   "outputs": [],
   "source": [
    "D"
   ]
  },
  {
   "cell_type": "code",
   "execution_count": 33,
   "id": "ab5634c6",
   "metadata": {},
   "outputs": [],
   "source": [
    "G = D[D['Grades']>2.75]"
   ]
  },
  {
   "cell_type": "code",
   "execution_count": 34,
   "id": "85c3839b",
   "metadata": {},
   "outputs": [
    {
     "data": {
      "text/html": [
       "<div>\n",
       "<style scoped>\n",
       "    .dataframe tbody tr th:only-of-type {\n",
       "        vertical-align: middle;\n",
       "    }\n",
       "\n",
       "    .dataframe tbody tr th {\n",
       "        vertical-align: top;\n",
       "    }\n",
       "\n",
       "    .dataframe thead th {\n",
       "        text-align: right;\n",
       "    }\n",
       "</style>\n",
       "<table border=\"1\" class=\"dataframe\">\n",
       "  <thead>\n",
       "    <tr style=\"text-align: right;\">\n",
       "      <th></th>\n",
       "      <th>Marks</th>\n",
       "      <th>Grades</th>\n",
       "      <th>Marks in 75%</th>\n",
       "    </tr>\n",
       "  </thead>\n",
       "  <tbody>\n",
       "    <tr>\n",
       "      <th>A+</th>\n",
       "      <td>80</td>\n",
       "      <td>4.00</td>\n",
       "      <td>60.00</td>\n",
       "    </tr>\n",
       "    <tr>\n",
       "      <th>A</th>\n",
       "      <td>75</td>\n",
       "      <td>3.75</td>\n",
       "      <td>56.25</td>\n",
       "    </tr>\n",
       "    <tr>\n",
       "      <th>A-</th>\n",
       "      <td>70</td>\n",
       "      <td>3.50</td>\n",
       "      <td>52.50</td>\n",
       "    </tr>\n",
       "    <tr>\n",
       "      <th>B+</th>\n",
       "      <td>65</td>\n",
       "      <td>3.25</td>\n",
       "      <td>48.75</td>\n",
       "    </tr>\n",
       "    <tr>\n",
       "      <th>B</th>\n",
       "      <td>60</td>\n",
       "      <td>3.00</td>\n",
       "      <td>45.00</td>\n",
       "    </tr>\n",
       "  </tbody>\n",
       "</table>\n",
       "</div>"
      ],
      "text/plain": [
       "    Marks  Grades  Marks in 75%\n",
       "A+     80    4.00         60.00\n",
       "A      75    3.75         56.25\n",
       "A-     70    3.50         52.50\n",
       "B+     65    3.25         48.75\n",
       "B      60    3.00         45.00"
      ]
     },
     "execution_count": 34,
     "metadata": {},
     "output_type": "execute_result"
    }
   ],
   "source": [
    "G"
   ]
  },
  {
   "cell_type": "markdown",
   "id": "29dcfe64",
   "metadata": {},
   "source": [
    "## Pandas(NaN)"
   ]
  },
  {
   "cell_type": "code",
   "execution_count": 2,
   "id": "4f8ce249",
   "metadata": {},
   "outputs": [],
   "source": [
    "import pandas as pd\n",
    "A = pd.DataFrame([{'a':1,'b':4},{'b':3,'C':8}])"
   ]
  },
  {
   "cell_type": "code",
   "execution_count": 3,
   "id": "6cf5bedc",
   "metadata": {},
   "outputs": [
    {
     "data": {
      "text/html": [
       "<div>\n",
       "<style scoped>\n",
       "    .dataframe tbody tr th:only-of-type {\n",
       "        vertical-align: middle;\n",
       "    }\n",
       "\n",
       "    .dataframe tbody tr th {\n",
       "        vertical-align: top;\n",
       "    }\n",
       "\n",
       "    .dataframe thead th {\n",
       "        text-align: right;\n",
       "    }\n",
       "</style>\n",
       "<table border=\"1\" class=\"dataframe\">\n",
       "  <thead>\n",
       "    <tr style=\"text-align: right;\">\n",
       "      <th></th>\n",
       "      <th>a</th>\n",
       "      <th>b</th>\n",
       "      <th>C</th>\n",
       "    </tr>\n",
       "  </thead>\n",
       "  <tbody>\n",
       "    <tr>\n",
       "      <th>0</th>\n",
       "      <td>1.0</td>\n",
       "      <td>4</td>\n",
       "      <td>NaN</td>\n",
       "    </tr>\n",
       "    <tr>\n",
       "      <th>1</th>\n",
       "      <td>NaN</td>\n",
       "      <td>3</td>\n",
       "      <td>8.0</td>\n",
       "    </tr>\n",
       "  </tbody>\n",
       "</table>\n",
       "</div>"
      ],
      "text/plain": [
       "     a  b    C\n",
       "0  1.0  4  NaN\n",
       "1  NaN  3  8.0"
      ]
     },
     "execution_count": 3,
     "metadata": {},
     "output_type": "execute_result"
    }
   ],
   "source": [
    "A"
   ]
  },
  {
   "cell_type": "code",
   "execution_count": 4,
   "id": "45ee11ae",
   "metadata": {},
   "outputs": [
    {
     "data": {
      "text/html": [
       "<div>\n",
       "<style scoped>\n",
       "    .dataframe tbody tr th:only-of-type {\n",
       "        vertical-align: middle;\n",
       "    }\n",
       "\n",
       "    .dataframe tbody tr th {\n",
       "        vertical-align: top;\n",
       "    }\n",
       "\n",
       "    .dataframe thead th {\n",
       "        text-align: right;\n",
       "    }\n",
       "</style>\n",
       "<table border=\"1\" class=\"dataframe\">\n",
       "  <thead>\n",
       "    <tr style=\"text-align: right;\">\n",
       "      <th></th>\n",
       "      <th>a</th>\n",
       "      <th>b</th>\n",
       "      <th>C</th>\n",
       "    </tr>\n",
       "  </thead>\n",
       "  <tbody>\n",
       "    <tr>\n",
       "      <th>0</th>\n",
       "      <td>1.0</td>\n",
       "      <td>4</td>\n",
       "      <td>0.0</td>\n",
       "    </tr>\n",
       "    <tr>\n",
       "      <th>1</th>\n",
       "      <td>0.0</td>\n",
       "      <td>3</td>\n",
       "      <td>8.0</td>\n",
       "    </tr>\n",
       "  </tbody>\n",
       "</table>\n",
       "</div>"
      ],
      "text/plain": [
       "     a  b    C\n",
       "0  1.0  4  0.0\n",
       "1  0.0  3  8.0"
      ]
     },
     "execution_count": 4,
     "metadata": {},
     "output_type": "execute_result"
    }
   ],
   "source": [
    "A.fillna(0)"
   ]
  },
  {
   "cell_type": "markdown",
   "id": "3811428d",
   "metadata": {},
   "source": [
    "## Pandas(Indexing)"
   ]
  },
  {
   "cell_type": "code",
   "execution_count": 5,
   "id": "931bef89",
   "metadata": {},
   "outputs": [],
   "source": [
    "A = pd.Series(['a','b','c'],index=[1,3,5])"
   ]
  },
  {
   "cell_type": "code",
   "execution_count": 6,
   "id": "21ff3c35",
   "metadata": {},
   "outputs": [
    {
     "data": {
      "text/plain": [
       "3    b\n",
       "5    c\n",
       "dtype: object"
      ]
     },
     "execution_count": 6,
     "metadata": {},
     "output_type": "execute_result"
    }
   ],
   "source": [
    "A[1:3]"
   ]
  },
  {
   "cell_type": "code",
   "execution_count": 7,
   "id": "e3f6847e",
   "metadata": {},
   "outputs": [
    {
     "data": {
      "text/plain": [
       "1    a\n",
       "3    b\n",
       "dtype: object"
      ]
     },
     "execution_count": 7,
     "metadata": {},
     "output_type": "execute_result"
    }
   ],
   "source": [
    "A.loc[1:3] #explicit indexing"
   ]
  },
  {
   "cell_type": "code",
   "execution_count": 8,
   "id": "195bc041",
   "metadata": {},
   "outputs": [
    {
     "data": {
      "text/plain": [
       "3    b\n",
       "5    c\n",
       "dtype: object"
      ]
     },
     "execution_count": 8,
     "metadata": {},
     "output_type": "execute_result"
    }
   ],
   "source": [
    "A.iloc[1:3] #implicit indexing"
   ]
  },
  {
   "cell_type": "code",
   "execution_count": 9,
   "id": "fa27424b",
   "metadata": {},
   "outputs": [
    {
     "ename": "NameError",
     "evalue": "name 'D' is not defined",
     "output_type": "error",
     "traceback": [
      "\u001b[1;31m---------------------------------------------------------------------------\u001b[0m",
      "\u001b[1;31mNameError\u001b[0m                                 Traceback (most recent call last)",
      "Cell \u001b[1;32mIn[9], line 1\u001b[0m\n\u001b[1;32m----> 1\u001b[0m D\n",
      "\u001b[1;31mNameError\u001b[0m: name 'D' is not defined"
     ]
    }
   ],
   "source": [
    "D"
   ]
  },
  {
   "cell_type": "code",
   "execution_count": 10,
   "id": "887279f3",
   "metadata": {},
   "outputs": [
    {
     "ename": "NameError",
     "evalue": "name 'D' is not defined",
     "output_type": "error",
     "traceback": [
      "\u001b[1;31m---------------------------------------------------------------------------\u001b[0m",
      "\u001b[1;31mNameError\u001b[0m                                 Traceback (most recent call last)",
      "Cell \u001b[1;32mIn[10], line 1\u001b[0m\n\u001b[1;32m----> 1\u001b[0m D\u001b[38;5;241m.\u001b[39miloc[\u001b[38;5;241m2\u001b[39m,:]\n",
      "\u001b[1;31mNameError\u001b[0m: name 'D' is not defined"
     ]
    }
   ],
   "source": [
    "D.iloc[2,:]"
   ]
  },
  {
   "cell_type": "code",
   "execution_count": 11,
   "id": "99a5e6e9",
   "metadata": {},
   "outputs": [
    {
     "ename": "NameError",
     "evalue": "name 'D' is not defined",
     "output_type": "error",
     "traceback": [
      "\u001b[1;31m---------------------------------------------------------------------------\u001b[0m",
      "\u001b[1;31mNameError\u001b[0m                                 Traceback (most recent call last)",
      "Cell \u001b[1;32mIn[11], line 1\u001b[0m\n\u001b[1;32m----> 1\u001b[0m D\u001b[38;5;241m.\u001b[39miloc[::\u001b[38;5;241m-\u001b[39m\u001b[38;5;241m1\u001b[39m,:]\n",
      "\u001b[1;31mNameError\u001b[0m: name 'D' is not defined"
     ]
    }
   ],
   "source": [
    "D.iloc[::-1,:]"
   ]
  },
  {
   "cell_type": "markdown",
   "id": "24741442",
   "metadata": {},
   "source": [
    "## Pandas(csv files)"
   ]
  },
  {
   "cell_type": "code",
   "execution_count": 12,
   "id": "0e0cd0c1",
   "metadata": {},
   "outputs": [],
   "source": [
    "import numpy as np\n",
    "import pandas as pd\n",
    "from sklearn.impute import SimpleImputer"
   ]
  },
  {
   "cell_type": "code",
   "execution_count": 13,
   "id": "87a47394",
   "metadata": {},
   "outputs": [],
   "source": [
    "df = pd.read_csv('E:/COVID_19.csv')"
   ]
  },
  {
   "cell_type": "code",
   "execution_count": 14,
   "id": "10d360fc",
   "metadata": {},
   "outputs": [
    {
     "data": {
      "text/html": [
       "<div>\n",
       "<style scoped>\n",
       "    .dataframe tbody tr th:only-of-type {\n",
       "        vertical-align: middle;\n",
       "    }\n",
       "\n",
       "    .dataframe tbody tr th {\n",
       "        vertical-align: top;\n",
       "    }\n",
       "\n",
       "    .dataframe thead th {\n",
       "        text-align: right;\n",
       "    }\n",
       "</style>\n",
       "<table border=\"1\" class=\"dataframe\">\n",
       "  <thead>\n",
       "    <tr style=\"text-align: right;\">\n",
       "      <th></th>\n",
       "      <th>Direction</th>\n",
       "      <th>Year</th>\n",
       "      <th>Date</th>\n",
       "      <th>Weekday</th>\n",
       "      <th>Country</th>\n",
       "      <th>Commodity</th>\n",
       "      <th>Transport_Mode</th>\n",
       "      <th>Measure</th>\n",
       "      <th>Value</th>\n",
       "      <th>Cumulative</th>\n",
       "    </tr>\n",
       "  </thead>\n",
       "  <tbody>\n",
       "    <tr>\n",
       "      <th>0</th>\n",
       "      <td>Exports</td>\n",
       "      <td>2015</td>\n",
       "      <td>01/01/2015</td>\n",
       "      <td>Thursday</td>\n",
       "      <td>All</td>\n",
       "      <td>All</td>\n",
       "      <td>All</td>\n",
       "      <td>$</td>\n",
       "      <td>104000000</td>\n",
       "      <td>104000000</td>\n",
       "    </tr>\n",
       "    <tr>\n",
       "      <th>1</th>\n",
       "      <td>Exports</td>\n",
       "      <td>2015</td>\n",
       "      <td>02/01/2015</td>\n",
       "      <td>Friday</td>\n",
       "      <td>All</td>\n",
       "      <td>All</td>\n",
       "      <td>All</td>\n",
       "      <td>$</td>\n",
       "      <td>96000000</td>\n",
       "      <td>200000000</td>\n",
       "    </tr>\n",
       "    <tr>\n",
       "      <th>2</th>\n",
       "      <td>Exports</td>\n",
       "      <td>2015</td>\n",
       "      <td>03/01/2015</td>\n",
       "      <td>Saturday</td>\n",
       "      <td>All</td>\n",
       "      <td>All</td>\n",
       "      <td>All</td>\n",
       "      <td>$</td>\n",
       "      <td>61000000</td>\n",
       "      <td>262000000</td>\n",
       "    </tr>\n",
       "    <tr>\n",
       "      <th>3</th>\n",
       "      <td>Exports</td>\n",
       "      <td>2015</td>\n",
       "      <td>04/01/2015</td>\n",
       "      <td>Sunday</td>\n",
       "      <td>All</td>\n",
       "      <td>All</td>\n",
       "      <td>All</td>\n",
       "      <td>$</td>\n",
       "      <td>74000000</td>\n",
       "      <td>336000000</td>\n",
       "    </tr>\n",
       "    <tr>\n",
       "      <th>4</th>\n",
       "      <td>Exports</td>\n",
       "      <td>2015</td>\n",
       "      <td>05/01/2015</td>\n",
       "      <td>Monday</td>\n",
       "      <td>All</td>\n",
       "      <td>All</td>\n",
       "      <td>All</td>\n",
       "      <td>$</td>\n",
       "      <td>105000000</td>\n",
       "      <td>442000000</td>\n",
       "    </tr>\n",
       "    <tr>\n",
       "      <th>5</th>\n",
       "      <td>Exports</td>\n",
       "      <td>2015</td>\n",
       "      <td>06/01/2015</td>\n",
       "      <td>Tuesday</td>\n",
       "      <td>All</td>\n",
       "      <td>All</td>\n",
       "      <td>All</td>\n",
       "      <td>$</td>\n",
       "      <td>76000000</td>\n",
       "      <td>518000000</td>\n",
       "    </tr>\n",
       "    <tr>\n",
       "      <th>6</th>\n",
       "      <td>Exports</td>\n",
       "      <td>2015</td>\n",
       "      <td>07/01/2015</td>\n",
       "      <td>Wednesday</td>\n",
       "      <td>All</td>\n",
       "      <td>All</td>\n",
       "      <td>All</td>\n",
       "      <td>$</td>\n",
       "      <td>59000000</td>\n",
       "      <td>577000000</td>\n",
       "    </tr>\n",
       "    <tr>\n",
       "      <th>7</th>\n",
       "      <td>Exports</td>\n",
       "      <td>2015</td>\n",
       "      <td>08/01/2015</td>\n",
       "      <td>Thursday</td>\n",
       "      <td>All</td>\n",
       "      <td>All</td>\n",
       "      <td>All</td>\n",
       "      <td>$</td>\n",
       "      <td>111000000</td>\n",
       "      <td>688000000</td>\n",
       "    </tr>\n",
       "    <tr>\n",
       "      <th>8</th>\n",
       "      <td>Exports</td>\n",
       "      <td>2015</td>\n",
       "      <td>09/01/2015</td>\n",
       "      <td>Friday</td>\n",
       "      <td>All</td>\n",
       "      <td>All</td>\n",
       "      <td>All</td>\n",
       "      <td>$</td>\n",
       "      <td>98000000</td>\n",
       "      <td>786000000</td>\n",
       "    </tr>\n",
       "    <tr>\n",
       "      <th>9</th>\n",
       "      <td>Exports</td>\n",
       "      <td>2015</td>\n",
       "      <td>10/01/2015</td>\n",
       "      <td>Saturday</td>\n",
       "      <td>All</td>\n",
       "      <td>All</td>\n",
       "      <td>All</td>\n",
       "      <td>$</td>\n",
       "      <td>89000000</td>\n",
       "      <td>875000000</td>\n",
       "    </tr>\n",
       "  </tbody>\n",
       "</table>\n",
       "</div>"
      ],
      "text/plain": [
       "  Direction  Year        Date    Weekday Country Commodity Transport_Mode  \\\n",
       "0   Exports  2015  01/01/2015   Thursday     All       All            All   \n",
       "1   Exports  2015  02/01/2015     Friday     All       All            All   \n",
       "2   Exports  2015  03/01/2015   Saturday     All       All            All   \n",
       "3   Exports  2015  04/01/2015     Sunday     All       All            All   \n",
       "4   Exports  2015  05/01/2015     Monday     All       All            All   \n",
       "5   Exports  2015  06/01/2015    Tuesday     All       All            All   \n",
       "6   Exports  2015  07/01/2015  Wednesday     All       All            All   \n",
       "7   Exports  2015  08/01/2015   Thursday     All       All            All   \n",
       "8   Exports  2015  09/01/2015     Friday     All       All            All   \n",
       "9   Exports  2015  10/01/2015   Saturday     All       All            All   \n",
       "\n",
       "  Measure      Value  Cumulative  \n",
       "0       $  104000000   104000000  \n",
       "1       $   96000000   200000000  \n",
       "2       $   61000000   262000000  \n",
       "3       $   74000000   336000000  \n",
       "4       $  105000000   442000000  \n",
       "5       $   76000000   518000000  \n",
       "6       $   59000000   577000000  \n",
       "7       $  111000000   688000000  \n",
       "8       $   98000000   786000000  \n",
       "9       $   89000000   875000000  "
      ]
     },
     "execution_count": 14,
     "metadata": {},
     "output_type": "execute_result"
    }
   ],
   "source": [
    "df.head(10)"
   ]
  },
  {
   "cell_type": "code",
   "execution_count": 15,
   "id": "a9534c87",
   "metadata": {},
   "outputs": [],
   "source": [
    "df.drop(['Commodity'],axis=1,inplace=True)"
   ]
  },
  {
   "cell_type": "code",
   "execution_count": 16,
   "id": "8f77f1c9",
   "metadata": {},
   "outputs": [
    {
     "data": {
      "text/html": [
       "<div>\n",
       "<style scoped>\n",
       "    .dataframe tbody tr th:only-of-type {\n",
       "        vertical-align: middle;\n",
       "    }\n",
       "\n",
       "    .dataframe tbody tr th {\n",
       "        vertical-align: top;\n",
       "    }\n",
       "\n",
       "    .dataframe thead th {\n",
       "        text-align: right;\n",
       "    }\n",
       "</style>\n",
       "<table border=\"1\" class=\"dataframe\">\n",
       "  <thead>\n",
       "    <tr style=\"text-align: right;\">\n",
       "      <th></th>\n",
       "      <th>Direction</th>\n",
       "      <th>Year</th>\n",
       "      <th>Date</th>\n",
       "      <th>Weekday</th>\n",
       "      <th>Country</th>\n",
       "      <th>Transport_Mode</th>\n",
       "      <th>Measure</th>\n",
       "      <th>Value</th>\n",
       "      <th>Cumulative</th>\n",
       "    </tr>\n",
       "  </thead>\n",
       "  <tbody>\n",
       "    <tr>\n",
       "      <th>0</th>\n",
       "      <td>Exports</td>\n",
       "      <td>2015</td>\n",
       "      <td>01/01/2015</td>\n",
       "      <td>Thursday</td>\n",
       "      <td>All</td>\n",
       "      <td>All</td>\n",
       "      <td>$</td>\n",
       "      <td>104000000</td>\n",
       "      <td>104000000</td>\n",
       "    </tr>\n",
       "    <tr>\n",
       "      <th>1</th>\n",
       "      <td>Exports</td>\n",
       "      <td>2015</td>\n",
       "      <td>02/01/2015</td>\n",
       "      <td>Friday</td>\n",
       "      <td>All</td>\n",
       "      <td>All</td>\n",
       "      <td>$</td>\n",
       "      <td>96000000</td>\n",
       "      <td>200000000</td>\n",
       "    </tr>\n",
       "    <tr>\n",
       "      <th>2</th>\n",
       "      <td>Exports</td>\n",
       "      <td>2015</td>\n",
       "      <td>03/01/2015</td>\n",
       "      <td>Saturday</td>\n",
       "      <td>All</td>\n",
       "      <td>All</td>\n",
       "      <td>$</td>\n",
       "      <td>61000000</td>\n",
       "      <td>262000000</td>\n",
       "    </tr>\n",
       "    <tr>\n",
       "      <th>3</th>\n",
       "      <td>Exports</td>\n",
       "      <td>2015</td>\n",
       "      <td>04/01/2015</td>\n",
       "      <td>Sunday</td>\n",
       "      <td>All</td>\n",
       "      <td>All</td>\n",
       "      <td>$</td>\n",
       "      <td>74000000</td>\n",
       "      <td>336000000</td>\n",
       "    </tr>\n",
       "    <tr>\n",
       "      <th>4</th>\n",
       "      <td>Exports</td>\n",
       "      <td>2015</td>\n",
       "      <td>05/01/2015</td>\n",
       "      <td>Monday</td>\n",
       "      <td>All</td>\n",
       "      <td>All</td>\n",
       "      <td>$</td>\n",
       "      <td>105000000</td>\n",
       "      <td>442000000</td>\n",
       "    </tr>\n",
       "  </tbody>\n",
       "</table>\n",
       "</div>"
      ],
      "text/plain": [
       "  Direction  Year        Date   Weekday Country Transport_Mode Measure  \\\n",
       "0   Exports  2015  01/01/2015  Thursday     All            All       $   \n",
       "1   Exports  2015  02/01/2015    Friday     All            All       $   \n",
       "2   Exports  2015  03/01/2015  Saturday     All            All       $   \n",
       "3   Exports  2015  04/01/2015    Sunday     All            All       $   \n",
       "4   Exports  2015  05/01/2015    Monday     All            All       $   \n",
       "\n",
       "       Value  Cumulative  \n",
       "0  104000000   104000000  \n",
       "1   96000000   200000000  \n",
       "2   61000000   262000000  \n",
       "3   74000000   336000000  \n",
       "4  105000000   442000000  "
      ]
     },
     "execution_count": 16,
     "metadata": {},
     "output_type": "execute_result"
    }
   ],
   "source": [
    "df.head()"
   ]
  },
  {
   "cell_type": "code",
   "execution_count": 17,
   "id": "6f35886d",
   "metadata": {},
   "outputs": [],
   "source": [
    "df.rename(columns={'Measure':'Currency'},inplace=True)"
   ]
  },
  {
   "cell_type": "code",
   "execution_count": 18,
   "id": "6b95e725",
   "metadata": {},
   "outputs": [
    {
     "data": {
      "text/html": [
       "<div>\n",
       "<style scoped>\n",
       "    .dataframe tbody tr th:only-of-type {\n",
       "        vertical-align: middle;\n",
       "    }\n",
       "\n",
       "    .dataframe tbody tr th {\n",
       "        vertical-align: top;\n",
       "    }\n",
       "\n",
       "    .dataframe thead th {\n",
       "        text-align: right;\n",
       "    }\n",
       "</style>\n",
       "<table border=\"1\" class=\"dataframe\">\n",
       "  <thead>\n",
       "    <tr style=\"text-align: right;\">\n",
       "      <th></th>\n",
       "      <th>Direction</th>\n",
       "      <th>Year</th>\n",
       "      <th>Date</th>\n",
       "      <th>Weekday</th>\n",
       "      <th>Country</th>\n",
       "      <th>Transport_Mode</th>\n",
       "      <th>Currency</th>\n",
       "      <th>Value</th>\n",
       "      <th>Cumulative</th>\n",
       "    </tr>\n",
       "  </thead>\n",
       "  <tbody>\n",
       "    <tr>\n",
       "      <th>0</th>\n",
       "      <td>Exports</td>\n",
       "      <td>2015</td>\n",
       "      <td>01/01/2015</td>\n",
       "      <td>Thursday</td>\n",
       "      <td>All</td>\n",
       "      <td>All</td>\n",
       "      <td>$</td>\n",
       "      <td>104000000</td>\n",
       "      <td>104000000</td>\n",
       "    </tr>\n",
       "    <tr>\n",
       "      <th>1</th>\n",
       "      <td>Exports</td>\n",
       "      <td>2015</td>\n",
       "      <td>02/01/2015</td>\n",
       "      <td>Friday</td>\n",
       "      <td>All</td>\n",
       "      <td>All</td>\n",
       "      <td>$</td>\n",
       "      <td>96000000</td>\n",
       "      <td>200000000</td>\n",
       "    </tr>\n",
       "    <tr>\n",
       "      <th>2</th>\n",
       "      <td>Exports</td>\n",
       "      <td>2015</td>\n",
       "      <td>03/01/2015</td>\n",
       "      <td>Saturday</td>\n",
       "      <td>All</td>\n",
       "      <td>All</td>\n",
       "      <td>$</td>\n",
       "      <td>61000000</td>\n",
       "      <td>262000000</td>\n",
       "    </tr>\n",
       "    <tr>\n",
       "      <th>3</th>\n",
       "      <td>Exports</td>\n",
       "      <td>2015</td>\n",
       "      <td>04/01/2015</td>\n",
       "      <td>Sunday</td>\n",
       "      <td>All</td>\n",
       "      <td>All</td>\n",
       "      <td>$</td>\n",
       "      <td>74000000</td>\n",
       "      <td>336000000</td>\n",
       "    </tr>\n",
       "    <tr>\n",
       "      <th>4</th>\n",
       "      <td>Exports</td>\n",
       "      <td>2015</td>\n",
       "      <td>05/01/2015</td>\n",
       "      <td>Monday</td>\n",
       "      <td>All</td>\n",
       "      <td>All</td>\n",
       "      <td>$</td>\n",
       "      <td>105000000</td>\n",
       "      <td>442000000</td>\n",
       "    </tr>\n",
       "  </tbody>\n",
       "</table>\n",
       "</div>"
      ],
      "text/plain": [
       "  Direction  Year        Date   Weekday Country Transport_Mode Currency  \\\n",
       "0   Exports  2015  01/01/2015  Thursday     All            All        $   \n",
       "1   Exports  2015  02/01/2015    Friday     All            All        $   \n",
       "2   Exports  2015  03/01/2015  Saturday     All            All        $   \n",
       "3   Exports  2015  04/01/2015    Sunday     All            All        $   \n",
       "4   Exports  2015  05/01/2015    Monday     All            All        $   \n",
       "\n",
       "       Value  Cumulative  \n",
       "0  104000000   104000000  \n",
       "1   96000000   200000000  \n",
       "2   61000000   262000000  \n",
       "3   74000000   336000000  \n",
       "4  105000000   442000000  "
      ]
     },
     "execution_count": 18,
     "metadata": {},
     "output_type": "execute_result"
    }
   ],
   "source": [
    "df.head()"
   ]
  },
  {
   "cell_type": "code",
   "execution_count": 19,
   "id": "7eeeec7f",
   "metadata": {},
   "outputs": [
    {
     "ename": "ValueError",
     "evalue": "time data \"01/01/2015\" at position 0 doesn't match format specified",
     "output_type": "error",
     "traceback": [
      "\u001b[1;31m---------------------------------------------------------------------------\u001b[0m",
      "\u001b[1;31mValueError\u001b[0m                                Traceback (most recent call last)",
      "Cell \u001b[1;32mIn[19], line 1\u001b[0m\n\u001b[1;32m----> 1\u001b[0m df[\u001b[38;5;124m'\u001b[39m\u001b[38;5;124mDate\u001b[39m\u001b[38;5;124m'\u001b[39m] \u001b[38;5;241m=\u001b[39m pd\u001b[38;5;241m.\u001b[39mto_datetime(df[\u001b[38;5;124m'\u001b[39m\u001b[38;5;124mDate\u001b[39m\u001b[38;5;124m'\u001b[39m],\u001b[38;5;28mformat\u001b[39m\u001b[38;5;241m=\u001b[39m\u001b[38;5;124m'\u001b[39m\u001b[38;5;124m%\u001b[39m\u001b[38;5;124mY/\u001b[39m\u001b[38;5;124m%\u001b[39m\u001b[38;5;124mm/\u001b[39m\u001b[38;5;132;01m%d\u001b[39;00m\u001b[38;5;124m'\u001b[39m)\n",
      "File \u001b[1;32m~\\anaconda3\\Lib\\site-packages\\pandas\\core\\tools\\datetimes.py:1068\u001b[0m, in \u001b[0;36mto_datetime\u001b[1;34m(arg, errors, dayfirst, yearfirst, utc, format, exact, unit, infer_datetime_format, origin, cache)\u001b[0m\n\u001b[0;32m   1066\u001b[0m         result \u001b[38;5;241m=\u001b[39m arg\u001b[38;5;241m.\u001b[39mmap(cache_array)\n\u001b[0;32m   1067\u001b[0m     \u001b[38;5;28;01melse\u001b[39;00m:\n\u001b[1;32m-> 1068\u001b[0m         values \u001b[38;5;241m=\u001b[39m convert_listlike(arg\u001b[38;5;241m.\u001b[39m_values, \u001b[38;5;28mformat\u001b[39m)\n\u001b[0;32m   1069\u001b[0m         result \u001b[38;5;241m=\u001b[39m arg\u001b[38;5;241m.\u001b[39m_constructor(values, index\u001b[38;5;241m=\u001b[39marg\u001b[38;5;241m.\u001b[39mindex, name\u001b[38;5;241m=\u001b[39marg\u001b[38;5;241m.\u001b[39mname)\n\u001b[0;32m   1070\u001b[0m \u001b[38;5;28;01melif\u001b[39;00m \u001b[38;5;28misinstance\u001b[39m(arg, (ABCDataFrame, abc\u001b[38;5;241m.\u001b[39mMutableMapping)):\n",
      "File \u001b[1;32m~\\anaconda3\\Lib\\site-packages\\pandas\\core\\tools\\datetimes.py:438\u001b[0m, in \u001b[0;36m_convert_listlike_datetimes\u001b[1;34m(arg, format, name, tz, unit, errors, infer_datetime_format, dayfirst, yearfirst, exact)\u001b[0m\n\u001b[0;32m    436\u001b[0m \u001b[38;5;28;01massert\u001b[39;00m \u001b[38;5;28mformat\u001b[39m \u001b[38;5;129;01mis\u001b[39;00m \u001b[38;5;28;01mNone\u001b[39;00m \u001b[38;5;129;01mor\u001b[39;00m infer_datetime_format\n\u001b[0;32m    437\u001b[0m utc \u001b[38;5;241m=\u001b[39m tz \u001b[38;5;241m==\u001b[39m \u001b[38;5;124m\"\u001b[39m\u001b[38;5;124mutc\u001b[39m\u001b[38;5;124m\"\u001b[39m\n\u001b[1;32m--> 438\u001b[0m result, tz_parsed \u001b[38;5;241m=\u001b[39m objects_to_datetime64ns(\n\u001b[0;32m    439\u001b[0m     arg,\n\u001b[0;32m    440\u001b[0m     dayfirst\u001b[38;5;241m=\u001b[39mdayfirst,\n\u001b[0;32m    441\u001b[0m     yearfirst\u001b[38;5;241m=\u001b[39myearfirst,\n\u001b[0;32m    442\u001b[0m     utc\u001b[38;5;241m=\u001b[39mutc,\n\u001b[0;32m    443\u001b[0m     errors\u001b[38;5;241m=\u001b[39merrors,\n\u001b[0;32m    444\u001b[0m     require_iso8601\u001b[38;5;241m=\u001b[39mrequire_iso8601,\n\u001b[0;32m    445\u001b[0m     allow_object\u001b[38;5;241m=\u001b[39m\u001b[38;5;28;01mTrue\u001b[39;00m,\n\u001b[0;32m    446\u001b[0m )\n\u001b[0;32m    448\u001b[0m \u001b[38;5;28;01mif\u001b[39;00m tz_parsed \u001b[38;5;129;01mis\u001b[39;00m \u001b[38;5;129;01mnot\u001b[39;00m \u001b[38;5;28;01mNone\u001b[39;00m:\n\u001b[0;32m    449\u001b[0m     \u001b[38;5;66;03m# We can take a shortcut since the datetime64 numpy array\u001b[39;00m\n\u001b[0;32m    450\u001b[0m     \u001b[38;5;66;03m# is in UTC\u001b[39;00m\n\u001b[0;32m    451\u001b[0m     dta \u001b[38;5;241m=\u001b[39m DatetimeArray(result, dtype\u001b[38;5;241m=\u001b[39mtz_to_dtype(tz_parsed))\n",
      "File \u001b[1;32m~\\anaconda3\\Lib\\site-packages\\pandas\\core\\arrays\\datetimes.py:2177\u001b[0m, in \u001b[0;36mobjects_to_datetime64ns\u001b[1;34m(data, dayfirst, yearfirst, utc, errors, require_iso8601, allow_object, allow_mixed)\u001b[0m\n\u001b[0;32m   2175\u001b[0m order: Literal[\u001b[38;5;124m\"\u001b[39m\u001b[38;5;124mF\u001b[39m\u001b[38;5;124m\"\u001b[39m, \u001b[38;5;124m\"\u001b[39m\u001b[38;5;124mC\u001b[39m\u001b[38;5;124m\"\u001b[39m] \u001b[38;5;241m=\u001b[39m \u001b[38;5;124m\"\u001b[39m\u001b[38;5;124mF\u001b[39m\u001b[38;5;124m\"\u001b[39m \u001b[38;5;28;01mif\u001b[39;00m flags\u001b[38;5;241m.\u001b[39mf_contiguous \u001b[38;5;28;01melse\u001b[39;00m \u001b[38;5;124m\"\u001b[39m\u001b[38;5;124mC\u001b[39m\u001b[38;5;124m\"\u001b[39m\n\u001b[0;32m   2176\u001b[0m \u001b[38;5;28;01mtry\u001b[39;00m:\n\u001b[1;32m-> 2177\u001b[0m     result, tz_parsed \u001b[38;5;241m=\u001b[39m tslib\u001b[38;5;241m.\u001b[39marray_to_datetime(\n\u001b[0;32m   2178\u001b[0m         data\u001b[38;5;241m.\u001b[39mravel(\u001b[38;5;124m\"\u001b[39m\u001b[38;5;124mK\u001b[39m\u001b[38;5;124m\"\u001b[39m),\n\u001b[0;32m   2179\u001b[0m         errors\u001b[38;5;241m=\u001b[39merrors,\n\u001b[0;32m   2180\u001b[0m         utc\u001b[38;5;241m=\u001b[39mutc,\n\u001b[0;32m   2181\u001b[0m         dayfirst\u001b[38;5;241m=\u001b[39mdayfirst,\n\u001b[0;32m   2182\u001b[0m         yearfirst\u001b[38;5;241m=\u001b[39myearfirst,\n\u001b[0;32m   2183\u001b[0m         require_iso8601\u001b[38;5;241m=\u001b[39mrequire_iso8601,\n\u001b[0;32m   2184\u001b[0m         allow_mixed\u001b[38;5;241m=\u001b[39mallow_mixed,\n\u001b[0;32m   2185\u001b[0m     )\n\u001b[0;32m   2186\u001b[0m     result \u001b[38;5;241m=\u001b[39m result\u001b[38;5;241m.\u001b[39mreshape(data\u001b[38;5;241m.\u001b[39mshape, order\u001b[38;5;241m=\u001b[39morder)\n\u001b[0;32m   2187\u001b[0m \u001b[38;5;28;01mexcept\u001b[39;00m \u001b[38;5;167;01mOverflowError\u001b[39;00m \u001b[38;5;28;01mas\u001b[39;00m err:\n\u001b[0;32m   2188\u001b[0m     \u001b[38;5;66;03m# Exception is raised when a part of date is greater than 32 bit signed int\u001b[39;00m\n",
      "File \u001b[1;32m~\\anaconda3\\Lib\\site-packages\\pandas\\_libs\\tslib.pyx:427\u001b[0m, in \u001b[0;36mpandas._libs.tslib.array_to_datetime\u001b[1;34m()\u001b[0m\n",
      "File \u001b[1;32m~\\anaconda3\\Lib\\site-packages\\pandas\\_libs\\tslib.pyx:599\u001b[0m, in \u001b[0;36mpandas._libs.tslib.array_to_datetime\u001b[1;34m()\u001b[0m\n",
      "\u001b[1;31mValueError\u001b[0m: time data \"01/01/2015\" at position 0 doesn't match format specified"
     ]
    }
   ],
   "source": [
    "df['Date'] = pd.to_datetime(df['Date'],format='%Y/%m/%d')"
   ]
  },
  {
   "cell_type": "code",
   "execution_count": 20,
   "id": "3ba771a1",
   "metadata": {},
   "outputs": [
    {
     "data": {
      "text/html": [
       "<div>\n",
       "<style scoped>\n",
       "    .dataframe tbody tr th:only-of-type {\n",
       "        vertical-align: middle;\n",
       "    }\n",
       "\n",
       "    .dataframe tbody tr th {\n",
       "        vertical-align: top;\n",
       "    }\n",
       "\n",
       "    .dataframe thead th {\n",
       "        text-align: right;\n",
       "    }\n",
       "</style>\n",
       "<table border=\"1\" class=\"dataframe\">\n",
       "  <thead>\n",
       "    <tr style=\"text-align: right;\">\n",
       "      <th></th>\n",
       "      <th>Direction</th>\n",
       "      <th>Year</th>\n",
       "      <th>Date</th>\n",
       "      <th>Weekday</th>\n",
       "      <th>Country</th>\n",
       "      <th>Transport_Mode</th>\n",
       "      <th>Currency</th>\n",
       "      <th>Value</th>\n",
       "      <th>Cumulative</th>\n",
       "    </tr>\n",
       "  </thead>\n",
       "  <tbody>\n",
       "    <tr>\n",
       "      <th>0</th>\n",
       "      <td>Exports</td>\n",
       "      <td>2015</td>\n",
       "      <td>01/01/2015</td>\n",
       "      <td>Thursday</td>\n",
       "      <td>All</td>\n",
       "      <td>All</td>\n",
       "      <td>$</td>\n",
       "      <td>104000000</td>\n",
       "      <td>104000000</td>\n",
       "    </tr>\n",
       "    <tr>\n",
       "      <th>1</th>\n",
       "      <td>Exports</td>\n",
       "      <td>2015</td>\n",
       "      <td>02/01/2015</td>\n",
       "      <td>Friday</td>\n",
       "      <td>All</td>\n",
       "      <td>All</td>\n",
       "      <td>$</td>\n",
       "      <td>96000000</td>\n",
       "      <td>200000000</td>\n",
       "    </tr>\n",
       "    <tr>\n",
       "      <th>2</th>\n",
       "      <td>Exports</td>\n",
       "      <td>2015</td>\n",
       "      <td>03/01/2015</td>\n",
       "      <td>Saturday</td>\n",
       "      <td>All</td>\n",
       "      <td>All</td>\n",
       "      <td>$</td>\n",
       "      <td>61000000</td>\n",
       "      <td>262000000</td>\n",
       "    </tr>\n",
       "    <tr>\n",
       "      <th>3</th>\n",
       "      <td>Exports</td>\n",
       "      <td>2015</td>\n",
       "      <td>04/01/2015</td>\n",
       "      <td>Sunday</td>\n",
       "      <td>All</td>\n",
       "      <td>All</td>\n",
       "      <td>$</td>\n",
       "      <td>74000000</td>\n",
       "      <td>336000000</td>\n",
       "    </tr>\n",
       "    <tr>\n",
       "      <th>4</th>\n",
       "      <td>Exports</td>\n",
       "      <td>2015</td>\n",
       "      <td>05/01/2015</td>\n",
       "      <td>Monday</td>\n",
       "      <td>All</td>\n",
       "      <td>All</td>\n",
       "      <td>$</td>\n",
       "      <td>105000000</td>\n",
       "      <td>442000000</td>\n",
       "    </tr>\n",
       "  </tbody>\n",
       "</table>\n",
       "</div>"
      ],
      "text/plain": [
       "  Direction  Year        Date   Weekday Country Transport_Mode Currency  \\\n",
       "0   Exports  2015  01/01/2015  Thursday     All            All        $   \n",
       "1   Exports  2015  02/01/2015    Friday     All            All        $   \n",
       "2   Exports  2015  03/01/2015  Saturday     All            All        $   \n",
       "3   Exports  2015  04/01/2015    Sunday     All            All        $   \n",
       "4   Exports  2015  05/01/2015    Monday     All            All        $   \n",
       "\n",
       "       Value  Cumulative  \n",
       "0  104000000   104000000  \n",
       "1   96000000   200000000  \n",
       "2   61000000   262000000  \n",
       "3   74000000   336000000  \n",
       "4  105000000   442000000  "
      ]
     },
     "execution_count": 20,
     "metadata": {},
     "output_type": "execute_result"
    }
   ],
   "source": [
    "df.head()"
   ]
  },
  {
   "cell_type": "code",
   "execution_count": 21,
   "id": "0c53f96a",
   "metadata": {},
   "outputs": [
    {
     "data": {
      "text/html": [
       "<div>\n",
       "<style scoped>\n",
       "    .dataframe tbody tr th:only-of-type {\n",
       "        vertical-align: middle;\n",
       "    }\n",
       "\n",
       "    .dataframe tbody tr th {\n",
       "        vertical-align: top;\n",
       "    }\n",
       "\n",
       "    .dataframe thead th {\n",
       "        text-align: right;\n",
       "    }\n",
       "</style>\n",
       "<table border=\"1\" class=\"dataframe\">\n",
       "  <thead>\n",
       "    <tr style=\"text-align: right;\">\n",
       "      <th></th>\n",
       "      <th>Year</th>\n",
       "      <th>Value</th>\n",
       "      <th>Cumulative</th>\n",
       "    </tr>\n",
       "  </thead>\n",
       "  <tbody>\n",
       "    <tr>\n",
       "      <th>count</th>\n",
       "      <td>111438.000000</td>\n",
       "      <td>1.114380e+05</td>\n",
       "      <td>1.114380e+05</td>\n",
       "    </tr>\n",
       "    <tr>\n",
       "      <th>mean</th>\n",
       "      <td>2017.982430</td>\n",
       "      <td>2.905750e+07</td>\n",
       "      <td>5.174254e+09</td>\n",
       "    </tr>\n",
       "    <tr>\n",
       "      <th>std</th>\n",
       "      <td>1.992352</td>\n",
       "      <td>5.267248e+07</td>\n",
       "      <td>9.765606e+09</td>\n",
       "    </tr>\n",
       "    <tr>\n",
       "      <th>min</th>\n",
       "      <td>2015.000000</td>\n",
       "      <td>0.000000e+00</td>\n",
       "      <td>0.000000e+00</td>\n",
       "    </tr>\n",
       "    <tr>\n",
       "      <th>25%</th>\n",
       "      <td>2016.000000</td>\n",
       "      <td>1.000000e+06</td>\n",
       "      <td>1.140000e+08</td>\n",
       "    </tr>\n",
       "    <tr>\n",
       "      <th>50%</th>\n",
       "      <td>2018.000000</td>\n",
       "      <td>8.000000e+06</td>\n",
       "      <td>1.420000e+09</td>\n",
       "    </tr>\n",
       "    <tr>\n",
       "      <th>75%</th>\n",
       "      <td>2020.000000</td>\n",
       "      <td>2.800000e+07</td>\n",
       "      <td>4.797000e+09</td>\n",
       "    </tr>\n",
       "    <tr>\n",
       "      <th>max</th>\n",
       "      <td>2021.000000</td>\n",
       "      <td>5.490000e+08</td>\n",
       "      <td>6.718000e+10</td>\n",
       "    </tr>\n",
       "  </tbody>\n",
       "</table>\n",
       "</div>"
      ],
      "text/plain": [
       "                Year         Value    Cumulative\n",
       "count  111438.000000  1.114380e+05  1.114380e+05\n",
       "mean     2017.982430  2.905750e+07  5.174254e+09\n",
       "std         1.992352  5.267248e+07  9.765606e+09\n",
       "min      2015.000000  0.000000e+00  0.000000e+00\n",
       "25%      2016.000000  1.000000e+06  1.140000e+08\n",
       "50%      2018.000000  8.000000e+06  1.420000e+09\n",
       "75%      2020.000000  2.800000e+07  4.797000e+09\n",
       "max      2021.000000  5.490000e+08  6.718000e+10"
      ]
     },
     "execution_count": 21,
     "metadata": {},
     "output_type": "execute_result"
    }
   ],
   "source": [
    " df.describe()"
   ]
  },
  {
   "cell_type": "code",
   "execution_count": 22,
   "id": "bf3c34a0",
   "metadata": {},
   "outputs": [
    {
     "name": "stdout",
     "output_type": "stream",
     "text": [
      "<class 'pandas.core.frame.DataFrame'>\n",
      "RangeIndex: 111438 entries, 0 to 111437\n",
      "Data columns (total 9 columns):\n",
      " #   Column          Non-Null Count   Dtype \n",
      "---  ------          --------------   ----- \n",
      " 0   Direction       111438 non-null  object\n",
      " 1   Year            111438 non-null  int64 \n",
      " 2   Date            111438 non-null  object\n",
      " 3   Weekday         111438 non-null  object\n",
      " 4   Country         111438 non-null  object\n",
      " 5   Transport_Mode  111438 non-null  object\n",
      " 6   Currency        111438 non-null  object\n",
      " 7   Value           111438 non-null  int64 \n",
      " 8   Cumulative      111438 non-null  int64 \n",
      "dtypes: int64(3), object(6)\n",
      "memory usage: 7.7+ MB\n"
     ]
    }
   ],
   "source": [
    "df.info()"
   ]
  },
  {
   "cell_type": "code",
   "execution_count": 24,
   "id": "78cdc50a",
   "metadata": {},
   "outputs": [
    {
     "data": {
      "text/html": [
       "<div>\n",
       "<style scoped>\n",
       "    .dataframe tbody tr th:only-of-type {\n",
       "        vertical-align: middle;\n",
       "    }\n",
       "\n",
       "    .dataframe tbody tr th {\n",
       "        vertical-align: top;\n",
       "    }\n",
       "\n",
       "    .dataframe thead th {\n",
       "        text-align: right;\n",
       "    }\n",
       "</style>\n",
       "<table border=\"1\" class=\"dataframe\">\n",
       "  <thead>\n",
       "    <tr style=\"text-align: right;\">\n",
       "      <th></th>\n",
       "      <th>Direction</th>\n",
       "      <th>Year</th>\n",
       "      <th>Date</th>\n",
       "      <th>Weekday</th>\n",
       "      <th>Country</th>\n",
       "      <th>Transport_Mode</th>\n",
       "      <th>Currency</th>\n",
       "      <th>Value</th>\n",
       "      <th>Cumulative</th>\n",
       "    </tr>\n",
       "  </thead>\n",
       "  <tbody>\n",
       "    <tr>\n",
       "      <th>0</th>\n",
       "      <td>Exports</td>\n",
       "      <td>2015</td>\n",
       "      <td>01/01/2015</td>\n",
       "      <td>Thursday</td>\n",
       "      <td>All</td>\n",
       "      <td>All</td>\n",
       "      <td>$</td>\n",
       "      <td>104000000</td>\n",
       "      <td>104000000</td>\n",
       "    </tr>\n",
       "    <tr>\n",
       "      <th>1</th>\n",
       "      <td>Exports</td>\n",
       "      <td>2015</td>\n",
       "      <td>02/01/2015</td>\n",
       "      <td>Friday</td>\n",
       "      <td>All</td>\n",
       "      <td>All</td>\n",
       "      <td>$</td>\n",
       "      <td>96000000</td>\n",
       "      <td>200000000</td>\n",
       "    </tr>\n",
       "    <tr>\n",
       "      <th>2</th>\n",
       "      <td>Exports</td>\n",
       "      <td>2015</td>\n",
       "      <td>03/01/2015</td>\n",
       "      <td>Saturday</td>\n",
       "      <td>All</td>\n",
       "      <td>All</td>\n",
       "      <td>$</td>\n",
       "      <td>61000000</td>\n",
       "      <td>262000000</td>\n",
       "    </tr>\n",
       "    <tr>\n",
       "      <th>3</th>\n",
       "      <td>Exports</td>\n",
       "      <td>2015</td>\n",
       "      <td>04/01/2015</td>\n",
       "      <td>Sunday</td>\n",
       "      <td>All</td>\n",
       "      <td>All</td>\n",
       "      <td>$</td>\n",
       "      <td>74000000</td>\n",
       "      <td>336000000</td>\n",
       "    </tr>\n",
       "    <tr>\n",
       "      <th>4</th>\n",
       "      <td>Exports</td>\n",
       "      <td>2015</td>\n",
       "      <td>05/01/2015</td>\n",
       "      <td>Monday</td>\n",
       "      <td>All</td>\n",
       "      <td>All</td>\n",
       "      <td>$</td>\n",
       "      <td>105000000</td>\n",
       "      <td>442000000</td>\n",
       "    </tr>\n",
       "    <tr>\n",
       "      <th>...</th>\n",
       "      <td>...</td>\n",
       "      <td>...</td>\n",
       "      <td>...</td>\n",
       "      <td>...</td>\n",
       "      <td>...</td>\n",
       "      <td>...</td>\n",
       "      <td>...</td>\n",
       "      <td>...</td>\n",
       "      <td>...</td>\n",
       "    </tr>\n",
       "    <tr>\n",
       "      <th>111433</th>\n",
       "      <td>Reimports</td>\n",
       "      <td>2021</td>\n",
       "      <td>11/12/2021</td>\n",
       "      <td>Saturday</td>\n",
       "      <td>All</td>\n",
       "      <td>All</td>\n",
       "      <td>$</td>\n",
       "      <td>0</td>\n",
       "      <td>165000000</td>\n",
       "    </tr>\n",
       "    <tr>\n",
       "      <th>111434</th>\n",
       "      <td>Reimports</td>\n",
       "      <td>2021</td>\n",
       "      <td>12/12/2021</td>\n",
       "      <td>Sunday</td>\n",
       "      <td>All</td>\n",
       "      <td>All</td>\n",
       "      <td>$</td>\n",
       "      <td>0</td>\n",
       "      <td>165000000</td>\n",
       "    </tr>\n",
       "    <tr>\n",
       "      <th>111435</th>\n",
       "      <td>Reimports</td>\n",
       "      <td>2021</td>\n",
       "      <td>13/12/2021</td>\n",
       "      <td>Monday</td>\n",
       "      <td>All</td>\n",
       "      <td>All</td>\n",
       "      <td>$</td>\n",
       "      <td>2000000</td>\n",
       "      <td>166000000</td>\n",
       "    </tr>\n",
       "    <tr>\n",
       "      <th>111436</th>\n",
       "      <td>Reimports</td>\n",
       "      <td>2021</td>\n",
       "      <td>14/12/2021</td>\n",
       "      <td>Tuesday</td>\n",
       "      <td>All</td>\n",
       "      <td>All</td>\n",
       "      <td>$</td>\n",
       "      <td>1000000</td>\n",
       "      <td>167000000</td>\n",
       "    </tr>\n",
       "    <tr>\n",
       "      <th>111437</th>\n",
       "      <td>Reimports</td>\n",
       "      <td>2021</td>\n",
       "      <td>15/12/2021</td>\n",
       "      <td>Wednesday</td>\n",
       "      <td>All</td>\n",
       "      <td>All</td>\n",
       "      <td>$</td>\n",
       "      <td>1000000</td>\n",
       "      <td>168000000</td>\n",
       "    </tr>\n",
       "  </tbody>\n",
       "</table>\n",
       "<p>111438 rows × 9 columns</p>\n",
       "</div>"
      ],
      "text/plain": [
       "        Direction  Year        Date    Weekday Country Transport_Mode  \\\n",
       "0         Exports  2015  01/01/2015   Thursday     All            All   \n",
       "1         Exports  2015  02/01/2015     Friday     All            All   \n",
       "2         Exports  2015  03/01/2015   Saturday     All            All   \n",
       "3         Exports  2015  04/01/2015     Sunday     All            All   \n",
       "4         Exports  2015  05/01/2015     Monday     All            All   \n",
       "...           ...   ...         ...        ...     ...            ...   \n",
       "111433  Reimports  2021  11/12/2021   Saturday     All            All   \n",
       "111434  Reimports  2021  12/12/2021     Sunday     All            All   \n",
       "111435  Reimports  2021  13/12/2021     Monday     All            All   \n",
       "111436  Reimports  2021  14/12/2021    Tuesday     All            All   \n",
       "111437  Reimports  2021  15/12/2021  Wednesday     All            All   \n",
       "\n",
       "       Currency      Value  Cumulative  \n",
       "0             $  104000000   104000000  \n",
       "1             $   96000000   200000000  \n",
       "2             $   61000000   262000000  \n",
       "3             $   74000000   336000000  \n",
       "4             $  105000000   442000000  \n",
       "...         ...        ...         ...  \n",
       "111433        $          0   165000000  \n",
       "111434        $          0   165000000  \n",
       "111435        $    2000000   166000000  \n",
       "111436        $    1000000   167000000  \n",
       "111437        $    1000000   168000000  \n",
       "\n",
       "[111438 rows x 9 columns]"
      ]
     },
     "execution_count": 24,
     "metadata": {},
     "output_type": "execute_result"
    }
   ],
   "source": [
    "df.fillna('NA')"
   ]
  },
  {
   "cell_type": "code",
   "execution_count": 26,
   "id": "14462540",
   "metadata": {},
   "outputs": [
    {
     "data": {
      "text/html": [
       "<div>\n",
       "<style scoped>\n",
       "    .dataframe tbody tr th:only-of-type {\n",
       "        vertical-align: middle;\n",
       "    }\n",
       "\n",
       "    .dataframe tbody tr th {\n",
       "        vertical-align: top;\n",
       "    }\n",
       "\n",
       "    .dataframe thead th {\n",
       "        text-align: right;\n",
       "    }\n",
       "</style>\n",
       "<table border=\"1\" class=\"dataframe\">\n",
       "  <thead>\n",
       "    <tr style=\"text-align: right;\">\n",
       "      <th></th>\n",
       "      <th>Direction</th>\n",
       "      <th>Year</th>\n",
       "      <th>Date</th>\n",
       "      <th>Weekday</th>\n",
       "      <th>Country</th>\n",
       "      <th>Transport_Mode</th>\n",
       "      <th>Currency</th>\n",
       "      <th>Value</th>\n",
       "      <th>Cumulative</th>\n",
       "    </tr>\n",
       "  </thead>\n",
       "  <tbody>\n",
       "    <tr>\n",
       "      <th>0</th>\n",
       "      <td>Exports</td>\n",
       "      <td>2015</td>\n",
       "      <td>01/01/2015</td>\n",
       "      <td>Thursday</td>\n",
       "      <td>All</td>\n",
       "      <td>All</td>\n",
       "      <td>$</td>\n",
       "      <td>104000000</td>\n",
       "      <td>104000000</td>\n",
       "    </tr>\n",
       "    <tr>\n",
       "      <th>1</th>\n",
       "      <td>Exports</td>\n",
       "      <td>2015</td>\n",
       "      <td>02/01/2015</td>\n",
       "      <td>Friday</td>\n",
       "      <td>All</td>\n",
       "      <td>All</td>\n",
       "      <td>$</td>\n",
       "      <td>96000000</td>\n",
       "      <td>200000000</td>\n",
       "    </tr>\n",
       "    <tr>\n",
       "      <th>2</th>\n",
       "      <td>Exports</td>\n",
       "      <td>2015</td>\n",
       "      <td>03/01/2015</td>\n",
       "      <td>Saturday</td>\n",
       "      <td>All</td>\n",
       "      <td>All</td>\n",
       "      <td>$</td>\n",
       "      <td>61000000</td>\n",
       "      <td>262000000</td>\n",
       "    </tr>\n",
       "    <tr>\n",
       "      <th>3</th>\n",
       "      <td>Exports</td>\n",
       "      <td>2015</td>\n",
       "      <td>04/01/2015</td>\n",
       "      <td>Sunday</td>\n",
       "      <td>All</td>\n",
       "      <td>All</td>\n",
       "      <td>$</td>\n",
       "      <td>74000000</td>\n",
       "      <td>336000000</td>\n",
       "    </tr>\n",
       "    <tr>\n",
       "      <th>4</th>\n",
       "      <td>Exports</td>\n",
       "      <td>2015</td>\n",
       "      <td>05/01/2015</td>\n",
       "      <td>Monday</td>\n",
       "      <td>All</td>\n",
       "      <td>All</td>\n",
       "      <td>$</td>\n",
       "      <td>105000000</td>\n",
       "      <td>442000000</td>\n",
       "    </tr>\n",
       "    <tr>\n",
       "      <th>5</th>\n",
       "      <td>Exports</td>\n",
       "      <td>2015</td>\n",
       "      <td>06/01/2015</td>\n",
       "      <td>Tuesday</td>\n",
       "      <td>All</td>\n",
       "      <td>All</td>\n",
       "      <td>$</td>\n",
       "      <td>76000000</td>\n",
       "      <td>518000000</td>\n",
       "    </tr>\n",
       "    <tr>\n",
       "      <th>6</th>\n",
       "      <td>Exports</td>\n",
       "      <td>2015</td>\n",
       "      <td>07/01/2015</td>\n",
       "      <td>Wednesday</td>\n",
       "      <td>All</td>\n",
       "      <td>All</td>\n",
       "      <td>$</td>\n",
       "      <td>59000000</td>\n",
       "      <td>577000000</td>\n",
       "    </tr>\n",
       "    <tr>\n",
       "      <th>7</th>\n",
       "      <td>Exports</td>\n",
       "      <td>2015</td>\n",
       "      <td>08/01/2015</td>\n",
       "      <td>Thursday</td>\n",
       "      <td>All</td>\n",
       "      <td>All</td>\n",
       "      <td>$</td>\n",
       "      <td>111000000</td>\n",
       "      <td>688000000</td>\n",
       "    </tr>\n",
       "    <tr>\n",
       "      <th>8</th>\n",
       "      <td>Exports</td>\n",
       "      <td>2015</td>\n",
       "      <td>09/01/2015</td>\n",
       "      <td>Friday</td>\n",
       "      <td>All</td>\n",
       "      <td>All</td>\n",
       "      <td>$</td>\n",
       "      <td>98000000</td>\n",
       "      <td>786000000</td>\n",
       "    </tr>\n",
       "    <tr>\n",
       "      <th>9</th>\n",
       "      <td>Exports</td>\n",
       "      <td>2015</td>\n",
       "      <td>10/01/2015</td>\n",
       "      <td>Saturday</td>\n",
       "      <td>All</td>\n",
       "      <td>All</td>\n",
       "      <td>$</td>\n",
       "      <td>89000000</td>\n",
       "      <td>875000000</td>\n",
       "    </tr>\n",
       "    <tr>\n",
       "      <th>10</th>\n",
       "      <td>Exports</td>\n",
       "      <td>2015</td>\n",
       "      <td>11/01/2015</td>\n",
       "      <td>Sunday</td>\n",
       "      <td>All</td>\n",
       "      <td>All</td>\n",
       "      <td>$</td>\n",
       "      <td>111000000</td>\n",
       "      <td>986000000</td>\n",
       "    </tr>\n",
       "    <tr>\n",
       "      <th>11</th>\n",
       "      <td>Exports</td>\n",
       "      <td>2015</td>\n",
       "      <td>12/01/2015</td>\n",
       "      <td>Monday</td>\n",
       "      <td>All</td>\n",
       "      <td>All</td>\n",
       "      <td>$</td>\n",
       "      <td>161000000</td>\n",
       "      <td>1147000000</td>\n",
       "    </tr>\n",
       "    <tr>\n",
       "      <th>12</th>\n",
       "      <td>Exports</td>\n",
       "      <td>2015</td>\n",
       "      <td>13/01/2015</td>\n",
       "      <td>Tuesday</td>\n",
       "      <td>All</td>\n",
       "      <td>All</td>\n",
       "      <td>$</td>\n",
       "      <td>96000000</td>\n",
       "      <td>1242000000</td>\n",
       "    </tr>\n",
       "    <tr>\n",
       "      <th>13</th>\n",
       "      <td>Exports</td>\n",
       "      <td>2015</td>\n",
       "      <td>14/01/2015</td>\n",
       "      <td>Wednesday</td>\n",
       "      <td>All</td>\n",
       "      <td>All</td>\n",
       "      <td>$</td>\n",
       "      <td>83000000</td>\n",
       "      <td>1325000000</td>\n",
       "    </tr>\n",
       "    <tr>\n",
       "      <th>14</th>\n",
       "      <td>Exports</td>\n",
       "      <td>2015</td>\n",
       "      <td>15/01/2015</td>\n",
       "      <td>Thursday</td>\n",
       "      <td>All</td>\n",
       "      <td>All</td>\n",
       "      <td>$</td>\n",
       "      <td>109000000</td>\n",
       "      <td>1434000000</td>\n",
       "    </tr>\n",
       "    <tr>\n",
       "      <th>15</th>\n",
       "      <td>Exports</td>\n",
       "      <td>2015</td>\n",
       "      <td>16/01/2015</td>\n",
       "      <td>Friday</td>\n",
       "      <td>All</td>\n",
       "      <td>All</td>\n",
       "      <td>$</td>\n",
       "      <td>155000000</td>\n",
       "      <td>1589000000</td>\n",
       "    </tr>\n",
       "    <tr>\n",
       "      <th>16</th>\n",
       "      <td>Exports</td>\n",
       "      <td>2015</td>\n",
       "      <td>17/01/2015</td>\n",
       "      <td>Saturday</td>\n",
       "      <td>All</td>\n",
       "      <td>All</td>\n",
       "      <td>$</td>\n",
       "      <td>168000000</td>\n",
       "      <td>1757000000</td>\n",
       "    </tr>\n",
       "    <tr>\n",
       "      <th>17</th>\n",
       "      <td>Exports</td>\n",
       "      <td>2015</td>\n",
       "      <td>18/01/2015</td>\n",
       "      <td>Sunday</td>\n",
       "      <td>All</td>\n",
       "      <td>All</td>\n",
       "      <td>$</td>\n",
       "      <td>90000000</td>\n",
       "      <td>1847000000</td>\n",
       "    </tr>\n",
       "    <tr>\n",
       "      <th>18</th>\n",
       "      <td>Exports</td>\n",
       "      <td>2015</td>\n",
       "      <td>19/01/2015</td>\n",
       "      <td>Monday</td>\n",
       "      <td>All</td>\n",
       "      <td>All</td>\n",
       "      <td>$</td>\n",
       "      <td>164000000</td>\n",
       "      <td>2011000000</td>\n",
       "    </tr>\n",
       "    <tr>\n",
       "      <th>19</th>\n",
       "      <td>Exports</td>\n",
       "      <td>2015</td>\n",
       "      <td>20/01/2015</td>\n",
       "      <td>Tuesday</td>\n",
       "      <td>All</td>\n",
       "      <td>All</td>\n",
       "      <td>$</td>\n",
       "      <td>134000000</td>\n",
       "      <td>2145000000</td>\n",
       "    </tr>\n",
       "  </tbody>\n",
       "</table>\n",
       "</div>"
      ],
      "text/plain": [
       "   Direction  Year        Date    Weekday Country Transport_Mode Currency  \\\n",
       "0    Exports  2015  01/01/2015   Thursday     All            All        $   \n",
       "1    Exports  2015  02/01/2015     Friday     All            All        $   \n",
       "2    Exports  2015  03/01/2015   Saturday     All            All        $   \n",
       "3    Exports  2015  04/01/2015     Sunday     All            All        $   \n",
       "4    Exports  2015  05/01/2015     Monday     All            All        $   \n",
       "5    Exports  2015  06/01/2015    Tuesday     All            All        $   \n",
       "6    Exports  2015  07/01/2015  Wednesday     All            All        $   \n",
       "7    Exports  2015  08/01/2015   Thursday     All            All        $   \n",
       "8    Exports  2015  09/01/2015     Friday     All            All        $   \n",
       "9    Exports  2015  10/01/2015   Saturday     All            All        $   \n",
       "10   Exports  2015  11/01/2015     Sunday     All            All        $   \n",
       "11   Exports  2015  12/01/2015     Monday     All            All        $   \n",
       "12   Exports  2015  13/01/2015    Tuesday     All            All        $   \n",
       "13   Exports  2015  14/01/2015  Wednesday     All            All        $   \n",
       "14   Exports  2015  15/01/2015   Thursday     All            All        $   \n",
       "15   Exports  2015  16/01/2015     Friday     All            All        $   \n",
       "16   Exports  2015  17/01/2015   Saturday     All            All        $   \n",
       "17   Exports  2015  18/01/2015     Sunday     All            All        $   \n",
       "18   Exports  2015  19/01/2015     Monday     All            All        $   \n",
       "19   Exports  2015  20/01/2015    Tuesday     All            All        $   \n",
       "\n",
       "        Value  Cumulative  \n",
       "0   104000000   104000000  \n",
       "1    96000000   200000000  \n",
       "2    61000000   262000000  \n",
       "3    74000000   336000000  \n",
       "4   105000000   442000000  \n",
       "5    76000000   518000000  \n",
       "6    59000000   577000000  \n",
       "7   111000000   688000000  \n",
       "8    98000000   786000000  \n",
       "9    89000000   875000000  \n",
       "10  111000000   986000000  \n",
       "11  161000000  1147000000  \n",
       "12   96000000  1242000000  \n",
       "13   83000000  1325000000  \n",
       "14  109000000  1434000000  \n",
       "15  155000000  1589000000  \n",
       "16  168000000  1757000000  \n",
       "17   90000000  1847000000  \n",
       "18  164000000  2011000000  \n",
       "19  134000000  2145000000  "
      ]
     },
     "execution_count": 26,
     "metadata": {},
     "output_type": "execute_result"
    }
   ],
   "source": [
    "df.head(20)"
   ]
  },
  {
   "cell_type": "markdown",
   "id": "60823f6f",
   "metadata": {},
   "source": [
    "## Matplotlib"
   ]
  },
  {
   "cell_type": "code",
   "execution_count": null,
   "id": "2d84cd43",
   "metadata": {},
   "outputs": [],
   "source": []
  }
 ],
 "metadata": {
  "kernelspec": {
   "display_name": "Python 3 (ipykernel)",
   "language": "python",
   "name": "python3"
  },
  "language_info": {
   "codemirror_mode": {
    "name": "ipython",
    "version": 3
   },
   "file_extension": ".py",
   "mimetype": "text/x-python",
   "name": "python",
   "nbconvert_exporter": "python",
   "pygments_lexer": "ipython3",
   "version": "3.11.3"
  }
 },
 "nbformat": 4,
 "nbformat_minor": 5
}
