{
 "cells": [
  {
   "cell_type": "code",
   "execution_count": 2,
   "id": "1300b0d8",
   "metadata": {},
   "outputs": [],
   "source": [
    "def cheakIfNotNumeric(*args):\n",
    "    retValue = true;\n",
    "    for x in args:\n",
    "        if not(isinstance(x,(int,float))):\n",
    "            return False\n",
    "        return True\n",
    "    \n",
    "def addAllNumerics(*args):\n",
    "    s=0;\n",
    "    for x in args:\n",
    "        s+=x\n",
    "    return s\n",
    "\n",
    "myname = \"Niloy Sannyal\""
   ]
  },
  {
   "cell_type": "code",
   "execution_count": null,
   "id": "37bbd3a1",
   "metadata": {},
   "outputs": [],
   "source": []
  }
 ],
 "metadata": {
  "kernelspec": {
   "display_name": "Python 3 (ipykernel)",
   "language": "python",
   "name": "python3"
  },
  "language_info": {
   "codemirror_mode": {
    "name": "ipython",
    "version": 3
   },
   "file_extension": ".py",
   "mimetype": "text/x-python",
   "name": "python",
   "nbconvert_exporter": "python",
   "pygments_lexer": "ipython3",
   "version": "3.11.3"
  }
 },
 "nbformat": 4,
 "nbformat_minor": 5
}
