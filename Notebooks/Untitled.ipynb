{
 "cells": [
  {
   "cell_type": "code",
   "execution_count": 8,
   "id": "e8963da8",
   "metadata": {},
   "outputs": [
    {
     "name": "stderr",
     "output_type": "stream",
     "text": [
      "2024-12-30 18:21:05.775 WARNING streamlit.runtime.scriptrunner_utils.script_run_context: Thread 'MainThread': missing ScriptRunContext! This warning can be ignored when running in bare mode.\n",
      "2024-12-30 18:21:05.891 \n",
      "  \u001b[33m\u001b[1mWarning:\u001b[0m to view this Streamlit app on a browser, run it with the following\n",
      "  command:\n",
      "\n",
      "    streamlit run C:\\Users\\niloy\\anaconda3\\Lib\\site-packages\\ipykernel_launcher.py [ARGUMENTS]\n",
      "2024-12-30 18:21:05.892 Thread 'MainThread': missing ScriptRunContext! This warning can be ignored when running in bare mode.\n",
      "2024-12-30 18:21:05.892 Thread 'MainThread': missing ScriptRunContext! This warning can be ignored when running in bare mode.\n",
      "2024-12-30 18:21:05.894 Thread 'MainThread': missing ScriptRunContext! This warning can be ignored when running in bare mode.\n",
      "2024-12-30 18:21:05.894 Thread 'MainThread': missing ScriptRunContext! This warning can be ignored when running in bare mode.\n",
      "2024-12-30 18:21:05.894 Thread 'MainThread': missing ScriptRunContext! This warning can be ignored when running in bare mode.\n",
      "2024-12-30 18:21:05.895 Thread 'MainThread': missing ScriptRunContext! This warning can be ignored when running in bare mode.\n",
      "2024-12-30 18:21:05.895 Session state does not function when running a script without `streamlit run`\n",
      "2024-12-30 18:21:05.895 Thread 'MainThread': missing ScriptRunContext! This warning can be ignored when running in bare mode.\n",
      "2024-12-30 18:21:05.896 Thread 'MainThread': missing ScriptRunContext! This warning can be ignored when running in bare mode.\n",
      "2024-12-30 18:21:05.896 Thread 'MainThread': missing ScriptRunContext! This warning can be ignored when running in bare mode.\n",
      "2024-12-30 18:21:05.896 Thread 'MainThread': missing ScriptRunContext! This warning can be ignored when running in bare mode.\n",
      "2024-12-30 18:21:05.897 Thread 'MainThread': missing ScriptRunContext! This warning can be ignored when running in bare mode.\n",
      "2024-12-30 18:21:05.897 Thread 'MainThread': missing ScriptRunContext! This warning can be ignored when running in bare mode.\n",
      "2024-12-30 18:21:05.897 Thread 'MainThread': missing ScriptRunContext! This warning can be ignored when running in bare mode.\n",
      "2024-12-30 18:21:05.898 Thread 'MainThread': missing ScriptRunContext! This warning can be ignored when running in bare mode.\n",
      "2024-12-30 18:21:05.898 Thread 'MainThread': missing ScriptRunContext! This warning can be ignored when running in bare mode.\n",
      "2024-12-30 18:21:05.898 Thread 'MainThread': missing ScriptRunContext! This warning can be ignored when running in bare mode.\n",
      "2024-12-30 18:21:05.899 Thread 'MainThread': missing ScriptRunContext! This warning can be ignored when running in bare mode.\n",
      "2024-12-30 18:21:05.899 Thread 'MainThread': missing ScriptRunContext! This warning can be ignored when running in bare mode.\n"
     ]
    }
   ],
   "source": [
    "import streamlit as st\n",
    "import requests\n",
    "import time\n",
    "import threading\n",
    "\n",
    "# URL of the webpage to reload\n",
    "URL = \"https://payment.ivacbd.com/\"\n",
    "\n",
    "# Function to reload the webpage\n",
    "def reload_webpage():\n",
    "    while st.session_state[\"running\"]:\n",
    "        try:\n",
    "            # Send an HTTP GET request to the webpage\n",
    "            response = requests.get(URL)\n",
    "            if response.status_code == 200:\n",
    "                st.info(f\"Page reloaded successfully at {time.strftime('%Y-%m-%d %H:%M:%S')}\")\n",
    "            else:\n",
    "                st.warning(f\"Failed to reload. HTTP Status Code: {response.status_code}\")\n",
    "        except Exception as e:\n",
    "            st.error(f\"An error occurred: {e}\")\n",
    "        \n",
    "        time.sleep(5)  # Wait 5 seconds before the next reload\n",
    "\n",
    "# Streamlit app\n",
    "def main():\n",
    "    st.title(\"Webpage Auto-Reload (No Browser)\")\n",
    "    st.write(\"This app reloads a webpage every 5 seconds by sending HTTP GET requests.\")\n",
    "\n",
    "    # Initialize session state\n",
    "    if \"running\" not in st.session_state:\n",
    "        st.session_state[\"running\"] = False\n",
    "\n",
    "    # Start Button\n",
    "    if st.button(\"Start\"):\n",
    "        if not st.session_state[\"running\"]:\n",
    "            st.session_state[\"running\"] = True\n",
    "            threading.Thread(target=reload_webpage, daemon=True).start()\n",
    "            st.success(\"Webpage reload started!\")\n",
    "        else:\n",
    "            st.warning(\"Reloading is already running!\")\n",
    "\n",
    "    # Stop Button\n",
    "    if st.button(\"Stop\"):\n",
    "        if st.session_state[\"running\"]:\n",
    "            st.session_state[\"running\"] = False\n",
    "            st.warning(\"Stopping webpage reload...\")\n",
    "        else:\n",
    "            st.info(\"Reloading is not running.\")\n",
    "\n",
    "if __name__ == \"__main__\":\n",
    "    main()\n"
   ]
  },
  {
   "cell_type": "code",
   "execution_count": null,
   "id": "c916b896",
   "metadata": {},
   "outputs": [],
   "source": []
  }
 ],
 "metadata": {
  "kernelspec": {
   "display_name": "Python 3 (ipykernel)",
   "language": "python",
   "name": "python3"
  },
  "language_info": {
   "codemirror_mode": {
    "name": "ipython",
    "version": 3
   },
   "file_extension": ".py",
   "mimetype": "text/x-python",
   "name": "python",
   "nbconvert_exporter": "python",
   "pygments_lexer": "ipython3",
   "version": "3.11.3"
  }
 },
 "nbformat": 4,
 "nbformat_minor": 5
}
