{
 "cells": [
  {
   "cell_type": "code",
   "execution_count": 1,
   "id": "a930e451-0e7f-4978-a863-c9e9deaead2a",
   "metadata": {},
   "outputs": [],
   "source": [
    "import joblib"
   ]
  },
  {
   "cell_type": "code",
   "execution_count": 2,
   "id": "dc80c21a-cecb-40e3-aa24-b4a91535c96e",
   "metadata": {},
   "outputs": [],
   "source": [
    "model = joblib.load(r'C:\\Users\\niloy\\Deploy Ready Projects\\DhakaHomeRentPrediction\\server\\artifacts\\DhakaHomeRentPrediction.pkl')"
   ]
  },
  {
   "cell_type": "code",
   "execution_count": 3,
   "id": "0e6697fa-fb22-49b2-8ce2-82ca5110f003",
   "metadata": {},
   "outputs": [
    {
     "data": {
      "text/plain": [
       "['C:\\\\Users\\\\niloy\\\\Deploy Ready Projects\\\\DhakaHomeRentPrediction\\\\server\\\\DhakaHomeRentPrediction.pkl']"
      ]
     },
     "execution_count": 3,
     "metadata": {},
     "output_type": "execute_result"
    }
   ],
   "source": [
    "joblib.dump(model, r'C:\\Users\\niloy\\Deploy Ready Projects\\DhakaHomeRentPrediction\\server\\DhakaHomeRentPrediction.pkl', compress=3)"
   ]
  },
  {
   "cell_type": "code",
   "execution_count": null,
   "id": "8789081a-8395-4fb9-b03a-9d0e6e9d45cb",
   "metadata": {},
   "outputs": [],
   "source": []
  }
 ],
 "metadata": {
  "kernelspec": {
   "display_name": "Python 3 (ipykernel)",
   "language": "python",
   "name": "python3"
  },
  "language_info": {
   "codemirror_mode": {
    "name": "ipython",
    "version": 3
   },
   "file_extension": ".py",
   "mimetype": "text/x-python",
   "name": "python",
   "nbconvert_exporter": "python",
   "pygments_lexer": "ipython3",
   "version": "3.13.2"
  }
 },
 "nbformat": 4,
 "nbformat_minor": 5
}
