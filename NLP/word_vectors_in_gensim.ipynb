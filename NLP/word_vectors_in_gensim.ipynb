{
 "cells": [
  {
   "cell_type": "markdown",
   "id": "fa7775b9-723a-4471-8e6c-3f03ce436f6e",
   "metadata": {},
   "source": [
    "<h1 style=\"text-align:center;color:mediumvioletred\">Word Vectors in Gensim</h1>"
   ]
  },
  {
   "cell_type": "markdown",
   "id": "4a5913c7-c075-4678-baa0-9a2240316122",
   "metadata": {},
   "source": [
    "## Google News Model"
   ]
  },
  {
   "cell_type": "code",
   "execution_count": 11,
   "id": "17dea275-2ce0-45e0-aea2-7a5103fe1b00",
   "metadata": {},
   "outputs": [],
   "source": [
    "from gensim.models import KeyedVectors\n",
    "\n",
    "wv = KeyedVectors.load_word2vec_format(\"../../gensim-data/GoogleNews-vectors-negative300.bin\", binary=True)"
   ]
  },
  {
   "cell_type": "code",
   "execution_count": 17,
   "id": "f53cd477-b57e-4727-9b4b-7e844add1bec",
   "metadata": {},
   "outputs": [
    {
     "data": {
      "text/plain": [
       "0.73135483"
      ]
     },
     "execution_count": 17,
     "metadata": {},
     "output_type": "execute_result"
    }
   ],
   "source": [
    "wv.similarity(w1=\"football\", w2=\"soccer\")"
   ]
  },
  {
   "cell_type": "code",
   "execution_count": 15,
   "id": "42931dad-f0c9-411a-9750-6b31580a352f",
   "metadata": {},
   "outputs": [
    {
     "data": {
      "text/plain": [
       "[('kings', 0.7138045430183411),\n",
       " ('queen', 0.6510956883430481),\n",
       " ('monarch', 0.6413194537162781),\n",
       " ('crown_prince', 0.6204220056533813),\n",
       " ('prince', 0.6159993410110474),\n",
       " ('sultan', 0.5864824056625366),\n",
       " ('ruler', 0.5797567367553711),\n",
       " ('princes', 0.5646552443504333),\n",
       " ('Prince_Paras', 0.5432944297790527),\n",
       " ('throne', 0.5422105193138123)]"
      ]
     },
     "execution_count": 15,
     "metadata": {},
     "output_type": "execute_result"
    }
   ],
   "source": [
    "wv.most_similar(\"king\")"
   ]
  },
  {
   "cell_type": "code",
   "execution_count": 19,
   "id": "d68b20ad-1651-48c3-be0d-88627beade33",
   "metadata": {},
   "outputs": [
    {
     "data": {
      "text/plain": [
       "[('great', 0.7291510105133057),\n",
       " ('bad', 0.7190051078796387),\n",
       " ('terrific', 0.6889115571975708),\n",
       " ('decent', 0.6837348341941833),\n",
       " ('nice', 0.6836092472076416),\n",
       " ('excellent', 0.644292950630188),\n",
       " ('fantastic', 0.6407778263092041),\n",
       " ('better', 0.6120728850364685),\n",
       " ('solid', 0.5806034803390503),\n",
       " ('lousy', 0.576420247554779)]"
      ]
     },
     "execution_count": 19,
     "metadata": {},
     "output_type": "execute_result"
    }
   ],
   "source": [
    "wv.most_similar(\"good\")"
   ]
  },
  {
   "cell_type": "code",
   "execution_count": 25,
   "id": "a16b8001-e655-495d-a9cc-4416f08e9e89",
   "metadata": {},
   "outputs": [
    {
     "data": {
      "text/plain": [
       "[('dogs', 0.8680489659309387),\n",
       " ('puppy', 0.8106428384780884),\n",
       " ('pit_bull', 0.780396044254303),\n",
       " ('pooch', 0.7627376914024353),\n",
       " ('cat', 0.7609457969665527),\n",
       " ('golden_retriever', 0.7500901818275452),\n",
       " ('German_shepherd', 0.7465174198150635),\n",
       " ('Rottweiler', 0.7437615394592285),\n",
       " ('beagle', 0.7418621778488159),\n",
       " ('pup', 0.740691065788269)]"
      ]
     },
     "execution_count": 25,
     "metadata": {},
     "output_type": "execute_result"
    }
   ],
   "source": [
    "wv.most_similar(\"dog\")"
   ]
  },
  {
   "cell_type": "markdown",
   "id": "6d5af3a4-6ae4-48fc-89f0-7dd94e553fde",
   "metadata": {},
   "source": [
    "### Let's test some equations:\n",
    "    King - Man + Woman = Queen\n",
    "    India - Delhi + Dhaka = Bangladesh"
   ]
  },
  {
   "cell_type": "code",
   "execution_count": 27,
   "id": "c22a7278-4df0-4139-abbd-1e17085218c0",
   "metadata": {},
   "outputs": [
    {
     "data": {
      "text/plain": [
       "[('Queen', 0.4929387867450714),\n",
       " ('Tupou_V.', 0.45174285769462585),\n",
       " ('Oprah_BFF_Gayle', 0.4422132968902588),\n",
       " ('Jackson', 0.440250426530838),\n",
       " ('NECN_Alison', 0.4331282675266266),\n",
       " ('Whitfield', 0.42834725975990295),\n",
       " ('Ida_Vandross', 0.42084527015686035),\n",
       " ('prosecutor_Dan_Satterberg', 0.420758992433548),\n",
       " ('martin_Luther_King', 0.42059651017189026),\n",
       " ('Coretta_King', 0.4202733635902405)]"
      ]
     },
     "execution_count": 27,
     "metadata": {},
     "output_type": "execute_result"
    }
   ],
   "source": [
    "wv.most_similar(positive=[\"King\",\"Woman\"], negative=[\"Man\"])"
   ]
  },
  {
   "cell_type": "code",
   "execution_count": 26,
   "id": "4af900a6-96c4-486c-8d0b-68c21f487b57",
   "metadata": {},
   "outputs": [
    {
     "data": {
      "text/plain": [
       "[('Bangladesh', 0.7999163269996643),\n",
       " ('Chittagong', 0.6465892791748047),\n",
       " ('Sri_Lanka', 0.637938916683197),\n",
       " ('Pakistan', 0.6231697797775269),\n",
       " ('Bangaldesh', 0.5983521342277527),\n",
       " ('Lanka', 0.5858263969421387),\n",
       " ('Bangladeshs', 0.5807237029075623),\n",
       " ('Sylhet', 0.5701519250869751),\n",
       " ('Khulna', 0.568922758102417),\n",
       " ('Bangladeshi', 0.5671683549880981)]"
      ]
     },
     "execution_count": 26,
     "metadata": {},
     "output_type": "execute_result"
    }
   ],
   "source": [
    "wv.most_similar(positive=[\"India\",\"Dhaka\"], negative=[\"Delhi\"])"
   ]
  },
  {
   "cell_type": "code",
   "execution_count": 29,
   "id": "d16a9ba1-d439-42a1-9391-c1195ca2183f",
   "metadata": {},
   "outputs": [
    {
     "data": {
      "text/plain": [
       "'Apple'"
      ]
     },
     "execution_count": 29,
     "metadata": {},
     "output_type": "execute_result"
    }
   ],
   "source": [
    "wv.doesnt_match([\"Lamborghini\",\"Porche\",\"Bugatti\",\"Mazda\",\"Apple\",\"Ferrari\"])"
   ]
  },
  {
   "cell_type": "code",
   "execution_count": 30,
   "id": "01c89c0c-9d70-415d-b189-1b072e770e1e",
   "metadata": {},
   "outputs": [
    {
     "data": {
      "text/plain": [
       "'Dog'"
      ]
     },
     "execution_count": 30,
     "metadata": {},
     "output_type": "execute_result"
    }
   ],
   "source": [
    "wv.doesnt_match([\"Lion\",\"Tiger\",\"Cheetah\",\"Dog\",\"Cat\",\"Leopard\"])"
   ]
  },
  {
   "cell_type": "markdown",
   "id": "bfd2efa7-3bf3-4203-b099-8fa061398cd8",
   "metadata": {},
   "source": [
    "## Twitter Glove model"
   ]
  },
  {
   "cell_type": "code",
   "execution_count": 31,
   "id": "94d204f6-c46b-4d4d-90ce-132ae6f6463f",
   "metadata": {},
   "outputs": [
    {
     "name": "stdout",
     "output_type": "stream",
     "text": [
      "[==================================================] 100.0% 104.8/104.8MB downloaded\n"
     ]
    }
   ],
   "source": [
    "import gensim.downloader as api\n",
    "\n",
    "glv = api.load(\"glove-twitter-25\")"
   ]
  },
  {
   "cell_type": "code",
   "execution_count": 33,
   "id": "3ae1f46c-2e25-43a4-b736-d0ea26b584cb",
   "metadata": {},
   "outputs": [
    {
     "data": {
      "text/plain": [
       "[('cat', 0.9590821266174316),\n",
       " ('dogs', 0.9244232177734375),\n",
       " ('horse', 0.9209403395652771),\n",
       " ('monkey', 0.9146843552589417),\n",
       " ('pig', 0.9116264581680298),\n",
       " ('kid', 0.902455747127533),\n",
       " ('puppy', 0.9024084210395813),\n",
       " ('bear', 0.9013873934745789),\n",
       " ('pet', 0.8971228003501892),\n",
       " ('dirty', 0.8893660306930542)]"
      ]
     },
     "execution_count": 33,
     "metadata": {},
     "output_type": "execute_result"
    }
   ],
   "source": [
    "glv.most_similar(\"dog\")"
   ]
  },
  {
   "cell_type": "code",
   "execution_count": 42,
   "id": "b0ec0e2a-41c9-48f1-9243-68adf36f2c6b",
   "metadata": {},
   "outputs": [
    {
     "data": {
      "text/plain": [
       "'apple'"
      ]
     },
     "execution_count": 42,
     "metadata": {},
     "output_type": "execute_result"
    }
   ],
   "source": [
    "glv.doesnt_match([\"lamborghini\",\"porche\",\"bugatti\",\"mazda\",\"apple\",\"ferrari\"])"
   ]
  },
  {
   "cell_type": "code",
   "execution_count": 48,
   "id": "c305a622-9c09-4275-9a1d-6270d6b808b1",
   "metadata": {},
   "outputs": [
    {
     "data": {
      "text/plain": [
       "'human'"
      ]
     },
     "execution_count": 48,
     "metadata": {},
     "output_type": "execute_result"
    }
   ],
   "source": [
    "glv.doesnt_match(\"banana grapes human orange apple\".split())"
   ]
  }
 ],
 "metadata": {
  "kernelspec": {
   "display_name": "Python 3 (ipykernel)",
   "language": "python",
   "name": "python3"
  },
  "language_info": {
   "codemirror_mode": {
    "name": "ipython",
    "version": 3
   },
   "file_extension": ".py",
   "mimetype": "text/x-python",
   "name": "python",
   "nbconvert_exporter": "python",
   "pygments_lexer": "ipython3",
   "version": "3.10.17"
  }
 },
 "nbformat": 4,
 "nbformat_minor": 5
}
