{
 "cells": [
  {
   "cell_type": "markdown",
   "id": "ba0b17aa-6e4a-49dc-baea-6a770835fb08",
   "metadata": {},
   "source": [
    "<h1 style=\"text-align:center;color:mediumvioletred\">Parts of Speech Tagging</h1>"
   ]
  },
  {
   "cell_type": "markdown",
   "id": "ac4dc9c1-b926-40ad-9e7f-d08b2bbbe38e",
   "metadata": {},
   "source": [
    "### Parts of Speech in English\n",
    "---"
   ]
  },
  {
   "cell_type": "markdown",
   "id": "3f577430-1e2d-440a-9b4e-4dcf0a5e974b",
   "metadata": {},
   "source": [
    "| Part of Speech        | Description                                             | Example                    |\n",
    "|-----------------------|---------------------------------------------------------|----------------------------|\n",
    "| Noun                  | Names a person, place, thing, or idea                   | *dog, London, book*        |\n",
    "| Pronoun               | Replaces a noun                                         | *he, she, it, they*        |\n",
    "| Verb                  | Expresses action or state of being                      | *run, eat, is, seem*       |\n",
    "| Adjective             | Describes a noun or pronoun                             | *happy, tall, blue*        |\n",
    "| Adverb                | Describes a verb, adjective, or another adverb          | *quickly, very, well*      |\n",
    "| Preposition           | Shows relationship between a noun/pronoun and another word | *in, on, under, with*  |\n",
    "| Conjunction           | Joins words, phrases, or clauses                        | *and, but, although*       |\n",
    "| Interjection          | Expresses sudden emotion or feeling                     | *oh!, wow!, hey!*          |\n",
    "| Determiner (optional) | Introduces nouns (sometimes grouped with adjectives)     | *the, a, this, my*         |\n",
    "| Article (optional)    | Special kind of determiner                              | *a, an, the*               |\n"
   ]
  },
  {
   "cell_type": "markdown",
   "id": "1ac4b674-214d-4e1b-a33a-926f5cba031a",
   "metadata": {},
   "source": [
    "### Parts of Speech in spaCy\n",
    "---\n",
    "\n",
    "| Tag    | Meaning                        | Example                  |\n",
    "|--------|--------------------------------|--------------------------|\n",
    "| ADJ    | Adjective                      | *happy, quick*           |\n",
    "| ADP    | Adposition (pre/postposition)  | *in, on, at*             |\n",
    "| ADV    | Adverb                         | *quickly, very*          |\n",
    "| AUX    | Auxiliary verb                 | *is, was, have*          |\n",
    "| CCONJ  | Coordinating conjunction       | *and, but, or*           |\n",
    "| DET    | Determiner                     | *the, a, an, this*       |\n",
    "| INTJ   | Interjection                   | *oh, wow, hey*           |\n",
    "| NOUN   | Noun                           | *dog, house*             |\n",
    "| NUM    | Numeral                        | *one, 20, first*         |\n",
    "| PART   | Particle                       | *to (in to go), not*     |\n",
    "| PRON   | Pronoun                        | *he, she, it, they*      |\n",
    "| PROPN  | Proper noun                    | *John, London*           |\n",
    "| PUNCT  | Punctuation                    | *.,!?*                   |\n",
    "| SCONJ  | Subordinating conjunction      | *because, although*      |\n",
    "| SYM    | Symbol                         | *$, %, =*                |\n",
    "| VERB   | Verb                           | *run, eat, play*         |\n",
    "| X      | Other / unknown                | *etc., lorem*            |\n",
    "| SPACE  | Whitespace                     | `\"   \"`                  |\n",
    "\n",
    "___\n"
   ]
  },
  {
   "cell_type": "markdown",
   "id": "6d3a32d5-7eab-4514-b30a-ebd658bf6615",
   "metadata": {},
   "source": [
    "## POS tagging"
   ]
  },
  {
   "cell_type": "code",
   "execution_count": 1,
   "id": "9c010c3e-5baa-4e20-928a-6514b30d7b2a",
   "metadata": {},
   "outputs": [],
   "source": [
    "import spacy"
   ]
  },
  {
   "cell_type": "code",
   "execution_count": 2,
   "id": "13fb5acc-9a66-47b5-98fa-f4959de77088",
   "metadata": {},
   "outputs": [],
   "source": [
    "nlp = spacy.load(\"en_core_web_md\")"
   ]
  },
  {
   "cell_type": "code",
   "execution_count": 11,
   "id": "7e08e665-cded-4bb6-9675-d328da308285",
   "metadata": {},
   "outputs": [
    {
     "name": "stdout",
     "output_type": "stream",
     "text": [
      "Although  |  SCONJ  |  subordinating conjunction\n",
      "it  |  PRON  |  pronoun\n",
      "was  |  AUX  |  auxiliary\n",
      "raining  |  VERB  |  verb\n",
      "heavily  |  ADV  |  adverb\n",
      ",  |  PUNCT  |  punctuation\n",
      "the  |  DET  |  determiner\n",
      "children  |  NOUN  |  noun\n",
      "played  |  VERB  |  verb\n",
      "football  |  NOUN  |  noun\n",
      "in  |  ADP  |  adposition\n",
      "the  |  DET  |  determiner\n",
      "park  |  NOUN  |  noun\n",
      ".  |  PUNCT  |  punctuation\n"
     ]
    }
   ],
   "source": [
    "doc = nlp(\"Although it was raining heavily, the children played football in the park.\")\n",
    "\n",
    "for token in doc:\n",
    "    print(token.text, \" | \", token.pos_, \" | \", spacy.explain(token.pos_))"
   ]
  },
  {
   "cell_type": "code",
   "execution_count": 13,
   "id": "33a2ac55-432c-4c7a-8070-3dfd9c1a8c8c",
   "metadata": {},
   "outputs": [
    {
     "name": "stdout",
     "output_type": "stream",
     "text": [
      "Wow  |  INTJ  |  interjection  |  UH  |  interjection\n",
      "!  |  PUNCT  |  punctuation  |  .  |  punctuation mark, sentence closer\n",
      "Dr.  |  PROPN  |  proper noun  |  NNP  |  noun, proper singular\n",
      "Strange  |  PROPN  |  proper noun  |  NNP  |  noun, proper singular\n",
      "made  |  VERB  |  verb  |  VBD  |  verb, past tense\n",
      "265  |  NUM  |  numeral  |  CD  |  cardinal number\n",
      "million  |  NUM  |  numeral  |  CD  |  cardinal number\n",
      "$  |  NOUN  |  noun  |  NN  |  noun, singular or mass\n",
      "on  |  ADP  |  adposition  |  IN  |  conjunction, subordinating or preposition\n",
      "the  |  DET  |  determiner  |  DT  |  determiner\n",
      "very  |  ADV  |  adverb  |  RB  |  adverb\n",
      "first  |  ADJ  |  adjective  |  JJ  |  adjective (English), other noun-modifier (Chinese)\n",
      "day  |  NOUN  |  noun  |  NN  |  noun, singular or mass\n"
     ]
    }
   ],
   "source": [
    "doc = nlp(\"Wow! Dr. Strange made 265 million $ on the very first day\")\n",
    "\n",
    "for token in doc:\n",
    "    print(token.text, \" | \", token.pos_, \" | \", spacy.explain(token.pos_), \" | \", token.tag_, \" | \", spacy.explain(token.tag_))"
   ]
  },
  {
   "cell_type": "markdown",
   "id": "9ced118b-d5ea-4c62-8e3b-454b6008b54c",
   "metadata": {},
   "source": [
    "### Difference between past and present tense"
   ]
  },
  {
   "cell_type": "code",
   "execution_count": 16,
   "id": "ff272356-c42f-4524-81c3-983d802f811c",
   "metadata": {},
   "outputs": [
    {
     "name": "stdout",
     "output_type": "stream",
     "text": [
      "quits  |  VBZ  |  verb, 3rd person singular present\n"
     ]
    }
   ],
   "source": [
    "doc = nlp(\"He quits the job\")\n",
    "\n",
    "print(doc[1].text, \" | \", doc[1].tag_, \" | \", spacy.explain(doc[1].tag_))"
   ]
  },
  {
   "cell_type": "code",
   "execution_count": 17,
   "id": "b46e0e8b-d705-4270-bff2-8676f5e4573a",
   "metadata": {},
   "outputs": [
    {
     "name": "stdout",
     "output_type": "stream",
     "text": [
      "quit  |  VBD  |  verb, past tense\n"
     ]
    }
   ],
   "source": [
    "doc = nlp(\"He quit the job\")\n",
    "\n",
    "print(doc[1].text, \" | \", doc[1].tag_, \" | \", spacy.explain(doc[1].tag_))"
   ]
  },
  {
   "cell_type": "markdown",
   "id": "45429b77-4348-46ab-bbf7-fde52e6ed9b9",
   "metadata": {},
   "source": [
    "### Counting all POS from the text"
   ]
  },
  {
   "cell_type": "code",
   "execution_count": 18,
   "id": "eb7f996e-585a-49ee-9418-46d5f21d4a73",
   "metadata": {},
   "outputs": [],
   "source": [
    "earning_report = '''Apple today announced financial results for its fiscal 2025 third quarter ended June 28, 2025.\n",
    "The Company posted quarterly revenue of $94.0 billion, up 10 percent year over year, and quarterly diluted earnings per share of $1.57, up 12 percent year over year.\n",
    "\"Today Apple is proud to report a June quarter revenue record with double-digit growth in iPhone, Mac and Services and growth around the world, in every geographic segment,\" said Tim Cook, Apple’s CEO.\n",
    "\"At WWDC25, we were excited to introduce a beautiful new software design that extends across all of our platforms, and we announced even more great Apple Intelligence features.\"'''"
   ]
  },
  {
   "cell_type": "code",
   "execution_count": 19,
   "id": "227cdb82-682f-4a3a-a416-4f01d26d0720",
   "metadata": {
    "scrolled": true
   },
   "outputs": [
    {
     "name": "stdout",
     "output_type": "stream",
     "text": [
      "Apple  |  PROPN  |  proper noun\n",
      "today  |  NOUN  |  noun\n",
      "announced  |  VERB  |  verb\n",
      "financial  |  ADJ  |  adjective\n",
      "results  |  NOUN  |  noun\n",
      "for  |  ADP  |  adposition\n",
      "its  |  PRON  |  pronoun\n",
      "fiscal  |  ADJ  |  adjective\n",
      "2025  |  NUM  |  numeral\n",
      "third  |  ADJ  |  adjective\n",
      "quarter  |  NOUN  |  noun\n",
      "ended  |  VERB  |  verb\n",
      "June  |  PROPN  |  proper noun\n",
      "28  |  NUM  |  numeral\n",
      ",  |  PUNCT  |  punctuation\n",
      "2025  |  NUM  |  numeral\n",
      ".  |  PUNCT  |  punctuation\n",
      "\n",
      "  |  SPACE  |  space\n",
      "The  |  DET  |  determiner\n",
      "Company  |  PROPN  |  proper noun\n",
      "posted  |  VERB  |  verb\n",
      "quarterly  |  ADJ  |  adjective\n",
      "revenue  |  NOUN  |  noun\n",
      "of  |  ADP  |  adposition\n",
      "$  |  SYM  |  symbol\n",
      "94.0  |  NUM  |  numeral\n",
      "billion  |  NUM  |  numeral\n",
      ",  |  PUNCT  |  punctuation\n",
      "up  |  ADV  |  adverb\n",
      "10  |  NUM  |  numeral\n",
      "percent  |  NOUN  |  noun\n",
      "year  |  NOUN  |  noun\n",
      "over  |  ADP  |  adposition\n",
      "year  |  NOUN  |  noun\n",
      ",  |  PUNCT  |  punctuation\n",
      "and  |  CCONJ  |  coordinating conjunction\n",
      "quarterly  |  ADJ  |  adjective\n",
      "diluted  |  VERB  |  verb\n",
      "earnings  |  NOUN  |  noun\n",
      "per  |  ADP  |  adposition\n",
      "share  |  NOUN  |  noun\n",
      "of  |  ADP  |  adposition\n",
      "$  |  SYM  |  symbol\n",
      "1.57  |  NUM  |  numeral\n",
      ",  |  PUNCT  |  punctuation\n",
      "up  |  ADV  |  adverb\n",
      "12  |  NUM  |  numeral\n",
      "percent  |  NOUN  |  noun\n",
      "year  |  NOUN  |  noun\n",
      "over  |  ADP  |  adposition\n",
      "year  |  NOUN  |  noun\n",
      ".  |  PUNCT  |  punctuation\n",
      "\n",
      "  |  SPACE  |  space\n",
      "\"  |  PUNCT  |  punctuation\n",
      "Today  |  PROPN  |  proper noun\n",
      "Apple  |  PROPN  |  proper noun\n",
      "is  |  AUX  |  auxiliary\n",
      "proud  |  ADJ  |  adjective\n",
      "to  |  PART  |  particle\n",
      "report  |  VERB  |  verb\n",
      "a  |  DET  |  determiner\n",
      "June  |  PROPN  |  proper noun\n",
      "quarter  |  NOUN  |  noun\n",
      "revenue  |  NOUN  |  noun\n",
      "record  |  NOUN  |  noun\n",
      "with  |  ADP  |  adposition\n",
      "double  |  ADJ  |  adjective\n",
      "-  |  PUNCT  |  punctuation\n",
      "digit  |  NOUN  |  noun\n",
      "growth  |  NOUN  |  noun\n",
      "in  |  ADP  |  adposition\n",
      "iPhone  |  PROPN  |  proper noun\n",
      ",  |  PUNCT  |  punctuation\n",
      "Mac  |  PROPN  |  proper noun\n",
      "and  |  CCONJ  |  coordinating conjunction\n",
      "Services  |  PROPN  |  proper noun\n",
      "and  |  CCONJ  |  coordinating conjunction\n",
      "growth  |  NOUN  |  noun\n",
      "around  |  ADP  |  adposition\n",
      "the  |  DET  |  determiner\n",
      "world  |  NOUN  |  noun\n",
      ",  |  PUNCT  |  punctuation\n",
      "in  |  ADP  |  adposition\n",
      "every  |  DET  |  determiner\n",
      "geographic  |  ADJ  |  adjective\n",
      "segment  |  NOUN  |  noun\n",
      ",  |  PUNCT  |  punctuation\n",
      "\"  |  PUNCT  |  punctuation\n",
      "said  |  VERB  |  verb\n",
      "Tim  |  PROPN  |  proper noun\n",
      "Cook  |  PROPN  |  proper noun\n",
      ",  |  PUNCT  |  punctuation\n",
      "Apple  |  PROPN  |  proper noun\n",
      "’s  |  PART  |  particle\n",
      "CEO  |  PROPN  |  proper noun\n",
      ".  |  PUNCT  |  punctuation\n",
      "\n",
      "  |  SPACE  |  space\n",
      "\"  |  PUNCT  |  punctuation\n",
      "At  |  ADP  |  adposition\n",
      "WWDC25  |  NOUN  |  noun\n",
      ",  |  PUNCT  |  punctuation\n",
      "we  |  PRON  |  pronoun\n",
      "were  |  AUX  |  auxiliary\n",
      "excited  |  ADJ  |  adjective\n",
      "to  |  PART  |  particle\n",
      "introduce  |  VERB  |  verb\n",
      "a  |  DET  |  determiner\n",
      "beautiful  |  ADJ  |  adjective\n",
      "new  |  ADJ  |  adjective\n",
      "software  |  NOUN  |  noun\n",
      "design  |  NOUN  |  noun\n",
      "that  |  PRON  |  pronoun\n",
      "extends  |  VERB  |  verb\n",
      "across  |  ADP  |  adposition\n",
      "all  |  PRON  |  pronoun\n",
      "of  |  ADP  |  adposition\n",
      "our  |  PRON  |  pronoun\n",
      "platforms  |  NOUN  |  noun\n",
      ",  |  PUNCT  |  punctuation\n",
      "and  |  CCONJ  |  coordinating conjunction\n",
      "we  |  PRON  |  pronoun\n",
      "announced  |  VERB  |  verb\n",
      "even  |  ADV  |  adverb\n",
      "more  |  ADV  |  adverb\n",
      "great  |  ADJ  |  adjective\n",
      "Apple  |  PROPN  |  proper noun\n",
      "Intelligence  |  PROPN  |  proper noun\n",
      "features  |  VERB  |  verb\n",
      ".  |  PUNCT  |  punctuation\n",
      "\"  |  PUNCT  |  punctuation\n"
     ]
    }
   ],
   "source": [
    "doc = nlp(earning_report)\n",
    "\n",
    "for token in doc:\n",
    "    print(token.text, \" | \", token.pos_, \" | \", spacy.explain(token.pos_))"
   ]
  },
  {
   "cell_type": "code",
   "execution_count": 27,
   "id": "a5c199b5-eab4-4213-8a71-14281344b81d",
   "metadata": {
    "scrolled": true
   },
   "outputs": [
    {
     "data": {
      "text/plain": [
       "[Apple,\n",
       " today,\n",
       " announced,\n",
       " financial,\n",
       " results,\n",
       " for,\n",
       " its,\n",
       " fiscal,\n",
       " 2025,\n",
       " third,\n",
       " quarter,\n",
       " ended,\n",
       " June,\n",
       " 28,\n",
       " 2025,\n",
       " The,\n",
       " Company,\n",
       " posted,\n",
       " quarterly,\n",
       " revenue,\n",
       " of,\n",
       " $,\n",
       " 94.0,\n",
       " billion,\n",
       " up,\n",
       " 10,\n",
       " percent,\n",
       " year,\n",
       " over,\n",
       " year,\n",
       " and,\n",
       " quarterly,\n",
       " diluted,\n",
       " earnings,\n",
       " per,\n",
       " share,\n",
       " of,\n",
       " $,\n",
       " 1.57,\n",
       " up,\n",
       " 12,\n",
       " percent,\n",
       " year,\n",
       " over,\n",
       " year,\n",
       " Today,\n",
       " Apple,\n",
       " is,\n",
       " proud,\n",
       " to,\n",
       " report,\n",
       " a,\n",
       " June,\n",
       " quarter,\n",
       " revenue,\n",
       " record,\n",
       " with,\n",
       " double,\n",
       " digit,\n",
       " growth,\n",
       " in,\n",
       " iPhone,\n",
       " Mac,\n",
       " and,\n",
       " Services,\n",
       " and,\n",
       " growth,\n",
       " around,\n",
       " the,\n",
       " world,\n",
       " in,\n",
       " every,\n",
       " geographic,\n",
       " segment,\n",
       " said,\n",
       " Tim,\n",
       " Cook,\n",
       " Apple,\n",
       " ’s,\n",
       " CEO,\n",
       " At,\n",
       " WWDC25,\n",
       " we,\n",
       " were,\n",
       " excited,\n",
       " to,\n",
       " introduce,\n",
       " a,\n",
       " beautiful,\n",
       " new,\n",
       " software,\n",
       " design,\n",
       " that,\n",
       " extends,\n",
       " across,\n",
       " all,\n",
       " of,\n",
       " our,\n",
       " platforms,\n",
       " and,\n",
       " we,\n",
       " announced,\n",
       " even,\n",
       " more,\n",
       " great,\n",
       " Apple,\n",
       " Intelligence,\n",
       " features]"
      ]
     },
     "execution_count": 27,
     "metadata": {},
     "output_type": "execute_result"
    }
   ],
   "source": [
    "doc = nlp(earning_report)\n",
    "\n",
    "filtered_tokens = []\n",
    "for token in doc:\n",
    "    if token.pos_ not in [\"SPACE\",\"PUNCT\",\"X\"]:\n",
    "        filtered_tokens.append(token)\n",
    "        #print(token.text, \" | \", token.pos_, \" | \", spacy.explain(token.pos_))\n",
    "\n",
    "filtered_tokens"
   ]
  },
  {
   "cell_type": "code",
   "execution_count": 28,
   "id": "8331f8ce-dcf6-4440-997f-4d39decb0b0b",
   "metadata": {},
   "outputs": [
    {
     "data": {
      "text/plain": [
       "{96: 15,\n",
       " 92: 24,\n",
       " 100: 10,\n",
       " 84: 12,\n",
       " 85: 13,\n",
       " 95: 6,\n",
       " 93: 8,\n",
       " 97: 19,\n",
       " 103: 3,\n",
       " 90: 5,\n",
       " 99: 2,\n",
       " 86: 4,\n",
       " 89: 4,\n",
       " 87: 2,\n",
       " 94: 3}"
      ]
     },
     "execution_count": 28,
     "metadata": {},
     "output_type": "execute_result"
    }
   ],
   "source": [
    "counts = doc.count_by(spacy.attrs.POS)\n",
    "counts"
   ]
  },
  {
   "cell_type": "code",
   "execution_count": 29,
   "id": "42c47b26-554a-4dc3-b57c-9a2258843c44",
   "metadata": {},
   "outputs": [
    {
     "name": "stdout",
     "output_type": "stream",
     "text": [
      "PROPN  |  15\n",
      "NOUN  |  24\n",
      "VERB  |  10\n",
      "ADJ  |  12\n",
      "ADP  |  13\n",
      "PRON  |  6\n",
      "NUM  |  8\n",
      "PUNCT  |  19\n",
      "SPACE  |  3\n",
      "DET  |  5\n",
      "SYM  |  2\n",
      "ADV  |  4\n",
      "CCONJ  |  4\n",
      "AUX  |  2\n",
      "PART  |  3\n"
     ]
    }
   ],
   "source": [
    "for key, counts in counts.items():\n",
    "    print(doc.vocab[key].text, \" | \", counts)"
   ]
  },
  {
   "cell_type": "markdown",
   "id": "fd9610de-4d85-4464-89bf-41006328e8eb",
   "metadata": {},
   "source": [
    "# Exercise"
   ]
  },
  {
   "cell_type": "markdown",
   "id": "dfc61c4e-3e77-431e-8229-71e4bb85198b",
   "metadata": {},
   "source": [
    "### Question:\n",
    "You are parsing a news story from cnbc.com. News story is stores in news_story.txt which is available in this same folder on github. You need to,\n",
    "\n",
    "- Extract all NOUN tokens from this story. You will have to read the file in python first to collect all the text and then extract NOUNs in a python list\n",
    "- Extract all numbers (NUM POS type) in a python list\n",
    "- Print a count of all POS tags in this story"
   ]
  },
  {
   "cell_type": "code",
   "execution_count": 31,
   "id": "141dae90-5329-4a27-bfdd-bf4c556e89e7",
   "metadata": {},
   "outputs": [
    {
     "data": {
      "text/plain": [
       "'Inflation rose again in April, continuing a climb that has pushed consumers to the brink and is threatening the economic expansion, the Bureau of Labor Statistics reported Wednesday.\\n\\nThe consumer price index, a broad-based measure of prices for goods and services, increased 8.3% from a year ago, higher than the Dow Jones estimate for an 8.1% gain. That represented a slight ease from Marchâ€™s peak but was still close to the highest level since the summer of 1982.\\n\\nRemoving volatile food and energy prices, so-called core CPI still rose 6.2%, against expectations for a 6% gain, clouding hopes that inflation had peaked in March.\\n\\nThe month-over-month gains also were higher than expectations â€” 0.3% on headline CPI versus the 0.2% estimate and a 0.6% increase for core, against the outlook for a 0.4% gain.\\n\\nThe price gains also meant that workers continued to lose ground. Real wages adjusted for inflation decreased 0.1% on the month despite a nominal increase of 0.3% in average hourly earnings. Over the past year, real earnings have dropped 2.6% even though average hourly earnings are up 5.5%.\\n\\nInflation has been the single biggest threat to a recovery that began early in the Covid pandemic and saw the economy in 2021 stage its biggest single-year growth level since 1984. Rising prices at the pump and in grocery stores have been one problem, but inflation has spread beyond those two areas into housing, auto sales and a host of other areas.\\n\\nFederal Reserve officials have responded to the problem with two interest rate hikes so far this year and pledges of more until inflation comes down to the central bankâ€™s 2% goal. However, Wednesdayâ€™s data shows that the Fed has a big job ahead.\\n\\nCredits: cnbc.com'"
      ]
     },
     "execution_count": 31,
     "metadata": {},
     "output_type": "execute_result"
    }
   ],
   "source": [
    "with open(\"news_story.txt\") as f:\n",
    "    text = f.read()\n",
    "text"
   ]
  },
  {
   "cell_type": "code",
   "execution_count": 44,
   "id": "b4bee5b5-a892-4221-a7fd-1e25c1dc4f94",
   "metadata": {},
   "outputs": [],
   "source": [
    "doc = nlp(text)\n",
    "\n",
    "nouns = []\n",
    "numbers = []\n",
    "\n",
    "for token in doc:\n",
    "    if token.pos_ == 'NOUN':\n",
    "        nouns.append(token)\n",
    "    if token.pos_ == 'NUM':\n",
    "        numbers.append(token)"
   ]
  },
  {
   "cell_type": "code",
   "execution_count": 45,
   "id": "b4bc2d4e-94bd-47c3-b1d5-5671f43ae1a6",
   "metadata": {
    "scrolled": true
   },
   "outputs": [
    {
     "data": {
      "text/plain": [
       "[Inflation,\n",
       " climb,\n",
       " consumers,\n",
       " brink,\n",
       " expansion,\n",
       " consumer,\n",
       " price,\n",
       " index,\n",
       " measure,\n",
       " prices,\n",
       " goods,\n",
       " services,\n",
       " %,\n",
       " year,\n",
       " estimate,\n",
       " %,\n",
       " gain,\n",
       " ease,\n",
       " Marchâ€,\n",
       " ™,\n",
       " peak,\n",
       " level,\n",
       " summer,\n",
       " food,\n",
       " energy,\n",
       " prices,\n",
       " core,\n",
       " %,\n",
       " expectations,\n",
       " %,\n",
       " gain,\n",
       " inflation,\n",
       " month,\n",
       " month,\n",
       " gains,\n",
       " expectations,\n",
       " %,\n",
       " headline,\n",
       " %,\n",
       " estimate,\n",
       " %,\n",
       " increase,\n",
       " core,\n",
       " outlook,\n",
       " %,\n",
       " gain,\n",
       " price,\n",
       " gains,\n",
       " workers,\n",
       " ground,\n",
       " wages,\n",
       " inflation,\n",
       " %,\n",
       " month,\n",
       " increase,\n",
       " %,\n",
       " earnings,\n",
       " year,\n",
       " earnings,\n",
       " %,\n",
       " earnings,\n",
       " %,\n",
       " Inflation,\n",
       " threat,\n",
       " recovery,\n",
       " pandemic,\n",
       " economy,\n",
       " year,\n",
       " growth,\n",
       " level,\n",
       " prices,\n",
       " pump,\n",
       " grocery,\n",
       " stores,\n",
       " problem,\n",
       " inflation,\n",
       " areas,\n",
       " housing,\n",
       " auto,\n",
       " sales,\n",
       " host,\n",
       " areas,\n",
       " officials,\n",
       " problem,\n",
       " interest,\n",
       " rate,\n",
       " hikes,\n",
       " year,\n",
       " pledges,\n",
       " inflation,\n",
       " bankâ€,\n",
       " ™,\n",
       " s,\n",
       " %,\n",
       " goal,\n",
       " ™,\n",
       " data,\n",
       " job,\n",
       " Credits]"
      ]
     },
     "execution_count": 45,
     "metadata": {},
     "output_type": "execute_result"
    }
   ],
   "source": [
    "nouns"
   ]
  },
  {
   "cell_type": "code",
   "execution_count": 46,
   "id": "7dcb7c75-edd5-46e1-9d59-5c65617f300d",
   "metadata": {
    "scrolled": true
   },
   "outputs": [
    {
     "data": {
      "text/plain": [
       "[8.3,\n",
       " 8.1,\n",
       " 1982,\n",
       " 6.2,\n",
       " 6,\n",
       " â€,\n",
       " 0.3,\n",
       " 0.2,\n",
       " 0.6,\n",
       " 0.4,\n",
       " 0.1,\n",
       " 0.3,\n",
       " 2.6,\n",
       " 5.5,\n",
       " 2021,\n",
       " 1984,\n",
       " one,\n",
       " two,\n",
       " two,\n",
       " 2]"
      ]
     },
     "execution_count": 46,
     "metadata": {},
     "output_type": "execute_result"
    }
   ],
   "source": [
    "numbers"
   ]
  },
  {
   "cell_type": "code",
   "execution_count": 47,
   "id": "bf076936-1367-4d81-b213-2d09b309dbac",
   "metadata": {},
   "outputs": [
    {
     "data": {
      "text/plain": [
       "{92: 99,\n",
       " 100: 29,\n",
       " 86: 15,\n",
       " 85: 39,\n",
       " 96: 15,\n",
       " 97: 32,\n",
       " 90: 34,\n",
       " 95: 4,\n",
       " 87: 13,\n",
       " 89: 10,\n",
       " 84: 23,\n",
       " 103: 7,\n",
       " 93: 20,\n",
       " 94: 3,\n",
       " 98: 8,\n",
       " 101: 1}"
      ]
     },
     "execution_count": 47,
     "metadata": {},
     "output_type": "execute_result"
    }
   ],
   "source": [
    "counts = doc.count_by(spacy.attrs.POS)\n",
    "counts"
   ]
  },
  {
   "cell_type": "code",
   "execution_count": 48,
   "id": "f3212825-95b4-4008-aecd-8b9ce43d6681",
   "metadata": {},
   "outputs": [
    {
     "name": "stdout",
     "output_type": "stream",
     "text": [
      "NOUN  |  99\n",
      "VERB  |  29\n",
      "ADV  |  15\n",
      "ADP  |  39\n",
      "PROPN  |  15\n",
      "PUNCT  |  32\n",
      "DET  |  34\n",
      "PRON  |  4\n",
      "AUX  |  13\n",
      "CCONJ  |  10\n",
      "ADJ  |  23\n",
      "SPACE  |  7\n",
      "NUM  |  20\n",
      "PART  |  3\n",
      "SCONJ  |  8\n",
      "X  |  1\n"
     ]
    }
   ],
   "source": [
    "for k, v in counts.items():\n",
    "    print(doc.vocab[k].text, \" | \", v)"
   ]
  }
 ],
 "metadata": {
  "kernelspec": {
   "display_name": "Python 3 (ipykernel)",
   "language": "python",
   "name": "python3"
  },
  "language_info": {
   "codemirror_mode": {
    "name": "ipython",
    "version": 3
   },
   "file_extension": ".py",
   "mimetype": "text/x-python",
   "name": "python",
   "nbconvert_exporter": "python",
   "pygments_lexer": "ipython3",
   "version": "3.10.17"
  }
 },
 "nbformat": 4,
 "nbformat_minor": 5
}
