{
 "cells": [
  {
   "cell_type": "markdown",
   "id": "46b496f1-edf4-4184-a4b3-6af8c370a8af",
   "metadata": {},
   "source": [
    "<h1 style=\"text-align:center;color:mediumvioletred\">TF-IDF</h1>"
   ]
  },
  {
   "cell_type": "markdown",
   "id": "c6db6087-5c33-440c-9a2f-d08d3b2259b8",
   "metadata": {},
   "source": [
    "## TF-IDF Basics"
   ]
  },
  {
   "cell_type": "code",
   "execution_count": 1,
   "id": "3688d186-c21f-41f6-a1a8-32f1a17087a7",
   "metadata": {},
   "outputs": [],
   "source": [
    "from sklearn.feature_extraction.text import TfidfVectorizer"
   ]
  },
  {
   "cell_type": "code",
   "execution_count": 31,
   "id": "f229f0af-3282-4226-8188-9ced13cf4699",
   "metadata": {},
   "outputs": [],
   "source": [
    "docs = [\n",
    "    \"Iron Man fights alongside Captain America.\",\n",
    "    \"Spider Man teams up with Iron Man.\",\n",
    "    \"Thor and Hulk battle powerful enemies together.\",\n",
    "    \"Black Widow helps Captain America in the mission.\",\n",
    "    \"Doctor Strange joins Spider-Man to protect the city.\",\n",
    "    \"Hulk and Thor are strong Avengers.\",\n",
    "    \"Captain America leads the Avengers with Iron Man.\",\n",
    "    \"Black Widow and Hawkeye fight as a team.\"\n",
    "]"
   ]
  },
  {
   "cell_type": "code",
   "execution_count": 32,
   "id": "7cf5e768-6647-4ad7-a178-cb2e217d5ae0",
   "metadata": {},
   "outputs": [
    {
     "name": "stdout",
     "output_type": "stream",
     "text": [
      "{'iron': 18, 'man': 21, 'fights': 13, 'alongside': 0, 'captain': 8, 'america': 1, 'spider': 25, 'teams': 29, 'up': 34, 'with': 36, 'thor': 31, 'and': 2, 'hulk': 16, 'battle': 6, 'powerful': 23, 'enemies': 11, 'together': 33, 'black': 7, 'widow': 35, 'helps': 15, 'in': 17, 'the': 30, 'mission': 22, 'doctor': 10, 'strange': 26, 'joins': 19, 'to': 32, 'protect': 24, 'city': 9, 'are': 3, 'strong': 27, 'avengers': 5, 'leads': 20, 'hawkeye': 14, 'fight': 12, 'as': 4, 'team': 28}\n"
     ]
    }
   ],
   "source": [
    "v = TfidfVectorizer()\n",
    "transformed_docs = v.fit_transform(docs)\n",
    "print(v.vocabulary_)"
   ]
  },
  {
   "cell_type": "code",
   "execution_count": 33,
   "id": "8926b68c-8bc8-470a-a2b8-6d30c905c31a",
   "metadata": {
    "scrolled": true
   },
   "outputs": [
    {
     "data": {
      "text/plain": [
       "array(['alongside', 'america', 'and', 'are', 'as', 'avengers', 'battle',\n",
       "       'black', 'captain', 'city', 'doctor', 'enemies', 'fight', 'fights',\n",
       "       'hawkeye', 'helps', 'hulk', 'in', 'iron', 'joins', 'leads', 'man',\n",
       "       'mission', 'powerful', 'protect', 'spider', 'strange', 'strong',\n",
       "       'team', 'teams', 'the', 'thor', 'to', 'together', 'up', 'widow',\n",
       "       'with'], dtype=object)"
      ]
     },
     "execution_count": 33,
     "metadata": {},
     "output_type": "execute_result"
    }
   ],
   "source": [
    "v.get_feature_names_out()"
   ]
  },
  {
   "cell_type": "code",
   "execution_count": 34,
   "id": "6cc72196-1f45-4625-99ff-cc84c138e616",
   "metadata": {
    "scrolled": true
   },
   "outputs": [
    {
     "name": "stdout",
     "output_type": "stream",
     "text": [
      "alongside: 2.504\n",
      "america: 1.811\n",
      "and: 1.811\n",
      "are: 2.504\n",
      "as: 2.504\n",
      "avengers: 2.099\n",
      "battle: 2.504\n",
      "black: 2.099\n",
      "captain: 1.811\n",
      "city: 2.504\n",
      "doctor: 2.504\n",
      "enemies: 2.504\n",
      "fight: 2.504\n",
      "fights: 2.504\n",
      "hawkeye: 2.504\n",
      "helps: 2.504\n",
      "hulk: 2.099\n",
      "in: 2.504\n",
      "iron: 1.811\n",
      "joins: 2.504\n",
      "leads: 2.504\n",
      "man: 1.588\n",
      "mission: 2.504\n",
      "powerful: 2.504\n",
      "protect: 2.504\n",
      "spider: 2.099\n",
      "strange: 2.504\n",
      "strong: 2.504\n",
      "team: 2.504\n",
      "teams: 2.504\n",
      "the: 1.811\n",
      "thor: 2.099\n",
      "to: 2.504\n",
      "together: 2.504\n",
      "up: 2.504\n",
      "widow: 2.099\n",
      "with: 2.099\n"
     ]
    }
   ],
   "source": [
    "all_feature_names = v.get_feature_names_out()\n",
    "\n",
    "for word in all_feature_names:\n",
    "    indx = v.vocabulary_.get(word)\n",
    "    print(f\"{word}: {round(v.idf_[indx],3)}\")"
   ]
  },
  {
   "cell_type": "code",
   "execution_count": 35,
   "id": "17c7cebf-dbf6-41ee-b720-35c443cb3bbb",
   "metadata": {},
   "outputs": [
    {
     "data": {
      "text/plain": [
       "['Iron Man fights alongside Captain America.',\n",
       " 'Spider Man teams up with Iron Man.']"
      ]
     },
     "execution_count": 35,
     "metadata": {},
     "output_type": "execute_result"
    }
   ],
   "source": [
    "docs[:2]"
   ]
  },
  {
   "cell_type": "code",
   "execution_count": 36,
   "id": "74e9b05b-8499-4a67-8d81-cc1587790380",
   "metadata": {},
   "outputs": [
    {
     "data": {
      "text/plain": [
       "array([0.50181732, 0.36291057, 0.        , 0.        , 0.        ,\n",
       "       0.        , 0.        , 0.        , 0.36291057, 0.        ,\n",
       "       0.        , 0.        , 0.        , 0.50181732, 0.        ,\n",
       "       0.        , 0.        , 0.        , 0.36291057, 0.        ,\n",
       "       0.        , 0.31819258, 0.        , 0.        , 0.        ,\n",
       "       0.        , 0.        , 0.        , 0.        , 0.        ,\n",
       "       0.        , 0.        , 0.        , 0.        , 0.        ,\n",
       "       0.        , 0.        ])"
      ]
     },
     "execution_count": 36,
     "metadata": {},
     "output_type": "execute_result"
    }
   ],
   "source": [
    "transformed_docs.toarray()[0]"
   ]
  },
  {
   "cell_type": "code",
   "execution_count": 37,
   "id": "89cc7c02-184c-4162-bf8c-21dfcac061a0",
   "metadata": {},
   "outputs": [
    {
     "data": {
      "text/plain": [
       "array([0.        , 0.        , 0.        , 0.        , 0.        ,\n",
       "       0.        , 0.        , 0.        , 0.        , 0.        ,\n",
       "       0.        , 0.        , 0.        , 0.        , 0.        ,\n",
       "       0.        , 0.        , 0.        , 0.30736636, 0.        ,\n",
       "       0.        , 0.53898511, 0.        , 0.        , 0.        ,\n",
       "       0.35619419, 0.        , 0.        , 0.        , 0.42501315,\n",
       "       0.        , 0.        , 0.        , 0.        , 0.42501315,\n",
       "       0.        , 0.35619419])"
      ]
     },
     "execution_count": 37,
     "metadata": {},
     "output_type": "execute_result"
    }
   ],
   "source": [
    "transformed_docs.toarray()[1]"
   ]
  },
  {
   "cell_type": "markdown",
   "id": "f2d67476-daf7-4ade-b708-44b23c2155e7",
   "metadata": {},
   "source": [
    "## Text Classification Using TF-IDF"
   ]
  },
  {
   "cell_type": "markdown",
   "id": "57800e01-ff2a-4abe-a93a-ca1a80640662",
   "metadata": {},
   "source": [
    "#### Reading and exploring dataset"
   ]
  },
  {
   "cell_type": "code",
   "execution_count": 38,
   "id": "3c5b7049-e3b4-4afa-8358-5a906c54eaa3",
   "metadata": {},
   "outputs": [
    {
     "data": {
      "text/html": [
       "<div>\n",
       "<style scoped>\n",
       "    .dataframe tbody tr th:only-of-type {\n",
       "        vertical-align: middle;\n",
       "    }\n",
       "\n",
       "    .dataframe tbody tr th {\n",
       "        vertical-align: top;\n",
       "    }\n",
       "\n",
       "    .dataframe thead th {\n",
       "        text-align: right;\n",
       "    }\n",
       "</style>\n",
       "<table border=\"1\" class=\"dataframe\">\n",
       "  <thead>\n",
       "    <tr style=\"text-align: right;\">\n",
       "      <th></th>\n",
       "      <th>Text</th>\n",
       "      <th>label</th>\n",
       "    </tr>\n",
       "  </thead>\n",
       "  <tbody>\n",
       "    <tr>\n",
       "      <th>0</th>\n",
       "      <td>Urban Ladder Eisner Low Back Study-Office Comp...</td>\n",
       "      <td>Household</td>\n",
       "    </tr>\n",
       "    <tr>\n",
       "      <th>1</th>\n",
       "      <td>Contrast living Wooden Decorative Box,Painted ...</td>\n",
       "      <td>Household</td>\n",
       "    </tr>\n",
       "    <tr>\n",
       "      <th>2</th>\n",
       "      <td>IO Crest SY-PCI40010 PCI RAID Host Controller ...</td>\n",
       "      <td>Electronics</td>\n",
       "    </tr>\n",
       "    <tr>\n",
       "      <th>3</th>\n",
       "      <td>ISAKAA Baby Socks from Just Born to 8 Years- P...</td>\n",
       "      <td>Clothing &amp; Accessories</td>\n",
       "    </tr>\n",
       "    <tr>\n",
       "      <th>4</th>\n",
       "      <td>Indira Designer Women's Art Mysore Silk Saree ...</td>\n",
       "      <td>Clothing &amp; Accessories</td>\n",
       "    </tr>\n",
       "  </tbody>\n",
       "</table>\n",
       "</div>"
      ],
      "text/plain": [
       "                                                Text                   label\n",
       "0  Urban Ladder Eisner Low Back Study-Office Comp...               Household\n",
       "1  Contrast living Wooden Decorative Box,Painted ...               Household\n",
       "2  IO Crest SY-PCI40010 PCI RAID Host Controller ...             Electronics\n",
       "3  ISAKAA Baby Socks from Just Born to 8 Years- P...  Clothing & Accessories\n",
       "4  Indira Designer Women's Art Mysore Silk Saree ...  Clothing & Accessories"
      ]
     },
     "execution_count": 38,
     "metadata": {},
     "output_type": "execute_result"
    }
   ],
   "source": [
    "import pandas as pd\n",
    "\n",
    "df = pd.read_csv(\"Ecommerce_data.csv\")\n",
    "df.head()"
   ]
  },
  {
   "cell_type": "code",
   "execution_count": 39,
   "id": "0f330177-c655-453d-a950-e2877b2e90de",
   "metadata": {},
   "outputs": [
    {
     "data": {
      "text/plain": [
       "(24000, 2)"
      ]
     },
     "execution_count": 39,
     "metadata": {},
     "output_type": "execute_result"
    }
   ],
   "source": [
    "df.shape"
   ]
  },
  {
   "cell_type": "code",
   "execution_count": 40,
   "id": "88372f5f-1b5c-4159-a9bd-2408be5dab4f",
   "metadata": {},
   "outputs": [
    {
     "data": {
      "text/plain": [
       "label\n",
       "Household                 6000\n",
       "Electronics               6000\n",
       "Clothing & Accessories    6000\n",
       "Books                     6000\n",
       "Name: count, dtype: int64"
      ]
     },
     "execution_count": 40,
     "metadata": {},
     "output_type": "execute_result"
    }
   ],
   "source": [
    "df.label.value_counts()"
   ]
  },
  {
   "cell_type": "markdown",
   "id": "8eb8ef93-2fe2-4664-b238-50b8de611b04",
   "metadata": {},
   "source": [
    "#### Label Mapping"
   ]
  },
  {
   "cell_type": "code",
   "execution_count": 42,
   "id": "c3984729-a433-4cb7-9bee-ec710229f3db",
   "metadata": {},
   "outputs": [
    {
     "data": {
      "text/html": [
       "<div>\n",
       "<style scoped>\n",
       "    .dataframe tbody tr th:only-of-type {\n",
       "        vertical-align: middle;\n",
       "    }\n",
       "\n",
       "    .dataframe tbody tr th {\n",
       "        vertical-align: top;\n",
       "    }\n",
       "\n",
       "    .dataframe thead th {\n",
       "        text-align: right;\n",
       "    }\n",
       "</style>\n",
       "<table border=\"1\" class=\"dataframe\">\n",
       "  <thead>\n",
       "    <tr style=\"text-align: right;\">\n",
       "      <th></th>\n",
       "      <th>Text</th>\n",
       "      <th>label</th>\n",
       "      <th>label_num</th>\n",
       "    </tr>\n",
       "  </thead>\n",
       "  <tbody>\n",
       "    <tr>\n",
       "      <th>0</th>\n",
       "      <td>Urban Ladder Eisner Low Back Study-Office Comp...</td>\n",
       "      <td>Household</td>\n",
       "      <td>3</td>\n",
       "    </tr>\n",
       "    <tr>\n",
       "      <th>1</th>\n",
       "      <td>Contrast living Wooden Decorative Box,Painted ...</td>\n",
       "      <td>Household</td>\n",
       "      <td>3</td>\n",
       "    </tr>\n",
       "    <tr>\n",
       "      <th>2</th>\n",
       "      <td>IO Crest SY-PCI40010 PCI RAID Host Controller ...</td>\n",
       "      <td>Electronics</td>\n",
       "      <td>2</td>\n",
       "    </tr>\n",
       "    <tr>\n",
       "      <th>3</th>\n",
       "      <td>ISAKAA Baby Socks from Just Born to 8 Years- P...</td>\n",
       "      <td>Clothing &amp; Accessories</td>\n",
       "      <td>1</td>\n",
       "    </tr>\n",
       "    <tr>\n",
       "      <th>4</th>\n",
       "      <td>Indira Designer Women's Art Mysore Silk Saree ...</td>\n",
       "      <td>Clothing &amp; Accessories</td>\n",
       "      <td>1</td>\n",
       "    </tr>\n",
       "  </tbody>\n",
       "</table>\n",
       "</div>"
      ],
      "text/plain": [
       "                                                Text                   label  \\\n",
       "0  Urban Ladder Eisner Low Back Study-Office Comp...               Household   \n",
       "1  Contrast living Wooden Decorative Box,Painted ...               Household   \n",
       "2  IO Crest SY-PCI40010 PCI RAID Host Controller ...             Electronics   \n",
       "3  ISAKAA Baby Socks from Just Born to 8 Years- P...  Clothing & Accessories   \n",
       "4  Indira Designer Women's Art Mysore Silk Saree ...  Clothing & Accessories   \n",
       "\n",
       "   label_num  \n",
       "0          3  \n",
       "1          3  \n",
       "2          2  \n",
       "3          1  \n",
       "4          1  "
      ]
     },
     "execution_count": 42,
     "metadata": {},
     "output_type": "execute_result"
    }
   ],
   "source": [
    "df['label_num'] = df.label.map({\n",
    "    'Books': 0,\n",
    "    'Clothing & Accessories': 1,\n",
    "    'Electronics': 2,\n",
    "    'Household': 3\n",
    "})\n",
    "\n",
    "df.head()"
   ]
  },
  {
   "cell_type": "markdown",
   "id": "c40beaa9-d44e-4b36-8f77-efe012f6d286",
   "metadata": {},
   "source": [
    "#### Train Test Split"
   ]
  },
  {
   "cell_type": "code",
   "execution_count": 43,
   "id": "11c84df2-0222-41d1-8dae-15735c63ea88",
   "metadata": {},
   "outputs": [],
   "source": [
    "from sklearn.model_selection import train_test_split\n",
    "\n",
    "X_train, X_test, y_train, y_test = train_test_split(\n",
    "    df.Text,\n",
    "    df.label_num,\n",
    "    test_size = 0.2,\n",
    "    random_state = 69,\n",
    "    stratify = df.label_num\n",
    ")"
   ]
  },
  {
   "cell_type": "code",
   "execution_count": 48,
   "id": "5130510d-37ca-4818-8b1f-d5371906c107",
   "metadata": {},
   "outputs": [
    {
     "name": "stdout",
     "output_type": "stream",
     "text": [
      "Shape of X_train:  (19200,)\n",
      "Shape of X_test:  (4800,)\n"
     ]
    }
   ],
   "source": [
    "print(\"Shape of X_train: \", X_train.shape)\n",
    "print(\"Shape of X_test: \", X_test.shape)"
   ]
  },
  {
   "cell_type": "code",
   "execution_count": 45,
   "id": "8dff9d4a-4ce0-4c2a-896f-1be02c84b81f",
   "metadata": {},
   "outputs": [
    {
     "data": {
      "text/plain": [
       "label_num\n",
       "0    4800\n",
       "2    4800\n",
       "3    4800\n",
       "1    4800\n",
       "Name: count, dtype: int64"
      ]
     },
     "execution_count": 45,
     "metadata": {},
     "output_type": "execute_result"
    }
   ],
   "source": [
    "y_train.value_counts()"
   ]
  },
  {
   "cell_type": "code",
   "execution_count": 47,
   "id": "ba72bae0-185e-4bc2-b9c0-018ccb65d887",
   "metadata": {},
   "outputs": [
    {
     "data": {
      "text/plain": [
       "label_num\n",
       "2    1200\n",
       "1    1200\n",
       "0    1200\n",
       "3    1200\n",
       "Name: count, dtype: int64"
      ]
     },
     "execution_count": 47,
     "metadata": {},
     "output_type": "execute_result"
    }
   ],
   "source": [
    "y_test.value_counts()"
   ]
  },
  {
   "cell_type": "markdown",
   "id": "824e3cc0-6ef8-48c3-a860-dd3053c7ab48",
   "metadata": {},
   "source": [
    "### Model Training and Testing"
   ]
  },
  {
   "cell_type": "markdown",
   "id": "ae699eb1-4630-446e-bae8-67c910e6f1bf",
   "metadata": {},
   "source": [
    "#### KNN"
   ]
  },
  {
   "cell_type": "code",
   "execution_count": 51,
   "id": "78978bc8-2b9e-4470-b9e6-3f85d93427e5",
   "metadata": {},
   "outputs": [
    {
     "name": "stdout",
     "output_type": "stream",
     "text": [
      "              precision    recall  f1-score   support\n",
      "\n",
      "           0       0.97      0.96      0.96      1200\n",
      "           1       0.98      0.98      0.98      1200\n",
      "           2       0.96      0.97      0.97      1200\n",
      "           3       0.96      0.96      0.96      1200\n",
      "\n",
      "    accuracy                           0.97      4800\n",
      "   macro avg       0.97      0.97      0.97      4800\n",
      "weighted avg       0.97      0.97      0.97      4800\n",
      "\n"
     ]
    }
   ],
   "source": [
    "from sklearn.neighbors import KNeighborsClassifier\n",
    "from sklearn.pipeline import Pipeline\n",
    "from sklearn.metrics import classification_report\n",
    "\n",
    "clf = Pipeline([\n",
    "    ('tf_idf',TfidfVectorizer()),\n",
    "    ('KNN',KNeighborsClassifier())\n",
    "])\n",
    "\n",
    "clf.fit(X_train, y_train)\n",
    "\n",
    "y_pred = clf.predict(X_test)\n",
    "\n",
    "print(classification_report(y_test, y_pred))"
   ]
  },
  {
   "cell_type": "code",
   "execution_count": 52,
   "id": "ab39c63c-3ed9-40b5-8f79-caeb164ea589",
   "metadata": {},
   "outputs": [
    {
     "data": {
      "text/plain": [
       "16069    SAMSUNG M378T5663QZ3-CF7 Samsung 2gb Ddr2 800m...\n",
       "15343    Generic High Gain 16dBi 2.4GHz Wifi Yagi Anten...\n",
       "11342    Acer Switch Atom 10.1-inch Laptop (2GB/32GB/Wi...\n",
       "17139    Sathiyas Girls Graphic Printed T-Shirt - (Pack...\n",
       "20846    IT VISION ™ 15 PIN MALE TO MALE VGA CABLE 1.5 ...\n",
       "Name: Text, dtype: object"
      ]
     },
     "execution_count": 52,
     "metadata": {},
     "output_type": "execute_result"
    }
   ],
   "source": [
    "X_test[:5]"
   ]
  },
  {
   "cell_type": "code",
   "execution_count": 57,
   "id": "aa792614-71e3-4240-a6a5-87b7ec2032ee",
   "metadata": {},
   "outputs": [
    {
     "data": {
      "text/plain": [
       "'SAMSUNG M378T5663QZ3-CF7 Samsung 2gb Ddr2 800mhz Pc2-6400 240pins 256mx64 C SAMSUNG 2gb ddr2 800mhz pc2-6400 240pins desktop RAM part number m378t5663qz3-cf7.'"
      ]
     },
     "execution_count": 57,
     "metadata": {},
     "output_type": "execute_result"
    }
   ],
   "source": [
    "X_test[:5][16069]"
   ]
  },
  {
   "cell_type": "markdown",
   "id": "dd15b49a-89c7-42e4-92a3-4e47b66a78ab",
   "metadata": {},
   "source": [
    "| Label                   | Class |\n",
    "|--------------------------|-------|\n",
    "| Books                   | 0     |\n",
    "| Clothing & Accessories  | 1     |\n",
    "| Electronics             | 2     |\n",
    "| Household               | 3     |"
   ]
  },
  {
   "cell_type": "code",
   "execution_count": 53,
   "id": "e50b9f90-e1dc-4860-a775-6817c7c88790",
   "metadata": {},
   "outputs": [
    {
     "data": {
      "text/plain": [
       "16069    2\n",
       "15343    2\n",
       "11342    2\n",
       "17139    1\n",
       "20846    2\n",
       "Name: label_num, dtype: int64"
      ]
     },
     "execution_count": 53,
     "metadata": {},
     "output_type": "execute_result"
    }
   ],
   "source": [
    "y_test[:5]"
   ]
  },
  {
   "cell_type": "code",
   "execution_count": 54,
   "id": "de2e19b4-164f-43e3-a24c-3ac8935cbc42",
   "metadata": {},
   "outputs": [
    {
     "data": {
      "text/plain": [
       "array([2, 2, 2, 1, 2])"
      ]
     },
     "execution_count": 54,
     "metadata": {},
     "output_type": "execute_result"
    }
   ],
   "source": [
    "y_pred[:5]"
   ]
  },
  {
   "cell_type": "markdown",
   "id": "842021f2-e8dd-448a-8e07-8cab8adbb908",
   "metadata": {},
   "source": [
    "#### Naive Bayes"
   ]
  },
  {
   "cell_type": "code",
   "execution_count": 58,
   "id": "c1f29d8f-adf1-4cf6-9a94-fb4d4d7f05e3",
   "metadata": {},
   "outputs": [
    {
     "name": "stdout",
     "output_type": "stream",
     "text": [
      "              precision    recall  f1-score   support\n",
      "\n",
      "           0       0.98      0.93      0.96      1200\n",
      "           1       0.99      0.99      0.99      1200\n",
      "           2       0.97      0.97      0.97      1200\n",
      "           3       0.93      0.98      0.95      1200\n",
      "\n",
      "    accuracy                           0.97      4800\n",
      "   macro avg       0.97      0.97      0.97      4800\n",
      "weighted avg       0.97      0.97      0.97      4800\n",
      "\n"
     ]
    }
   ],
   "source": [
    "from sklearn.naive_bayes import MultinomialNB\n",
    "from sklearn.pipeline import Pipeline\n",
    "from sklearn.metrics import classification_report\n",
    "\n",
    "clf = Pipeline([\n",
    "    ('tf_idf',TfidfVectorizer()),\n",
    "    ('NB',MultinomialNB())\n",
    "])\n",
    "\n",
    "clf.fit(X_train, y_train)\n",
    "\n",
    "y_pred = clf.predict(X_test)\n",
    "\n",
    "print(classification_report(y_test, y_pred))"
   ]
  },
  {
   "cell_type": "markdown",
   "id": "675cc236-58f2-4cfc-b132-79321d5775da",
   "metadata": {},
   "source": [
    "#### Random Forest"
   ]
  },
  {
   "cell_type": "code",
   "execution_count": 60,
   "id": "02a4a1e1-6355-41e5-b387-1792fe86245e",
   "metadata": {},
   "outputs": [
    {
     "name": "stdout",
     "output_type": "stream",
     "text": [
      "              precision    recall  f1-score   support\n",
      "\n",
      "           0       0.98      0.98      0.98      1200\n",
      "           1       0.98      0.98      0.98      1200\n",
      "           2       0.99      0.98      0.98      1200\n",
      "           3       0.97      0.97      0.97      1200\n",
      "\n",
      "    accuracy                           0.98      4800\n",
      "   macro avg       0.98      0.98      0.98      4800\n",
      "weighted avg       0.98      0.98      0.98      4800\n",
      "\n"
     ]
    }
   ],
   "source": [
    "from sklearn.ensemble import RandomForestClassifier\n",
    "from sklearn.pipeline import Pipeline\n",
    "from sklearn.metrics import classification_report\n",
    "\n",
    "clf = Pipeline([\n",
    "    ('tf_idf',TfidfVectorizer()),\n",
    "    ('rf',RandomForestClassifier())\n",
    "])\n",
    "\n",
    "clf.fit(X_train, y_train)\n",
    "\n",
    "y_pred = clf.predict(X_test)\n",
    "\n",
    "print(classification_report(y_test, y_pred))"
   ]
  },
  {
   "cell_type": "markdown",
   "id": "3484ff36-572f-48b3-8be7-8418ab23b243",
   "metadata": {},
   "source": [
    "### Model training after preprocessing"
   ]
  },
  {
   "cell_type": "code",
   "execution_count": 64,
   "id": "263dcb75-bdcb-491b-8161-0ca8d0b6b441",
   "metadata": {},
   "outputs": [],
   "source": [
    "import spacy\n",
    "\n",
    "nlp = spacy.load(\"en_core_web_md\")\n",
    "\n",
    "def preprocess(text):\n",
    "    doc = nlp(text)\n",
    "    filtered_tokens = []\n",
    "    for token in doc:\n",
    "        if token.is_stop or token.is_punct:\n",
    "            continue\n",
    "        filtered_tokens.append(token.lemma_)\n",
    "        \n",
    "    return ' '.join(filtered_tokens)"
   ]
  },
  {
   "cell_type": "code",
   "execution_count": 66,
   "id": "6679ef23-0c45-42c6-b35c-6dc064a98044",
   "metadata": {},
   "outputs": [],
   "source": [
    "df['preprocessed_text'] = df['Text'].apply(preprocess)"
   ]
  },
  {
   "cell_type": "code",
   "execution_count": 67,
   "id": "51829bee-a52b-43b1-897c-b6c463931223",
   "metadata": {},
   "outputs": [
    {
     "data": {
      "text/html": [
       "<div>\n",
       "<style scoped>\n",
       "    .dataframe tbody tr th:only-of-type {\n",
       "        vertical-align: middle;\n",
       "    }\n",
       "\n",
       "    .dataframe tbody tr th {\n",
       "        vertical-align: top;\n",
       "    }\n",
       "\n",
       "    .dataframe thead th {\n",
       "        text-align: right;\n",
       "    }\n",
       "</style>\n",
       "<table border=\"1\" class=\"dataframe\">\n",
       "  <thead>\n",
       "    <tr style=\"text-align: right;\">\n",
       "      <th></th>\n",
       "      <th>Text</th>\n",
       "      <th>label</th>\n",
       "      <th>label_num</th>\n",
       "      <th>preprocessed_text</th>\n",
       "    </tr>\n",
       "  </thead>\n",
       "  <tbody>\n",
       "    <tr>\n",
       "      <th>0</th>\n",
       "      <td>Urban Ladder Eisner Low Back Study-Office Comp...</td>\n",
       "      <td>Household</td>\n",
       "      <td>3</td>\n",
       "      <td>Urban Ladder Eisner Low Study Office Computer ...</td>\n",
       "    </tr>\n",
       "    <tr>\n",
       "      <th>1</th>\n",
       "      <td>Contrast living Wooden Decorative Box,Painted ...</td>\n",
       "      <td>Household</td>\n",
       "      <td>3</td>\n",
       "      <td>contrast live Wooden Decorative Box Painted Bo...</td>\n",
       "    </tr>\n",
       "    <tr>\n",
       "      <th>2</th>\n",
       "      <td>IO Crest SY-PCI40010 PCI RAID Host Controller ...</td>\n",
       "      <td>Electronics</td>\n",
       "      <td>2</td>\n",
       "      <td>IO Crest SY pci40010 PCI RAID Host Controller ...</td>\n",
       "    </tr>\n",
       "    <tr>\n",
       "      <th>3</th>\n",
       "      <td>ISAKAA Baby Socks from Just Born to 8 Years- P...</td>\n",
       "      <td>Clothing &amp; Accessories</td>\n",
       "      <td>1</td>\n",
       "      <td>ISAKAA Baby Socks bear 8 years- Pack 4 6 8 12 ...</td>\n",
       "    </tr>\n",
       "    <tr>\n",
       "      <th>4</th>\n",
       "      <td>Indira Designer Women's Art Mysore Silk Saree ...</td>\n",
       "      <td>Clothing &amp; Accessories</td>\n",
       "      <td>1</td>\n",
       "      <td>Indira Designer Women Art Mysore Silk Saree Bl...</td>\n",
       "    </tr>\n",
       "  </tbody>\n",
       "</table>\n",
       "</div>"
      ],
      "text/plain": [
       "                                                Text                   label  \\\n",
       "0  Urban Ladder Eisner Low Back Study-Office Comp...               Household   \n",
       "1  Contrast living Wooden Decorative Box,Painted ...               Household   \n",
       "2  IO Crest SY-PCI40010 PCI RAID Host Controller ...             Electronics   \n",
       "3  ISAKAA Baby Socks from Just Born to 8 Years- P...  Clothing & Accessories   \n",
       "4  Indira Designer Women's Art Mysore Silk Saree ...  Clothing & Accessories   \n",
       "\n",
       "   label_num                                  preprocessed_text  \n",
       "0          3  Urban Ladder Eisner Low Study Office Computer ...  \n",
       "1          3  contrast live Wooden Decorative Box Painted Bo...  \n",
       "2          2  IO Crest SY pci40010 PCI RAID Host Controller ...  \n",
       "3          1  ISAKAA Baby Socks bear 8 years- Pack 4 6 8 12 ...  \n",
       "4          1  Indira Designer Women Art Mysore Silk Saree Bl...  "
      ]
     },
     "execution_count": 67,
     "metadata": {},
     "output_type": "execute_result"
    }
   ],
   "source": [
    "df.head()"
   ]
  },
  {
   "cell_type": "code",
   "execution_count": 68,
   "id": "306b41fe-d540-486f-a0fb-05b8db9d4f37",
   "metadata": {},
   "outputs": [
    {
     "data": {
      "text/plain": [
       "'Urban Ladder Eisner Low Back Study-Office Computer Chair(Black) A study in simple. The Eisner study chair has a firm foam cushion, which makes long hours at your desk comfortable. The flexible meshed back is designed for air-circulation and support when you lean back. The curved arms provide ergonomic forearm support. Adjust the height using the gas lift to find that comfortable position and the nylon castors make it easy to move around your space. Chrome legs refer to the images for dimension details any assembly required will be done by the UL team at the time of delivery indoor use only.'"
      ]
     },
     "execution_count": 68,
     "metadata": {},
     "output_type": "execute_result"
    }
   ],
   "source": [
    "df.Text[0]"
   ]
  },
  {
   "cell_type": "code",
   "execution_count": 69,
   "id": "ae30784f-b29e-4f1f-83c1-2c34f8fb65e3",
   "metadata": {},
   "outputs": [
    {
     "data": {
      "text/plain": [
       "'Urban Ladder Eisner Low Study Office Computer Chair(Black study simple Eisner study chair firm foam cushion make long hour desk comfortable flexible mesh design air circulation support lean curved arm provide ergonomic forearm support adjust height gas lift find comfortable position nylon castor easy space chrome leg refer image dimension detail assembly require UL team time delivery indoor use'"
      ]
     },
     "execution_count": 69,
     "metadata": {},
     "output_type": "execute_result"
    }
   ],
   "source": [
    "df.preprocessed_text[0]"
   ]
  },
  {
   "cell_type": "code",
   "execution_count": 70,
   "id": "a0a9f0a3-a283-4b01-819b-7ca44d0227d1",
   "metadata": {},
   "outputs": [],
   "source": [
    "X_train, X_test, y_train, y_test = train_test_split(\n",
    "    df.preprocessed_text,\n",
    "    df.label_num,\n",
    "    test_size = 0.2,\n",
    "    random_state = 69,\n",
    "    stratify = df.label_num\n",
    ")"
   ]
  },
  {
   "cell_type": "code",
   "execution_count": 71,
   "id": "fe077675-aec1-4287-926f-64509f7e6b39",
   "metadata": {},
   "outputs": [
    {
     "name": "stdout",
     "output_type": "stream",
     "text": [
      "              precision    recall  f1-score   support\n",
      "\n",
      "           0       0.98      0.98      0.98      1200\n",
      "           1       0.98      0.98      0.98      1200\n",
      "           2       0.98      0.98      0.98      1200\n",
      "           3       0.98      0.97      0.98      1200\n",
      "\n",
      "    accuracy                           0.98      4800\n",
      "   macro avg       0.98      0.98      0.98      4800\n",
      "weighted avg       0.98      0.98      0.98      4800\n",
      "\n"
     ]
    }
   ],
   "source": [
    "clf = Pipeline([\n",
    "    ('tf_idf',TfidfVectorizer()),\n",
    "    ('rf',RandomForestClassifier())\n",
    "])\n",
    "\n",
    "clf.fit(X_train, y_train)\n",
    "\n",
    "y_pred = clf.predict(X_test)\n",
    "\n",
    "print(classification_report(y_test, y_pred))"
   ]
  }
 ],
 "metadata": {
  "kernelspec": {
   "display_name": "Python 3 (ipykernel)",
   "language": "python",
   "name": "python3"
  },
  "language_info": {
   "codemirror_mode": {
    "name": "ipython",
    "version": 3
   },
   "file_extension": ".py",
   "mimetype": "text/x-python",
   "name": "python",
   "nbconvert_exporter": "python",
   "pygments_lexer": "ipython3",
   "version": "3.10.17"
  }
 },
 "nbformat": 4,
 "nbformat_minor": 5
}
