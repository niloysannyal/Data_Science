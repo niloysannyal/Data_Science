{
 "cells": [
  {
   "cell_type": "markdown",
   "id": "15ff9cee-aff2-4185-9fb9-de597b9c628d",
   "metadata": {},
   "source": [
    "<h1 style=\"text-align:center;color:mediumvioletred\">Word Embeddings</h1>"
   ]
  },
  {
   "cell_type": "code",
   "execution_count": 1,
   "id": "ab242c9c-33a3-4cea-b8c9-fcf49ce30ed9",
   "metadata": {},
   "outputs": [],
   "source": [
    "import spacy\n",
    "\n",
    "nlp = spacy.load(\"en_core_web_lg\")"
   ]
  },
  {
   "cell_type": "code",
   "execution_count": 6,
   "id": "79fc51fe-5bac-439c-8f1a-01e42e13d1f5",
   "metadata": {},
   "outputs": [
    {
     "name": "stdout",
     "output_type": "stream",
     "text": [
      "Tiger  |  Has vector:  True   |  OOV: False\n",
      "is  |  Has vector:  True   |  OOV: False\n",
      "stronger  |  Has vector:  True   |  OOV: False\n",
      "than  |  Has vector:  True   |  OOV: False\n",
      "Lion  |  Has vector:  True   |  OOV: False\n",
      "sannyal  |  Has vector:  False   |  OOV: True\n"
     ]
    }
   ],
   "source": [
    "doc = nlp(\"Tiger is stronger than Lion sannyal\")\n",
    "\n",
    "for token in doc:\n",
    "    print(token.text, \" |  Has vector: \", token.has_vector, \"  |  OOV:\",token.is_oov)"
   ]
  },
  {
   "cell_type": "code",
   "execution_count": 7,
   "id": "67b56409-6946-42ba-992e-7dee8426486f",
   "metadata": {
    "scrolled": true
   },
   "outputs": [
    {
     "data": {
      "text/plain": [
       "array([-7.7401e-02,  3.0720e-01,  5.6327e-01,  6.5197e-02, -1.9459e-01,\n",
       "        3.5109e-01, -2.6332e-01, -2.9240e-01,  1.2366e-01,  8.0364e-01,\n",
       "       -9.5396e-01, -3.4114e-01, -5.3839e-01, -4.2171e-01,  4.1513e-02,\n",
       "        4.6743e-01,  5.3208e-02,  5.3346e-01,  1.4223e-01, -2.7007e-01,\n",
       "       -5.0356e-01,  9.4239e-02, -1.2544e-01, -4.5848e-01, -6.3005e-01,\n",
       "        3.5549e-02, -2.7597e-01,  1.6244e-01, -1.3501e-01,  2.2356e-01,\n",
       "       -5.4619e-01, -4.6469e-01, -5.7351e-02, -5.2430e-01, -1.1858e-01,\n",
       "       -4.7632e-01,  4.9438e-01, -6.5216e-01, -4.7242e-01, -4.3884e-01,\n",
       "       -4.9508e-02, -1.2825e-02, -3.9187e-02, -1.2325e-01,  5.3109e-01,\n",
       "        1.4799e-01, -6.4225e-01,  2.7658e-01,  1.8264e-01, -2.6399e-02,\n",
       "       -3.1776e-01, -1.4171e-01,  5.6357e-02,  1.4622e-01, -2.9886e-01,\n",
       "        9.5876e-02, -7.3108e-02,  2.3698e-01,  3.7027e-01,  7.1839e-01,\n",
       "       -4.5017e-01, -2.8666e-01, -1.8063e-01, -4.2426e-01, -2.1504e-01,\n",
       "       -4.0165e-02,  6.0002e-02,  3.7146e-01, -1.5689e-01, -4.3881e-01,\n",
       "       -2.5485e-01, -5.8879e-01,  4.5016e-02,  2.6004e-02, -2.4944e-01,\n",
       "        4.1846e-01,  5.8601e-02, -1.8841e-02,  1.3920e-01, -6.8944e-01,\n",
       "       -1.3630e-01, -2.8743e-01,  6.4107e-02,  1.9292e-01, -1.0566e-01,\n",
       "       -2.9465e-01,  8.7792e-01,  3.1222e-01, -7.2521e-02, -2.7582e-01,\n",
       "       -4.2181e-01,  2.5719e-01,  1.3458e-01, -5.7661e-01,  1.8619e-01,\n",
       "        1.2459e-01, -6.0304e-02, -6.7247e-02,  9.0106e-02,  4.1379e-01,\n",
       "       -4.5970e-01,  5.4796e-01,  4.6227e-01, -1.0733e-01, -2.4270e-01,\n",
       "       -8.1595e-01, -3.1302e-01,  2.8695e-01,  4.0885e-01,  1.2249e-01,\n",
       "       -3.6931e-01,  5.2062e-02,  1.3040e-02, -2.6355e-01, -2.0470e-01,\n",
       "        1.1267e-01,  4.8041e-01, -8.2106e-02,  3.4858e-01,  2.9271e-01,\n",
       "       -5.2118e-02,  3.0796e-01,  8.1991e-01, -6.5109e-01, -5.7553e-01,\n",
       "        1.7238e-01,  9.8752e-02, -7.3307e-02, -1.1411e+00,  2.7939e-02,\n",
       "        2.9818e-01, -7.6627e-01, -4.0474e-01, -5.0532e-01, -9.5393e-02,\n",
       "       -1.9908e-01, -6.3065e-02,  3.4093e-02, -4.7011e-03,  4.3975e-01,\n",
       "       -2.7960e+00, -1.1792e-01, -2.6728e-02,  2.2515e-01,  3.5537e-01,\n",
       "       -1.4248e-01,  2.8120e-01,  6.1088e-01,  2.2363e-01,  3.2687e-02,\n",
       "       -3.3352e-01,  3.3718e-01,  2.1764e-01,  5.8590e-03, -1.2593e-01,\n",
       "       -4.8298e-02, -2.6307e-01,  2.4921e-01, -1.6262e-01,  3.9094e-01,\n",
       "        6.0458e-01,  4.3546e-01, -5.3904e-01,  3.4304e-01,  1.6705e-01,\n",
       "        2.2104e-01, -4.6177e-01, -3.7509e-01, -2.6804e-01,  2.3108e-01,\n",
       "       -3.0254e-01,  2.5565e-01, -2.1671e-01,  8.2574e-02, -1.8299e-01,\n",
       "        1.1032e-01,  4.4976e-01,  4.4821e-02,  1.8744e-01, -8.3484e-02,\n",
       "       -4.0874e-01,  2.4564e-01,  9.9365e-02, -1.0648e-01,  3.1283e-02,\n",
       "        3.9646e-01,  4.1057e-02, -2.8667e-01, -1.3733e-01, -3.3408e-01,\n",
       "       -3.3964e-01,  1.8460e-01, -1.7021e-01,  1.0416e-01,  3.3932e-01,\n",
       "       -1.8529e-01,  4.3426e-01,  1.5513e-01,  2.7452e-01, -3.7282e-01,\n",
       "       -4.0160e-01,  3.8378e-01, -2.2337e-01, -1.1286e-01,  1.6666e-01,\n",
       "       -2.9141e-01,  4.5317e-01,  1.3046e-01, -1.2082e-02,  3.8776e-02,\n",
       "       -8.8944e-02,  2.8224e-01,  1.6993e-01,  4.5809e-02, -1.7307e-01,\n",
       "       -1.3287e-01, -8.6803e-01,  4.8987e-02,  1.9128e-01, -1.0485e-01,\n",
       "        3.7915e-02,  1.4240e-02,  1.3760e-01, -5.3099e-01, -2.7807e-01,\n",
       "        3.0420e-01,  2.4594e-02,  9.0732e-01,  2.9876e-01,  4.4017e-01,\n",
       "        1.3846e-01, -1.0591e-01,  7.7135e-02,  4.8419e-02,  1.4669e-02,\n",
       "        1.2185e-01, -2.5471e-01, -1.9211e-01, -1.3520e-01,  6.7374e-01,\n",
       "        6.9870e-03, -4.9311e-01, -1.5475e-01, -3.7002e-01, -2.9854e-01,\n",
       "       -1.1039e-01,  1.4300e-01, -7.7570e-02,  1.0812e-01, -2.7406e-01,\n",
       "        1.6781e-01,  3.6747e-01, -2.1744e-01,  7.7320e-01,  4.8939e-01,\n",
       "       -1.3330e-01, -2.1776e-01,  4.5927e-01,  6.5550e-02, -6.2769e-01,\n",
       "        3.3447e-01, -3.0589e-01, -2.9925e-01, -1.1094e-01, -1.3199e-01,\n",
       "       -7.3358e-02,  1.9689e-01, -1.3735e-01, -1.2698e-01, -1.7632e-01,\n",
       "       -4.2545e-01,  3.5240e-01,  1.7053e-01,  3.9915e-01,  4.0285e-01,\n",
       "       -3.2561e-02,  1.6583e-01, -8.8801e-02, -7.7530e-01, -3.1985e-01,\n",
       "        2.0137e-01,  2.3206e-02,  1.4855e-03, -3.6328e-01,  8.6768e-01,\n",
       "       -3.1860e-01, -3.6925e-01, -8.1722e-02,  1.4783e-01, -4.1519e-01,\n",
       "       -4.3627e-01,  1.6637e-02, -4.0926e-01,  2.8673e-01, -4.0247e-01,\n",
       "        5.6339e-01, -8.7730e-02,  3.2958e-01,  4.2140e-01, -1.0215e-01],\n",
       "      dtype=float32)"
      ]
     },
     "execution_count": 7,
     "metadata": {},
     "output_type": "execute_result"
    }
   ],
   "source": [
    "tiger_vec = doc[0].vector\n",
    "tiger_vec"
   ]
  },
  {
   "cell_type": "code",
   "execution_count": 8,
   "id": "6c0c5bfc-3783-4a56-8e24-a15d2f9b938b",
   "metadata": {},
   "outputs": [
    {
     "data": {
      "text/plain": [
       "(300,)"
      ]
     },
     "execution_count": 8,
     "metadata": {},
     "output_type": "execute_result"
    }
   ],
   "source": [
    "tiger_vec.shape"
   ]
  },
  {
   "cell_type": "code",
   "execution_count": 10,
   "id": "5c29d01b-8e4e-4cf5-bd5f-3f39b2039bdd",
   "metadata": {},
   "outputs": [
    {
     "data": {
      "text/plain": [
       "(300,)"
      ]
     },
     "execution_count": 10,
     "metadata": {},
     "output_type": "execute_result"
    }
   ],
   "source": [
    "animal = nlp(\"Leopard\")\n",
    "animal.vector.shape"
   ]
  },
  {
   "cell_type": "code",
   "execution_count": 16,
   "id": "4712c377-4661-40e8-912b-a08c5da5f2b8",
   "metadata": {},
   "outputs": [
    {
     "name": "stdout",
     "output_type": "stream",
     "text": [
      "Lion  <->  Leopard  similarity: 0.6624139547348022\n",
      "riding  <->  Leopard  similarity: 0.2058274745941162\n",
      "bike  <->  Leopard  similarity: 0.11006000638008118\n",
      "and  <->  Leopard  similarity: 0.1652306467294693\n",
      "watching  <->  Leopard  similarity: 0.1242092028260231\n",
      "Cheetah  <->  Leopard  similarity: 0.7297382354736328\n",
      "overtaking  <->  Leopard  similarity: 0.08798958361148834\n",
      "him  <->  Leopard  similarity: 0.12287446111440659\n"
     ]
    }
   ],
   "source": [
    "doc = nlp(\"Lion riding bike and watching Cheetah overtaking him\")\n",
    "for token in doc:\n",
    "    print(f\"{token.text}  <->  {animal.text}  similarity: {token.similarity(animal)}\")"
   ]
  },
  {
   "cell_type": "code",
   "execution_count": 17,
   "id": "fe3b22a4-2492-444f-befc-6ba17721b4c0",
   "metadata": {},
   "outputs": [],
   "source": [
    "def print_similarity(base_word, words_to_compare):\n",
    "    base_token = nlp(base_word)\n",
    "    doc = nlp(words_to_compare)\n",
    "    for token in doc:\n",
    "        print(f\"{token.text}  <->  {base_token.text}   similarity: {token.similarity(base_token)}\")"
   ]
  },
  {
   "cell_type": "code",
   "execution_count": 23,
   "id": "e245b202-3521-41dc-b734-d2a381bc9d17",
   "metadata": {},
   "outputs": [
    {
     "name": "stdout",
     "output_type": "stream",
     "text": [
      "I  <->  bread   similarity: 0.26605987548828125\n",
      "love  <->  bread   similarity: 0.34027814865112305\n",
      "eating  <->  bread   similarity: 0.528892993927002\n",
      "bread  <->  bread   similarity: 1.0\n",
      "and  <->  bread   similarity: 0.2800658047199249\n",
      "burger  <->  bread   similarity: 0.544037401676178\n",
      "while  <->  bread   similarity: 0.2685699760913849\n",
      "playing  <->  bread   similarity: 0.1097496747970581\n",
      "football  <->  bread   similarity: 0.1608579456806183\n",
      "game  <->  bread   similarity: 0.14567650854587555\n"
     ]
    }
   ],
   "source": [
    "print_similarity(\"bread\", \"I love eating bread and burger while playing football game\")"
   ]
  },
  {
   "cell_type": "code",
   "execution_count": 24,
   "id": "0355e1f8-4c1c-4c40-8d49-c8b6e021b466",
   "metadata": {},
   "outputs": [],
   "source": [
    "king = nlp(\"king\").vector\n",
    "man = nlp(\"man\").vector\n",
    "woman = nlp(\"woman\").vector\n",
    "queen = nlp(\"queen\").vector\n",
    "\n",
    "result = king - man + woman"
   ]
  },
  {
   "cell_type": "code",
   "execution_count": 28,
   "id": "c78a8935-ece3-4420-9f3d-f345a6060578",
   "metadata": {},
   "outputs": [
    {
     "data": {
      "text/plain": [
       "array([[0.78808445]], dtype=float32)"
      ]
     },
     "execution_count": 28,
     "metadata": {},
     "output_type": "execute_result"
    }
   ],
   "source": [
    "from sklearn.metrics.pairwise import cosine_similarity\n",
    "\n",
    "cosine_similarity([result], [queen])"
   ]
  }
 ],
 "metadata": {
  "kernelspec": {
   "display_name": "Python 3 (ipykernel)",
   "language": "python",
   "name": "python3"
  },
  "language_info": {
   "codemirror_mode": {
    "name": "ipython",
    "version": 3
   },
   "file_extension": ".py",
   "mimetype": "text/x-python",
   "name": "python",
   "nbconvert_exporter": "python",
   "pygments_lexer": "ipython3",
   "version": "3.10.17"
  }
 },
 "nbformat": 4,
 "nbformat_minor": 5
}
