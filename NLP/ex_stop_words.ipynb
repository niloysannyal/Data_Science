{
 "cells": [
  {
   "cell_type": "markdown",
   "id": "d4cf8b85-ce0e-48db-bb85-deb72189a1a6",
   "metadata": {},
   "source": [
    "<h1 style=\"text-align:center;color:mediumvioletred\">Exercise: Stop Words</h1>"
   ]
  },
  {
   "cell_type": "markdown",
   "id": "91828ed5-a689-49a0-a73f-c87e16888aa6",
   "metadata": {},
   "source": [
    "## **Exercise1:** \n",
    "- From a Given Text, Count the number of stop words in it.\n",
    "- Print the percentage of stop word tokens compared to all tokens in a given text."
   ]
  },
  {
   "cell_type": "code",
   "execution_count": 1,
   "id": "787e3b68-c096-4a5c-b000-75dced08bf02",
   "metadata": {},
   "outputs": [],
   "source": [
    "text = '''\n",
    "Thor: Love and Thunder is a 2022 American superhero film based on Marvel Comics featuring the character Thor, produced by Marvel Studios and \n",
    "distributed by Walt Disney Studios Motion Pictures. It is the sequel to Thor: Ragnarok (2017) and the 29th film in the Marvel Cinematic Universe (MCU).\n",
    "The film is directed by Taika Waititi, who co-wrote the script with Jennifer Kaytin Robinson, and stars Chris Hemsworth as Thor alongside Christian Bale, Tessa Thompson,\n",
    "Jaimie Alexander, Waititi, Russell Crowe, and Natalie Portman. In the film, Thor attempts to find inner peace, but must return to action and recruit Valkyrie (Thompson),\n",
    "Korg (Waititi), and Jane Foster (Portman)—who is now the Mighty Thor—to stop Gorr the God Butcher (Bale) from eliminating all gods.\n",
    "'''"
   ]
  },
  {
   "cell_type": "code",
   "execution_count": 2,
   "id": "92f91c79-8fe2-4094-8f30-688bf9c2eebe",
   "metadata": {},
   "outputs": [],
   "source": [
    "import spacy\n",
    "from spacy.lang.en.stop_words import STOP_WORDS\n",
    "\n",
    "nlp = spacy.load(\"en_core_web_md\")"
   ]
  },
  {
   "cell_type": "code",
   "execution_count": 3,
   "id": "d477677f-3c14-411d-9224-a614e234b984",
   "metadata": {
    "scrolled": true
   },
   "outputs": [
    {
     "data": {
      "text/plain": [
       "['and', 'is', 'a', 'on', 'the']"
      ]
     },
     "execution_count": 3,
     "metadata": {},
     "output_type": "execute_result"
    }
   ],
   "source": [
    "doc = nlp(text)\n",
    "\n",
    "stop_words_in_doc = [token.text for token in doc if token.is_stop]\n",
    "stop_words_in_doc[:5]"
   ]
  },
  {
   "cell_type": "code",
   "execution_count": 4,
   "id": "6a5c32b7-2dc3-4aa1-a8b6-a7d5b63e575d",
   "metadata": {},
   "outputs": [
    {
     "data": {
      "text/plain": [
       "40"
      ]
     },
     "execution_count": 4,
     "metadata": {},
     "output_type": "execute_result"
    }
   ],
   "source": [
    "len(stop_words_in_doc)"
   ]
  },
  {
   "cell_type": "code",
   "execution_count": 5,
   "id": "350fbde7-f9ef-4339-8055-95d70edefd73",
   "metadata": {},
   "outputs": [
    {
     "data": {
      "text/plain": [
       "160"
      ]
     },
     "execution_count": 5,
     "metadata": {},
     "output_type": "execute_result"
    }
   ],
   "source": [
    "len(doc)"
   ]
  },
  {
   "cell_type": "code",
   "execution_count": 8,
   "id": "c2c264c7-9f0c-4444-b5dc-2e4ef36bf499",
   "metadata": {},
   "outputs": [],
   "source": [
    "percentage = 40*100 / 160"
   ]
  },
  {
   "cell_type": "code",
   "execution_count": 11,
   "id": "d03b65ef-5e37-4a40-b679-0af399f60c35",
   "metadata": {},
   "outputs": [
    {
     "name": "stdout",
     "output_type": "stream",
     "text": [
      "percentage of stop words: 25.0 %\n"
     ]
    }
   ],
   "source": [
    "print(f\"percentage of stop words: {percentage} %\")"
   ]
  },
  {
   "cell_type": "markdown",
   "id": "95091ee6-ea79-4164-9e21-175c95622bfc",
   "metadata": {},
   "source": [
    "## **Exercise2:** \n",
    "\n",
    "- Spacy default implementation considers **\"not\"** as a stop word. But in some scenarios removing 'not' will completely change the meaning of the statement/text. For Example, consider these two statements:\n",
    "\n",
    "      - this is a good movie       ----> Positive Statement\n",
    "      - this is not a good movie   ----> Negative Statement\n",
    "\n",
    "- So, after applying stopwords to those 2 texts, both will return **\"good movie\"** and does not respect the polarity/sentiments of text.\n",
    "  \n",
    "- Now, your task is to remove this stop word **\"not\"** in spaCy and help in distinguishing the texts.\n",
    "\n",
    "\n",
    "- **Hint:** GOOGLE IT! Google is your friend."
   ]
  },
  {
   "cell_type": "code",
   "execution_count": 12,
   "id": "e2947e1e-80e7-4b61-ada8-0aa8f2bca551",
   "metadata": {},
   "outputs": [],
   "source": [
    "text1 = \"this is a good movie\"\n",
    "text2 = \"this is not a good movie\""
   ]
  },
  {
   "cell_type": "code",
   "execution_count": 13,
   "id": "53203f27-85ca-4d14-bb16-a5a1e1bf5919",
   "metadata": {},
   "outputs": [],
   "source": [
    "import spacy\n",
    "from spacy.lang.en.stop_words import STOP_WORDS\n",
    "\n",
    "nlp = spacy.load(\"en_core_web_md\")"
   ]
  },
  {
   "cell_type": "code",
   "execution_count": 14,
   "id": "e007311d-c6e8-42b0-b7a7-d03ea2ecf505",
   "metadata": {},
   "outputs": [
    {
     "data": {
      "text/plain": [
       "True"
      ]
     },
     "execution_count": 14,
     "metadata": {},
     "output_type": "execute_result"
    }
   ],
   "source": [
    "'not' in STOP_WORDS"
   ]
  },
  {
   "cell_type": "code",
   "execution_count": 15,
   "id": "b7b4f722-20e1-453e-bebb-b2bafc289e84",
   "metadata": {},
   "outputs": [],
   "source": [
    "STOP_WORDS.remove(\"not\")\n",
    "nlp.vocab[\"not\"].is_stop = False"
   ]
  },
  {
   "cell_type": "code",
   "execution_count": 16,
   "id": "807e7bea-4474-455d-8bf9-e80491cba00a",
   "metadata": {},
   "outputs": [
    {
     "data": {
      "text/plain": [
       "False"
      ]
     },
     "execution_count": 16,
     "metadata": {},
     "output_type": "execute_result"
    }
   ],
   "source": [
    "'not' in STOP_WORDS"
   ]
  },
  {
   "cell_type": "code",
   "execution_count": 17,
   "id": "ec72c0ca-04b7-41fd-a3f9-0d3f6bc055f9",
   "metadata": {},
   "outputs": [],
   "source": [
    "def preprocess(text):\n",
    "    doc = nlp(text)\n",
    "    preprocessed_text = [token.text for token in doc if not token.is_stop]\n",
    "    return \" \".join(preprocessed_text)"
   ]
  },
  {
   "cell_type": "code",
   "execution_count": 18,
   "id": "d7f07d24-b989-4fa1-ba07-fdf39c946380",
   "metadata": {},
   "outputs": [
    {
     "data": {
      "text/plain": [
       "'good movie'"
      ]
     },
     "execution_count": 18,
     "metadata": {},
     "output_type": "execute_result"
    }
   ],
   "source": [
    "preprocessed_text1 = preprocess(text1)\n",
    "preprocessed_text1"
   ]
  },
  {
   "cell_type": "code",
   "execution_count": 19,
   "id": "30169ad4-cd8d-4077-afc7-ec45b2c41196",
   "metadata": {},
   "outputs": [
    {
     "data": {
      "text/plain": [
       "'not good movie'"
      ]
     },
     "execution_count": 19,
     "metadata": {},
     "output_type": "execute_result"
    }
   ],
   "source": [
    "preprocessed_text2 = preprocess(text2)\n",
    "preprocessed_text2"
   ]
  },
  {
   "cell_type": "markdown",
   "id": "fdd363c6-b98b-4eb2-a18b-208cb0183874",
   "metadata": {},
   "source": [
    "## **Exercise3:** \n",
    "\n",
    "- From a given text, output the **most frequently** used token after removing all the stop word tokens and punctuations in it. \n"
   ]
  },
  {
   "cell_type": "code",
   "execution_count": 20,
   "id": "65d67dac-b53a-493f-8a4c-fc3afcd5643f",
   "metadata": {},
   "outputs": [],
   "source": [
    "text = ''' The India men's national cricket team, also known as Team India or the Men in Blue, represents India in men's international cricket.\n",
    "It is governed by the Board of Control for Cricket in India (BCCI), and is a Full Member of the International Cricket Council (ICC) with Test,\n",
    "One Day International (ODI) and Twenty20 International (T20I) status. Cricket was introduced to India by British sailors in the 18th century, and the \n",
    "first cricket club was established in 1792. India's national cricket team played its first Test match on 25 June 1932 at Lord's, becoming the sixth team to be\n",
    "granted test cricket status.\n",
    "'''"
   ]
  },
  {
   "cell_type": "code",
   "execution_count": 21,
   "id": "b75db3ca-e67a-459c-bdba-a5576d16ee18",
   "metadata": {},
   "outputs": [],
   "source": [
    "import spacy\n",
    "from spacy.lang.en.stop_words import STOP_WORDS\n",
    "\n",
    "nlp = spacy.load(\"en_core_web_md\")"
   ]
  },
  {
   "cell_type": "code",
   "execution_count": 22,
   "id": "8c055447-aa8a-4b5b-b5ba-d9e32df05d85",
   "metadata": {},
   "outputs": [
    {
     "data": {
      "text/plain": [
       "False"
      ]
     },
     "execution_count": 22,
     "metadata": {},
     "output_type": "execute_result"
    }
   ],
   "source": [
    "'not' in STOP_WORDS"
   ]
  },
  {
   "cell_type": "code",
   "execution_count": 23,
   "id": "838899ac-fdae-4b1d-8f86-6e4e5fd0a2b7",
   "metadata": {},
   "outputs": [],
   "source": [
    "STOP_WORDS.add(\"not\")\n",
    "nlp.vocab[\"not\"].is_stop = True"
   ]
  },
  {
   "cell_type": "code",
   "execution_count": 24,
   "id": "4a372846-315b-4b19-86df-65b89f4ef70f",
   "metadata": {},
   "outputs": [
    {
     "data": {
      "text/plain": [
       "True"
      ]
     },
     "execution_count": 24,
     "metadata": {},
     "output_type": "execute_result"
    }
   ],
   "source": [
    "'not' in STOP_WORDS"
   ]
  },
  {
   "cell_type": "code",
   "execution_count": 25,
   "id": "45e2fe16-e719-40bb-8045-7930d0d63193",
   "metadata": {},
   "outputs": [],
   "source": [
    "doc = nlp(text)"
   ]
  },
  {
   "cell_type": "code",
   "execution_count": 27,
   "id": "1b9d2e9e-d87b-4048-a57b-8e178eec54f5",
   "metadata": {
    "scrolled": true
   },
   "outputs": [
    {
     "data": {
      "text/plain": [
       "['India', 'men', 'national', 'cricket', 'team']"
      ]
     },
     "execution_count": 27,
     "metadata": {},
     "output_type": "execute_result"
    }
   ],
   "source": [
    "updated_text = [token.text for token in doc if not token.is_stop and not token.is_punct and token.text!=' ' and token.text!='\\n']\n",
    "updated_text[:5]"
   ]
  },
  {
   "cell_type": "code",
   "execution_count": 28,
   "id": "1f030cc6-a2b6-411b-98dd-98c5a83d8889",
   "metadata": {},
   "outputs": [],
   "source": [
    "word_freq = {}\n",
    "for word in updated_text:\n",
    "    word_freq[word] = word_freq.get(word, 0)+1"
   ]
  },
  {
   "cell_type": "code",
   "execution_count": 30,
   "id": "bb68778f-ae0a-4e26-a0a5-52975ef62a13",
   "metadata": {
    "scrolled": true
   },
   "outputs": [
    {
     "data": {
      "text/plain": [
       "{'India': 6,\n",
       " 'men': 2,\n",
       " 'national': 2,\n",
       " 'cricket': 5,\n",
       " 'team': 3,\n",
       " 'known': 1,\n",
       " 'Team': 1,\n",
       " 'Men': 1,\n",
       " 'Blue': 1,\n",
       " 'represents': 1,\n",
       " 'international': 1,\n",
       " 'governed': 1,\n",
       " 'Board': 1,\n",
       " 'Control': 1,\n",
       " 'Cricket': 3,\n",
       " 'BCCI': 1,\n",
       " 'Member': 1,\n",
       " 'International': 3,\n",
       " 'Council': 1,\n",
       " 'ICC': 1,\n",
       " 'Test': 2,\n",
       " 'Day': 1,\n",
       " 'ODI': 1,\n",
       " 'Twenty20': 1,\n",
       " 'T20I': 1,\n",
       " 'status': 2,\n",
       " 'introduced': 1,\n",
       " 'British': 1,\n",
       " 'sailors': 1,\n",
       " '18th': 1,\n",
       " 'century': 1,\n",
       " 'club': 1,\n",
       " 'established': 1,\n",
       " '1792': 1,\n",
       " 'played': 1,\n",
       " 'match': 1,\n",
       " '25': 1,\n",
       " 'June': 1,\n",
       " '1932': 1,\n",
       " 'Lord': 1,\n",
       " 'sixth': 1,\n",
       " 'granted': 1,\n",
       " 'test': 1}"
      ]
     },
     "execution_count": 30,
     "metadata": {},
     "output_type": "execute_result"
    }
   ],
   "source": [
    "word_freq"
   ]
  },
  {
   "cell_type": "code",
   "execution_count": 31,
   "id": "c64c6dc9-363f-4f81-ac08-e255ac0f6a4c",
   "metadata": {
    "scrolled": true
   },
   "outputs": [
    {
     "name": "stdout",
     "output_type": "stream",
     "text": [
      "Maximum frequent word: India\n"
     ]
    }
   ],
   "source": [
    "max_freq_word = max(word_freq.keys(), key=lambda key: word_freq[key])\n",
    "print(f\"Maximum frequent word: {max_freq_word}\")"
   ]
  }
 ],
 "metadata": {
  "kernelspec": {
   "display_name": "Python 3 (ipykernel)",
   "language": "python",
   "name": "python3"
  },
  "language_info": {
   "codemirror_mode": {
    "name": "ipython",
    "version": 3
   },
   "file_extension": ".py",
   "mimetype": "text/x-python",
   "name": "python",
   "nbconvert_exporter": "python",
   "pygments_lexer": "ipython3",
   "version": "3.10.17"
  }
 },
 "nbformat": 4,
 "nbformat_minor": 5
}
