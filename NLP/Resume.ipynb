{
 "cells": [
  {
   "cell_type": "markdown",
   "id": "f3ea1eab-d244-489c-aa73-ee54fc05671c",
   "metadata": {},
   "source": [
    "# Niloy Sannyal\n",
    "📍 Dhaka, Bangladesh | ✉️ niloysannyal@gmail.com | 📱 +8801783445245  \n",
    "🔗 [LinkedIn](https://www.linkedin.com/in/niloysannyal/) | [GitHub](https://github.com/niloysannyal) | [LeetCode](https://leetcode.com/NiloySannyal/) | [Codeforces](https://codeforces.com/profile/niloy_sannyal)  \n",
    "\n",
    "---\n",
    "\n",
    "## Professional Summary  \n",
    "Data Science graduate passionate about applying AI/ML to agriculture, sustainability, and rural development. Experienced in building and deploying machine learning solutions (regression, classification, computer vision, NLP) with strong problem-solving ability (250+ LeetCode, 200+ Codeforces). Currently exploring geospatial analysis and LLM-powered applications to create impactful data-driven solutions for farmers.  \n",
    "\n",
    "---\n",
    "\n",
    "## Technical Skills  \n",
    "- **Languages & Libraries:** Python, SQL, C++, NumPy, Pandas, Matplotlib, Seaborn  \n",
    "- **Machine Learning & AI:** Regression, Classification, Clustering, scikit-learn, TensorFlow, Keras, PyTorch, OpenCV  \n",
    "- **Deep Learning:** ANN, CNN, RNN, Backpropagation, Gradient Descent  \n",
    "- **Databases:** MySQL, MS SQL Server, PostgreSQL *(familiar)*  \n",
    "- **Development & Tools:** Flask, FastAPI, Streamlit, Git, GitHub, Postman, TensorFlow Serving  \n",
    "- **Emerging Skills:** Hugging Face, OpenAI APIs, LangChain, RAG (exploring), QGIS, Google Earth Engine (learning)  \n",
    "- **Deployment:** Render, Streamlit Cloud  \n",
    "\n",
    "---\n",
    "\n",
    "## Projects  \n",
    "\n",
    "**Dhaka Home Rent Prediction** · [GitHub](https://github.com/niloysannyal/Data_Science/tree/main/projects/DhakaHomeRentPrediction) · [Live Demo](https://dhakahomerentprediction.onrender.com/)  \n",
    "- Built a Random Forest regression model (95%+ accuracy) on 28,000+ listings.  \n",
    "- Performed **data cleaning, feature engineering, and outlier handling**.  \n",
    "- Deployed on Render with Flask backend serving real-time rent predictions.  \n",
    "\n",
    "**Crop Disease Classifier** · [GitHub](https://github.com/niloysannyal/Crop_Disease_Classifier) · [Live Demo](https://cropdiseaseclassifier.streamlit.app/)  \n",
    "- Designed and trained CNN models achieving **98% accuracy** across 4 crop datasets.  \n",
    "- Implemented **image augmentation** to improve generalization.  \n",
    "- Built **interactive Streamlit interface** for real-time leaf disease detection.  \n",
    "\n",
    "**Meme Search Engine** · [GitHub](https://github.com/niloysannyal/Meme_Search_Engine) · [Live Demo](https://memesearchengine.streamlit.app/)  \n",
    "- Developed multimodal search using **OpenAI CLIP** for query & image-based retrieval.  \n",
    "- Added **sentiment filtering** for relevance.  \n",
    "- Experimented with Hugging Face models and OpenAI APIs.  \n",
    "\n",
    "---\n",
    "\n",
    "## Problem Solving  \n",
    "- **LeetCode:** 250+ problems solved  \n",
    "- **Codeforces:** 200+ problems solved  \n",
    "\n",
    "---\n",
    "\n",
    "## Education  \n",
    "**University of Rajshahi** — B.Sc. in Information and Communication Engineering  \n",
    "*Jan 2019 – Oct 2024* | Rajshahi, Bangladesh  \n"
   ]
  },
  {
   "cell_type": "code",
   "execution_count": null,
   "id": "92cc7d03-3e9b-432f-886a-8084f412c620",
   "metadata": {},
   "outputs": [],
   "source": []
  }
 ],
 "metadata": {
  "kernelspec": {
   "display_name": "Python 3 (ipykernel)",
   "language": "python",
   "name": "python3"
  },
  "language_info": {
   "codemirror_mode": {
    "name": "ipython",
    "version": 3
   },
   "file_extension": ".py",
   "mimetype": "text/x-python",
   "name": "python",
   "nbconvert_exporter": "python",
   "pygments_lexer": "ipython3",
   "version": "3.10.17"
  }
 },
 "nbformat": 4,
 "nbformat_minor": 5
}
