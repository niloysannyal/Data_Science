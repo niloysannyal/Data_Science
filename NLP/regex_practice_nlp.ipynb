{
 "cells": [
  {
   "cell_type": "markdown",
   "id": "14d09ee0-2815-4c2e-8961-4733821e8a8d",
   "metadata": {},
   "source": [
    "### Import Regular Expression"
   ]
  },
  {
   "cell_type": "code",
   "execution_count": 4,
   "id": "3fb322db-3e9d-420a-86fd-358cb1e975a5",
   "metadata": {},
   "outputs": [],
   "source": [
    "import re"
   ]
  },
  {
   "cell_type": "markdown",
   "id": "528d8339-44a3-4732-a490-b9fcbe63fa4f",
   "metadata": {},
   "source": [
    "### Sample Chats"
   ]
  },
  {
   "cell_type": "code",
   "execution_count": 5,
   "id": "32abac0a-8c0f-4488-b0d8-b2d0dd315ead",
   "metadata": {},
   "outputs": [],
   "source": [
    "chat1 = \"niloy: you ask a lot of questions 👉 1873445245, niloysannyal8@gmail.com, 1687824827\"\n",
    "chat2 = \"niloy: heree it is: (178)-344-5245, NiloySannyal69@gmail.com\"\n",
    "chat3 = \"niloy: yes, phone: 1783445245 email: niloy_sannyal@gmail.xyz\"\n",
    "chat4 = \"niloy: Hello, I am having issue with my order #234505839\"\n",
    "chat5 = \"niloy: Issue with order id 3698693\"\n",
    "chat6 = \"niloy: order 69869\""
   ]
  },
  {
   "cell_type": "markdown",
   "id": "aa5d02d3-08f7-4b20-9902-80b233e50095",
   "metadata": {},
   "source": [
    "### Mobile Number"
   ]
  },
  {
   "cell_type": "code",
   "execution_count": 6,
   "id": "148786bd-c80a-4959-8b62-9ba6395ff2f6",
   "metadata": {},
   "outputs": [],
   "source": [
    "#pattern to retrieve mobile numbers\n",
    "pattern1 = '\\d{10}'\n",
    "pattern2 = '\\(\\d{3}\\)\\-\\d{3}\\-\\d{4}'\n",
    "mobile_number = '\\d{10}|\\(\\d{3}\\)\\-\\d{3}\\-\\d{4}'"
   ]
  },
  {
   "cell_type": "code",
   "execution_count": 7,
   "id": "3c9a2b44-4886-412b-b8d4-f09618e94c8b",
   "metadata": {},
   "outputs": [
    {
     "data": {
      "text/plain": [
       "['1873445245', '1687824827']"
      ]
     },
     "execution_count": 7,
     "metadata": {},
     "output_type": "execute_result"
    }
   ],
   "source": [
    "matches = re.findall(mobile_number, chat1)\n",
    "matches"
   ]
  },
  {
   "cell_type": "code",
   "execution_count": 8,
   "id": "d3c3d37d-07fc-49fe-8d87-2434a0071aad",
   "metadata": {},
   "outputs": [
    {
     "data": {
      "text/plain": [
       "['(178)-344-5245']"
      ]
     },
     "execution_count": 8,
     "metadata": {},
     "output_type": "execute_result"
    }
   ],
   "source": [
    "matches = re.findall(mobile_number, chat2)\n",
    "matches"
   ]
  },
  {
   "cell_type": "code",
   "execution_count": 9,
   "id": "c745d69b-ddbb-453d-bf5f-4a0a433b5ee9",
   "metadata": {},
   "outputs": [
    {
     "data": {
      "text/plain": [
       "['1783445245']"
      ]
     },
     "execution_count": 9,
     "metadata": {},
     "output_type": "execute_result"
    }
   ],
   "source": [
    "matches = re.findall(mobile_number, chat3)\n",
    "matches"
   ]
  },
  {
   "cell_type": "markdown",
   "id": "4cc6b523-873c-4b85-bd99-71248e1f511e",
   "metadata": {},
   "source": [
    "### Email Id"
   ]
  },
  {
   "cell_type": "code",
   "execution_count": 10,
   "id": "f8d3b461-383e-428a-ad6f-67200a1f84be",
   "metadata": {},
   "outputs": [],
   "source": [
    "#pattern to retrieve email id\n",
    "email_id = \"[a-zA-Z0-9_]*@[a-z]*\\.[a-z]*\""
   ]
  },
  {
   "cell_type": "code",
   "execution_count": 11,
   "id": "0f74c6cc-ba78-478c-9575-f2d41f47f432",
   "metadata": {},
   "outputs": [
    {
     "data": {
      "text/plain": [
       "['niloysannyal8@gmail.com']"
      ]
     },
     "execution_count": 11,
     "metadata": {},
     "output_type": "execute_result"
    }
   ],
   "source": [
    "matches = re.findall(email_id, chat1)\n",
    "matches"
   ]
  },
  {
   "cell_type": "code",
   "execution_count": 12,
   "id": "97f2a29c-d28a-4103-8c2f-37871493bba4",
   "metadata": {},
   "outputs": [
    {
     "data": {
      "text/plain": [
       "['NiloySannyal69@gmail.com']"
      ]
     },
     "execution_count": 12,
     "metadata": {},
     "output_type": "execute_result"
    }
   ],
   "source": [
    "matches = re.findall(email_id, chat2)\n",
    "matches"
   ]
  },
  {
   "cell_type": "code",
   "execution_count": 13,
   "id": "33a93c60-2267-48b5-9788-4bd1a01c68c8",
   "metadata": {},
   "outputs": [
    {
     "data": {
      "text/plain": [
       "['niloy_sannyal@gmail.xyz']"
      ]
     },
     "execution_count": 13,
     "metadata": {},
     "output_type": "execute_result"
    }
   ],
   "source": [
    "matches = re.findall(email_id, chat3)\n",
    "matches"
   ]
  },
  {
   "cell_type": "markdown",
   "id": "25d7c0e9-3576-487d-a6f6-f6d3d8f91162",
   "metadata": {},
   "source": [
    "### Order Id"
   ]
  },
  {
   "cell_type": "code",
   "execution_count": 14,
   "id": "45b0263e-16d9-4c7a-8004-e6595f2c2b7e",
   "metadata": {},
   "outputs": [],
   "source": [
    "#Order Id pattern\n",
    "order_id = 'order \\D*(\\d*)'"
   ]
  },
  {
   "cell_type": "code",
   "execution_count": 15,
   "id": "ddb33339-16ec-4253-abb9-e02f9c52be66",
   "metadata": {},
   "outputs": [
    {
     "data": {
      "text/plain": [
       "['234505839']"
      ]
     },
     "execution_count": 15,
     "metadata": {},
     "output_type": "execute_result"
    }
   ],
   "source": [
    "matches = re.findall(order_id, chat4)\n",
    "matches"
   ]
  },
  {
   "cell_type": "code",
   "execution_count": 16,
   "id": "9ddab6d6-da27-4517-b0b1-0fab3555a1ee",
   "metadata": {},
   "outputs": [
    {
     "data": {
      "text/plain": [
       "['3698693']"
      ]
     },
     "execution_count": 16,
     "metadata": {},
     "output_type": "execute_result"
    }
   ],
   "source": [
    "matches = re.findall(order_id, chat5)\n",
    "matches"
   ]
  },
  {
   "cell_type": "code",
   "execution_count": 17,
   "id": "7928531b-72a8-4ff5-b23f-f9df52567570",
   "metadata": {},
   "outputs": [
    {
     "data": {
      "text/plain": [
       "['69869']"
      ]
     },
     "execution_count": 17,
     "metadata": {},
     "output_type": "execute_result"
    }
   ],
   "source": [
    "matches = re.findall(order_id, chat6)\n",
    "matches"
   ]
  },
  {
   "cell_type": "markdown",
   "id": "aa58bd16-8c38-4cfc-9221-82ba380f421a",
   "metadata": {},
   "source": [
    "### Key Information retrieval"
   ]
  },
  {
   "cell_type": "code",
   "execution_count": 18,
   "id": "26e0244b-b89a-4164-9680-e8240936486d",
   "metadata": {},
   "outputs": [],
   "source": [
    "Elon_Musk = '''Musk in 2022\n",
    "Senior Advisor to the President\n",
    "In office\n",
    "January 20, 2025 – May 30, 2025\n",
    "Serving with Massad Boulos\n",
    "President\tDonald Trump\n",
    "Preceded by\tTom Perez\n",
    "Personal details\n",
    "Born\tElon Reeve Musk\n",
    "June 28, 1971 (age 54)\n",
    "Pretoria, South Africa\n",
    "Citizenship\t\n",
    "South Africa (from birth)\n",
    "Canada (from birth)\n",
    "U.S. (since 2002)\n",
    "Political party\tIndependent\n",
    "Spouses\t\n",
    "Justine Wilson\n",
    "​\n",
    "​(m. 2000; div. 2008)​\n",
    "Talulah Riley\n",
    "​\n",
    "​(m. 2010; div. 2016)​\n",
    "Children\t≥14\n",
    "Parents\t\n",
    "Errol Musk (father)\n",
    "Maye Musk (mother)\n",
    "Relatives\tMusk family\n",
    "Education\tUniversity of Pennsylvania (BA, BS)\n",
    "Occupation\t\n",
    "CEO and product architect of Tesla\n",
    "Founder, CEO, and chief engineer of SpaceX\n",
    "Founder and CEO of xAI\n",
    "Founder of the Boring Company and X Corp.\n",
    "Co-founder of Neuralink, OpenAI, Zip2, and X.com (part of PayPal)\n",
    "President of the Musk Foundation'''"
   ]
  },
  {
   "cell_type": "code",
   "execution_count": 19,
   "id": "9c02f953-c597-4332-887e-4a7e9126d5d2",
   "metadata": {},
   "outputs": [],
   "source": [
    "Shah_Rukh_Khan = '''Khan in 2018\n",
    "Born\tShahrukh Khan\n",
    "2 November 1965 (age 59)\n",
    "New Delhi, India\n",
    "Alma mater\tHansraj College (BA)\n",
    "Occupations\t\n",
    "Actorfilm producertelevision personalitybusinessman\n",
    "Years active\t1988–present\n",
    "Organisation(s)\tRed Chillies Entertainment\n",
    "Knight Riders Group\n",
    "Works\tFull list\n",
    "Title\tFounder of Red Chillies Entertainment\n",
    "Spouse\tGauri Khan ​(m. 1991)​\n",
    "Children\t3, including Aryan and Suhana\n",
    "Awards\tFull list\n",
    "Honours\tPadma Shri (2005)\n",
    "Order of Arts and Letters (2007)\n",
    "Legion of Honour (2014)'''"
   ]
  },
  {
   "cell_type": "code",
   "execution_count": 20,
   "id": "91148b39-5e88-4c41-acea-79f8160c4682",
   "metadata": {},
   "outputs": [],
   "source": [
    "Mark_Zuckerberg = '''Born\tMark Elliot Zuckerberg\n",
    "May 14, 1984 (age 41)\n",
    "White Plains, New York, U.S.\n",
    "Other names\tZuck\n",
    "Education\tHarvard University (dropped out)\n",
    "Occupations\t\n",
    "Businessmancomputer programmer\n",
    "Years active\t2004–present\n",
    "Title\t\n",
    "Co-founder, chairman and CEO of Meta Platforms and Facebook\n",
    "Co-founder and co-CEO of Chan Zuckerberg Initiative\n",
    "Spouse\tPriscilla Chan ​(m. 2012)​\n",
    "Children\t3\n",
    "Relatives\t\n",
    "Randi Zuckerberg (sister)\n",
    "Donna Zuckerberg (sister)'''"
   ]
  },
  {
   "cell_type": "markdown",
   "id": "a2e742cd-0084-4de3-a499-49349830b2b5",
   "metadata": {},
   "source": [
    "#### Name"
   ]
  },
  {
   "cell_type": "code",
   "execution_count": 21,
   "id": "9bbea37f-4797-4bb5-af62-8003e17a7c6d",
   "metadata": {},
   "outputs": [
    {
     "data": {
      "text/plain": [
       "'Elon Reeve Musk'"
      ]
     },
     "execution_count": 21,
     "metadata": {},
     "output_type": "execute_result"
    }
   ],
   "source": [
    "name_pattern = 'Born(.*)'\n",
    "match = re.findall(name_pattern, Elon_Musk)\n",
    "match[0].strip()"
   ]
  },
  {
   "cell_type": "markdown",
   "id": "deac7700-0fe3-488c-bb72-e42664bbbbcd",
   "metadata": {},
   "source": [
    "#### Age"
   ]
  },
  {
   "cell_type": "code",
   "execution_count": 22,
   "id": "4a8a1b93-a0c7-4792-8f89-21a64ad3a398",
   "metadata": {},
   "outputs": [
    {
     "data": {
      "text/plain": [
       "'54'"
      ]
     },
     "execution_count": 22,
     "metadata": {},
     "output_type": "execute_result"
    }
   ],
   "source": [
    "age_pattern = 'age (\\d+)'\n",
    "match = re.findall(age_pattern, Elon_Musk)\n",
    "match[0].strip()"
   ]
  },
  {
   "cell_type": "markdown",
   "id": "774893df-8aba-4ea1-8580-daf59f9b6010",
   "metadata": {},
   "source": [
    "#### Birth Date"
   ]
  },
  {
   "cell_type": "code",
   "execution_count": 23,
   "id": "be508bcd-25ae-46bf-970c-75bf3d2026a9",
   "metadata": {},
   "outputs": [
    {
     "data": {
      "text/plain": [
       "'June 28, 1971'"
      ]
     },
     "execution_count": 23,
     "metadata": {},
     "output_type": "execute_result"
    }
   ],
   "source": [
    "birth_date = 'Born.*\\n(.*)\\(age'\n",
    "match = re.findall(birth_date, Elon_Musk)\n",
    "match[0].strip()"
   ]
  },
  {
   "cell_type": "markdown",
   "id": "681a623e-e2b8-466c-b641-09353ca69a0c",
   "metadata": {},
   "source": [
    "#### Birth Place"
   ]
  },
  {
   "cell_type": "code",
   "execution_count": 24,
   "id": "931a9ba3-6ebd-46b7-87be-dec55fbec9ca",
   "metadata": {},
   "outputs": [
    {
     "data": {
      "text/plain": [
       "'Pretoria, South Africa'"
      ]
     },
     "execution_count": 24,
     "metadata": {},
     "output_type": "execute_result"
    }
   ],
   "source": [
    "birth_place = 'Born.*\\n.*\\n(.*)'\n",
    "match = re.findall(birth_place, Elon_Musk)\n",
    "match[0].strip()"
   ]
  },
  {
   "cell_type": "markdown",
   "id": "798406fe-de0b-4a3c-8412-0dce43c5ecfc",
   "metadata": {},
   "source": [
    "### Inplementing a Function"
   ]
  },
  {
   "cell_type": "code",
   "execution_count": 25,
   "id": "515ac172-a202-4555-a1c5-bfbe33cd4783",
   "metadata": {},
   "outputs": [],
   "source": [
    "def get_pattern_match(pattern, text):\n",
    "    match = re.findall(pattern, text)\n",
    "    if match:\n",
    "        return match[0].strip()"
   ]
  },
  {
   "cell_type": "code",
   "execution_count": 26,
   "id": "17707eb9-fbe9-4bb8-a0b1-4eb9225d4e09",
   "metadata": {},
   "outputs": [
    {
     "data": {
      "text/plain": [
       "'Elon Reeve Musk'"
      ]
     },
     "execution_count": 26,
     "metadata": {},
     "output_type": "execute_result"
    }
   ],
   "source": [
    "get_pattern_match('Born(.*)', Elon_Musk)"
   ]
  },
  {
   "cell_type": "code",
   "execution_count": 27,
   "id": "ec783d4d-15e9-4de0-8359-a657f2a4de4e",
   "metadata": {},
   "outputs": [],
   "source": [
    "def get_personal_information(text):\n",
    "    name = get_pattern_match('Born(.*)', text)\n",
    "    age = get_pattern_match('age (\\d+)', text)\n",
    "    birth_date = get_pattern_match('Born.*\\n(.*)\\(age', text)\n",
    "    birth_place = get_pattern_match('Born.*\\n.*\\n(.*)', text)\n",
    "    personal_information = {\n",
    "        'Name': name,\n",
    "        'Age': age,\n",
    "        'Birth Date': birth_date,\n",
    "        'Birth Place': birth_place\n",
    "    }\n",
    "    return personal_information"
   ]
  },
  {
   "cell_type": "code",
   "execution_count": 28,
   "id": "a23a02d9-7815-4539-a472-ff349e8d89d7",
   "metadata": {},
   "outputs": [
    {
     "data": {
      "text/plain": [
       "{'Name': 'Elon Reeve Musk',\n",
       " 'Age': '54',\n",
       " 'Birth Date': 'June 28, 1971',\n",
       " 'Birth Place': 'Pretoria, South Africa'}"
      ]
     },
     "execution_count": 28,
     "metadata": {},
     "output_type": "execute_result"
    }
   ],
   "source": [
    "get_personal_information(Elon_Musk)"
   ]
  },
  {
   "cell_type": "code",
   "execution_count": 29,
   "id": "8a8fdee1-6f6b-49cc-a4a9-76e8f995286d",
   "metadata": {},
   "outputs": [
    {
     "data": {
      "text/plain": [
       "{'Name': 'Shahrukh Khan',\n",
       " 'Age': '59',\n",
       " 'Birth Date': '2 November 1965',\n",
       " 'Birth Place': 'New Delhi, India'}"
      ]
     },
     "execution_count": 29,
     "metadata": {},
     "output_type": "execute_result"
    }
   ],
   "source": [
    "get_personal_information(Shah_Rukh_Khan)"
   ]
  },
  {
   "cell_type": "code",
   "execution_count": 30,
   "id": "5d843493-e4d6-483e-8685-2e84301e6b17",
   "metadata": {},
   "outputs": [
    {
     "data": {
      "text/plain": [
       "{'Name': 'Mark Elliot Zuckerberg',\n",
       " 'Age': '41',\n",
       " 'Birth Date': 'May 14, 1984',\n",
       " 'Birth Place': 'White Plains, New York, U.S.'}"
      ]
     },
     "execution_count": 30,
     "metadata": {},
     "output_type": "execute_result"
    }
   ],
   "source": [
    "get_personal_information(Mark_Zuckerberg)"
   ]
  },
  {
   "cell_type": "markdown",
   "id": "80497853-63ec-4665-b587-ca8d5314e54a",
   "metadata": {},
   "source": [
    "## Exercise"
   ]
  },
  {
   "cell_type": "markdown",
   "id": "5b93628c-2e29-4b0d-a56d-288e8aaa663a",
   "metadata": {},
   "source": [
    "<h4 style=\"color:red\">Question 1:</h4>\n",
    "Extract all twitter handles from following text. Twitter handle is the text that appears after \"https://twitter.com/\" and is a single word. Also it contains only alpha numeric characters i.e. A-Z a-z , o to 9 and underscore _ "
   ]
  },
  {
   "cell_type": "code",
   "execution_count": 31,
   "id": "b4042e02-2b76-409e-afcc-41aa126e1e40",
   "metadata": {},
   "outputs": [],
   "source": [
    "text1 = '''\n",
    "Follow our leader Elon musk on twitter here: https://twitter.com/elonmusk, more information \n",
    "on Tesla's products can be found at https://www.tesla.com/. Also here are leading influencers \n",
    "for tesla related news,\n",
    "https://twitter.com/teslarati\n",
    "https://twitter.com/dummy_tesla\n",
    "https://twitter.com/dummy_2_tesla\n",
    "'''"
   ]
  },
  {
   "cell_type": "code",
   "execution_count": 32,
   "id": "dbecd0f6-8fe5-4813-9397-44d1d60554a7",
   "metadata": {},
   "outputs": [],
   "source": [
    "pattern = 'https:\\/\\/twitter.com\\/([a-zA-Z0-9_]*)'"
   ]
  },
  {
   "cell_type": "code",
   "execution_count": 33,
   "id": "b6e5a8db-50f4-478b-a8f5-057cca5607b8",
   "metadata": {},
   "outputs": [
    {
     "data": {
      "text/plain": [
       "['elonmusk', 'teslarati', 'dummy_tesla', 'dummy_2_tesla']"
      ]
     },
     "execution_count": 33,
     "metadata": {},
     "output_type": "execute_result"
    }
   ],
   "source": [
    "matches = re.findall(pattern, text1)\n",
    "matches"
   ]
  },
  {
   "cell_type": "markdown",
   "id": "808f3207-b4ac-4621-a83f-486024651d90",
   "metadata": {},
   "source": [
    "<h4 style=\"color:red\">Question 2:</h4> Extract Concentration Risk Types. It will be a text that appears after \"Concentration Risk:\", In below example, your regex should extract these two strings\n",
    "1. Credit Risk\n",
    "2. Supply Rish"
   ]
  },
  {
   "cell_type": "code",
   "execution_count": 36,
   "id": "96dfdcba-bf12-40a8-ae1b-c1ecc2f56cb9",
   "metadata": {},
   "outputs": [],
   "source": [
    "text2 = '''\n",
    "Concentration of Risk: Credit Risk\n",
    "Financial instruments that potentially subject us to a concentration of credit risk consist of cash, cash equivalents, marketable securities,\n",
    "restricted cash, accounts receivable, convertible note hedges, and interest rate swaps. Our cash balances are primarily invested in money market funds\n",
    "or on deposit at high credit quality financial institutions in the U.S. These deposits are typically in excess of insured limits. As of September 30, 2021\n",
    "and December 31, 2020, no entity represented 10% or more of our total accounts receivable balance. The risk of concentration for our convertible note\n",
    "hedges and interest rate swaps is mitigated by transacting with several highly-rated multinational banks.\n",
    "Concentration of Risk: Supply Risk\n",
    "We are dependent on our suppliers, including single source suppliers, and the inability of these suppliers to deliver necessary components of our\n",
    "products in a timely manner at prices, quality levels and volumes acceptable to us, or our inability to efficiently manage these components from these\n",
    "suppliers, could have a material adverse effect on our business, prospects, financial condition and operating results.\n",
    "'''"
   ]
  },
  {
   "cell_type": "code",
   "execution_count": 72,
   "id": "74fa8d74-4e20-410a-95f1-b2e62c7f0f03",
   "metadata": {},
   "outputs": [
    {
     "data": {
      "text/plain": [
       "['cash',\n",
       " 'cash equivalents',\n",
       " 'marketable securities',\n",
       " 'restricted cash',\n",
       " 'accounts receivable',\n",
       " 'convertible note hedges',\n",
       " 'interest rate swaps']"
      ]
     },
     "execution_count": 72,
     "metadata": {},
     "output_type": "execute_result"
    }
   ],
   "source": [
    "pattern1 = \"credit risk consist of (.*\\n.*)\\.\"\n",
    "matches = re.findall(pattern1, text2)\n",
    "#processing matches\n",
    "items = matches[0].split(\",\") #spliting items by ','\n",
    "items = [x.strip() for x in items] #removing unnecessary spaces\n",
    "items = [re.sub(\"^and\\s+\",\"\",x) for x in items] #removing 'and' before items\n",
    "items"
   ]
  },
  {
   "cell_type": "code",
   "execution_count": 73,
   "id": "0681223d-56fb-4d82-af23-6825562e3624",
   "metadata": {},
   "outputs": [
    {
     "data": {
      "text/plain": [
       "['Credit Risk', 'Supply Risk']"
      ]
     },
     "execution_count": 73,
     "metadata": {},
     "output_type": "execute_result"
    }
   ],
   "source": [
    "pattern2 = \"Concentration of Risk: ([^\\n]*)\"\n",
    "matches = re.findall(pattern2, text2)\n",
    "matches"
   ]
  },
  {
   "cell_type": "markdown",
   "id": "fd233775-ef69-42ef-a802-db5e6e219570",
   "metadata": {},
   "source": [
    "<h4 style=\"color:red\">Question 3:</h4> Companies in europe reports their financial numbers of semi annual basis and you can have a document like this. To exatract quarterly and semin annual period you can use a regex as shown below\n",
    "\n",
    "Hint: you need to use (?:) here to match everything enclosed"
   ]
  },
  {
   "cell_type": "code",
   "execution_count": 74,
   "id": "6e62dd03-9571-457b-b3f6-4107ee22c69e",
   "metadata": {},
   "outputs": [],
   "source": [
    "text = '''\n",
    "Tesla's gross cost of operating lease vehicles in FY2021 Q1 was $4.85 billion.\n",
    "BMW's gross cost of operating vehicles in FY2021 S1 was $8 billion.\n",
    "'''"
   ]
  },
  {
   "cell_type": "code",
   "execution_count": 75,
   "id": "6eeab04f-e72e-41ad-9624-ee05d50984a5",
   "metadata": {},
   "outputs": [
    {
     "data": {
      "text/plain": [
       "['2021 Q1', '2021 S1']"
      ]
     },
     "execution_count": 75,
     "metadata": {},
     "output_type": "execute_result"
    }
   ],
   "source": [
    "pattern = \"FY(\\d{4} (?:Q\\d[1]*|S\\d[1]*))\"\n",
    "matches = re.findall(pattern, text)\n",
    "matches"
   ]
  }
 ],
 "metadata": {
  "kernelspec": {
   "display_name": "Python 3 (ipykernel)",
   "language": "python",
   "name": "python3"
  },
  "language_info": {
   "codemirror_mode": {
    "name": "ipython",
    "version": 3
   },
   "file_extension": ".py",
   "mimetype": "text/x-python",
   "name": "python",
   "nbconvert_exporter": "python",
   "pygments_lexer": "ipython3",
   "version": "3.10.17"
  }
 },
 "nbformat": 4,
 "nbformat_minor": 5
}
