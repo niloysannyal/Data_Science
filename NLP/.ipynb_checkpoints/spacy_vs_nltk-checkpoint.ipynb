{
 "cells": [
  {
   "cell_type": "code",
   "execution_count": 1,
   "id": "63a0242f-f796-4d31-a413-e9be683e6a14",
   "metadata": {},
   "outputs": [],
   "source": [
    "import spacy"
   ]
  },
  {
   "cell_type": "code",
   "execution_count": 2,
   "id": "eb36ed1c-2615-4ffa-a5bb-ebdb5d4e728d",
   "metadata": {},
   "outputs": [],
   "source": [
    "nlp = spacy.load(\"en_core_web_md\")"
   ]
  },
  {
   "cell_type": "code",
   "execution_count": 3,
   "id": "cd717e19-4cde-4915-a351-2559fe9c34a6",
   "metadata": {},
   "outputs": [],
   "source": [
    "input_text = \"Niloy loves playing football. Now he is playing football game only. He wants to become Mr. Niloy one day after completing M.Sc. degree.\""
   ]
  },
  {
   "cell_type": "code",
   "execution_count": 4,
   "id": "2d68c585-4dfc-45b3-ac90-20adad9c3372",
   "metadata": {},
   "outputs": [],
   "source": [
    "doc = nlp(input_text)"
   ]
  },
  {
   "cell_type": "code",
   "execution_count": 5,
   "id": "23f1f830-c149-4411-9d36-1a1b58794c58",
   "metadata": {},
   "outputs": [
    {
     "name": "stdout",
     "output_type": "stream",
     "text": [
      "Niloy loves playing football.\n",
      "Now he is playing football game only.\n",
      "He wants to become Mr. Niloy one day after completing M.Sc. degree.\n"
     ]
    }
   ],
   "source": [
    "for sentence in doc.sents:\n",
    "    print(sentence)"
   ]
  },
  {
   "cell_type": "code",
   "execution_count": 6,
   "id": "7f74631a-fb2d-44fa-9d4b-8fb9be9ad702",
   "metadata": {
    "scrolled": true
   },
   "outputs": [
    {
     "name": "stdout",
     "output_type": "stream",
     "text": [
      "Niloy\n",
      "loves\n",
      "playing\n",
      "football\n",
      ".\n",
      "Now\n",
      "he\n",
      "is\n",
      "playing\n",
      "football\n",
      "game\n",
      "only\n",
      ".\n",
      "He\n",
      "wants\n",
      "to\n",
      "become\n",
      "Mr.\n",
      "Niloy\n",
      "one\n",
      "day\n",
      "after\n",
      "completing\n",
      "M.Sc\n",
      ".\n",
      "degree\n",
      ".\n"
     ]
    }
   ],
   "source": [
    "for sentence in doc.sents:\n",
    "    for word in sentence:\n",
    "        print(word)"
   ]
  },
  {
   "cell_type": "code",
   "execution_count": 7,
   "id": "375a74e2-b912-4a95-8408-ff51f296b1c3",
   "metadata": {},
   "outputs": [
    {
     "name": "stderr",
     "output_type": "stream",
     "text": [
      "[nltk_data] Downloading package punkt to\n",
      "[nltk_data]     C:\\Users\\niloy\\AppData\\Roaming\\nltk_data...\n",
      "[nltk_data]   Package punkt is already up-to-date!\n",
      "[nltk_data] Downloading package punkt_tab to\n",
      "[nltk_data]     C:\\Users\\niloy\\AppData\\Roaming\\nltk_data...\n",
      "[nltk_data]   Package punkt_tab is already up-to-date!\n"
     ]
    },
    {
     "data": {
      "text/plain": [
       "True"
      ]
     },
     "execution_count": 7,
     "metadata": {},
     "output_type": "execute_result"
    }
   ],
   "source": [
    "import nltk\n",
    "nltk.download('punkt')\n",
    "nltk.download(\"punkt_tab\")"
   ]
  },
  {
   "cell_type": "code",
   "execution_count": 9,
   "id": "9b623f22-aa62-4fd9-9d90-1ba1c55a2378",
   "metadata": {},
   "outputs": [
    {
     "data": {
      "text/plain": [
       "['Niloy loves playing football.',\n",
       " 'Now he is playing football game only.',\n",
       " 'He wants to become Mr. Niloy one day after completing M.Sc.',\n",
       " 'degree.']"
      ]
     },
     "execution_count": 9,
     "metadata": {},
     "output_type": "execute_result"
    }
   ],
   "source": [
    "from nltk.tokenize import sent_tokenize\n",
    "\n",
    "sentences = sent_tokenize(input_text)\n",
    "sentences"
   ]
  },
  {
   "cell_type": "code",
   "execution_count": 13,
   "id": "183de344-fdbb-4a01-815c-ef36fb136be1",
   "metadata": {},
   "outputs": [
    {
     "data": {
      "text/plain": [
       "['He',\n",
       " 'wants',\n",
       " 'to',\n",
       " 'become',\n",
       " 'Mr.',\n",
       " 'Niloy',\n",
       " 'one',\n",
       " 'day',\n",
       " 'after',\n",
       " 'completing',\n",
       " 'M.Sc',\n",
       " '.']"
      ]
     },
     "execution_count": 13,
     "metadata": {},
     "output_type": "execute_result"
    }
   ],
   "source": [
    "from nltk.tokenize import word_tokenize\n",
    "\n",
    "words = word_tokenize(sentences[2])\n",
    "words"
   ]
  }
 ],
 "metadata": {
  "kernelspec": {
   "display_name": "Python 3 (ipykernel)",
   "language": "python",
   "name": "python3"
  },
  "language_info": {
   "codemirror_mode": {
    "name": "ipython",
    "version": 3
   },
   "file_extension": ".py",
   "mimetype": "text/x-python",
   "name": "python",
   "nbconvert_exporter": "python",
   "pygments_lexer": "ipython3",
   "version": "3.10.17"
  }
 },
 "nbformat": 4,
 "nbformat_minor": 5
}
