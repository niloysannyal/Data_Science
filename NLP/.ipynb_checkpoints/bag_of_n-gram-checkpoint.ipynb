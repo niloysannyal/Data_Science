{
 "cells": [
  {
   "cell_type": "markdown",
   "id": "b888bcf5-dc8f-43ce-9431-839cf797d0da",
   "metadata": {},
   "source": [
    "<h1 style=\"text-align:center;color:mediumvioletred\">Bag of n-gram</h1>"
   ]
  },
  {
   "cell_type": "markdown",
   "id": "2e66d7c8-f55d-46f9-96ab-fc7420f1508b",
   "metadata": {},
   "source": [
    "## Basics of n-gram"
   ]
  },
  {
   "cell_type": "code",
   "execution_count": 6,
   "id": "f53e9633-c833-497e-a9cc-fa23496677f8",
   "metadata": {},
   "outputs": [],
   "source": [
    "from sklearn.feature_extraction.text import CountVectorizer"
   ]
  },
  {
   "cell_type": "code",
   "execution_count": 22,
   "id": "ab3f2f92-6c16-4625-bba7-fbe1dcc26960",
   "metadata": {},
   "outputs": [
    {
     "data": {
      "text/plain": [
       "{'in': 2,\n",
       " 'infinity': 3,\n",
       " 'war': 7,\n",
       " 'movie': 6,\n",
       " 'captain': 1,\n",
       " 'america': 0,\n",
       " 'lift': 4,\n",
       " 'mjolnir': 5}"
      ]
     },
     "execution_count": 22,
     "metadata": {},
     "output_type": "execute_result"
    }
   ],
   "source": [
    "#By default ngram_range=(1,1) it will only generate 1 grams\n",
    "\n",
    "v = CountVectorizer()\n",
    "v.fit([\"In Infinity War movie Captain America lift Mjolnir\"])\n",
    "v.vocabulary_"
   ]
  },
  {
   "cell_type": "code",
   "execution_count": 24,
   "id": "fb98199c-4345-42eb-b6fa-d273c2af20ef",
   "metadata": {},
   "outputs": [
    {
     "data": {
      "text/plain": [
       "{'in infinity': 2,\n",
       " 'infinity war': 3,\n",
       " 'war movie': 6,\n",
       " 'movie captain': 5,\n",
       " 'captain america': 1,\n",
       " 'america lift': 0,\n",
       " 'lift mjolnir': 4}"
      ]
     },
     "execution_count": 24,
     "metadata": {},
     "output_type": "execute_result"
    }
   ],
   "source": [
    "#ngram_range=(2,2) it will only generate 2 grams\n",
    "\n",
    "v = CountVectorizer(ngram_range=(2,2))\n",
    "v.fit([\"In Infinity War movie Captain America lift Mjolnir\"])\n",
    "v.vocabulary_"
   ]
  },
  {
   "cell_type": "code",
   "execution_count": 25,
   "id": "b032dbb7-8dcb-49a4-a291-2921b4a330d7",
   "metadata": {},
   "outputs": [
    {
     "data": {
      "text/plain": [
       "{'in': 4,\n",
       " 'infinity': 6,\n",
       " 'war': 13,\n",
       " 'movie': 11,\n",
       " 'captain': 2,\n",
       " 'america': 0,\n",
       " 'lift': 8,\n",
       " 'mjolnir': 10,\n",
       " 'in infinity': 5,\n",
       " 'infinity war': 7,\n",
       " 'war movie': 14,\n",
       " 'movie captain': 12,\n",
       " 'captain america': 3,\n",
       " 'america lift': 1,\n",
       " 'lift mjolnir': 9}"
      ]
     },
     "execution_count": 25,
     "metadata": {},
     "output_type": "execute_result"
    }
   ],
   "source": [
    "#ngram_range=(1,2) it will only generate 1 and 2 grams\n",
    "\n",
    "v = CountVectorizer(ngram_range=(1,2))\n",
    "v.fit([\"In Infinity War movie Captain America lift Mjolnir\"])\n",
    "v.vocabulary_"
   ]
  },
  {
   "cell_type": "code",
   "execution_count": 26,
   "id": "a35114fe-a882-4e7b-bfd8-983cfcd80168",
   "metadata": {},
   "outputs": [
    {
     "data": {
      "text/plain": [
       "{'in': 6,\n",
       " 'infinity': 9,\n",
       " 'war': 18,\n",
       " 'movie': 15,\n",
       " 'captain': 3,\n",
       " 'america': 0,\n",
       " 'lift': 12,\n",
       " 'mjolnir': 14,\n",
       " 'in infinity': 7,\n",
       " 'infinity war': 10,\n",
       " 'war movie': 19,\n",
       " 'movie captain': 16,\n",
       " 'captain america': 4,\n",
       " 'america lift': 1,\n",
       " 'lift mjolnir': 13,\n",
       " 'in infinity war': 8,\n",
       " 'infinity war movie': 11,\n",
       " 'war movie captain': 20,\n",
       " 'movie captain america': 17,\n",
       " 'captain america lift': 5,\n",
       " 'america lift mjolnir': 2}"
      ]
     },
     "execution_count": 26,
     "metadata": {},
     "output_type": "execute_result"
    }
   ],
   "source": [
    "#ngram_range=(1,3) it will only generate 1 to 3 grams all\n",
    "\n",
    "v = CountVectorizer(ngram_range=(1,3))\n",
    "v.fit([\"In Infinity War movie Captain America lift Mjolnir\"])\n",
    "v.vocabulary_"
   ]
  },
  {
   "cell_type": "code",
   "execution_count": 39,
   "id": "de2dfe7b-233c-4ecf-8244-464c92f5869f",
   "metadata": {},
   "outputs": [],
   "source": [
    "texts = [\n",
    "    \"Loki is a Trickster\",\n",
    "    \"Thor is the God of Thunder\",\n",
    "    \"Hela is the Goddess of Death\"\n",
    "]"
   ]
  },
  {
   "cell_type": "code",
   "execution_count": 40,
   "id": "c63b450b-98e0-476c-b855-4a780cc02e06",
   "metadata": {},
   "outputs": [],
   "source": [
    "import spacy\n",
    "\n",
    "nlp = spacy.load(\"en_core_web_md\")\n",
    "\n",
    "def preprocess(text):\n",
    "    doc = nlp(text)\n",
    "    filtered_tokens = []\n",
    "    for token in doc:\n",
    "        if token.is_stop or token.is_punct:\n",
    "            continue\n",
    "        filtered_tokens.append(token.lemma_)\n",
    "        \n",
    "    return ' '.join(filtered_tokens)"
   ]
  },
  {
   "cell_type": "code",
   "execution_count": 41,
   "id": "d636da78-f26d-44eb-9458-c39beaf2e308",
   "metadata": {},
   "outputs": [
    {
     "data": {
      "text/plain": [
       "'Loki trickster'"
      ]
     },
     "execution_count": 41,
     "metadata": {},
     "output_type": "execute_result"
    }
   ],
   "source": [
    "preprocess(\"Loki is a Trickster\")"
   ]
  },
  {
   "cell_type": "code",
   "execution_count": 42,
   "id": "833114d9-f4b3-40a8-8720-5fac5dccfc6e",
   "metadata": {},
   "outputs": [
    {
     "data": {
      "text/plain": [
       "['Loki trickster', 'Thor God thunder', 'Hela Goddess death']"
      ]
     },
     "execution_count": 42,
     "metadata": {},
     "output_type": "execute_result"
    }
   ],
   "source": [
    "processed_texts = [preprocess(m) for m in texts]\n",
    "processed_texts"
   ]
  },
  {
   "cell_type": "code",
   "execution_count": 51,
   "id": "0219450e-03e7-4bda-a3a1-1cb4e0cdc313",
   "metadata": {},
   "outputs": [
    {
     "data": {
      "text/plain": [
       "{'loki': 7,\n",
       " 'trickster': 12,\n",
       " 'loki trickster': 8,\n",
       " 'thor': 9,\n",
       " 'god': 1,\n",
       " 'thunder': 11,\n",
       " 'thor god': 10,\n",
       " 'god thunder': 2,\n",
       " 'hela': 5,\n",
       " 'goddess': 3,\n",
       " 'death': 0,\n",
       " 'hela goddess': 6,\n",
       " 'goddess death': 4}"
      ]
     },
     "execution_count": 51,
     "metadata": {},
     "output_type": "execute_result"
    }
   ],
   "source": [
    "v = CountVectorizer(ngram_range=(1,2))\n",
    "v.fit(processed_texts)\n",
    "v.vocabulary_"
   ]
  },
  {
   "cell_type": "code",
   "execution_count": 54,
   "id": "0839e42e-ec1e-4170-8c19-c29f81e47423",
   "metadata": {},
   "outputs": [
    {
     "data": {
      "text/plain": [
       "[('death', 0),\n",
       " ('god', 1),\n",
       " ('god thunder', 2),\n",
       " ('goddess', 3),\n",
       " ('goddess death', 4),\n",
       " ('hela', 5),\n",
       " ('hela goddess', 6),\n",
       " ('loki', 7),\n",
       " ('loki trickster', 8),\n",
       " ('thor', 9),\n",
       " ('thor god', 10),\n",
       " ('thunder', 11),\n",
       " ('trickster', 12)]"
      ]
     },
     "execution_count": 54,
     "metadata": {},
     "output_type": "execute_result"
    }
   ],
   "source": [
    "sorted(v.vocabulary_.items(), key=lambda x: x[1])"
   ]
  },
  {
   "cell_type": "code",
   "execution_count": 47,
   "id": "2988d6fe-cbfc-484f-8627-9de6a8ce613c",
   "metadata": {},
   "outputs": [
    {
     "data": {
      "text/plain": [
       "array([[0, 1, 0, 0, 0, 0, 0, 0, 0, 1, 0, 1, 0]])"
      ]
     },
     "execution_count": 47,
     "metadata": {},
     "output_type": "execute_result"
    }
   ],
   "source": [
    "v.transform([\"Thor is the God of Thunder\"]).toarray()"
   ]
  },
  {
   "cell_type": "code",
   "execution_count": 55,
   "id": "9898c68f-cbb7-4289-bf27-1c11b4e97a55",
   "metadata": {},
   "outputs": [
    {
     "data": {
      "text/plain": [
       "array([[0, 1, 0, 0, 0, 0, 0, 0, 0, 0, 0, 0, 0]])"
      ]
     },
     "execution_count": 55,
     "metadata": {},
     "output_type": "execute_result"
    }
   ],
   "source": [
    "v.transform([\"Hulk is the God of Destruction\"]).toarray()"
   ]
  },
  {
   "cell_type": "markdown",
   "id": "bb132583-0b54-4921-b6a3-41da33143c00",
   "metadata": {},
   "source": [
    "## Text Classification using **n-gram**"
   ]
  },
  {
   "cell_type": "markdown",
   "id": "b80cd8bc-b715-4789-a816-f543ed9ca98d",
   "metadata": {},
   "source": [
    "### Dataset loading and Exploration"
   ]
  },
  {
   "cell_type": "code",
   "execution_count": 66,
   "id": "6d2b011d-c279-439f-b13b-404f31d61add",
   "metadata": {},
   "outputs": [],
   "source": [
    "import pandas as pd"
   ]
  },
  {
   "cell_type": "code",
   "execution_count": 67,
   "id": "ec7ad3e3-0146-4ad7-be9a-3ef1275d5d56",
   "metadata": {},
   "outputs": [
    {
     "data": {
      "text/html": [
       "<div>\n",
       "<style scoped>\n",
       "    .dataframe tbody tr th:only-of-type {\n",
       "        vertical-align: middle;\n",
       "    }\n",
       "\n",
       "    .dataframe tbody tr th {\n",
       "        vertical-align: top;\n",
       "    }\n",
       "\n",
       "    .dataframe thead th {\n",
       "        text-align: right;\n",
       "    }\n",
       "</style>\n",
       "<table border=\"1\" class=\"dataframe\">\n",
       "  <thead>\n",
       "    <tr style=\"text-align: right;\">\n",
       "      <th></th>\n",
       "      <th>text</th>\n",
       "      <th>category</th>\n",
       "    </tr>\n",
       "  </thead>\n",
       "  <tbody>\n",
       "    <tr>\n",
       "      <th>0</th>\n",
       "      <td>Watching Schrödinger's Cat Die University of C...</td>\n",
       "      <td>SCIENCE</td>\n",
       "    </tr>\n",
       "    <tr>\n",
       "      <th>1</th>\n",
       "      <td>WATCH: Freaky Vortex Opens Up In Flooded Lake</td>\n",
       "      <td>SCIENCE</td>\n",
       "    </tr>\n",
       "    <tr>\n",
       "      <th>2</th>\n",
       "      <td>Entrepreneurs Today Don't Need a Big Budget to...</td>\n",
       "      <td>BUSINESS</td>\n",
       "    </tr>\n",
       "    <tr>\n",
       "      <th>3</th>\n",
       "      <td>These Roads Could Recharge Your Electric Car A...</td>\n",
       "      <td>BUSINESS</td>\n",
       "    </tr>\n",
       "    <tr>\n",
       "      <th>4</th>\n",
       "      <td>Civilian 'Guard' Fires Gun While 'Protecting' ...</td>\n",
       "      <td>CRIME</td>\n",
       "    </tr>\n",
       "  </tbody>\n",
       "</table>\n",
       "</div>"
      ],
      "text/plain": [
       "                                                text  category\n",
       "0  Watching Schrödinger's Cat Die University of C...   SCIENCE\n",
       "1     WATCH: Freaky Vortex Opens Up In Flooded Lake    SCIENCE\n",
       "2  Entrepreneurs Today Don't Need a Big Budget to...  BUSINESS\n",
       "3  These Roads Could Recharge Your Electric Car A...  BUSINESS\n",
       "4  Civilian 'Guard' Fires Gun While 'Protecting' ...     CRIME"
      ]
     },
     "execution_count": 67,
     "metadata": {},
     "output_type": "execute_result"
    }
   ],
   "source": [
    "df = pd.read_json(\"news_dataset.json\")\n",
    "df.head()"
   ]
  },
  {
   "cell_type": "code",
   "execution_count": 68,
   "id": "6e174635-eb57-49aa-8346-8bbda72348bb",
   "metadata": {},
   "outputs": [
    {
     "data": {
      "text/plain": [
       "(12695, 2)"
      ]
     },
     "execution_count": 68,
     "metadata": {},
     "output_type": "execute_result"
    }
   ],
   "source": [
    "df.shape"
   ]
  },
  {
   "cell_type": "code",
   "execution_count": 69,
   "id": "ba829096-68d3-4fcf-9963-29d839161815",
   "metadata": {},
   "outputs": [
    {
     "data": {
      "text/plain": [
       "category\n",
       "BUSINESS    4254\n",
       "SPORTS      4167\n",
       "CRIME       2893\n",
       "SCIENCE     1381\n",
       "Name: count, dtype: int64"
      ]
     },
     "execution_count": 69,
     "metadata": {},
     "output_type": "execute_result"
    }
   ],
   "source": [
    "df.category.value_counts()"
   ]
  },
  {
   "cell_type": "markdown",
   "id": "c84d2158-045d-42e9-bc05-6e6736a6f45d",
   "metadata": {},
   "source": [
    "### Downsampling to balance dataset"
   ]
  },
  {
   "cell_type": "code",
   "execution_count": 70,
   "id": "ca725a37-2b62-4bbc-8949-5e487a149262",
   "metadata": {},
   "outputs": [],
   "source": [
    "min_samples = 1381\n",
    "\n",
    "df_business = df[df.category=='BUSINESS'].sample(min_samples, random_state=69)\n",
    "df_sports = df[df.category=='SPORTS'].sample(min_samples, random_state=69)\n",
    "df_crime = df[df.category=='CRIME'].sample(min_samples, random_state=69)\n",
    "df_science = df[df.category=='SCIENCE'].sample(min_samples, random_state=69)"
   ]
  },
  {
   "cell_type": "code",
   "execution_count": 71,
   "id": "9c7165c7-b99c-4460-b6d4-0e1ac99bcd7e",
   "metadata": {},
   "outputs": [
    {
     "data": {
      "text/plain": [
       "category\n",
       "BUSINESS    1381\n",
       "SPORTS      1381\n",
       "CRIME       1381\n",
       "SCIENCE     1381\n",
       "Name: count, dtype: int64"
      ]
     },
     "execution_count": 71,
     "metadata": {},
     "output_type": "execute_result"
    }
   ],
   "source": [
    "df_balanced = pd.concat([df_business, df_sports, df_crime, df_science], axis=0)\n",
    "df_balanced.category.value_counts()"
   ]
  },
  {
   "cell_type": "markdown",
   "id": "85ffcec3-8685-400f-9548-152b0178789c",
   "metadata": {},
   "source": [
    "### Category Mapping"
   ]
  },
  {
   "cell_type": "code",
   "execution_count": 74,
   "id": "4dc85f1b-6f66-422a-a373-08b547aeffba",
   "metadata": {},
   "outputs": [],
   "source": [
    "df_balanced['category_num'] = df_balanced.category.map({\n",
    "    'BUSINESS': 0,\n",
    "    'SPORTS': 1,\n",
    "    'CRIME': 2,\n",
    "    'SCIENCE': 3\n",
    "})"
   ]
  },
  {
   "cell_type": "code",
   "execution_count": 77,
   "id": "536f32ff-a52f-4ccf-9659-6a239caa587a",
   "metadata": {},
   "outputs": [
    {
     "data": {
      "text/html": [
       "<div>\n",
       "<style scoped>\n",
       "    .dataframe tbody tr th:only-of-type {\n",
       "        vertical-align: middle;\n",
       "    }\n",
       "\n",
       "    .dataframe tbody tr th {\n",
       "        vertical-align: top;\n",
       "    }\n",
       "\n",
       "    .dataframe thead th {\n",
       "        text-align: right;\n",
       "    }\n",
       "</style>\n",
       "<table border=\"1\" class=\"dataframe\">\n",
       "  <thead>\n",
       "    <tr style=\"text-align: right;\">\n",
       "      <th></th>\n",
       "      <th>text</th>\n",
       "      <th>category</th>\n",
       "      <th>category_num</th>\n",
       "    </tr>\n",
       "  </thead>\n",
       "  <tbody>\n",
       "    <tr>\n",
       "      <th>157</th>\n",
       "      <td>American Cities Adding The Most Jobs This Year...</td>\n",
       "      <td>BUSINESS</td>\n",
       "      <td>0</td>\n",
       "    </tr>\n",
       "    <tr>\n",
       "      <th>9584</th>\n",
       "      <td>Women in Business: Doris Greif, Regional Vice ...</td>\n",
       "      <td>BUSINESS</td>\n",
       "      <td>0</td>\n",
       "    </tr>\n",
       "    <tr>\n",
       "      <th>8045</th>\n",
       "      <td>City Of Charleston Steps Up To Help Victims' F...</td>\n",
       "      <td>BUSINESS</td>\n",
       "      <td>0</td>\n",
       "    </tr>\n",
       "    <tr>\n",
       "      <th>8205</th>\n",
       "      <td>Leadership Matters:  Decision Making Strategie...</td>\n",
       "      <td>BUSINESS</td>\n",
       "      <td>0</td>\n",
       "    </tr>\n",
       "    <tr>\n",
       "      <th>5875</th>\n",
       "      <td>Intel Now Hiring Way More Women And You Can, T...</td>\n",
       "      <td>BUSINESS</td>\n",
       "      <td>0</td>\n",
       "    </tr>\n",
       "  </tbody>\n",
       "</table>\n",
       "</div>"
      ],
      "text/plain": [
       "                                                   text  category  \\\n",
       "157   American Cities Adding The Most Jobs This Year...  BUSINESS   \n",
       "9584  Women in Business: Doris Greif, Regional Vice ...  BUSINESS   \n",
       "8045  City Of Charleston Steps Up To Help Victims' F...  BUSINESS   \n",
       "8205  Leadership Matters:  Decision Making Strategie...  BUSINESS   \n",
       "5875  Intel Now Hiring Way More Women And You Can, T...  BUSINESS   \n",
       "\n",
       "      category_num  \n",
       "157              0  \n",
       "9584             0  \n",
       "8045             0  \n",
       "8205             0  \n",
       "5875             0  "
      ]
     },
     "execution_count": 77,
     "metadata": {},
     "output_type": "execute_result"
    }
   ],
   "source": [
    "df_balanced.head()"
   ]
  },
  {
   "cell_type": "markdown",
   "id": "a3fd4ddf-fa6e-4f45-93f7-869c3254b4fb",
   "metadata": {},
   "source": [
    "### Train Test Split"
   ]
  },
  {
   "cell_type": "code",
   "execution_count": 86,
   "id": "ae48e2a5-b568-4467-85d9-9d7d1bf514c3",
   "metadata": {},
   "outputs": [],
   "source": [
    "from sklearn.model_selection import train_test_split\n",
    "\n",
    "X_train, X_test, y_train, y_test = train_test_split(\n",
    "    df_balanced.text,\n",
    "    df_balanced.category_num,\n",
    "    test_size=0.2,\n",
    "    random_state=69,\n",
    "    stratify=df_balanced.category_num\n",
    ")"
   ]
  },
  {
   "cell_type": "code",
   "execution_count": 89,
   "id": "be8bf0bf-c737-48a6-aa87-e2d5c683dc5b",
   "metadata": {},
   "outputs": [
    {
     "data": {
      "text/plain": [
       "category_num\n",
       "1    1105\n",
       "0    1105\n",
       "3    1105\n",
       "2    1104\n",
       "Name: count, dtype: int64"
      ]
     },
     "execution_count": 89,
     "metadata": {},
     "output_type": "execute_result"
    }
   ],
   "source": [
    "y_train.value_counts()"
   ]
  },
  {
   "cell_type": "code",
   "execution_count": 90,
   "id": "31fe2b67-8e90-410e-a040-9e703aa71229",
   "metadata": {},
   "outputs": [
    {
     "data": {
      "text/plain": [
       "category_num\n",
       "2    277\n",
       "1    276\n",
       "3    276\n",
       "0    276\n",
       "Name: count, dtype: int64"
      ]
     },
     "execution_count": 90,
     "metadata": {},
     "output_type": "execute_result"
    }
   ],
   "source": [
    "y_test.value_counts()"
   ]
  },
  {
   "cell_type": "markdown",
   "id": "5d31325c-f498-4e5f-9a1d-1d5972904d94",
   "metadata": {},
   "source": [
    "### Model building and Testing"
   ]
  },
  {
   "cell_type": "code",
   "execution_count": 97,
   "id": "1b822aa8-421d-43de-afb6-7ddfe06ad75c",
   "metadata": {},
   "outputs": [
    {
     "name": "stdout",
     "output_type": "stream",
     "text": [
      "              precision    recall  f1-score   support\n",
      "\n",
      "           0       0.79      0.92      0.85       276\n",
      "           1       0.91      0.85      0.88       276\n",
      "           2       0.91      0.91      0.91       277\n",
      "           3       0.90      0.82      0.86       276\n",
      "\n",
      "    accuracy                           0.87      1105\n",
      "   macro avg       0.88      0.87      0.87      1105\n",
      "weighted avg       0.88      0.87      0.87      1105\n",
      "\n"
     ]
    }
   ],
   "source": [
    "from sklearn.naive_bayes import MultinomialNB\n",
    "from sklearn.pipeline import Pipeline\n",
    "from sklearn.metrics import classification_report\n",
    "\n",
    "clf = Pipeline([\n",
    "    ('vectorizer_bow', CountVectorizer()),\n",
    "    ('multi_nb', MultinomialNB()),\n",
    "])\n",
    "\n",
    "clf.fit(X_train, y_train)\n",
    "\n",
    "y_pred = clf.predict(X_test)\n",
    "print(classification_report(y_test, y_pred))"
   ]
  },
  {
   "cell_type": "code",
   "execution_count": 99,
   "id": "4142f121-5222-4f29-b930-a14a4f290877",
   "metadata": {},
   "outputs": [
    {
     "name": "stdout",
     "output_type": "stream",
     "text": [
      "              precision    recall  f1-score   support\n",
      "\n",
      "           0       0.74      0.95      0.83       276\n",
      "           1       0.93      0.83      0.88       276\n",
      "           2       0.92      0.90      0.91       277\n",
      "           3       0.91      0.77      0.83       276\n",
      "\n",
      "    accuracy                           0.86      1105\n",
      "   macro avg       0.87      0.86      0.86      1105\n",
      "weighted avg       0.87      0.86      0.86      1105\n",
      "\n"
     ]
    }
   ],
   "source": [
    "from sklearn.naive_bayes import MultinomialNB\n",
    "from sklearn.pipeline import Pipeline\n",
    "from sklearn.metrics import classification_report\n",
    "\n",
    "clf = Pipeline([\n",
    "    ('vectorizer_bow', CountVectorizer(ngram_range=(1,2))),\n",
    "    ('multi_nb', MultinomialNB()),\n",
    "])\n",
    "\n",
    "clf.fit(X_train, y_train)\n",
    "\n",
    "y_pred = clf.predict(X_test)\n",
    "print(classification_report(y_test, y_pred))"
   ]
  },
  {
   "cell_type": "code",
   "execution_count": 100,
   "id": "59662ad5-f390-4771-b1a5-cfb1de1f7341",
   "metadata": {},
   "outputs": [
    {
     "name": "stdout",
     "output_type": "stream",
     "text": [
      "              precision    recall  f1-score   support\n",
      "\n",
      "           0       0.72      0.95      0.82       276\n",
      "           1       0.93      0.82      0.87       276\n",
      "           2       0.91      0.89      0.90       277\n",
      "           3       0.92      0.76      0.83       276\n",
      "\n",
      "    accuracy                           0.86      1105\n",
      "   macro avg       0.87      0.86      0.86      1105\n",
      "weighted avg       0.87      0.86      0.86      1105\n",
      "\n"
     ]
    }
   ],
   "source": [
    "from sklearn.naive_bayes import MultinomialNB\n",
    "from sklearn.pipeline import Pipeline\n",
    "from sklearn.metrics import classification_report\n",
    "\n",
    "clf = Pipeline([\n",
    "    ('vectorizer_bow', CountVectorizer(ngram_range=(1,3))),\n",
    "    ('multi_nb', MultinomialNB()),\n",
    "])\n",
    "\n",
    "clf.fit(X_train, y_train)\n",
    "\n",
    "y_pred = clf.predict(X_test)\n",
    "print(classification_report(y_test, y_pred))"
   ]
  },
  {
   "cell_type": "markdown",
   "id": "c90ac1a9-10e3-4024-a08e-964c14605bb5",
   "metadata": {},
   "source": [
    "#### Class Names:\n",
    "\n",
    "- BUSINESS --> 0\n",
    "- SPORTS --> 1\n",
    "- CRIME --> 2\n",
    "- SCIENCE --> 3"
   ]
  },
  {
   "cell_type": "code",
   "execution_count": 101,
   "id": "198e669b-c25d-4880-abde-b0cf53567d51",
   "metadata": {},
   "outputs": [
    {
     "data": {
      "text/plain": [
       "6905     Donald Trump Agrees Hosting Golf Tournament On...\n",
       "1013     Pay A-Rod If this were only about Alex Rodrigu...\n",
       "7168     This Metal Is So Waterproof That Droplets Boun...\n",
       "569      Taking Stock of BlackRock The core problem wit...\n",
       "11464    Two Victims Shot On Texas Southern University ...\n",
       "Name: text, dtype: object"
      ]
     },
     "execution_count": 101,
     "metadata": {},
     "output_type": "execute_result"
    }
   ],
   "source": [
    "X_test[:5]"
   ]
  },
  {
   "cell_type": "code",
   "execution_count": 102,
   "id": "7147bb89-2b9d-466f-8225-0671a4852737",
   "metadata": {},
   "outputs": [
    {
     "data": {
      "text/plain": [
       "6905     1\n",
       "1013     1\n",
       "7168     3\n",
       "569      0\n",
       "11464    2\n",
       "Name: category_num, dtype: int64"
      ]
     },
     "execution_count": 102,
     "metadata": {},
     "output_type": "execute_result"
    }
   ],
   "source": [
    "y_test[:5]"
   ]
  },
  {
   "cell_type": "code",
   "execution_count": 103,
   "id": "cd7026a0-d1af-4200-81bb-2a693d2f69b2",
   "metadata": {},
   "outputs": [
    {
     "data": {
      "text/plain": [
       "array([1, 1, 3, 0, 2])"
      ]
     },
     "execution_count": 103,
     "metadata": {},
     "output_type": "execute_result"
    }
   ],
   "source": [
    "y_pred[:5]"
   ]
  },
  {
   "cell_type": "markdown",
   "id": "9e5ddaf5-c407-4f53-addc-6301d464a9da",
   "metadata": {},
   "source": [
    "### Model Building after Preprocessing"
   ]
  },
  {
   "cell_type": "code",
   "execution_count": 104,
   "id": "ba696fd1-aaa5-4487-8ffc-fd4f4c7536d5",
   "metadata": {},
   "outputs": [],
   "source": [
    "df_balanced['preprocessed_txt'] = df_balanced.text.apply(preprocess)"
   ]
  },
  {
   "cell_type": "code",
   "execution_count": 105,
   "id": "b05fa85f-4391-46d1-b8b7-c7c9ff869f37",
   "metadata": {},
   "outputs": [
    {
     "data": {
      "text/html": [
       "<div>\n",
       "<style scoped>\n",
       "    .dataframe tbody tr th:only-of-type {\n",
       "        vertical-align: middle;\n",
       "    }\n",
       "\n",
       "    .dataframe tbody tr th {\n",
       "        vertical-align: top;\n",
       "    }\n",
       "\n",
       "    .dataframe thead th {\n",
       "        text-align: right;\n",
       "    }\n",
       "</style>\n",
       "<table border=\"1\" class=\"dataframe\">\n",
       "  <thead>\n",
       "    <tr style=\"text-align: right;\">\n",
       "      <th></th>\n",
       "      <th>text</th>\n",
       "      <th>category</th>\n",
       "      <th>category_num</th>\n",
       "      <th>preprocessed_txt</th>\n",
       "    </tr>\n",
       "  </thead>\n",
       "  <tbody>\n",
       "    <tr>\n",
       "      <th>157</th>\n",
       "      <td>American Cities Adding The Most Jobs This Year...</td>\n",
       "      <td>BUSINESS</td>\n",
       "      <td>0</td>\n",
       "      <td>American Cities add job year U.S. economy add ...</td>\n",
       "    </tr>\n",
       "    <tr>\n",
       "      <th>9584</th>\n",
       "      <td>Women in Business: Doris Greif, Regional Vice ...</td>\n",
       "      <td>BUSINESS</td>\n",
       "      <td>0</td>\n",
       "      <td>woman business Doris Greif Regional Vice Presi...</td>\n",
       "    </tr>\n",
       "    <tr>\n",
       "      <th>8045</th>\n",
       "      <td>City Of Charleston Steps Up To Help Victims' F...</td>\n",
       "      <td>BUSINESS</td>\n",
       "      <td>0</td>\n",
       "      <td>City Charleston Steps help victim family big w...</td>\n",
       "    </tr>\n",
       "    <tr>\n",
       "      <th>8205</th>\n",
       "      <td>Leadership Matters:  Decision Making Strategie...</td>\n",
       "      <td>BUSINESS</td>\n",
       "      <td>0</td>\n",
       "      <td>leadership matter   decision make strategy Suc...</td>\n",
       "    </tr>\n",
       "    <tr>\n",
       "      <th>5875</th>\n",
       "      <td>Intel Now Hiring Way More Women And You Can, T...</td>\n",
       "      <td>BUSINESS</td>\n",
       "      <td>0</td>\n",
       "      <td>Intel hire way woman dear tech company</td>\n",
       "    </tr>\n",
       "  </tbody>\n",
       "</table>\n",
       "</div>"
      ],
      "text/plain": [
       "                                                   text  category  \\\n",
       "157   American Cities Adding The Most Jobs This Year...  BUSINESS   \n",
       "9584  Women in Business: Doris Greif, Regional Vice ...  BUSINESS   \n",
       "8045  City Of Charleston Steps Up To Help Victims' F...  BUSINESS   \n",
       "8205  Leadership Matters:  Decision Making Strategie...  BUSINESS   \n",
       "5875  Intel Now Hiring Way More Women And You Can, T...  BUSINESS   \n",
       "\n",
       "      category_num                                   preprocessed_txt  \n",
       "157              0  American Cities add job year U.S. economy add ...  \n",
       "9584             0  woman business Doris Greif Regional Vice Presi...  \n",
       "8045             0  City Charleston Steps help victim family big w...  \n",
       "8205             0  leadership matter   decision make strategy Suc...  \n",
       "5875             0             Intel hire way woman dear tech company  "
      ]
     },
     "execution_count": 105,
     "metadata": {},
     "output_type": "execute_result"
    }
   ],
   "source": [
    "df_balanced.head()"
   ]
  },
  {
   "cell_type": "code",
   "execution_count": 106,
   "id": "850ba1cf-6c02-4b35-947e-d70b7fb27d7a",
   "metadata": {},
   "outputs": [],
   "source": [
    "from sklearn.model_selection import train_test_split\n",
    "\n",
    "X_train, X_test, y_train, y_test = train_test_split(\n",
    "    df_balanced.preprocessed_txt,\n",
    "    df_balanced.category_num,\n",
    "    test_size=0.2,\n",
    "    random_state=69,\n",
    "    stratify=df_balanced.category_num\n",
    ")"
   ]
  },
  {
   "cell_type": "code",
   "execution_count": 115,
   "id": "ba7aec93-7c3e-482d-88a2-6537132a049f",
   "metadata": {},
   "outputs": [
    {
     "name": "stdout",
     "output_type": "stream",
     "text": [
      "              precision    recall  f1-score   support\n",
      "\n",
      "           0       0.87      0.91      0.89       276\n",
      "           1       0.91      0.88      0.90       276\n",
      "           2       0.87      0.94      0.91       277\n",
      "           3       0.91      0.82      0.86       276\n",
      "\n",
      "    accuracy                           0.89      1105\n",
      "   macro avg       0.89      0.89      0.89      1105\n",
      "weighted avg       0.89      0.89      0.89      1105\n",
      "\n"
     ]
    }
   ],
   "source": [
    "clf = Pipeline([\n",
    "    ('vectorizer_bow', CountVectorizer()),\n",
    "    ('multi_nb', MultinomialNB()),\n",
    "])\n",
    "\n",
    "clf.fit(X_train, y_train)\n",
    "\n",
    "y_pred = clf.predict(X_test)\n",
    "print(classification_report(y_test, y_pred))"
   ]
  },
  {
   "cell_type": "markdown",
   "id": "8d64066b-555b-47a1-811b-468a943ad065",
   "metadata": {},
   "source": [
    "### Plotting Confusion Matrix"
   ]
  },
  {
   "cell_type": "code",
   "execution_count": 118,
   "id": "ba04fddb-50cf-4399-99da-783323bfd7f4",
   "metadata": {},
   "outputs": [],
   "source": [
    "from sklearn.metrics import confusion_matrix\n",
    "import matplotlib.pyplot as plt\n",
    "import seaborn as sn"
   ]
  },
  {
   "cell_type": "code",
   "execution_count": 119,
   "id": "a308ad9a-3413-404a-81f4-e663b7c1151d",
   "metadata": {},
   "outputs": [
    {
     "data": {
      "text/plain": [
       "array([[251,   7,   8,  10],\n",
       "       [  6, 244,  16,  10],\n",
       "       [  7,   6, 261,   3],\n",
       "       [ 25,  12,  14, 225]])"
      ]
     },
     "execution_count": 119,
     "metadata": {},
     "output_type": "execute_result"
    }
   ],
   "source": [
    "cm = confusion_matrix(y_test, y_pred)\n",
    "cm"
   ]
  },
  {
   "cell_type": "code",
   "execution_count": 121,
   "id": "b6e622f6-8f37-4f6c-b071-630f01dfad9c",
   "metadata": {},
   "outputs": [
    {
     "data": {
      "text/plain": [
       "Text(70.72222222222221, 0.5, 'True')"
      ]
     },
     "execution_count": 121,
     "metadata": {},
     "output_type": "execute_result"
    },
    {
     "data": {
      "image/png": "[encoded data removed]",
      "text/plain": [
       "<Figure size 800x500 with 2 Axes>"
      ]
     },
     "metadata": {},
     "output_type": "display_data"
    }
   ],
   "source": [
    "plt.figure(figsize=(8,5))\n",
    "sn.heatmap(cm, annot=True, fmt='d')\n",
    "plt.xlabel('Prediction')\n",
    "plt.ylabel('True')"
   ]
  }
 ],
 "metadata": {
  "kernelspec": {
   "display_name": "Python 3 (ipykernel)",
   "language": "python",
   "name": "python3"
  },
  "language_info": {
   "codemirror_mode": {
    "name": "ipython",
    "version": 3
   },
   "file_extension": ".py",
   "mimetype": "text/x-python",
   "name": "python",
   "nbconvert_exporter": "python",
   "pygments_lexer": "ipython3",
   "version": "3.10.17"
  }
 },
 "nbformat": 4,
 "nbformat_minor": 5
}
